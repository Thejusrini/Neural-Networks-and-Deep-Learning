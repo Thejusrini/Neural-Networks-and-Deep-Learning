{
  "cells": [
    {
      "cell_type": "code",
      "execution_count": null,
      "metadata": {
        "id": "BrwAdP58aXKG"
      },
      "outputs": [],
      "source": [
        "import pandas as pd\n",
        "import numpy as np\n",
        "from sklearn.model_selection import train_test_split\n",
        "from tensorflow.keras.datasets import mnist\n",
        "from tensorflow.keras.models import Sequential\n",
        "from tensorflow.keras.layers import Activation, Dense\n",
        "from tensorflow.keras import optimizers\n",
        "import matplotlib.pyplot as plt\n",
        "from tensorflow.keras.utils import to_categorical\n",
        "from keras.layers import BatchNormalization\n",
        "from keras.layers import Dropout\n",
        "from sklearn.metrics import confusion_matrix"
      ]
    },
    {
      "cell_type": "code",
      "execution_count": null,
      "metadata": {
        "id": "OFfKb6iWbM1H"
      },
      "outputs": [],
      "source": [
        "(X_train,y_train),(X_test,y_test)=mnist.load_data()"
      ]
    },
    {
      "cell_type": "code",
      "execution_count": null,
      "metadata": {
        "colab": {
          "base_uri": "https://localhost:8080/"
        },
        "id": "uB8wIx1kbYWO",
        "outputId": "59ef6c2a-23a4-432b-aa95-21337cf68210"
      },
      "outputs": [
        {
          "output_type": "stream",
          "name": "stdout",
          "text": [
            "(28, 28)\n",
            "(60000, 28, 28)\n"
          ]
        }
      ],
      "source": [
        "print(X_train[0].shape)\n",
        "print(X_train.shape)"
      ]
    },
    {
      "cell_type": "code",
      "execution_count": null,
      "metadata": {
        "colab": {
          "base_uri": "https://localhost:8080/"
        },
        "id": "LamamyVrbu5I",
        "outputId": "a2066e91-8c38-45ad-8aa6-6ace5ca95f08"
      },
      "outputs": [
        {
          "output_type": "stream",
          "name": "stdout",
          "text": [
            "(60000, 784) (10000, 784) (60000, 10) (10000, 10)\n"
          ]
        }
      ],
      "source": [
        "X_train=X_train.reshape((X_train.shape[0],-1))\n",
        "X_test=X_test.reshape((X_test.shape[0],-1))\n",
        "y_train=to_categorical(y_train)\n",
        "y_test=to_categorical(y_test)\n",
        "print(X_train.shape,X_test.shape,y_train.shape,y_test.shape)"
      ]
    },
    {
      "cell_type": "markdown",
      "metadata": {
        "id": "9SdBucGPcqmh"
      },
      "source": [
        "# mnist MLP Model"
      ]
    },
    {
      "cell_type": "code",
      "execution_count": null,
      "metadata": {
        "colab": {
          "base_uri": "https://localhost:8080/"
        },
        "id": "yf9T87RKchnz",
        "outputId": "635e8096-2bd6-4373-a9ec-7d2b0e53a3df"
      },
      "outputs": [
        {
          "name": "stdout",
          "output_type": "stream",
          "text": [
            "Model: \"sequential_13\"\n",
            "_________________________________________________________________\n",
            " Layer (type)                Output Shape              Param #   \n",
            "=================================================================\n",
            " dense_46 (Dense)            (None, 50)                39250     \n",
            "                                                                 \n",
            " activation_44 (Activation)  (None, 50)                0         \n",
            "                                                                 \n",
            " dense_47 (Dense)            (None, 50)                2550      \n",
            "                                                                 \n",
            " activation_45 (Activation)  (None, 50)                0         \n",
            "                                                                 \n",
            " dense_48 (Dense)            (None, 50)                2550      \n",
            "                                                                 \n",
            " activation_46 (Activation)  (None, 50)                0         \n",
            "                                                                 \n",
            " dense_49 (Dense)            (None, 10)                510       \n",
            "                                                                 \n",
            " activation_47 (Activation)  (None, 10)                0         \n",
            "                                                                 \n",
            "=================================================================\n",
            "Total params: 44,860\n",
            "Trainable params: 44,860\n",
            "Non-trainable params: 0\n",
            "_________________________________________________________________\n"
          ]
        }
      ],
      "source": [
        "model=Sequential()\n",
        "model.add(Dense(50, input_shape = (784,)))     \n",
        "model.add(Activation('sigmoid'))\n",
        "model.add(Dense(50))                         \n",
        "model.add(Activation('sigmoid'))\n",
        "model.add(Dense(50))                         \n",
        "model.add(Activation('sigmoid'))\n",
        "model.add(Dense(10)) \n",
        "model.add(Activation('softmax'))   \n",
        "model.summary()"
      ]
    },
    {
      "cell_type": "code",
      "execution_count": null,
      "metadata": {
        "id": "MxPCQAvzdZgD"
      },
      "outputs": [],
      "source": [
        "sgd = optimizers.SGD(learning_rate = 0.01)    \n",
        "model.compile(optimizer = sgd, loss = 'categorical_crossentropy', metrics = ['accuracy'])"
      ]
    },
    {
      "cell_type": "code",
      "execution_count": null,
      "metadata": {
        "colab": {
          "base_uri": "https://localhost:8080/"
        },
        "id": "xRdTF6AjeISu",
        "outputId": "4bec480a-459c-4fda-b306-d79107269f11"
      },
      "outputs": [
        {
          "name": "stdout",
          "output_type": "stream",
          "text": [
            "Epoch 1/100\n",
            "165/165 [==============================] - 2s 8ms/step - loss: 2.3615 - accuracy: 0.1143 - val_loss: 2.2875 - val_accuracy: 0.1081\n",
            "Epoch 2/100\n",
            "165/165 [==============================] - 1s 8ms/step - loss: 2.2764 - accuracy: 0.1160 - val_loss: 2.2684 - val_accuracy: 0.1142\n",
            "Epoch 3/100\n",
            "165/165 [==============================] - 1s 8ms/step - loss: 2.2605 - accuracy: 0.1396 - val_loss: 2.2534 - val_accuracy: 0.1459\n",
            "Epoch 4/100\n",
            "165/165 [==============================] - 1s 8ms/step - loss: 2.2454 - accuracy: 0.2155 - val_loss: 2.2382 - val_accuracy: 0.2282\n",
            "Epoch 5/100\n",
            "165/165 [==============================] - 1s 8ms/step - loss: 2.2296 - accuracy: 0.2802 - val_loss: 2.2216 - val_accuracy: 0.3647\n",
            "Epoch 6/100\n",
            "165/165 [==============================] - 1s 7ms/step - loss: 2.2124 - accuracy: 0.3820 - val_loss: 2.2034 - val_accuracy: 0.4039\n",
            "Epoch 7/100\n",
            "165/165 [==============================] - 1s 7ms/step - loss: 2.1929 - accuracy: 0.4137 - val_loss: 2.1826 - val_accuracy: 0.4685\n",
            "Epoch 8/100\n",
            "165/165 [==============================] - 1s 8ms/step - loss: 2.1715 - accuracy: 0.4654 - val_loss: 2.1601 - val_accuracy: 0.4879\n",
            "Epoch 9/100\n",
            "165/165 [==============================] - 1s 8ms/step - loss: 2.1471 - accuracy: 0.4926 - val_loss: 2.1339 - val_accuracy: 0.5157\n",
            "Epoch 10/100\n",
            "165/165 [==============================] - 1s 8ms/step - loss: 2.1193 - accuracy: 0.5143 - val_loss: 2.1043 - val_accuracy: 0.5072\n",
            "Epoch 11/100\n",
            "165/165 [==============================] - 1s 6ms/step - loss: 2.0874 - accuracy: 0.5167 - val_loss: 2.0702 - val_accuracy: 0.5323\n",
            "Epoch 12/100\n",
            "165/165 [==============================] - 1s 7ms/step - loss: 2.0511 - accuracy: 0.5276 - val_loss: 2.0311 - val_accuracy: 0.5443\n",
            "Epoch 13/100\n",
            "165/165 [==============================] - 1s 8ms/step - loss: 2.0100 - accuracy: 0.5397 - val_loss: 1.9874 - val_accuracy: 0.5232\n",
            "Epoch 14/100\n",
            "165/165 [==============================] - 1s 9ms/step - loss: 1.9635 - accuracy: 0.5371 - val_loss: 1.9393 - val_accuracy: 0.5509\n",
            "Epoch 15/100\n",
            "165/165 [==============================] - 1s 8ms/step - loss: 1.9121 - accuracy: 0.5484 - val_loss: 1.8845 - val_accuracy: 0.5486\n",
            "Epoch 16/100\n",
            "165/165 [==============================] - 1s 8ms/step - loss: 1.8560 - accuracy: 0.5543 - val_loss: 1.8267 - val_accuracy: 0.5877\n",
            "Epoch 17/100\n",
            "165/165 [==============================] - 1s 8ms/step - loss: 1.7962 - accuracy: 0.5696 - val_loss: 1.7657 - val_accuracy: 0.5742\n",
            "Epoch 18/100\n",
            "165/165 [==============================] - 1s 8ms/step - loss: 1.7343 - accuracy: 0.5822 - val_loss: 1.7027 - val_accuracy: 0.5674\n",
            "Epoch 19/100\n",
            "165/165 [==============================] - 1s 8ms/step - loss: 1.6714 - accuracy: 0.5836 - val_loss: 1.6405 - val_accuracy: 0.5927\n",
            "Epoch 20/100\n",
            "165/165 [==============================] - 1s 8ms/step - loss: 1.6088 - accuracy: 0.5982 - val_loss: 1.5774 - val_accuracy: 0.6007\n",
            "Epoch 21/100\n",
            "165/165 [==============================] - 1s 8ms/step - loss: 1.5476 - accuracy: 0.6051 - val_loss: 1.5203 - val_accuracy: 0.6173\n",
            "Epoch 22/100\n",
            "165/165 [==============================] - 1s 8ms/step - loss: 1.4894 - accuracy: 0.6200 - val_loss: 1.4615 - val_accuracy: 0.6179\n",
            "Epoch 23/100\n",
            "165/165 [==============================] - 1s 8ms/step - loss: 1.4335 - accuracy: 0.6290 - val_loss: 1.4074 - val_accuracy: 0.6256\n",
            "Epoch 24/100\n",
            "165/165 [==============================] - 1s 8ms/step - loss: 1.3810 - accuracy: 0.6392 - val_loss: 1.3582 - val_accuracy: 0.6374\n",
            "Epoch 25/100\n",
            "165/165 [==============================] - 1s 8ms/step - loss: 1.3328 - accuracy: 0.6514 - val_loss: 1.3110 - val_accuracy: 0.6329\n",
            "Epoch 26/100\n",
            "165/165 [==============================] - 2s 10ms/step - loss: 1.2870 - accuracy: 0.6501 - val_loss: 1.2737 - val_accuracy: 0.6601\n",
            "Epoch 27/100\n",
            "165/165 [==============================] - 2s 12ms/step - loss: 1.2455 - accuracy: 0.6637 - val_loss: 1.2246 - val_accuracy: 0.6883\n",
            "Epoch 28/100\n",
            "165/165 [==============================] - 2s 12ms/step - loss: 1.2032 - accuracy: 0.6863 - val_loss: 1.1845 - val_accuracy: 0.6831\n",
            "Epoch 29/100\n",
            "165/165 [==============================] - 2s 12ms/step - loss: 1.1638 - accuracy: 0.6893 - val_loss: 1.1494 - val_accuracy: 0.6976\n",
            "Epoch 30/100\n",
            "165/165 [==============================] - 3s 18ms/step - loss: 1.1272 - accuracy: 0.6987 - val_loss: 1.1127 - val_accuracy: 0.7028\n",
            "Epoch 31/100\n",
            "165/165 [==============================] - 2s 12ms/step - loss: 1.0920 - accuracy: 0.7063 - val_loss: 1.0801 - val_accuracy: 0.7071\n",
            "Epoch 32/100\n",
            "165/165 [==============================] - 2s 13ms/step - loss: 1.0590 - accuracy: 0.7189 - val_loss: 1.0503 - val_accuracy: 0.7161\n",
            "Epoch 33/100\n",
            "165/165 [==============================] - 2s 13ms/step - loss: 1.0269 - accuracy: 0.7191 - val_loss: 1.0179 - val_accuracy: 0.7520\n",
            "Epoch 34/100\n",
            "165/165 [==============================] - 2s 11ms/step - loss: 0.9972 - accuracy: 0.7421 - val_loss: 0.9866 - val_accuracy: 0.7508\n",
            "Epoch 35/100\n",
            "165/165 [==============================] - 2s 12ms/step - loss: 0.9677 - accuracy: 0.7533 - val_loss: 0.9604 - val_accuracy: 0.7533\n",
            "Epoch 36/100\n",
            "165/165 [==============================] - 2s 12ms/step - loss: 0.9402 - accuracy: 0.7566 - val_loss: 0.9334 - val_accuracy: 0.7679\n",
            "Epoch 37/100\n",
            "165/165 [==============================] - 2s 14ms/step - loss: 0.9137 - accuracy: 0.7693 - val_loss: 0.9069 - val_accuracy: 0.7824\n",
            "Epoch 38/100\n",
            "165/165 [==============================] - 2s 12ms/step - loss: 0.8879 - accuracy: 0.7794 - val_loss: 0.8857 - val_accuracy: 0.7876\n",
            "Epoch 39/100\n",
            "165/165 [==============================] - 2s 13ms/step - loss: 0.8645 - accuracy: 0.7906 - val_loss: 0.8738 - val_accuracy: 0.7927\n",
            "Epoch 40/100\n",
            "165/165 [==============================] - 2s 11ms/step - loss: 0.8443 - accuracy: 0.8006 - val_loss: 0.8418 - val_accuracy: 0.8004\n",
            "Epoch 41/100\n",
            "165/165 [==============================] - 2s 11ms/step - loss: 0.8214 - accuracy: 0.8048 - val_loss: 0.8209 - val_accuracy: 0.8076\n",
            "Epoch 42/100\n",
            "165/165 [==============================] - 2s 14ms/step - loss: 0.8004 - accuracy: 0.8130 - val_loss: 0.8135 - val_accuracy: 0.8122\n",
            "Epoch 43/100\n",
            "165/165 [==============================] - 2s 13ms/step - loss: 0.7826 - accuracy: 0.8190 - val_loss: 0.7883 - val_accuracy: 0.8128\n",
            "Epoch 44/100\n",
            "165/165 [==============================] - 1s 7ms/step - loss: 0.7634 - accuracy: 0.8253 - val_loss: 0.7648 - val_accuracy: 0.8242\n",
            "Epoch 45/100\n",
            "165/165 [==============================] - 2s 12ms/step - loss: 0.7437 - accuracy: 0.8294 - val_loss: 0.7470 - val_accuracy: 0.8301\n",
            "Epoch 46/100\n",
            "165/165 [==============================] - 2s 12ms/step - loss: 0.7256 - accuracy: 0.8355 - val_loss: 0.7442 - val_accuracy: 0.8251\n",
            "Epoch 47/100\n",
            "165/165 [==============================] - 2s 12ms/step - loss: 0.7109 - accuracy: 0.8382 - val_loss: 0.7147 - val_accuracy: 0.8335\n",
            "Epoch 48/100\n",
            "165/165 [==============================] - 2s 11ms/step - loss: 0.6947 - accuracy: 0.8417 - val_loss: 0.7010 - val_accuracy: 0.8447\n",
            "Epoch 49/100\n",
            "165/165 [==============================] - 2s 10ms/step - loss: 0.6798 - accuracy: 0.8482 - val_loss: 0.6875 - val_accuracy: 0.8466\n",
            "Epoch 50/100\n",
            "165/165 [==============================] - 2s 12ms/step - loss: 0.6658 - accuracy: 0.8518 - val_loss: 0.6793 - val_accuracy: 0.8495\n",
            "Epoch 51/100\n",
            "165/165 [==============================] - 2s 11ms/step - loss: 0.6542 - accuracy: 0.8573 - val_loss: 0.6696 - val_accuracy: 0.8490\n",
            "Epoch 52/100\n",
            "165/165 [==============================] - 2s 9ms/step - loss: 0.6416 - accuracy: 0.8603 - val_loss: 0.6497 - val_accuracy: 0.8548\n",
            "Epoch 53/100\n",
            "165/165 [==============================] - 2s 12ms/step - loss: 0.6284 - accuracy: 0.8630 - val_loss: 0.6406 - val_accuracy: 0.8561\n",
            "Epoch 54/100\n",
            "165/165 [==============================] - 2s 10ms/step - loss: 0.6153 - accuracy: 0.8654 - val_loss: 0.6338 - val_accuracy: 0.8614\n",
            "Epoch 55/100\n",
            "165/165 [==============================] - 2s 12ms/step - loss: 0.6054 - accuracy: 0.8688 - val_loss: 0.6102 - val_accuracy: 0.8683\n",
            "Epoch 56/100\n",
            "165/165 [==============================] - 2s 13ms/step - loss: 0.5917 - accuracy: 0.8726 - val_loss: 0.6039 - val_accuracy: 0.8630\n",
            "Epoch 57/100\n",
            "165/165 [==============================] - 2s 12ms/step - loss: 0.5777 - accuracy: 0.8767 - val_loss: 0.5910 - val_accuracy: 0.8677\n",
            "Epoch 58/100\n",
            "165/165 [==============================] - 2s 14ms/step - loss: 0.5678 - accuracy: 0.8799 - val_loss: 0.5821 - val_accuracy: 0.8683\n",
            "Epoch 59/100\n",
            "165/165 [==============================] - 2s 12ms/step - loss: 0.5574 - accuracy: 0.8794 - val_loss: 0.5800 - val_accuracy: 0.8687\n",
            "Epoch 60/100\n",
            "165/165 [==============================] - 2s 12ms/step - loss: 0.5505 - accuracy: 0.8809 - val_loss: 0.5620 - val_accuracy: 0.8746\n",
            "Epoch 61/100\n",
            "165/165 [==============================] - 3s 17ms/step - loss: 0.5384 - accuracy: 0.8827 - val_loss: 0.5520 - val_accuracy: 0.8766\n",
            "Epoch 62/100\n",
            "165/165 [==============================] - 2s 9ms/step - loss: 0.5288 - accuracy: 0.8852 - val_loss: 0.5464 - val_accuracy: 0.8776\n",
            "Epoch 63/100\n",
            "165/165 [==============================] - 2s 11ms/step - loss: 0.5199 - accuracy: 0.8866 - val_loss: 0.5447 - val_accuracy: 0.8784\n",
            "Epoch 64/100\n",
            "165/165 [==============================] - 3s 15ms/step - loss: 0.5130 - accuracy: 0.8874 - val_loss: 0.5309 - val_accuracy: 0.8787\n",
            "Epoch 65/100\n",
            "165/165 [==============================] - 2s 10ms/step - loss: 0.5025 - accuracy: 0.8891 - val_loss: 0.5199 - val_accuracy: 0.8836\n",
            "Epoch 66/100\n",
            "165/165 [==============================] - 2s 12ms/step - loss: 0.4934 - accuracy: 0.8915 - val_loss: 0.5202 - val_accuracy: 0.8841\n",
            "Epoch 67/100\n",
            "165/165 [==============================] - 2s 13ms/step - loss: 0.4886 - accuracy: 0.8931 - val_loss: 0.5196 - val_accuracy: 0.8806\n",
            "Epoch 68/100\n",
            "165/165 [==============================] - 2s 10ms/step - loss: 0.4810 - accuracy: 0.8950 - val_loss: 0.5031 - val_accuracy: 0.8869\n",
            "Epoch 69/100\n",
            "165/165 [==============================] - 2s 10ms/step - loss: 0.4751 - accuracy: 0.8951 - val_loss: 0.4977 - val_accuracy: 0.8892\n",
            "Epoch 70/100\n",
            "165/165 [==============================] - 2s 12ms/step - loss: 0.4708 - accuracy: 0.8969 - val_loss: 0.4916 - val_accuracy: 0.8875\n",
            "Epoch 71/100\n",
            "165/165 [==============================] - 2s 15ms/step - loss: 0.4599 - accuracy: 0.8986 - val_loss: 0.4836 - val_accuracy: 0.8868\n",
            "Epoch 72/100\n",
            "165/165 [==============================] - 2s 12ms/step - loss: 0.4550 - accuracy: 0.8978 - val_loss: 0.4762 - val_accuracy: 0.8895\n",
            "Epoch 73/100\n",
            "165/165 [==============================] - 2s 10ms/step - loss: 0.4494 - accuracy: 0.8995 - val_loss: 0.5344 - val_accuracy: 0.8661\n",
            "Epoch 74/100\n",
            "165/165 [==============================] - 1s 9ms/step - loss: 0.4623 - accuracy: 0.8934 - val_loss: 0.4775 - val_accuracy: 0.8889\n",
            "Epoch 75/100\n",
            "165/165 [==============================] - 1s 9ms/step - loss: 0.4476 - accuracy: 0.8985 - val_loss: 0.4818 - val_accuracy: 0.8859\n",
            "Epoch 76/100\n",
            "165/165 [==============================] - 2s 10ms/step - loss: 0.4442 - accuracy: 0.9000 - val_loss: 0.4679 - val_accuracy: 0.8907\n",
            "Epoch 77/100\n",
            "165/165 [==============================] - 2s 14ms/step - loss: 0.4341 - accuracy: 0.9027 - val_loss: 0.4586 - val_accuracy: 0.8913\n",
            "Epoch 78/100\n",
            "165/165 [==============================] - 2s 14ms/step - loss: 0.4273 - accuracy: 0.9031 - val_loss: 0.4542 - val_accuracy: 0.8924\n",
            "Epoch 79/100\n",
            "165/165 [==============================] - 2s 9ms/step - loss: 0.4217 - accuracy: 0.9045 - val_loss: 0.4492 - val_accuracy: 0.8907\n",
            "Epoch 80/100\n",
            "165/165 [==============================] - 2s 12ms/step - loss: 0.4142 - accuracy: 0.9043 - val_loss: 0.4369 - val_accuracy: 0.8935\n",
            "Epoch 81/100\n",
            "165/165 [==============================] - 2s 11ms/step - loss: 0.4071 - accuracy: 0.9058 - val_loss: 0.4357 - val_accuracy: 0.8921\n",
            "Epoch 82/100\n",
            "165/165 [==============================] - 2s 12ms/step - loss: 0.4019 - accuracy: 0.9077 - val_loss: 0.4400 - val_accuracy: 0.8909\n",
            "Epoch 83/100\n",
            "165/165 [==============================] - 2s 9ms/step - loss: 0.3972 - accuracy: 0.9090 - val_loss: 0.4343 - val_accuracy: 0.8939\n",
            "Epoch 84/100\n",
            "165/165 [==============================] - 1s 8ms/step - loss: 0.3916 - accuracy: 0.9103 - val_loss: 0.4311 - val_accuracy: 0.8955\n",
            "Epoch 85/100\n",
            "165/165 [==============================] - 1s 8ms/step - loss: 0.3908 - accuracy: 0.9097 - val_loss: 0.4115 - val_accuracy: 0.9008\n",
            "Epoch 86/100\n",
            "165/165 [==============================] - 1s 8ms/step - loss: 0.3794 - accuracy: 0.9122 - val_loss: 0.4347 - val_accuracy: 0.8887\n",
            "Epoch 87/100\n",
            "165/165 [==============================] - 1s 8ms/step - loss: 0.3862 - accuracy: 0.9094 - val_loss: 0.4107 - val_accuracy: 0.8973\n",
            "Epoch 88/100\n",
            "165/165 [==============================] - 1s 8ms/step - loss: 0.3736 - accuracy: 0.9112 - val_loss: 0.4128 - val_accuracy: 0.8956\n",
            "Epoch 89/100\n",
            "165/165 [==============================] - 1s 8ms/step - loss: 0.3680 - accuracy: 0.9133 - val_loss: 0.4092 - val_accuracy: 0.9012\n",
            "Epoch 90/100\n",
            "165/165 [==============================] - 1s 8ms/step - loss: 0.3674 - accuracy: 0.9141 - val_loss: 0.3984 - val_accuracy: 0.9023\n",
            "Epoch 91/100\n",
            "165/165 [==============================] - 1s 8ms/step - loss: 0.3590 - accuracy: 0.9156 - val_loss: 0.4112 - val_accuracy: 0.8960\n",
            "Epoch 92/100\n",
            "165/165 [==============================] - 1s 8ms/step - loss: 0.3608 - accuracy: 0.9140 - val_loss: 0.3851 - val_accuracy: 0.9056\n",
            "Epoch 93/100\n",
            "165/165 [==============================] - 1s 7ms/step - loss: 0.3516 - accuracy: 0.9169 - val_loss: 0.3819 - val_accuracy: 0.9046\n",
            "Epoch 94/100\n",
            "165/165 [==============================] - 1s 6ms/step - loss: 0.3487 - accuracy: 0.9178 - val_loss: 0.3804 - val_accuracy: 0.9067\n",
            "Epoch 95/100\n",
            "165/165 [==============================] - 2s 11ms/step - loss: 0.3456 - accuracy: 0.9172 - val_loss: 0.3829 - val_accuracy: 0.9058\n",
            "Epoch 96/100\n",
            "165/165 [==============================] - 2s 11ms/step - loss: 0.3420 - accuracy: 0.9183 - val_loss: 0.3715 - val_accuracy: 0.9079\n",
            "Epoch 97/100\n",
            "165/165 [==============================] - 1s 8ms/step - loss: 0.3359 - accuracy: 0.9208 - val_loss: 0.3671 - val_accuracy: 0.9064\n",
            "Epoch 98/100\n",
            "165/165 [==============================] - 1s 8ms/step - loss: 0.3337 - accuracy: 0.9190 - val_loss: 0.3690 - val_accuracy: 0.9076\n",
            "Epoch 99/100\n",
            "165/165 [==============================] - 1s 8ms/step - loss: 0.3276 - accuracy: 0.9205 - val_loss: 0.3643 - val_accuracy: 0.9081\n",
            "Epoch 100/100\n",
            "165/165 [==============================] - 1s 7ms/step - loss: 0.3263 - accuracy: 0.9223 - val_loss: 0.3606 - val_accuracy: 0.9102\n"
          ]
        }
      ],
      "source": [
        "history=model.fit(X_train, y_train, batch_size = 256,validation_split=0.3, epochs = 100, verbose = 1)"
      ]
    },
    {
      "cell_type": "code",
      "execution_count": null,
      "metadata": {
        "colab": {
          "base_uri": "https://localhost:8080/",
          "height": 265
        },
        "id": "vw6Lx-cReaK9",
        "outputId": "92607d2a-6489-42c0-bf13-bc5a2fe93d32"
      },
      "outputs": [
        {
          "data": {
            "image/png": "[encoded data removed]",
            "text/plain": [
              "<Figure size 432x288 with 1 Axes>"
            ]
          },
          "metadata": {},
          "output_type": "display_data"
        }
      ],
      "source": [
        "plt.plot(history.history['accuracy'])\n",
        "plt.plot(history.history['val_accuracy'])\n",
        "plt.plot(history.history['loss'])\n",
        "plt.plot(history.history['val_loss'])\n",
        "plt.legend(['train_acc','valid_acc','train_loss','valid_loss'],loc='upper left')\n",
        "plt.show()\n"
      ]
    },
    {
      "cell_type": "code",
      "execution_count": null,
      "metadata": {
        "colab": {
          "base_uri": "https://localhost:8080/"
        },
        "id": "HfLAwvAUfHWs",
        "outputId": "4e70beb0-bf36-4282-968d-ab05cafb557a"
      },
      "outputs": [
        {
          "name": "stdout",
          "output_type": "stream",
          "text": [
            "313/313 [==============================] - 1s 2ms/step - loss: 0.3668 - accuracy: 0.9077\n",
            "Accuracy = 90.77000021934509%\n"
          ]
        }
      ],
      "source": [
        "results=model.evaluate(X_test,y_test)\n",
        "print(\"Accuracy = {}%\".format(results[1]*100))"
      ]
    },
    {
      "cell_type": "markdown",
      "metadata": {
        "id": "jmzr5wNlgxry"
      },
      "source": [
        "#ADDING he_normal INITIALIZER"
      ]
    },
    {
      "cell_type": "code",
      "execution_count": null,
      "metadata": {
        "colab": {
          "base_uri": "https://localhost:8080/"
        },
        "id": "Hz93CkYmg4Ya",
        "outputId": "59d336c4-2e77-4072-d3cc-91ec7b95cbf0"
      },
      "outputs": [
        {
          "name": "stdout",
          "output_type": "stream",
          "text": [
            "Epoch 1/100\n",
            "165/165 [==============================] - 2s 10ms/step - loss: 2.2985 - accuracy: 0.1565 - val_loss: 2.2651 - val_accuracy: 0.2025\n",
            "Epoch 2/100\n",
            "165/165 [==============================] - 1s 8ms/step - loss: 2.2504 - accuracy: 0.2256 - val_loss: 2.2359 - val_accuracy: 0.2252\n",
            "Epoch 3/100\n",
            "165/165 [==============================] - 1s 8ms/step - loss: 2.2206 - accuracy: 0.2850 - val_loss: 2.2054 - val_accuracy: 0.3347\n",
            "Epoch 4/100\n",
            "165/165 [==============================] - 1s 8ms/step - loss: 2.1885 - accuracy: 0.3859 - val_loss: 2.1713 - val_accuracy: 0.3962\n",
            "Epoch 5/100\n",
            "165/165 [==============================] - 1s 8ms/step - loss: 2.1526 - accuracy: 0.4360 - val_loss: 2.1332 - val_accuracy: 0.4902\n",
            "Epoch 6/100\n",
            "165/165 [==============================] - 2s 14ms/step - loss: 2.1126 - accuracy: 0.4970 - val_loss: 2.0921 - val_accuracy: 0.5231\n",
            "Epoch 7/100\n",
            "165/165 [==============================] - 1s 8ms/step - loss: 2.0700 - accuracy: 0.5295 - val_loss: 2.0478 - val_accuracy: 0.5334\n",
            "Epoch 8/100\n",
            "165/165 [==============================] - 1s 8ms/step - loss: 2.0235 - accuracy: 0.5474 - val_loss: 1.9990 - val_accuracy: 0.5668\n",
            "Epoch 9/100\n",
            "165/165 [==============================] - 1s 8ms/step - loss: 1.9736 - accuracy: 0.5713 - val_loss: 1.9473 - val_accuracy: 0.5866\n",
            "Epoch 10/100\n",
            "165/165 [==============================] - 1s 8ms/step - loss: 1.9203 - accuracy: 0.5814 - val_loss: 1.8933 - val_accuracy: 0.6089\n",
            "Epoch 11/100\n",
            "165/165 [==============================] - 1s 8ms/step - loss: 1.8642 - accuracy: 0.6019 - val_loss: 1.8347 - val_accuracy: 0.6083\n",
            "Epoch 12/100\n",
            "165/165 [==============================] - 1s 8ms/step - loss: 1.8053 - accuracy: 0.6109 - val_loss: 1.7751 - val_accuracy: 0.6217\n",
            "Epoch 13/100\n",
            "165/165 [==============================] - 1s 8ms/step - loss: 1.7449 - accuracy: 0.6219 - val_loss: 1.7140 - val_accuracy: 0.6335\n",
            "Epoch 14/100\n",
            "165/165 [==============================] - 1s 9ms/step - loss: 1.6835 - accuracy: 0.6355 - val_loss: 1.6521 - val_accuracy: 0.6500\n",
            "Epoch 15/100\n",
            "165/165 [==============================] - 1s 8ms/step - loss: 1.6216 - accuracy: 0.6473 - val_loss: 1.5902 - val_accuracy: 0.6489\n",
            "Epoch 16/100\n",
            "165/165 [==============================] - 1s 8ms/step - loss: 1.5607 - accuracy: 0.6549 - val_loss: 1.5301 - val_accuracy: 0.6691\n",
            "Epoch 17/100\n",
            "165/165 [==============================] - 1s 8ms/step - loss: 1.4997 - accuracy: 0.6691 - val_loss: 1.4686 - val_accuracy: 0.6810\n",
            "Epoch 18/100\n",
            "165/165 [==============================] - 1s 8ms/step - loss: 1.4408 - accuracy: 0.6801 - val_loss: 1.4110 - val_accuracy: 0.6932\n",
            "Epoch 19/100\n",
            "165/165 [==============================] - 1s 8ms/step - loss: 1.3838 - accuracy: 0.6897 - val_loss: 1.3543 - val_accuracy: 0.6983\n",
            "Epoch 20/100\n",
            "165/165 [==============================] - 1s 6ms/step - loss: 1.3284 - accuracy: 0.6964 - val_loss: 1.3013 - val_accuracy: 0.7151\n",
            "Epoch 21/100\n",
            "165/165 [==============================] - 1s 8ms/step - loss: 1.2763 - accuracy: 0.7108 - val_loss: 1.2497 - val_accuracy: 0.7201\n",
            "Epoch 22/100\n",
            "165/165 [==============================] - 1s 6ms/step - loss: 1.2257 - accuracy: 0.7218 - val_loss: 1.2020 - val_accuracy: 0.7439\n",
            "Epoch 23/100\n",
            "165/165 [==============================] - 1s 8ms/step - loss: 1.1781 - accuracy: 0.7395 - val_loss: 1.1558 - val_accuracy: 0.7402\n",
            "Epoch 24/100\n",
            "165/165 [==============================] - 1s 7ms/step - loss: 1.1324 - accuracy: 0.7492 - val_loss: 1.1101 - val_accuracy: 0.7654\n",
            "Epoch 25/100\n",
            "165/165 [==============================] - 1s 8ms/step - loss: 1.0891 - accuracy: 0.7668 - val_loss: 1.0678 - val_accuracy: 0.7732\n",
            "Epoch 26/100\n",
            "165/165 [==============================] - 1s 8ms/step - loss: 1.0472 - accuracy: 0.7779 - val_loss: 1.0266 - val_accuracy: 0.7917\n",
            "Epoch 27/100\n",
            "165/165 [==============================] - 1s 8ms/step - loss: 1.0076 - accuracy: 0.7926 - val_loss: 0.9908 - val_accuracy: 0.7974\n",
            "Epoch 28/100\n",
            "165/165 [==============================] - 1s 7ms/step - loss: 0.9696 - accuracy: 0.8012 - val_loss: 0.9522 - val_accuracy: 0.8090\n",
            "Epoch 29/100\n",
            "165/165 [==============================] - 1s 8ms/step - loss: 0.9331 - accuracy: 0.8120 - val_loss: 0.9175 - val_accuracy: 0.8194\n",
            "Epoch 30/100\n",
            "165/165 [==============================] - 1s 8ms/step - loss: 0.8980 - accuracy: 0.8192 - val_loss: 0.8897 - val_accuracy: 0.8184\n",
            "Epoch 31/100\n",
            "165/165 [==============================] - 1s 8ms/step - loss: 0.8655 - accuracy: 0.8255 - val_loss: 0.8513 - val_accuracy: 0.8331\n",
            "Epoch 32/100\n",
            "165/165 [==============================] - 1s 8ms/step - loss: 0.8322 - accuracy: 0.8357 - val_loss: 0.8210 - val_accuracy: 0.8335\n",
            "Epoch 33/100\n",
            "165/165 [==============================] - 1s 6ms/step - loss: 0.8027 - accuracy: 0.8399 - val_loss: 0.7929 - val_accuracy: 0.8383\n",
            "Epoch 34/100\n",
            "165/165 [==============================] - 1s 8ms/step - loss: 0.7739 - accuracy: 0.8448 - val_loss: 0.7670 - val_accuracy: 0.8463\n",
            "Epoch 35/100\n",
            "165/165 [==============================] - 1s 7ms/step - loss: 0.7472 - accuracy: 0.8510 - val_loss: 0.7428 - val_accuracy: 0.8505\n",
            "Epoch 36/100\n",
            "165/165 [==============================] - 1s 8ms/step - loss: 0.7215 - accuracy: 0.8586 - val_loss: 0.7184 - val_accuracy: 0.8534\n",
            "Epoch 37/100\n",
            "165/165 [==============================] - 1s 8ms/step - loss: 0.6964 - accuracy: 0.8620 - val_loss: 0.6990 - val_accuracy: 0.8567\n",
            "Epoch 38/100\n",
            "165/165 [==============================] - 1s 9ms/step - loss: 0.6754 - accuracy: 0.8660 - val_loss: 0.6752 - val_accuracy: 0.8627\n",
            "Epoch 39/100\n",
            "165/165 [==============================] - 1s 8ms/step - loss: 0.6536 - accuracy: 0.8681 - val_loss: 0.6582 - val_accuracy: 0.8610\n",
            "Epoch 40/100\n",
            "165/165 [==============================] - 1s 7ms/step - loss: 0.6351 - accuracy: 0.8716 - val_loss: 0.6341 - val_accuracy: 0.8689\n",
            "Epoch 41/100\n",
            "165/165 [==============================] - 1s 8ms/step - loss: 0.6148 - accuracy: 0.8741 - val_loss: 0.6181 - val_accuracy: 0.8712\n",
            "Epoch 42/100\n",
            "165/165 [==============================] - 1s 8ms/step - loss: 0.5992 - accuracy: 0.8764 - val_loss: 0.6033 - val_accuracy: 0.8722\n",
            "Epoch 43/100\n",
            "165/165 [==============================] - 1s 8ms/step - loss: 0.5806 - accuracy: 0.8789 - val_loss: 0.5910 - val_accuracy: 0.8706\n",
            "Epoch 44/100\n",
            "165/165 [==============================] - 1s 8ms/step - loss: 0.5669 - accuracy: 0.8811 - val_loss: 0.5741 - val_accuracy: 0.8733\n",
            "Epoch 45/100\n",
            "165/165 [==============================] - 1s 8ms/step - loss: 0.5519 - accuracy: 0.8815 - val_loss: 0.5870 - val_accuracy: 0.8672\n",
            "Epoch 46/100\n",
            "165/165 [==============================] - 1s 8ms/step - loss: 0.5484 - accuracy: 0.8824 - val_loss: 0.5503 - val_accuracy: 0.8758\n",
            "Epoch 47/100\n",
            "165/165 [==============================] - 1s 8ms/step - loss: 0.5264 - accuracy: 0.8846 - val_loss: 0.5357 - val_accuracy: 0.8773\n",
            "Epoch 48/100\n",
            "165/165 [==============================] - 1s 6ms/step - loss: 0.5137 - accuracy: 0.8870 - val_loss: 0.5219 - val_accuracy: 0.8811\n",
            "Epoch 49/100\n",
            "165/165 [==============================] - 1s 6ms/step - loss: 0.5006 - accuracy: 0.8894 - val_loss: 0.5151 - val_accuracy: 0.8829\n",
            "Epoch 50/100\n",
            "165/165 [==============================] - 2s 10ms/step - loss: 0.4913 - accuracy: 0.8913 - val_loss: 0.5089 - val_accuracy: 0.8812\n",
            "Epoch 51/100\n",
            "165/165 [==============================] - 2s 11ms/step - loss: 0.4842 - accuracy: 0.8928 - val_loss: 0.4992 - val_accuracy: 0.8829\n",
            "Epoch 52/100\n",
            "165/165 [==============================] - 1s 8ms/step - loss: 0.4700 - accuracy: 0.8948 - val_loss: 0.4856 - val_accuracy: 0.8831\n",
            "Epoch 53/100\n",
            "165/165 [==============================] - 1s 8ms/step - loss: 0.4610 - accuracy: 0.8958 - val_loss: 0.4745 - val_accuracy: 0.8881\n",
            "Epoch 54/100\n",
            "165/165 [==============================] - 1s 8ms/step - loss: 0.4506 - accuracy: 0.8982 - val_loss: 0.4682 - val_accuracy: 0.8879\n",
            "Epoch 55/100\n",
            "165/165 [==============================] - 1s 8ms/step - loss: 0.4407 - accuracy: 0.8999 - val_loss: 0.4579 - val_accuracy: 0.8907\n",
            "Epoch 56/100\n",
            "165/165 [==============================] - 1s 8ms/step - loss: 0.4325 - accuracy: 0.9013 - val_loss: 0.4510 - val_accuracy: 0.8915\n",
            "Epoch 57/100\n",
            "165/165 [==============================] - 1s 7ms/step - loss: 0.4253 - accuracy: 0.9014 - val_loss: 0.4576 - val_accuracy: 0.8877\n",
            "Epoch 58/100\n",
            "165/165 [==============================] - 1s 6ms/step - loss: 0.4204 - accuracy: 0.9016 - val_loss: 0.4455 - val_accuracy: 0.8898\n",
            "Epoch 59/100\n",
            "165/165 [==============================] - 1s 7ms/step - loss: 0.4136 - accuracy: 0.9033 - val_loss: 0.4330 - val_accuracy: 0.8940\n",
            "Epoch 60/100\n",
            "165/165 [==============================] - 1s 6ms/step - loss: 0.4045 - accuracy: 0.9039 - val_loss: 0.4243 - val_accuracy: 0.8961\n",
            "Epoch 61/100\n",
            "165/165 [==============================] - 1s 8ms/step - loss: 0.3962 - accuracy: 0.9067 - val_loss: 0.4231 - val_accuracy: 0.8956\n",
            "Epoch 62/100\n",
            "165/165 [==============================] - 1s 8ms/step - loss: 0.3916 - accuracy: 0.9070 - val_loss: 0.4166 - val_accuracy: 0.8958\n",
            "Epoch 63/100\n",
            "165/165 [==============================] - 1s 7ms/step - loss: 0.3852 - accuracy: 0.9088 - val_loss: 0.4077 - val_accuracy: 0.8988\n",
            "Epoch 64/100\n",
            "165/165 [==============================] - 1s 8ms/step - loss: 0.3798 - accuracy: 0.9095 - val_loss: 0.4031 - val_accuracy: 0.8993\n",
            "Epoch 65/100\n",
            "165/165 [==============================] - 1s 8ms/step - loss: 0.3737 - accuracy: 0.9111 - val_loss: 0.4008 - val_accuracy: 0.8993\n",
            "Epoch 66/100\n",
            "165/165 [==============================] - 1s 8ms/step - loss: 0.3700 - accuracy: 0.9113 - val_loss: 0.3975 - val_accuracy: 0.8992\n",
            "Epoch 67/100\n",
            "165/165 [==============================] - 1s 8ms/step - loss: 0.3624 - accuracy: 0.9126 - val_loss: 0.3971 - val_accuracy: 0.9008\n",
            "Epoch 68/100\n",
            "165/165 [==============================] - 1s 8ms/step - loss: 0.3584 - accuracy: 0.9136 - val_loss: 0.3856 - val_accuracy: 0.9016\n",
            "Epoch 69/100\n",
            "165/165 [==============================] - 1s 8ms/step - loss: 0.3554 - accuracy: 0.9136 - val_loss: 0.3901 - val_accuracy: 0.8990\n",
            "Epoch 70/100\n",
            "165/165 [==============================] - 1s 8ms/step - loss: 0.3496 - accuracy: 0.9148 - val_loss: 0.3805 - val_accuracy: 0.9016\n",
            "Epoch 71/100\n",
            "165/165 [==============================] - 1s 7ms/step - loss: 0.3440 - accuracy: 0.9154 - val_loss: 0.3729 - val_accuracy: 0.9035\n",
            "Epoch 72/100\n",
            "165/165 [==============================] - 1s 8ms/step - loss: 0.3389 - accuracy: 0.9182 - val_loss: 0.3852 - val_accuracy: 0.8998\n",
            "Epoch 73/100\n",
            "165/165 [==============================] - 1s 6ms/step - loss: 0.3414 - accuracy: 0.9165 - val_loss: 0.3708 - val_accuracy: 0.9057\n",
            "Epoch 74/100\n",
            "165/165 [==============================] - 1s 8ms/step - loss: 0.3340 - accuracy: 0.9185 - val_loss: 0.3706 - val_accuracy: 0.9051\n",
            "Epoch 75/100\n",
            "165/165 [==============================] - 1s 8ms/step - loss: 0.3347 - accuracy: 0.9181 - val_loss: 0.3682 - val_accuracy: 0.9047\n",
            "Epoch 76/100\n",
            "165/165 [==============================] - 2s 11ms/step - loss: 0.3292 - accuracy: 0.9187 - val_loss: 0.3628 - val_accuracy: 0.9063\n",
            "Epoch 77/100\n",
            "165/165 [==============================] - 2s 11ms/step - loss: 0.3249 - accuracy: 0.9196 - val_loss: 0.3584 - val_accuracy: 0.9072\n",
            "Epoch 78/100\n",
            "165/165 [==============================] - 2s 10ms/step - loss: 0.3197 - accuracy: 0.9209 - val_loss: 0.3583 - val_accuracy: 0.9084\n",
            "Epoch 79/100\n",
            "165/165 [==============================] - 2s 10ms/step - loss: 0.3176 - accuracy: 0.9215 - val_loss: 0.3523 - val_accuracy: 0.9081\n",
            "Epoch 80/100\n",
            "165/165 [==============================] - 2s 10ms/step - loss: 0.3131 - accuracy: 0.9222 - val_loss: 0.3492 - val_accuracy: 0.9089\n",
            "Epoch 81/100\n",
            "165/165 [==============================] - 2s 9ms/step - loss: 0.3074 - accuracy: 0.9235 - val_loss: 0.3445 - val_accuracy: 0.9104\n",
            "Epoch 82/100\n",
            "165/165 [==============================] - 2s 10ms/step - loss: 0.3041 - accuracy: 0.9234 - val_loss: 0.3497 - val_accuracy: 0.9073\n",
            "Epoch 83/100\n",
            "165/165 [==============================] - 2s 13ms/step - loss: 0.3068 - accuracy: 0.9218 - val_loss: 0.3429 - val_accuracy: 0.9092\n",
            "Epoch 84/100\n",
            "165/165 [==============================] - 2s 13ms/step - loss: 0.2997 - accuracy: 0.9244 - val_loss: 0.3352 - val_accuracy: 0.9094\n",
            "Epoch 85/100\n",
            "165/165 [==============================] - 2s 13ms/step - loss: 0.2962 - accuracy: 0.9251 - val_loss: 0.3352 - val_accuracy: 0.9089\n",
            "Epoch 86/100\n",
            "165/165 [==============================] - 2s 12ms/step - loss: 0.2911 - accuracy: 0.9261 - val_loss: 0.3276 - val_accuracy: 0.9118\n",
            "Epoch 87/100\n",
            "165/165 [==============================] - 2s 12ms/step - loss: 0.2878 - accuracy: 0.9270 - val_loss: 0.3258 - val_accuracy: 0.9129\n",
            "Epoch 88/100\n",
            "165/165 [==============================] - 2s 10ms/step - loss: 0.2836 - accuracy: 0.9277 - val_loss: 0.3278 - val_accuracy: 0.9121\n",
            "Epoch 89/100\n",
            "165/165 [==============================] - 2s 10ms/step - loss: 0.2832 - accuracy: 0.9275 - val_loss: 0.3267 - val_accuracy: 0.9114\n",
            "Epoch 90/100\n",
            "165/165 [==============================] - 2s 10ms/step - loss: 0.2818 - accuracy: 0.9283 - val_loss: 0.3196 - val_accuracy: 0.9140\n",
            "Epoch 91/100\n",
            "165/165 [==============================] - 2s 12ms/step - loss: 0.2762 - accuracy: 0.9298 - val_loss: 0.3184 - val_accuracy: 0.9153\n",
            "Epoch 92/100\n",
            "165/165 [==============================] - 2s 12ms/step - loss: 0.2759 - accuracy: 0.9291 - val_loss: 0.3230 - val_accuracy: 0.9135\n",
            "Epoch 93/100\n",
            "165/165 [==============================] - 2s 10ms/step - loss: 0.2721 - accuracy: 0.9301 - val_loss: 0.3305 - val_accuracy: 0.9109\n",
            "Epoch 94/100\n",
            "165/165 [==============================] - 1s 8ms/step - loss: 0.2773 - accuracy: 0.9282 - val_loss: 0.3174 - val_accuracy: 0.9136\n",
            "Epoch 95/100\n",
            "165/165 [==============================] - 1s 8ms/step - loss: 0.2687 - accuracy: 0.9306 - val_loss: 0.3202 - val_accuracy: 0.9133\n",
            "Epoch 96/100\n",
            "165/165 [==============================] - 1s 7ms/step - loss: 0.2703 - accuracy: 0.9297 - val_loss: 0.3123 - val_accuracy: 0.9153\n",
            "Epoch 97/100\n",
            "165/165 [==============================] - 1s 8ms/step - loss: 0.2640 - accuracy: 0.9316 - val_loss: 0.3100 - val_accuracy: 0.9153\n",
            "Epoch 98/100\n",
            "165/165 [==============================] - 1s 8ms/step - loss: 0.2610 - accuracy: 0.9324 - val_loss: 0.3061 - val_accuracy: 0.9166\n",
            "Epoch 99/100\n",
            "165/165 [==============================] - 1s 8ms/step - loss: 0.2564 - accuracy: 0.9341 - val_loss: 0.3313 - val_accuracy: 0.9093\n",
            "Epoch 100/100\n",
            "165/165 [==============================] - 1s 8ms/step - loss: 0.2666 - accuracy: 0.9320 - val_loss: 0.3084 - val_accuracy: 0.9168\n"
          ]
        }
      ],
      "source": [
        "def cal():\n",
        "    model=Sequential()\n",
        "    model.add(Dense(50, input_shape = (784,),kernel_initializer='he_normal'))    \n",
        "    model.add(Activation('sigmoid'))\n",
        "    model.add(Dense(50,kernel_initializer='he_normal'))                     \n",
        "    model.add(Activation('sigmoid'))\n",
        "    model.add(Dense(50,kernel_initializer='he_normal'))                         \n",
        "    model.add(Activation('sigmoid'))\n",
        "    model.add(Dense(10,kernel_initializer='he_normal'))                       \n",
        "    model.add(Activation('softmax'))\n",
        "    sgd = optimizers.SGD(learning_rate = 0.01)    # stochastic gradient descent optimizer\n",
        "    model.compile(optimizer = sgd, loss = 'categorical_crossentropy', metrics = ['accuracy'])\n",
        "    return model\n",
        "model=cal()\n",
        "history=model.fit(X_train, y_train, batch_size = 256,validation_split=0.3, epochs = 100, verbose = 1)"
      ]
    },
    {
      "cell_type": "code",
      "execution_count": null,
      "metadata": {
        "colab": {
          "base_uri": "https://localhost:8080/",
          "height": 265
        },
        "id": "HOTQyJ1niESG",
        "outputId": "a9a4919c-d5e4-41b5-a311-7bba3e606ebb"
      },
      "outputs": [
        {
          "data": {
            "image/png": "[encoded data removed]",
            "text/plain": [
              "<Figure size 432x288 with 1 Axes>"
            ]
          },
          "metadata": {},
          "output_type": "display_data"
        }
      ],
      "source": [
        "plt.plot(history.history['accuracy'])\n",
        "plt.plot(history.history['val_accuracy'])\n",
        "plt.plot(history.history['loss'])\n",
        "plt.plot(history.history['val_loss'])\n",
        "plt.legend(['train_acc','valid_acc','train_loss','valid_loss'],loc='upper left')\n",
        "plt.show()"
      ]
    },
    {
      "cell_type": "code",
      "execution_count": null,
      "metadata": {
        "colab": {
          "base_uri": "https://localhost:8080/"
        },
        "id": "dXfMyqqmiGqq",
        "outputId": "7109dac6-a88c-4730-c682-b06983660ee0"
      },
      "outputs": [
        {
          "name": "stdout",
          "output_type": "stream",
          "text": [
            "313/313 [==============================] - 1s 2ms/step - loss: 0.2962 - accuracy: 0.9216\n",
            "Accuracy = 92.15999841690063%\n"
          ]
        }
      ],
      "source": [
        "results=model.evaluate(X_test,y_test)\n",
        "print(\"Accuracy = {}%\".format(results[1]*100))"
      ]
    },
    {
      "cell_type": "markdown",
      "metadata": {
        "id": "F-4hy9iaj1gw"
      },
      "source": [
        "#ADDING RELU ACTIVATION FUNCTION WITH he_normal INITIALIZER"
      ]
    },
    {
      "cell_type": "code",
      "execution_count": null,
      "metadata": {
        "colab": {
          "base_uri": "https://localhost:8080/"
        },
        "id": "zAB7gUgTj1gz",
        "outputId": "68394046-ca17-447f-9d98-f6da415d4db2"
      },
      "outputs": [
        {
          "name": "stdout",
          "output_type": "stream",
          "text": [
            "Epoch 1/100\n",
            "165/165 [==============================] - 2s 9ms/step - loss: 793.0563 - accuracy: 0.1126 - val_loss: 2.3022 - val_accuracy: 0.1080\n",
            "Epoch 2/100\n",
            "165/165 [==============================] - 1s 7ms/step - loss: 2.3018 - accuracy: 0.1143 - val_loss: 2.3020 - val_accuracy: 0.1080\n",
            "Epoch 3/100\n",
            "165/165 [==============================] - 1s 8ms/step - loss: 2.3015 - accuracy: 0.1143 - val_loss: 2.3019 - val_accuracy: 0.1080\n",
            "Epoch 4/100\n",
            "165/165 [==============================] - 1s 8ms/step - loss: 2.5460 - accuracy: 0.1140 - val_loss: 2.3019 - val_accuracy: 0.1080\n",
            "Epoch 5/100\n",
            "165/165 [==============================] - 1s 8ms/step - loss: 2.3013 - accuracy: 0.1143 - val_loss: 2.3018 - val_accuracy: 0.1080\n",
            "Epoch 6/100\n",
            "165/165 [==============================] - 1s 7ms/step - loss: 2.3012 - accuracy: 0.1143 - val_loss: 2.3017 - val_accuracy: 0.1080\n",
            "Epoch 7/100\n",
            "165/165 [==============================] - 1s 8ms/step - loss: 2.3011 - accuracy: 0.1143 - val_loss: 2.3017 - val_accuracy: 0.1080\n",
            "Epoch 8/100\n",
            "165/165 [==============================] - 1s 8ms/step - loss: 2.3011 - accuracy: 0.1143 - val_loss: 2.3017 - val_accuracy: 0.1080\n",
            "Epoch 9/100\n",
            "165/165 [==============================] - 1s 8ms/step - loss: 2.3010 - accuracy: 0.1143 - val_loss: 2.3017 - val_accuracy: 0.1080\n",
            "Epoch 10/100\n",
            "165/165 [==============================] - 1s 8ms/step - loss: 2.3010 - accuracy: 0.1143 - val_loss: 2.3017 - val_accuracy: 0.1080\n",
            "Epoch 11/100\n",
            "165/165 [==============================] - 1s 8ms/step - loss: 2.3010 - accuracy: 0.1143 - val_loss: 2.3017 - val_accuracy: 0.1080\n",
            "Epoch 12/100\n",
            "165/165 [==============================] - 1s 8ms/step - loss: 2.3010 - accuracy: 0.1143 - val_loss: 2.3017 - val_accuracy: 0.1080\n",
            "Epoch 13/100\n",
            "165/165 [==============================] - 1s 8ms/step - loss: 2.3010 - accuracy: 0.1143 - val_loss: 2.3017 - val_accuracy: 0.1080\n",
            "Epoch 14/100\n",
            "165/165 [==============================] - 1s 8ms/step - loss: 2.3010 - accuracy: 0.1143 - val_loss: 2.3017 - val_accuracy: 0.1080\n",
            "Epoch 15/100\n",
            "165/165 [==============================] - 1s 7ms/step - loss: 2.3010 - accuracy: 0.1143 - val_loss: 2.3017 - val_accuracy: 0.1080\n",
            "Epoch 16/100\n",
            "165/165 [==============================] - 1s 7ms/step - loss: 2.3010 - accuracy: 0.1143 - val_loss: 2.3018 - val_accuracy: 0.1080\n",
            "Epoch 17/100\n",
            "165/165 [==============================] - 1s 8ms/step - loss: 2.3010 - accuracy: 0.1143 - val_loss: 2.3018 - val_accuracy: 0.1080\n",
            "Epoch 18/100\n",
            "165/165 [==============================] - 1s 7ms/step - loss: 2.3010 - accuracy: 0.1143 - val_loss: 2.3017 - val_accuracy: 0.1080\n",
            "Epoch 19/100\n",
            "165/165 [==============================] - 1s 8ms/step - loss: 2.3010 - accuracy: 0.1143 - val_loss: 2.3018 - val_accuracy: 0.1080\n",
            "Epoch 20/100\n",
            "165/165 [==============================] - 1s 8ms/step - loss: 2.3010 - accuracy: 0.1143 - val_loss: 2.3017 - val_accuracy: 0.1080\n",
            "Epoch 21/100\n",
            "165/165 [==============================] - 1s 8ms/step - loss: 2.3009 - accuracy: 0.1143 - val_loss: 2.3017 - val_accuracy: 0.1080\n",
            "Epoch 22/100\n",
            "165/165 [==============================] - 1s 8ms/step - loss: 2.3010 - accuracy: 0.1143 - val_loss: 2.3017 - val_accuracy: 0.1080\n",
            "Epoch 23/100\n",
            "165/165 [==============================] - 1s 8ms/step - loss: 2.3010 - accuracy: 0.1143 - val_loss: 2.3017 - val_accuracy: 0.1080\n",
            "Epoch 24/100\n",
            "165/165 [==============================] - 1s 8ms/step - loss: 2.3009 - accuracy: 0.1143 - val_loss: 2.3017 - val_accuracy: 0.1080\n",
            "Epoch 25/100\n",
            "165/165 [==============================] - 1s 6ms/step - loss: 2.3010 - accuracy: 0.1143 - val_loss: 2.3017 - val_accuracy: 0.1080\n",
            "Epoch 26/100\n",
            "165/165 [==============================] - 1s 6ms/step - loss: 2.3009 - accuracy: 0.1143 - val_loss: 2.3017 - val_accuracy: 0.1080\n",
            "Epoch 27/100\n",
            "165/165 [==============================] - 1s 8ms/step - loss: 2.3010 - accuracy: 0.1143 - val_loss: 2.3017 - val_accuracy: 0.1080\n",
            "Epoch 28/100\n",
            "165/165 [==============================] - 2s 9ms/step - loss: 2.3009 - accuracy: 0.1143 - val_loss: 2.3018 - val_accuracy: 0.1080\n",
            "Epoch 29/100\n",
            "165/165 [==============================] - 2s 10ms/step - loss: 2.3009 - accuracy: 0.1143 - val_loss: 2.3017 - val_accuracy: 0.1080\n",
            "Epoch 30/100\n",
            "165/165 [==============================] - 2s 9ms/step - loss: 2.3009 - accuracy: 0.1143 - val_loss: 2.3018 - val_accuracy: 0.1080\n",
            "Epoch 31/100\n",
            "165/165 [==============================] - 2s 10ms/step - loss: 2.3009 - accuracy: 0.1143 - val_loss: 2.3018 - val_accuracy: 0.1080\n",
            "Epoch 32/100\n",
            "165/165 [==============================] - 1s 9ms/step - loss: 2.3009 - accuracy: 0.1143 - val_loss: 2.3018 - val_accuracy: 0.1080\n",
            "Epoch 33/100\n",
            "165/165 [==============================] - 1s 9ms/step - loss: 2.3009 - accuracy: 0.1143 - val_loss: 2.3018 - val_accuracy: 0.1080\n",
            "Epoch 34/100\n",
            "165/165 [==============================] - 2s 10ms/step - loss: 2.3009 - accuracy: 0.1143 - val_loss: 2.3018 - val_accuracy: 0.1080\n",
            "Epoch 35/100\n",
            "165/165 [==============================] - 2s 10ms/step - loss: 2.3009 - accuracy: 0.1143 - val_loss: 2.3018 - val_accuracy: 0.1080\n",
            "Epoch 36/100\n",
            "165/165 [==============================] - 2s 10ms/step - loss: 2.3009 - accuracy: 0.1143 - val_loss: 2.3018 - val_accuracy: 0.1080\n",
            "Epoch 37/100\n",
            "165/165 [==============================] - 2s 9ms/step - loss: 2.3009 - accuracy: 0.1143 - val_loss: 2.3018 - val_accuracy: 0.1080\n",
            "Epoch 38/100\n",
            "165/165 [==============================] - 2s 12ms/step - loss: 2.3010 - accuracy: 0.1143 - val_loss: 2.3018 - val_accuracy: 0.1080\n",
            "Epoch 39/100\n",
            "165/165 [==============================] - 2s 12ms/step - loss: 2.3010 - accuracy: 0.1143 - val_loss: 2.3018 - val_accuracy: 0.1080\n",
            "Epoch 40/100\n",
            "165/165 [==============================] - 2s 10ms/step - loss: 2.3009 - accuracy: 0.1143 - val_loss: 2.3018 - val_accuracy: 0.1080\n",
            "Epoch 41/100\n",
            "165/165 [==============================] - 2s 10ms/step - loss: 2.3009 - accuracy: 0.1143 - val_loss: 2.3018 - val_accuracy: 0.1080\n",
            "Epoch 42/100\n",
            "165/165 [==============================] - 2s 12ms/step - loss: 2.3009 - accuracy: 0.1143 - val_loss: 2.3018 - val_accuracy: 0.1080\n",
            "Epoch 43/100\n",
            "165/165 [==============================] - 1s 8ms/step - loss: 2.3010 - accuracy: 0.1143 - val_loss: 2.3018 - val_accuracy: 0.1080\n",
            "Epoch 44/100\n",
            "165/165 [==============================] - 1s 9ms/step - loss: 2.3009 - accuracy: 0.1143 - val_loss: 2.3017 - val_accuracy: 0.1080\n",
            "Epoch 45/100\n",
            "165/165 [==============================] - 1s 8ms/step - loss: 2.3010 - accuracy: 0.1143 - val_loss: 2.3018 - val_accuracy: 0.1080\n",
            "Epoch 46/100\n",
            "165/165 [==============================] - 1s 6ms/step - loss: 2.3009 - accuracy: 0.1143 - val_loss: 2.3018 - val_accuracy: 0.1080\n",
            "Epoch 47/100\n",
            "165/165 [==============================] - 1s 8ms/step - loss: 2.3009 - accuracy: 0.1143 - val_loss: 2.3017 - val_accuracy: 0.1080\n",
            "Epoch 48/100\n",
            "165/165 [==============================] - 1s 7ms/step - loss: 2.3009 - accuracy: 0.1143 - val_loss: 2.3017 - val_accuracy: 0.1080\n",
            "Epoch 49/100\n",
            "165/165 [==============================] - 1s 7ms/step - loss: 2.3010 - accuracy: 0.1143 - val_loss: 2.3017 - val_accuracy: 0.1080\n",
            "Epoch 50/100\n",
            "165/165 [==============================] - 1s 8ms/step - loss: 2.3010 - accuracy: 0.1143 - val_loss: 2.3017 - val_accuracy: 0.1080\n",
            "Epoch 51/100\n",
            "165/165 [==============================] - 1s 8ms/step - loss: 2.3009 - accuracy: 0.1143 - val_loss: 2.3017 - val_accuracy: 0.1080\n",
            "Epoch 52/100\n",
            "165/165 [==============================] - 2s 12ms/step - loss: 2.3009 - accuracy: 0.1143 - val_loss: 2.3017 - val_accuracy: 0.1080\n",
            "Epoch 53/100\n",
            "165/165 [==============================] - 2s 11ms/step - loss: 2.3010 - accuracy: 0.1143 - val_loss: 2.3017 - val_accuracy: 0.1080\n",
            "Epoch 54/100\n",
            "165/165 [==============================] - 2s 11ms/step - loss: 2.3010 - accuracy: 0.1143 - val_loss: 2.3017 - val_accuracy: 0.1080\n",
            "Epoch 55/100\n",
            "165/165 [==============================] - 2s 10ms/step - loss: 2.3010 - accuracy: 0.1143 - val_loss: 2.3017 - val_accuracy: 0.1080\n",
            "Epoch 56/100\n",
            "165/165 [==============================] - 1s 8ms/step - loss: 2.3010 - accuracy: 0.1143 - val_loss: 2.3017 - val_accuracy: 0.1080\n",
            "Epoch 57/100\n",
            "165/165 [==============================] - 1s 8ms/step - loss: 2.3010 - accuracy: 0.1143 - val_loss: 2.3017 - val_accuracy: 0.1080\n",
            "Epoch 58/100\n",
            "165/165 [==============================] - 1s 7ms/step - loss: 2.3009 - accuracy: 0.1143 - val_loss: 2.3017 - val_accuracy: 0.1080\n",
            "Epoch 59/100\n",
            "165/165 [==============================] - 1s 8ms/step - loss: 2.3010 - accuracy: 0.1143 - val_loss: 2.3017 - val_accuracy: 0.1080\n",
            "Epoch 60/100\n",
            "165/165 [==============================] - 1s 8ms/step - loss: 2.3009 - accuracy: 0.1143 - val_loss: 2.3017 - val_accuracy: 0.1080\n",
            "Epoch 61/100\n",
            "165/165 [==============================] - 1s 8ms/step - loss: 2.3010 - accuracy: 0.1143 - val_loss: 2.3017 - val_accuracy: 0.1080\n",
            "Epoch 62/100\n",
            "165/165 [==============================] - 1s 7ms/step - loss: 2.3009 - accuracy: 0.1143 - val_loss: 2.3017 - val_accuracy: 0.1080\n",
            "Epoch 63/100\n",
            "165/165 [==============================] - 1s 7ms/step - loss: 2.3010 - accuracy: 0.1143 - val_loss: 2.3017 - val_accuracy: 0.1080\n",
            "Epoch 64/100\n",
            "165/165 [==============================] - 1s 8ms/step - loss: 2.3009 - accuracy: 0.1143 - val_loss: 2.3017 - val_accuracy: 0.1080\n",
            "Epoch 65/100\n",
            "165/165 [==============================] - 1s 7ms/step - loss: 2.3009 - accuracy: 0.1143 - val_loss: 2.3017 - val_accuracy: 0.1080\n",
            "Epoch 66/100\n",
            "165/165 [==============================] - 1s 7ms/step - loss: 2.3009 - accuracy: 0.1143 - val_loss: 2.3017 - val_accuracy: 0.1080\n",
            "Epoch 67/100\n",
            "165/165 [==============================] - 1s 8ms/step - loss: 2.3010 - accuracy: 0.1143 - val_loss: 2.3017 - val_accuracy: 0.1080\n",
            "Epoch 68/100\n",
            "165/165 [==============================] - 1s 9ms/step - loss: 2.3009 - accuracy: 0.1143 - val_loss: 2.3017 - val_accuracy: 0.1080\n",
            "Epoch 69/100\n",
            "165/165 [==============================] - 1s 8ms/step - loss: 2.3009 - accuracy: 0.1143 - val_loss: 2.3017 - val_accuracy: 0.1080\n",
            "Epoch 70/100\n",
            "165/165 [==============================] - 1s 8ms/step - loss: 2.3009 - accuracy: 0.1143 - val_loss: 2.3017 - val_accuracy: 0.1080\n",
            "Epoch 71/100\n",
            "165/165 [==============================] - 1s 8ms/step - loss: 2.3009 - accuracy: 0.1143 - val_loss: 2.3017 - val_accuracy: 0.1080\n",
            "Epoch 72/100\n",
            "165/165 [==============================] - 1s 8ms/step - loss: 2.3009 - accuracy: 0.1143 - val_loss: 2.3017 - val_accuracy: 0.1080\n",
            "Epoch 73/100\n",
            "165/165 [==============================] - 1s 8ms/step - loss: 2.3009 - accuracy: 0.1143 - val_loss: 2.3017 - val_accuracy: 0.1080\n",
            "Epoch 74/100\n",
            "165/165 [==============================] - 1s 7ms/step - loss: 2.3009 - accuracy: 0.1143 - val_loss: 2.3018 - val_accuracy: 0.1080\n",
            "Epoch 75/100\n",
            "165/165 [==============================] - 1s 8ms/step - loss: 2.3010 - accuracy: 0.1143 - val_loss: 2.3017 - val_accuracy: 0.1080\n",
            "Epoch 76/100\n",
            "165/165 [==============================] - 1s 8ms/step - loss: 2.3009 - accuracy: 0.1143 - val_loss: 2.3017 - val_accuracy: 0.1080\n",
            "Epoch 77/100\n",
            "165/165 [==============================] - 1s 9ms/step - loss: 2.3009 - accuracy: 0.1143 - val_loss: 2.3018 - val_accuracy: 0.1080\n",
            "Epoch 78/100\n",
            "165/165 [==============================] - 1s 8ms/step - loss: 2.3009 - accuracy: 0.1143 - val_loss: 2.3017 - val_accuracy: 0.1080\n",
            "Epoch 79/100\n",
            "165/165 [==============================] - 1s 8ms/step - loss: 2.3010 - accuracy: 0.1143 - val_loss: 2.3018 - val_accuracy: 0.1080\n",
            "Epoch 80/100\n",
            "165/165 [==============================] - 1s 8ms/step - loss: 2.3009 - accuracy: 0.1143 - val_loss: 2.3018 - val_accuracy: 0.1080\n",
            "Epoch 81/100\n",
            "165/165 [==============================] - 1s 8ms/step - loss: 2.3009 - accuracy: 0.1143 - val_loss: 2.3018 - val_accuracy: 0.1080\n",
            "Epoch 82/100\n",
            "165/165 [==============================] - 1s 9ms/step - loss: 2.3009 - accuracy: 0.1143 - val_loss: 2.3017 - val_accuracy: 0.1080\n",
            "Epoch 83/100\n",
            "165/165 [==============================] - 2s 9ms/step - loss: 2.3009 - accuracy: 0.1143 - val_loss: 2.3018 - val_accuracy: 0.1080\n",
            "Epoch 84/100\n",
            "165/165 [==============================] - 2s 9ms/step - loss: 2.3009 - accuracy: 0.1143 - val_loss: 2.3018 - val_accuracy: 0.1080\n",
            "Epoch 85/100\n",
            "165/165 [==============================] - 1s 9ms/step - loss: 2.3009 - accuracy: 0.1143 - val_loss: 2.3017 - val_accuracy: 0.1080\n",
            "Epoch 86/100\n",
            "165/165 [==============================] - 1s 9ms/step - loss: 2.3010 - accuracy: 0.1143 - val_loss: 2.3017 - val_accuracy: 0.1080\n",
            "Epoch 87/100\n",
            "165/165 [==============================] - 1s 8ms/step - loss: 2.3009 - accuracy: 0.1143 - val_loss: 2.3017 - val_accuracy: 0.1080\n",
            "Epoch 88/100\n",
            "165/165 [==============================] - 1s 8ms/step - loss: 2.3009 - accuracy: 0.1143 - val_loss: 2.3017 - val_accuracy: 0.1080\n",
            "Epoch 89/100\n",
            "165/165 [==============================] - 1s 9ms/step - loss: 2.3009 - accuracy: 0.1143 - val_loss: 2.3018 - val_accuracy: 0.1080\n",
            "Epoch 90/100\n",
            "165/165 [==============================] - 1s 9ms/step - loss: 2.3009 - accuracy: 0.1143 - val_loss: 2.3017 - val_accuracy: 0.1080\n",
            "Epoch 91/100\n",
            "165/165 [==============================] - 1s 9ms/step - loss: 2.3010 - accuracy: 0.1143 - val_loss: 2.3017 - val_accuracy: 0.1080\n",
            "Epoch 92/100\n",
            "165/165 [==============================] - 1s 8ms/step - loss: 2.3010 - accuracy: 0.1143 - val_loss: 2.3017 - val_accuracy: 0.1080\n",
            "Epoch 93/100\n",
            "165/165 [==============================] - 1s 9ms/step - loss: 2.3010 - accuracy: 0.1143 - val_loss: 2.3018 - val_accuracy: 0.1080\n",
            "Epoch 94/100\n",
            "165/165 [==============================] - 1s 8ms/step - loss: 2.3010 - accuracy: 0.1143 - val_loss: 2.3017 - val_accuracy: 0.1080\n",
            "Epoch 95/100\n",
            "165/165 [==============================] - 1s 8ms/step - loss: 2.3010 - accuracy: 0.1143 - val_loss: 2.3017 - val_accuracy: 0.1080\n",
            "Epoch 96/100\n",
            "165/165 [==============================] - 1s 9ms/step - loss: 2.3010 - accuracy: 0.1143 - val_loss: 2.3017 - val_accuracy: 0.1080\n",
            "Epoch 97/100\n",
            "165/165 [==============================] - 1s 9ms/step - loss: 2.3009 - accuracy: 0.1143 - val_loss: 2.3017 - val_accuracy: 0.1080\n",
            "Epoch 98/100\n",
            "165/165 [==============================] - 1s 9ms/step - loss: 2.3009 - accuracy: 0.1143 - val_loss: 2.3017 - val_accuracy: 0.1080\n",
            "Epoch 99/100\n",
            "165/165 [==============================] - 1s 9ms/step - loss: 2.3009 - accuracy: 0.1143 - val_loss: 2.3017 - val_accuracy: 0.1080\n",
            "Epoch 100/100\n",
            "165/165 [==============================] - 1s 9ms/step - loss: 2.3009 - accuracy: 0.1143 - val_loss: 2.3017 - val_accuracy: 0.1080\n"
          ]
        }
      ],
      "source": [
        "def cal():\n",
        "    model=Sequential()\n",
        "    model.add(Dense(50, input_shape = (784,),kernel_initializer='he_normal'))    \n",
        "    model.add(Activation('relu'))\n",
        "    model.add(Dense(50,kernel_initializer='he_normal'))                     \n",
        "    model.add(Activation('relu'))\n",
        "    model.add(Dense(50,kernel_initializer='he_normal'))                         \n",
        "    model.add(Activation('relu'))\n",
        "    model.add(Dense(10,kernel_initializer='he_normal'))                       \n",
        "    model.add(Activation('softmax'))\n",
        "    sgd = optimizers.SGD(learning_rate = 0.01)    # stochastic gradient descent optimizer\n",
        "    model.compile(optimizer = sgd, loss = 'categorical_crossentropy', metrics = ['accuracy'])\n",
        "    return model\n",
        "model=cal()\n",
        "history=model.fit(X_train, y_train, batch_size = 256,validation_split=0.3, epochs = 100, verbose = 1)"
      ]
    },
    {
      "cell_type": "code",
      "execution_count": null,
      "metadata": {
        "colab": {
          "base_uri": "https://localhost:8080/",
          "height": 265
        },
        "id": "4YgLJINTj1g2",
        "outputId": "888d7902-27fc-45e7-8761-3450a05b873d"
      },
      "outputs": [
        {
          "data": {
            "image/png": "[encoded data removed]",
            "text/plain": [
              "<Figure size 432x288 with 1 Axes>"
            ]
          },
          "metadata": {},
          "output_type": "display_data"
        }
      ],
      "source": [
        "plt.plot(history.history['accuracy'])\n",
        "plt.plot(history.history['val_accuracy'])\n",
        "plt.plot(history.history['loss'])\n",
        "plt.plot(history.history['val_loss'])\n",
        "plt.legend(['train_acc','valid_acc','train_loss','valid_loss'],loc='upper left')\n",
        "plt.show()"
      ]
    },
    {
      "cell_type": "code",
      "execution_count": null,
      "metadata": {
        "colab": {
          "base_uri": "https://localhost:8080/"
        },
        "id": "dPySrInaj1g4",
        "outputId": "32130a7e-18bc-4baa-b981-ec5de0b5c7b8"
      },
      "outputs": [
        {
          "name": "stdout",
          "output_type": "stream",
          "text": [
            "313/313 [==============================] - 1s 2ms/step - loss: 2.3010 - accuracy: 0.1135\n",
            "Accuracy = 11.349999904632568%\n"
          ]
        }
      ],
      "source": [
        "results=model.evaluate(X_test,y_test)\n",
        "print(\"Accuracy = {}%\".format(results[1]*100))"
      ]
    },
    {
      "cell_type": "markdown",
      "metadata": {
        "id": "RbOlxXtJlQqp"
      },
      "source": [
        "#CHANGING TO Adagrad optimizer"
      ]
    },
    {
      "cell_type": "code",
      "execution_count": null,
      "metadata": {
        "colab": {
          "base_uri": "https://localhost:8080/"
        },
        "id": "qhQ6fee2lQqr",
        "outputId": "a0652fed-edd1-493b-91fa-61aaf385e88d"
      },
      "outputs": [
        {
          "name": "stdout",
          "output_type": "stream",
          "text": [
            "Epoch 1/100\n",
            "165/165 [==============================] - 3s 12ms/step - loss: 7.9672 - accuracy: 0.6230 - val_loss: 1.5515 - val_accuracy: 0.6851\n",
            "Epoch 2/100\n",
            "165/165 [==============================] - 2s 14ms/step - loss: 1.2082 - accuracy: 0.7141 - val_loss: 1.1139 - val_accuracy: 0.7398\n",
            "Epoch 3/100\n",
            "165/165 [==============================] - 3s 16ms/step - loss: 0.9553 - accuracy: 0.7616 - val_loss: 0.9576 - val_accuracy: 0.7772\n",
            "Epoch 4/100\n",
            "165/165 [==============================] - 2s 14ms/step - loss: 0.8260 - accuracy: 0.7939 - val_loss: 0.9222 - val_accuracy: 0.7606\n",
            "Epoch 5/100\n",
            "165/165 [==============================] - 3s 15ms/step - loss: 0.7411 - accuracy: 0.8123 - val_loss: 0.7991 - val_accuracy: 0.8134\n",
            "Epoch 6/100\n",
            "165/165 [==============================] - 3s 15ms/step - loss: 0.6810 - accuracy: 0.8262 - val_loss: 0.7769 - val_accuracy: 0.8151\n",
            "Epoch 7/100\n",
            "165/165 [==============================] - 2s 13ms/step - loss: 0.6364 - accuracy: 0.8366 - val_loss: 0.7286 - val_accuracy: 0.8274\n",
            "Epoch 8/100\n",
            "165/165 [==============================] - 3s 20ms/step - loss: 0.5990 - accuracy: 0.8451 - val_loss: 0.6926 - val_accuracy: 0.8347\n",
            "Epoch 9/100\n",
            "165/165 [==============================] - 3s 17ms/step - loss: 0.5673 - accuracy: 0.8533 - val_loss: 0.6681 - val_accuracy: 0.8438\n",
            "Epoch 10/100\n",
            "165/165 [==============================] - 2s 14ms/step - loss: 0.5403 - accuracy: 0.8591 - val_loss: 0.6722 - val_accuracy: 0.8430\n",
            "Epoch 11/100\n",
            "165/165 [==============================] - 2s 13ms/step - loss: 0.5219 - accuracy: 0.8628 - val_loss: 0.6461 - val_accuracy: 0.8487\n",
            "Epoch 12/100\n",
            "165/165 [==============================] - 2s 13ms/step - loss: 0.4989 - accuracy: 0.8684 - val_loss: 0.6671 - val_accuracy: 0.8433\n",
            "Epoch 13/100\n",
            "165/165 [==============================] - 2s 15ms/step - loss: 0.4841 - accuracy: 0.8720 - val_loss: 0.6142 - val_accuracy: 0.8565\n",
            "Epoch 14/100\n",
            "165/165 [==============================] - 2s 14ms/step - loss: 0.4692 - accuracy: 0.8740 - val_loss: 0.5892 - val_accuracy: 0.8632\n",
            "Epoch 15/100\n",
            "165/165 [==============================] - 2s 14ms/step - loss: 0.4522 - accuracy: 0.8785 - val_loss: 0.5889 - val_accuracy: 0.8623\n",
            "Epoch 16/100\n",
            "165/165 [==============================] - 2s 12ms/step - loss: 0.4413 - accuracy: 0.8810 - val_loss: 0.5650 - val_accuracy: 0.8698\n",
            "Epoch 17/100\n",
            "165/165 [==============================] - 2s 13ms/step - loss: 0.4272 - accuracy: 0.8861 - val_loss: 0.5529 - val_accuracy: 0.8698\n",
            "Epoch 18/100\n",
            "165/165 [==============================] - 2s 13ms/step - loss: 0.4161 - accuracy: 0.8876 - val_loss: 0.5492 - val_accuracy: 0.8760\n",
            "Epoch 19/100\n",
            "165/165 [==============================] - 2s 14ms/step - loss: 0.4053 - accuracy: 0.8909 - val_loss: 0.5368 - val_accuracy: 0.8764\n",
            "Epoch 20/100\n",
            "165/165 [==============================] - 3s 16ms/step - loss: 0.3967 - accuracy: 0.8935 - val_loss: 0.5362 - val_accuracy: 0.8779\n",
            "Epoch 21/100\n",
            "165/165 [==============================] - 2s 14ms/step - loss: 0.3877 - accuracy: 0.8948 - val_loss: 0.5239 - val_accuracy: 0.8803\n",
            "Epoch 22/100\n",
            "165/165 [==============================] - 2s 14ms/step - loss: 0.3789 - accuracy: 0.8970 - val_loss: 0.5188 - val_accuracy: 0.8809\n",
            "Epoch 23/100\n",
            "165/165 [==============================] - 2s 13ms/step - loss: 0.3713 - accuracy: 0.9000 - val_loss: 0.5131 - val_accuracy: 0.8832\n",
            "Epoch 24/100\n",
            "165/165 [==============================] - 2s 14ms/step - loss: 0.3649 - accuracy: 0.9010 - val_loss: 0.5093 - val_accuracy: 0.8850\n",
            "Epoch 25/100\n",
            "165/165 [==============================] - 2s 13ms/step - loss: 0.3574 - accuracy: 0.9035 - val_loss: 0.5007 - val_accuracy: 0.8865\n",
            "Epoch 26/100\n",
            "165/165 [==============================] - 2s 14ms/step - loss: 0.3520 - accuracy: 0.9038 - val_loss: 0.4974 - val_accuracy: 0.8878\n",
            "Epoch 27/100\n",
            "165/165 [==============================] - 2s 12ms/step - loss: 0.3464 - accuracy: 0.9051 - val_loss: 0.5012 - val_accuracy: 0.8871\n",
            "Epoch 28/100\n",
            "165/165 [==============================] - 2s 13ms/step - loss: 0.3423 - accuracy: 0.9065 - val_loss: 0.4913 - val_accuracy: 0.8894\n",
            "Epoch 29/100\n",
            "165/165 [==============================] - 2s 11ms/step - loss: 0.3368 - accuracy: 0.9080 - val_loss: 0.4852 - val_accuracy: 0.8879\n",
            "Epoch 30/100\n",
            "165/165 [==============================] - 2s 14ms/step - loss: 0.3324 - accuracy: 0.9081 - val_loss: 0.4924 - val_accuracy: 0.8894\n",
            "Epoch 31/100\n",
            "165/165 [==============================] - 2s 13ms/step - loss: 0.3292 - accuracy: 0.9085 - val_loss: 0.4795 - val_accuracy: 0.8904\n",
            "Epoch 32/100\n",
            "165/165 [==============================] - 2s 13ms/step - loss: 0.3242 - accuracy: 0.9105 - val_loss: 0.4850 - val_accuracy: 0.8927\n",
            "Epoch 33/100\n",
            "165/165 [==============================] - 2s 15ms/step - loss: 0.3215 - accuracy: 0.9110 - val_loss: 0.4762 - val_accuracy: 0.8927\n",
            "Epoch 34/100\n",
            "165/165 [==============================] - 2s 14ms/step - loss: 0.3166 - accuracy: 0.9128 - val_loss: 0.4789 - val_accuracy: 0.8917\n",
            "Epoch 35/100\n",
            "165/165 [==============================] - 2s 14ms/step - loss: 0.3142 - accuracy: 0.9121 - val_loss: 0.4698 - val_accuracy: 0.8948\n",
            "Epoch 36/100\n",
            "165/165 [==============================] - 2s 12ms/step - loss: 0.3098 - accuracy: 0.9137 - val_loss: 0.4683 - val_accuracy: 0.8956\n",
            "Epoch 37/100\n",
            "165/165 [==============================] - 3s 16ms/step - loss: 0.3059 - accuracy: 0.9145 - val_loss: 0.4699 - val_accuracy: 0.8947\n",
            "Epoch 38/100\n",
            "165/165 [==============================] - 3s 15ms/step - loss: 0.3029 - accuracy: 0.9150 - val_loss: 0.4643 - val_accuracy: 0.8960\n",
            "Epoch 39/100\n",
            "165/165 [==============================] - 2s 14ms/step - loss: 0.2999 - accuracy: 0.9160 - val_loss: 0.4600 - val_accuracy: 0.8961\n",
            "Epoch 40/100\n",
            "165/165 [==============================] - 2s 14ms/step - loss: 0.2967 - accuracy: 0.9167 - val_loss: 0.4636 - val_accuracy: 0.8958\n",
            "Epoch 41/100\n",
            "165/165 [==============================] - 2s 14ms/step - loss: 0.2958 - accuracy: 0.9176 - val_loss: 0.4564 - val_accuracy: 0.8972\n",
            "Epoch 42/100\n",
            "165/165 [==============================] - 2s 14ms/step - loss: 0.2904 - accuracy: 0.9187 - val_loss: 0.4557 - val_accuracy: 0.8979\n",
            "Epoch 43/100\n",
            "165/165 [==============================] - 2s 14ms/step - loss: 0.2877 - accuracy: 0.9193 - val_loss: 0.4545 - val_accuracy: 0.9001\n",
            "Epoch 44/100\n",
            "165/165 [==============================] - 2s 13ms/step - loss: 0.2853 - accuracy: 0.9199 - val_loss: 0.4566 - val_accuracy: 0.8979\n",
            "Epoch 45/100\n",
            "165/165 [==============================] - 2s 14ms/step - loss: 0.2829 - accuracy: 0.9204 - val_loss: 0.4501 - val_accuracy: 0.8996\n",
            "Epoch 46/100\n",
            "165/165 [==============================] - 2s 13ms/step - loss: 0.2798 - accuracy: 0.9209 - val_loss: 0.4649 - val_accuracy: 0.8987\n",
            "Epoch 47/100\n",
            "165/165 [==============================] - 2s 13ms/step - loss: 0.2776 - accuracy: 0.9223 - val_loss: 0.4494 - val_accuracy: 0.9004\n",
            "Epoch 48/100\n",
            "165/165 [==============================] - 2s 14ms/step - loss: 0.2758 - accuracy: 0.9223 - val_loss: 0.4507 - val_accuracy: 0.9004\n",
            "Epoch 49/100\n",
            "165/165 [==============================] - 2s 14ms/step - loss: 0.2731 - accuracy: 0.9235 - val_loss: 0.4466 - val_accuracy: 0.9012\n",
            "Epoch 50/100\n",
            "165/165 [==============================] - 2s 14ms/step - loss: 0.2714 - accuracy: 0.9230 - val_loss: 0.4487 - val_accuracy: 0.9026\n",
            "Epoch 51/100\n",
            "165/165 [==============================] - 2s 14ms/step - loss: 0.2690 - accuracy: 0.9245 - val_loss: 0.4493 - val_accuracy: 0.9011\n",
            "Epoch 52/100\n",
            "165/165 [==============================] - 2s 13ms/step - loss: 0.2692 - accuracy: 0.9243 - val_loss: 0.4434 - val_accuracy: 0.9021\n",
            "Epoch 53/100\n",
            "165/165 [==============================] - 3s 18ms/step - loss: 0.2655 - accuracy: 0.9248 - val_loss: 0.4439 - val_accuracy: 0.9028\n",
            "Epoch 54/100\n",
            "165/165 [==============================] - 2s 13ms/step - loss: 0.2633 - accuracy: 0.9254 - val_loss: 0.4400 - val_accuracy: 0.9028\n",
            "Epoch 55/100\n",
            "165/165 [==============================] - 2s 13ms/step - loss: 0.2614 - accuracy: 0.9261 - val_loss: 0.4462 - val_accuracy: 0.9027\n",
            "Epoch 56/100\n",
            "165/165 [==============================] - 2s 12ms/step - loss: 0.2599 - accuracy: 0.9271 - val_loss: 0.4669 - val_accuracy: 0.9003\n",
            "Epoch 57/100\n",
            "165/165 [==============================] - 2s 13ms/step - loss: 0.2585 - accuracy: 0.9270 - val_loss: 0.4417 - val_accuracy: 0.9029\n",
            "Epoch 58/100\n",
            "165/165 [==============================] - 2s 13ms/step - loss: 0.2556 - accuracy: 0.9278 - val_loss: 0.4392 - val_accuracy: 0.9041\n",
            "Epoch 59/100\n",
            "165/165 [==============================] - 3s 19ms/step - loss: 0.2543 - accuracy: 0.9283 - val_loss: 0.4440 - val_accuracy: 0.9041\n",
            "Epoch 60/100\n",
            "165/165 [==============================] - 2s 13ms/step - loss: 0.2536 - accuracy: 0.9281 - val_loss: 0.4366 - val_accuracy: 0.9057\n",
            "Epoch 61/100\n",
            "165/165 [==============================] - 3s 16ms/step - loss: 0.2512 - accuracy: 0.9294 - val_loss: 0.4413 - val_accuracy: 0.9052\n",
            "Epoch 62/100\n",
            "165/165 [==============================] - 2s 15ms/step - loss: 0.2500 - accuracy: 0.9293 - val_loss: 0.4355 - val_accuracy: 0.9057\n",
            "Epoch 63/100\n",
            "165/165 [==============================] - 2s 14ms/step - loss: 0.2477 - accuracy: 0.9301 - val_loss: 0.4385 - val_accuracy: 0.9072\n",
            "Epoch 64/100\n",
            "165/165 [==============================] - 2s 14ms/step - loss: 0.2472 - accuracy: 0.9301 - val_loss: 0.4383 - val_accuracy: 0.9066\n",
            "Epoch 65/100\n",
            "165/165 [==============================] - 2s 14ms/step - loss: 0.2456 - accuracy: 0.9302 - val_loss: 0.4461 - val_accuracy: 0.9051\n",
            "Epoch 66/100\n",
            "165/165 [==============================] - 2s 11ms/step - loss: 0.2452 - accuracy: 0.9310 - val_loss: 0.4338 - val_accuracy: 0.9069\n",
            "Epoch 67/100\n",
            "165/165 [==============================] - 1s 9ms/step - loss: 0.2426 - accuracy: 0.9308 - val_loss: 0.4344 - val_accuracy: 0.9059\n",
            "Epoch 68/100\n",
            "165/165 [==============================] - 1s 8ms/step - loss: 0.2415 - accuracy: 0.9314 - val_loss: 0.4331 - val_accuracy: 0.9066\n",
            "Epoch 69/100\n",
            "165/165 [==============================] - 1s 9ms/step - loss: 0.2400 - accuracy: 0.9324 - val_loss: 0.4329 - val_accuracy: 0.9071\n",
            "Epoch 70/100\n",
            "165/165 [==============================] - 1s 7ms/step - loss: 0.2391 - accuracy: 0.9323 - val_loss: 0.4323 - val_accuracy: 0.9066\n",
            "Epoch 71/100\n",
            "165/165 [==============================] - 1s 7ms/step - loss: 0.2374 - accuracy: 0.9328 - val_loss: 0.4374 - val_accuracy: 0.9076\n",
            "Epoch 72/100\n",
            "165/165 [==============================] - 2s 10ms/step - loss: 0.2366 - accuracy: 0.9330 - val_loss: 0.4328 - val_accuracy: 0.9077\n",
            "Epoch 73/100\n",
            "165/165 [==============================] - 2s 14ms/step - loss: 0.2351 - accuracy: 0.9333 - val_loss: 0.4303 - val_accuracy: 0.9079\n",
            "Epoch 74/100\n",
            "165/165 [==============================] - 2s 12ms/step - loss: 0.2344 - accuracy: 0.9334 - val_loss: 0.4309 - val_accuracy: 0.9073\n",
            "Epoch 75/100\n",
            "165/165 [==============================] - 2s 13ms/step - loss: 0.2329 - accuracy: 0.9343 - val_loss: 0.4356 - val_accuracy: 0.9081\n",
            "Epoch 76/100\n",
            "165/165 [==============================] - 2s 11ms/step - loss: 0.2320 - accuracy: 0.9338 - val_loss: 0.4308 - val_accuracy: 0.9082\n",
            "Epoch 77/100\n",
            "165/165 [==============================] - 2s 14ms/step - loss: 0.2307 - accuracy: 0.9341 - val_loss: 0.4383 - val_accuracy: 0.9057\n",
            "Epoch 78/100\n",
            "165/165 [==============================] - 2s 13ms/step - loss: 0.2311 - accuracy: 0.9343 - val_loss: 0.4302 - val_accuracy: 0.9079\n",
            "Epoch 79/100\n",
            "165/165 [==============================] - 2s 13ms/step - loss: 0.2291 - accuracy: 0.9347 - val_loss: 0.4268 - val_accuracy: 0.9082\n",
            "Epoch 80/100\n",
            "165/165 [==============================] - 2s 14ms/step - loss: 0.2276 - accuracy: 0.9345 - val_loss: 0.4312 - val_accuracy: 0.9073\n",
            "Epoch 81/100\n",
            "165/165 [==============================] - 2s 11ms/step - loss: 0.2269 - accuracy: 0.9353 - val_loss: 0.4280 - val_accuracy: 0.9081\n",
            "Epoch 82/100\n",
            "165/165 [==============================] - 1s 9ms/step - loss: 0.2255 - accuracy: 0.9349 - val_loss: 0.4346 - val_accuracy: 0.9084\n",
            "Epoch 83/100\n",
            "165/165 [==============================] - 1s 8ms/step - loss: 0.2248 - accuracy: 0.9354 - val_loss: 0.4288 - val_accuracy: 0.9089\n",
            "Epoch 84/100\n",
            "165/165 [==============================] - 1s 9ms/step - loss: 0.2237 - accuracy: 0.9358 - val_loss: 0.4316 - val_accuracy: 0.9080\n",
            "Epoch 85/100\n",
            "165/165 [==============================] - 1s 9ms/step - loss: 0.2226 - accuracy: 0.9360 - val_loss: 0.4446 - val_accuracy: 0.9038\n",
            "Epoch 86/100\n",
            "165/165 [==============================] - 1s 9ms/step - loss: 0.2223 - accuracy: 0.9356 - val_loss: 0.4272 - val_accuracy: 0.9095\n",
            "Epoch 87/100\n",
            "165/165 [==============================] - 1s 8ms/step - loss: 0.2208 - accuracy: 0.9366 - val_loss: 0.4303 - val_accuracy: 0.9099\n",
            "Epoch 88/100\n",
            "165/165 [==============================] - 1s 8ms/step - loss: 0.2197 - accuracy: 0.9366 - val_loss: 0.4295 - val_accuracy: 0.9095\n",
            "Epoch 89/100\n",
            "165/165 [==============================] - 1s 9ms/step - loss: 0.2191 - accuracy: 0.9368 - val_loss: 0.4278 - val_accuracy: 0.9091\n",
            "Epoch 90/100\n",
            "165/165 [==============================] - 1s 8ms/step - loss: 0.2185 - accuracy: 0.9370 - val_loss: 0.4267 - val_accuracy: 0.9094\n",
            "Epoch 91/100\n",
            "165/165 [==============================] - 1s 9ms/step - loss: 0.2169 - accuracy: 0.9374 - val_loss: 0.4265 - val_accuracy: 0.9102\n",
            "Epoch 92/100\n",
            "165/165 [==============================] - 1s 7ms/step - loss: 0.2162 - accuracy: 0.9379 - val_loss: 0.4278 - val_accuracy: 0.9086\n",
            "Epoch 93/100\n",
            "165/165 [==============================] - 1s 8ms/step - loss: 0.2160 - accuracy: 0.9371 - val_loss: 0.4300 - val_accuracy: 0.9104\n",
            "Epoch 94/100\n",
            "165/165 [==============================] - 1s 8ms/step - loss: 0.2151 - accuracy: 0.9380 - val_loss: 0.4267 - val_accuracy: 0.9105\n",
            "Epoch 95/100\n",
            "165/165 [==============================] - 1s 8ms/step - loss: 0.2141 - accuracy: 0.9378 - val_loss: 0.4306 - val_accuracy: 0.9092\n",
            "Epoch 96/100\n",
            "165/165 [==============================] - 1s 8ms/step - loss: 0.2135 - accuracy: 0.9383 - val_loss: 0.4333 - val_accuracy: 0.9069\n",
            "Epoch 97/100\n",
            "165/165 [==============================] - 1s 9ms/step - loss: 0.2133 - accuracy: 0.9380 - val_loss: 0.4297 - val_accuracy: 0.9102\n",
            "Epoch 98/100\n",
            "165/165 [==============================] - 1s 8ms/step - loss: 0.2120 - accuracy: 0.9384 - val_loss: 0.4284 - val_accuracy: 0.9103\n",
            "Epoch 99/100\n",
            "165/165 [==============================] - 2s 10ms/step - loss: 0.2110 - accuracy: 0.9388 - val_loss: 0.4318 - val_accuracy: 0.9103\n",
            "Epoch 100/100\n",
            "165/165 [==============================] - 1s 8ms/step - loss: 0.2105 - accuracy: 0.9391 - val_loss: 0.4291 - val_accuracy: 0.9097\n"
          ]
        }
      ],
      "source": [
        "def cal():\n",
        "    model=Sequential()\n",
        "    model.add(Dense(50, input_shape = (784,),kernel_initializer='he_normal'))    \n",
        "    model.add(Activation('relu'))\n",
        "    model.add(Dense(50,kernel_initializer='he_normal'))                     \n",
        "    model.add(Activation('relu'))\n",
        "    model.add(Dense(50,kernel_initializer='he_normal'))                         \n",
        "    model.add(Activation('relu'))\n",
        "    model.add(Dense(10,kernel_initializer='he_normal'))                       \n",
        "    model.add(Activation('softmax'))\n",
        "    sgd = optimizers.Adagrad(learning_rate = 0.01)    # stochastic gradient descent optimizer\n",
        "    model.compile(optimizer = sgd, loss = 'categorical_crossentropy', metrics = ['accuracy'])\n",
        "    return model\n",
        "model=cal()\n",
        "history=model.fit(X_train, y_train, batch_size = 256,validation_split=0.3, epochs = 100, verbose = 1)"
      ]
    },
    {
      "cell_type": "code",
      "execution_count": null,
      "metadata": {
        "colab": {
          "base_uri": "https://localhost:8080/",
          "height": 265
        },
        "id": "WViJBpeWlQqt",
        "outputId": "1fb0030e-4baa-4278-babb-8d89abba4d0f"
      },
      "outputs": [
        {
          "data": {
            "image/png": "[encoded data removed]",
            "text/plain": [
              "<Figure size 432x288 with 1 Axes>"
            ]
          },
          "metadata": {},
          "output_type": "display_data"
        }
      ],
      "source": [
        "plt.plot(history.history['accuracy'])\n",
        "plt.plot(history.history['val_accuracy'])\n",
        "plt.plot(history.history['loss'])\n",
        "plt.plot(history.history['val_loss'])\n",
        "plt.legend(['train_acc','valid_acc','train_loss','valid_loss'],loc='upper left')\n",
        "plt.show()"
      ]
    },
    {
      "cell_type": "code",
      "execution_count": null,
      "metadata": {
        "colab": {
          "base_uri": "https://localhost:8080/"
        },
        "id": "CP_kVOIXlQqu",
        "outputId": "d27ff1c4-731b-4144-aa8c-b75bb99fc3f3"
      },
      "outputs": [
        {
          "name": "stdout",
          "output_type": "stream",
          "text": [
            "313/313 [==============================] - 1s 2ms/step - loss: 0.4213 - accuracy: 0.9081\n",
            "Accuracy = 90.81000089645386%\n"
          ]
        }
      ],
      "source": [
        "results=model.evaluate(X_test,y_test)\n",
        "print(\"Accuracy = {}%\".format(results[1]*100))"
      ]
    },
    {
      "cell_type": "markdown",
      "metadata": {
        "id": "ia1lSUxegf9j"
      },
      "source": [
        "#ADDING BATCH NORMALIZATION"
      ]
    },
    {
      "cell_type": "code",
      "execution_count": null,
      "metadata": {
        "colab": {
          "base_uri": "https://localhost:8080/"
        },
        "id": "Svw1tcnTl_TB",
        "outputId": "e9a3d282-d207-42e6-9963-15130f813e42"
      },
      "outputs": [
        {
          "name": "stdout",
          "output_type": "stream",
          "text": [
            "Epoch 1/100\n",
            "165/165 [==============================] - 3s 12ms/step - loss: 0.9563 - accuracy: 0.7787 - val_loss: 0.7987 - val_accuracy: 0.8821\n",
            "Epoch 2/100\n",
            "165/165 [==============================] - 2s 10ms/step - loss: 0.5383 - accuracy: 0.9028 - val_loss: 0.5154 - val_accuracy: 0.9137\n",
            "Epoch 3/100\n",
            "165/165 [==============================] - 2s 10ms/step - loss: 0.4322 - accuracy: 0.9233 - val_loss: 0.3903 - val_accuracy: 0.9285\n",
            "Epoch 4/100\n",
            "165/165 [==============================] - 2s 10ms/step - loss: 0.3743 - accuracy: 0.9340 - val_loss: 0.3446 - val_accuracy: 0.9363\n",
            "Epoch 5/100\n",
            "165/165 [==============================] - 2s 11ms/step - loss: 0.3348 - accuracy: 0.9411 - val_loss: 0.3217 - val_accuracy: 0.9378\n",
            "Epoch 6/100\n",
            "165/165 [==============================] - 2s 11ms/step - loss: 0.3055 - accuracy: 0.9460 - val_loss: 0.2957 - val_accuracy: 0.9437\n",
            "Epoch 7/100\n",
            "165/165 [==============================] - 2s 10ms/step - loss: 0.2826 - accuracy: 0.9485 - val_loss: 0.2753 - val_accuracy: 0.9466\n",
            "Epoch 8/100\n",
            "165/165 [==============================] - 2s 10ms/step - loss: 0.2659 - accuracy: 0.9528 - val_loss: 0.2683 - val_accuracy: 0.9465\n",
            "Epoch 9/100\n",
            "165/165 [==============================] - 2s 14ms/step - loss: 0.2495 - accuracy: 0.9550 - val_loss: 0.2535 - val_accuracy: 0.9491\n",
            "Epoch 10/100\n",
            "165/165 [==============================] - 2s 11ms/step - loss: 0.2344 - accuracy: 0.9582 - val_loss: 0.2373 - val_accuracy: 0.9521\n",
            "Epoch 11/100\n",
            "165/165 [==============================] - 1s 9ms/step - loss: 0.2233 - accuracy: 0.9604 - val_loss: 0.2280 - val_accuracy: 0.9541\n",
            "Epoch 12/100\n",
            "165/165 [==============================] - 2s 10ms/step - loss: 0.2131 - accuracy: 0.9614 - val_loss: 0.2200 - val_accuracy: 0.9544\n",
            "Epoch 13/100\n",
            "165/165 [==============================] - 2s 10ms/step - loss: 0.2029 - accuracy: 0.9636 - val_loss: 0.2131 - val_accuracy: 0.9564\n",
            "Epoch 14/100\n",
            "165/165 [==============================] - 2s 10ms/step - loss: 0.1962 - accuracy: 0.9648 - val_loss: 0.2074 - val_accuracy: 0.9570\n",
            "Epoch 15/100\n",
            "165/165 [==============================] - 2s 10ms/step - loss: 0.1869 - accuracy: 0.9666 - val_loss: 0.2019 - val_accuracy: 0.9576\n",
            "Epoch 16/100\n",
            "165/165 [==============================] - 2s 10ms/step - loss: 0.1803 - accuracy: 0.9678 - val_loss: 0.1959 - val_accuracy: 0.9581\n",
            "Epoch 17/100\n",
            "165/165 [==============================] - 2s 10ms/step - loss: 0.1745 - accuracy: 0.9688 - val_loss: 0.1925 - val_accuracy: 0.9590\n",
            "Epoch 18/100\n",
            "165/165 [==============================] - 2s 10ms/step - loss: 0.1673 - accuracy: 0.9696 - val_loss: 0.1877 - val_accuracy: 0.9601\n",
            "Epoch 19/100\n",
            "165/165 [==============================] - 2s 9ms/step - loss: 0.1623 - accuracy: 0.9706 - val_loss: 0.1822 - val_accuracy: 0.9604\n",
            "Epoch 20/100\n",
            "165/165 [==============================] - 2s 10ms/step - loss: 0.1580 - accuracy: 0.9711 - val_loss: 0.1803 - val_accuracy: 0.9597\n",
            "Epoch 21/100\n",
            "165/165 [==============================] - 2s 10ms/step - loss: 0.1525 - accuracy: 0.9731 - val_loss: 0.1739 - val_accuracy: 0.9611\n",
            "Epoch 22/100\n",
            "165/165 [==============================] - 2s 10ms/step - loss: 0.1481 - accuracy: 0.9733 - val_loss: 0.1703 - val_accuracy: 0.9619\n",
            "Epoch 23/100\n",
            "165/165 [==============================] - 2s 10ms/step - loss: 0.1435 - accuracy: 0.9750 - val_loss: 0.1683 - val_accuracy: 0.9628\n",
            "Epoch 24/100\n",
            "165/165 [==============================] - 3s 16ms/step - loss: 0.1391 - accuracy: 0.9757 - val_loss: 0.1698 - val_accuracy: 0.9621\n",
            "Epoch 25/100\n",
            "165/165 [==============================] - 3s 17ms/step - loss: 0.1362 - accuracy: 0.9763 - val_loss: 0.1659 - val_accuracy: 0.9621\n",
            "Epoch 26/100\n",
            "165/165 [==============================] - 3s 17ms/step - loss: 0.1332 - accuracy: 0.9768 - val_loss: 0.1612 - val_accuracy: 0.9631\n",
            "Epoch 27/100\n",
            "165/165 [==============================] - 3s 17ms/step - loss: 0.1282 - accuracy: 0.9773 - val_loss: 0.1585 - val_accuracy: 0.9641\n",
            "Epoch 28/100\n",
            "165/165 [==============================] - 3s 16ms/step - loss: 0.1268 - accuracy: 0.9780 - val_loss: 0.1658 - val_accuracy: 0.9604\n",
            "Epoch 29/100\n",
            "165/165 [==============================] - 3s 18ms/step - loss: 0.1234 - accuracy: 0.9786 - val_loss: 0.1569 - val_accuracy: 0.9633\n",
            "Epoch 30/100\n",
            "165/165 [==============================] - 3s 16ms/step - loss: 0.1195 - accuracy: 0.9793 - val_loss: 0.1527 - val_accuracy: 0.9648\n",
            "Epoch 31/100\n",
            "165/165 [==============================] - 3s 17ms/step - loss: 0.1160 - accuracy: 0.9800 - val_loss: 0.1535 - val_accuracy: 0.9639\n",
            "Epoch 32/100\n",
            "165/165 [==============================] - 3s 16ms/step - loss: 0.1152 - accuracy: 0.9802 - val_loss: 0.1513 - val_accuracy: 0.9638\n",
            "Epoch 33/100\n",
            "165/165 [==============================] - 3s 15ms/step - loss: 0.1131 - accuracy: 0.9809 - val_loss: 0.1522 - val_accuracy: 0.9646\n",
            "Epoch 34/100\n",
            "165/165 [==============================] - 4s 23ms/step - loss: 0.1102 - accuracy: 0.9814 - val_loss: 0.1465 - val_accuracy: 0.9650\n",
            "Epoch 35/100\n",
            "165/165 [==============================] - 3s 17ms/step - loss: 0.1070 - accuracy: 0.9814 - val_loss: 0.1439 - val_accuracy: 0.9657\n",
            "Epoch 36/100\n",
            "165/165 [==============================] - 3s 18ms/step - loss: 0.1063 - accuracy: 0.9815 - val_loss: 0.1438 - val_accuracy: 0.9656\n",
            "Epoch 37/100\n",
            "165/165 [==============================] - 2s 14ms/step - loss: 0.1031 - accuracy: 0.9823 - val_loss: 0.1403 - val_accuracy: 0.9662\n",
            "Epoch 38/100\n",
            "165/165 [==============================] - 2s 11ms/step - loss: 0.1004 - accuracy: 0.9831 - val_loss: 0.1423 - val_accuracy: 0.9662\n",
            "Epoch 39/100\n",
            "165/165 [==============================] - 2s 10ms/step - loss: 0.0989 - accuracy: 0.9830 - val_loss: 0.1395 - val_accuracy: 0.9662\n",
            "Epoch 40/100\n",
            "165/165 [==============================] - 2s 10ms/step - loss: 0.0974 - accuracy: 0.9831 - val_loss: 0.1374 - val_accuracy: 0.9658\n",
            "Epoch 41/100\n",
            "165/165 [==============================] - 2s 10ms/step - loss: 0.0959 - accuracy: 0.9840 - val_loss: 0.1370 - val_accuracy: 0.9658\n",
            "Epoch 42/100\n",
            "165/165 [==============================] - 2s 10ms/step - loss: 0.0956 - accuracy: 0.9836 - val_loss: 0.1384 - val_accuracy: 0.9663\n",
            "Epoch 43/100\n",
            "165/165 [==============================] - 2s 9ms/step - loss: 0.0917 - accuracy: 0.9845 - val_loss: 0.1403 - val_accuracy: 0.9637\n",
            "Epoch 44/100\n",
            "165/165 [==============================] - 2s 10ms/step - loss: 0.0904 - accuracy: 0.9851 - val_loss: 0.1358 - val_accuracy: 0.9663\n",
            "Epoch 45/100\n",
            "165/165 [==============================] - 2s 10ms/step - loss: 0.0892 - accuracy: 0.9846 - val_loss: 0.1330 - val_accuracy: 0.9668\n",
            "Epoch 46/100\n",
            "165/165 [==============================] - 2s 10ms/step - loss: 0.0874 - accuracy: 0.9854 - val_loss: 0.1311 - val_accuracy: 0.9667\n",
            "Epoch 47/100\n",
            "165/165 [==============================] - 2s 10ms/step - loss: 0.0866 - accuracy: 0.9854 - val_loss: 0.1299 - val_accuracy: 0.9672\n",
            "Epoch 48/100\n",
            "165/165 [==============================] - 2s 10ms/step - loss: 0.0855 - accuracy: 0.9860 - val_loss: 0.1484 - val_accuracy: 0.9630\n",
            "Epoch 49/100\n",
            "165/165 [==============================] - 2s 10ms/step - loss: 0.0853 - accuracy: 0.9860 - val_loss: 0.1306 - val_accuracy: 0.9674\n",
            "Epoch 50/100\n",
            "165/165 [==============================] - 2s 10ms/step - loss: 0.0823 - accuracy: 0.9869 - val_loss: 0.1564 - val_accuracy: 0.9592\n",
            "Epoch 51/100\n",
            "165/165 [==============================] - 2s 10ms/step - loss: 0.0823 - accuracy: 0.9860 - val_loss: 0.1277 - val_accuracy: 0.9671\n",
            "Epoch 52/100\n",
            "165/165 [==============================] - 2s 10ms/step - loss: 0.0806 - accuracy: 0.9870 - val_loss: 0.1296 - val_accuracy: 0.9658\n",
            "Epoch 53/100\n",
            "165/165 [==============================] - 2s 10ms/step - loss: 0.0793 - accuracy: 0.9871 - val_loss: 0.1259 - val_accuracy: 0.9676\n",
            "Epoch 54/100\n",
            "165/165 [==============================] - 2s 10ms/step - loss: 0.0768 - accuracy: 0.9880 - val_loss: 0.1275 - val_accuracy: 0.9670\n",
            "Epoch 55/100\n",
            "165/165 [==============================] - 2s 11ms/step - loss: 0.0772 - accuracy: 0.9880 - val_loss: 0.1318 - val_accuracy: 0.9661\n",
            "Epoch 56/100\n",
            "165/165 [==============================] - 2s 11ms/step - loss: 0.0752 - accuracy: 0.9876 - val_loss: 0.1272 - val_accuracy: 0.9679\n",
            "Epoch 57/100\n",
            "165/165 [==============================] - 2s 11ms/step - loss: 0.0735 - accuracy: 0.9881 - val_loss: 0.1249 - val_accuracy: 0.9678\n",
            "Epoch 58/100\n",
            "165/165 [==============================] - 3s 17ms/step - loss: 0.0727 - accuracy: 0.9882 - val_loss: 0.1235 - val_accuracy: 0.9676\n",
            "Epoch 59/100\n",
            "165/165 [==============================] - 2s 14ms/step - loss: 0.0715 - accuracy: 0.9885 - val_loss: 0.1432 - val_accuracy: 0.9626\n",
            "Epoch 60/100\n",
            "165/165 [==============================] - 3s 18ms/step - loss: 0.0728 - accuracy: 0.9879 - val_loss: 0.1240 - val_accuracy: 0.9681\n",
            "Epoch 61/100\n",
            "165/165 [==============================] - 3s 17ms/step - loss: 0.0697 - accuracy: 0.9893 - val_loss: 0.1228 - val_accuracy: 0.9679\n",
            "Epoch 62/100\n",
            "165/165 [==============================] - 3s 15ms/step - loss: 0.0690 - accuracy: 0.9892 - val_loss: 0.1228 - val_accuracy: 0.9679\n",
            "Epoch 63/100\n",
            "165/165 [==============================] - 3s 16ms/step - loss: 0.0678 - accuracy: 0.9896 - val_loss: 0.1230 - val_accuracy: 0.9678\n",
            "Epoch 64/100\n",
            "165/165 [==============================] - 2s 11ms/step - loss: 0.0673 - accuracy: 0.9894 - val_loss: 0.1232 - val_accuracy: 0.9669\n",
            "Epoch 65/100\n",
            "165/165 [==============================] - 2s 14ms/step - loss: 0.0661 - accuracy: 0.9903 - val_loss: 0.1247 - val_accuracy: 0.9667\n",
            "Epoch 66/100\n",
            "165/165 [==============================] - 3s 15ms/step - loss: 0.0654 - accuracy: 0.9903 - val_loss: 0.1204 - val_accuracy: 0.9685\n",
            "Epoch 67/100\n",
            "165/165 [==============================] - 2s 15ms/step - loss: 0.0637 - accuracy: 0.9902 - val_loss: 0.1216 - val_accuracy: 0.9681\n",
            "Epoch 68/100\n",
            "165/165 [==============================] - 2s 14ms/step - loss: 0.0630 - accuracy: 0.9906 - val_loss: 0.1284 - val_accuracy: 0.9651\n",
            "Epoch 69/100\n",
            "165/165 [==============================] - 3s 16ms/step - loss: 0.0640 - accuracy: 0.9905 - val_loss: 0.1293 - val_accuracy: 0.9661\n",
            "Epoch 70/100\n",
            "165/165 [==============================] - 2s 14ms/step - loss: 0.0628 - accuracy: 0.9906 - val_loss: 0.1223 - val_accuracy: 0.9673\n",
            "Epoch 71/100\n",
            "165/165 [==============================] - 2s 15ms/step - loss: 0.0621 - accuracy: 0.9910 - val_loss: 0.1189 - val_accuracy: 0.9678\n",
            "Epoch 72/100\n",
            "165/165 [==============================] - 3s 16ms/step - loss: 0.0603 - accuracy: 0.9916 - val_loss: 0.1224 - val_accuracy: 0.9667\n",
            "Epoch 73/100\n",
            "165/165 [==============================] - 2s 14ms/step - loss: 0.0600 - accuracy: 0.9908 - val_loss: 0.1209 - val_accuracy: 0.9669\n",
            "Epoch 74/100\n",
            "165/165 [==============================] - 3s 16ms/step - loss: 0.0594 - accuracy: 0.9913 - val_loss: 0.1190 - val_accuracy: 0.9676\n",
            "Epoch 75/100\n",
            "165/165 [==============================] - 2s 10ms/step - loss: 0.0580 - accuracy: 0.9909 - val_loss: 0.1198 - val_accuracy: 0.9671\n",
            "Epoch 76/100\n",
            "165/165 [==============================] - 2s 10ms/step - loss: 0.0571 - accuracy: 0.9920 - val_loss: 0.1189 - val_accuracy: 0.9677\n",
            "Epoch 77/100\n",
            "165/165 [==============================] - 2s 10ms/step - loss: 0.0575 - accuracy: 0.9919 - val_loss: 0.1201 - val_accuracy: 0.9671\n",
            "Epoch 78/100\n",
            "165/165 [==============================] - 2s 11ms/step - loss: 0.0565 - accuracy: 0.9917 - val_loss: 0.1205 - val_accuracy: 0.9676\n",
            "Epoch 79/100\n",
            "165/165 [==============================] - 2s 11ms/step - loss: 0.0561 - accuracy: 0.9921 - val_loss: 0.1171 - val_accuracy: 0.9678\n",
            "Epoch 80/100\n",
            "165/165 [==============================] - 2s 13ms/step - loss: 0.0544 - accuracy: 0.9922 - val_loss: 0.1188 - val_accuracy: 0.9671\n",
            "Epoch 81/100\n",
            "165/165 [==============================] - 2s 15ms/step - loss: 0.0544 - accuracy: 0.9925 - val_loss: 0.1178 - val_accuracy: 0.9677\n",
            "Epoch 82/100\n",
            "165/165 [==============================] - 3s 17ms/step - loss: 0.0526 - accuracy: 0.9929 - val_loss: 0.1168 - val_accuracy: 0.9677\n",
            "Epoch 83/100\n",
            "165/165 [==============================] - 3s 16ms/step - loss: 0.0540 - accuracy: 0.9924 - val_loss: 0.1165 - val_accuracy: 0.9683\n",
            "Epoch 84/100\n",
            "165/165 [==============================] - 3s 20ms/step - loss: 0.0520 - accuracy: 0.9930 - val_loss: 0.1165 - val_accuracy: 0.9681\n",
            "Epoch 85/100\n",
            "165/165 [==============================] - 3s 16ms/step - loss: 0.0521 - accuracy: 0.9929 - val_loss: 0.1260 - val_accuracy: 0.9667\n",
            "Epoch 86/100\n",
            "165/165 [==============================] - 3s 18ms/step - loss: 0.0540 - accuracy: 0.9920 - val_loss: 0.1167 - val_accuracy: 0.9681\n",
            "Epoch 87/100\n",
            "165/165 [==============================] - 3s 16ms/step - loss: 0.0508 - accuracy: 0.9938 - val_loss: 0.1214 - val_accuracy: 0.9670\n",
            "Epoch 88/100\n",
            "165/165 [==============================] - 2s 15ms/step - loss: 0.0506 - accuracy: 0.9936 - val_loss: 0.1144 - val_accuracy: 0.9684\n",
            "Epoch 89/100\n",
            "165/165 [==============================] - 3s 17ms/step - loss: 0.0504 - accuracy: 0.9930 - val_loss: 0.1170 - val_accuracy: 0.9676\n",
            "Epoch 90/100\n",
            "165/165 [==============================] - 3s 16ms/step - loss: 0.0500 - accuracy: 0.9935 - val_loss: 0.1201 - val_accuracy: 0.9669\n",
            "Epoch 91/100\n",
            "165/165 [==============================] - 3s 16ms/step - loss: 0.0489 - accuracy: 0.9935 - val_loss: 0.1247 - val_accuracy: 0.9653\n",
            "Epoch 92/100\n",
            "165/165 [==============================] - 3s 16ms/step - loss: 0.0499 - accuracy: 0.9934 - val_loss: 0.1290 - val_accuracy: 0.9645\n",
            "Epoch 93/100\n",
            "165/165 [==============================] - 2s 14ms/step - loss: 0.0487 - accuracy: 0.9938 - val_loss: 0.1195 - val_accuracy: 0.9676\n",
            "Epoch 94/100\n",
            "165/165 [==============================] - 2s 14ms/step - loss: 0.0488 - accuracy: 0.9933 - val_loss: 0.1196 - val_accuracy: 0.9668\n",
            "Epoch 95/100\n",
            "165/165 [==============================] - 3s 15ms/step - loss: 0.0482 - accuracy: 0.9934 - val_loss: 0.1142 - val_accuracy: 0.9682\n",
            "Epoch 96/100\n",
            "165/165 [==============================] - 3s 21ms/step - loss: 0.0471 - accuracy: 0.9941 - val_loss: 0.1141 - val_accuracy: 0.9676\n",
            "Epoch 97/100\n",
            "165/165 [==============================] - 3s 16ms/step - loss: 0.0468 - accuracy: 0.9939 - val_loss: 0.1169 - val_accuracy: 0.9674\n",
            "Epoch 98/100\n",
            "165/165 [==============================] - 2s 14ms/step - loss: 0.0459 - accuracy: 0.9939 - val_loss: 0.1116 - val_accuracy: 0.9685\n",
            "Epoch 99/100\n",
            "165/165 [==============================] - 4s 22ms/step - loss: 0.0448 - accuracy: 0.9944 - val_loss: 0.1127 - val_accuracy: 0.9685\n",
            "Epoch 100/100\n",
            "165/165 [==============================] - 3s 16ms/step - loss: 0.0446 - accuracy: 0.9947 - val_loss: 0.1146 - val_accuracy: 0.9675\n"
          ]
        }
      ],
      "source": [
        "def cal():\n",
        "    model=Sequential()\n",
        "    model.add(Dense(50, input_shape = (784,))) \n",
        "    model.add(BatchNormalization())   \n",
        "    model.add(Activation('relu'))\n",
        "\n",
        "    model.add(Dense(50)) \n",
        "    model.add(BatchNormalization())                       \n",
        "    model.add(Activation('relu'))\n",
        "\n",
        "    model.add(Dense(50))  \n",
        "    model.add(BatchNormalization())                          \n",
        "    model.add(Activation('relu'))\n",
        "    \n",
        "    model.add(Dense(10))  \n",
        "    model.add(BatchNormalization())                        \n",
        "    model.add(Activation('softmax'))\n",
        "    sgd = optimizers.Adagrad(learning_rate = 0.01)    # stochastic gradient descent optimizer\n",
        "    model.compile(optimizer = sgd, loss = 'categorical_crossentropy', metrics = ['accuracy'])\n",
        "    return model\n",
        "model=cal()\n",
        "history=model.fit(X_train, y_train, batch_size = 256,validation_split=0.3, epochs = 100, verbose = 1)"
      ]
    },
    {
      "cell_type": "code",
      "execution_count": null,
      "metadata": {
        "colab": {
          "base_uri": "https://localhost:8080/",
          "height": 265
        },
        "id": "x_MumBBPmDHq",
        "outputId": "52c38b4d-9443-486c-c76c-6b1c4e2b9eeb"
      },
      "outputs": [
        {
          "data": {
            "image/png": "[encoded data removed]",
            "text/plain": [
              "<Figure size 432x288 with 1 Axes>"
            ]
          },
          "metadata": {},
          "output_type": "display_data"
        }
      ],
      "source": [
        "plt.plot(history.history['accuracy'])\n",
        "plt.plot(history.history['val_accuracy'])\n",
        "plt.plot(history.history['loss'])\n",
        "plt.plot(history.history['val_loss'])\n",
        "plt.legend(['train_acc','valid_acc','train_loss','valid_loss'],loc='upper left')\n",
        "plt.show()"
      ]
    },
    {
      "cell_type": "code",
      "execution_count": null,
      "metadata": {
        "colab": {
          "base_uri": "https://localhost:8080/"
        },
        "id": "RvoFuL1XmEqG",
        "outputId": "b5b47bef-26ad-4ea1-f325-dd13c3aa6e4e"
      },
      "outputs": [
        {
          "name": "stdout",
          "output_type": "stream",
          "text": [
            "313/313 [==============================] - 1s 4ms/step - loss: 0.1058 - accuracy: 0.9738\n",
            "Accuracy = 97.3800003528595%\n"
          ]
        }
      ],
      "source": [
        "results=model.evaluate(X_test,y_test)\n",
        "print(\"Accuracy = {}%\".format(results[1]*100))"
      ]
    },
    {
      "cell_type": "markdown",
      "metadata": {
        "id": "GXZ-AEJknD5E"
      },
      "source": [
        "#ADD dropout"
      ]
    },
    {
      "cell_type": "code",
      "execution_count": null,
      "metadata": {
        "colab": {
          "base_uri": "https://localhost:8080/"
        },
        "id": "a9sEzdyMnJAp",
        "outputId": "f1218017-57aa-4707-e3a0-d6270da6c04a"
      },
      "outputs": [
        {
          "name": "stdout",
          "output_type": "stream",
          "text": [
            "Epoch 1/100\n",
            "165/165 [==============================] - 3s 15ms/step - loss: 3.9810 - accuracy: 0.2682 - val_loss: 1.6095 - val_accuracy: 0.4629\n",
            "Epoch 2/100\n",
            "165/165 [==============================] - 2s 14ms/step - loss: 1.6991 - accuracy: 0.4252 - val_loss: 1.3389 - val_accuracy: 0.5668\n",
            "Epoch 3/100\n",
            "165/165 [==============================] - 2s 15ms/step - loss: 1.5080 - accuracy: 0.4832 - val_loss: 1.2883 - val_accuracy: 0.5516\n",
            "Epoch 4/100\n",
            "165/165 [==============================] - 2s 12ms/step - loss: 1.4198 - accuracy: 0.5060 - val_loss: 1.1609 - val_accuracy: 0.6016\n",
            "Epoch 5/100\n",
            "165/165 [==============================] - 2s 11ms/step - loss: 1.3647 - accuracy: 0.5199 - val_loss: 1.1301 - val_accuracy: 0.6145\n",
            "Epoch 6/100\n",
            "165/165 [==============================] - 2s 14ms/step - loss: 1.3165 - accuracy: 0.5325 - val_loss: 1.1038 - val_accuracy: 0.6156\n",
            "Epoch 7/100\n",
            "165/165 [==============================] - 2s 14ms/step - loss: 1.2863 - accuracy: 0.5388 - val_loss: 1.0632 - val_accuracy: 0.6332\n",
            "Epoch 8/100\n",
            "165/165 [==============================] - 2s 14ms/step - loss: 1.2561 - accuracy: 0.5493 - val_loss: 1.0328 - val_accuracy: 0.6394\n",
            "Epoch 9/100\n",
            "165/165 [==============================] - 2s 12ms/step - loss: 1.2264 - accuracy: 0.5560 - val_loss: 1.0051 - val_accuracy: 0.6479\n",
            "Epoch 10/100\n",
            "165/165 [==============================] - 2s 9ms/step - loss: 1.1976 - accuracy: 0.5704 - val_loss: 0.9571 - val_accuracy: 0.6669\n",
            "Epoch 11/100\n",
            "165/165 [==============================] - 1s 9ms/step - loss: 1.1560 - accuracy: 0.5883 - val_loss: 1.0777 - val_accuracy: 0.6508\n",
            "Epoch 12/100\n",
            "165/165 [==============================] - 2s 9ms/step - loss: 1.1333 - accuracy: 0.6005 - val_loss: 0.8993 - val_accuracy: 0.6901\n",
            "Epoch 13/100\n",
            "165/165 [==============================] - 1s 9ms/step - loss: 1.0925 - accuracy: 0.6148 - val_loss: 0.8687 - val_accuracy: 0.7064\n",
            "Epoch 14/100\n",
            "165/165 [==============================] - 2s 9ms/step - loss: 1.0658 - accuracy: 0.6238 - val_loss: 0.8458 - val_accuracy: 0.7136\n",
            "Epoch 15/100\n",
            "165/165 [==============================] - 1s 9ms/step - loss: 1.0308 - accuracy: 0.6440 - val_loss: 0.7787 - val_accuracy: 0.7521\n",
            "Epoch 16/100\n",
            "165/165 [==============================] - 1s 9ms/step - loss: 0.9865 - accuracy: 0.6706 - val_loss: 0.7301 - val_accuracy: 0.7686\n",
            "Epoch 17/100\n",
            "165/165 [==============================] - 1s 9ms/step - loss: 0.9445 - accuracy: 0.6906 - val_loss: 0.6947 - val_accuracy: 0.7817\n",
            "Epoch 18/100\n",
            "165/165 [==============================] - 1s 9ms/step - loss: 0.9079 - accuracy: 0.7018 - val_loss: 0.6708 - val_accuracy: 0.7888\n",
            "Epoch 19/100\n",
            "165/165 [==============================] - 2s 9ms/step - loss: 0.8794 - accuracy: 0.7105 - val_loss: 0.6574 - val_accuracy: 0.7916\n",
            "Epoch 20/100\n",
            "165/165 [==============================] - 1s 7ms/step - loss: 0.8726 - accuracy: 0.7128 - val_loss: 0.6514 - val_accuracy: 0.7967\n",
            "Epoch 21/100\n",
            "165/165 [==============================] - 2s 9ms/step - loss: 0.8452 - accuracy: 0.7204 - val_loss: 0.6227 - val_accuracy: 0.8010\n",
            "Epoch 22/100\n",
            "165/165 [==============================] - 1s 8ms/step - loss: 0.8229 - accuracy: 0.7263 - val_loss: 0.6138 - val_accuracy: 0.8044\n",
            "Epoch 23/100\n",
            "165/165 [==============================] - 1s 9ms/step - loss: 0.8106 - accuracy: 0.7320 - val_loss: 0.6006 - val_accuracy: 0.8062\n",
            "Epoch 24/100\n",
            "165/165 [==============================] - 1s 9ms/step - loss: 0.7993 - accuracy: 0.7338 - val_loss: 0.5961 - val_accuracy: 0.8061\n",
            "Epoch 25/100\n",
            "165/165 [==============================] - 2s 9ms/step - loss: 0.7831 - accuracy: 0.7369 - val_loss: 0.5827 - val_accuracy: 0.8092\n",
            "Epoch 26/100\n",
            "165/165 [==============================] - 2s 9ms/step - loss: 0.7780 - accuracy: 0.7391 - val_loss: 0.5821 - val_accuracy: 0.8116\n",
            "Epoch 27/100\n",
            "165/165 [==============================] - 2s 9ms/step - loss: 0.7667 - accuracy: 0.7415 - val_loss: 0.5693 - val_accuracy: 0.8128\n",
            "Epoch 28/100\n",
            "165/165 [==============================] - 1s 9ms/step - loss: 0.7610 - accuracy: 0.7428 - val_loss: 0.5652 - val_accuracy: 0.8133\n",
            "Epoch 29/100\n",
            "165/165 [==============================] - 1s 9ms/step - loss: 0.7537 - accuracy: 0.7455 - val_loss: 0.5571 - val_accuracy: 0.8149\n",
            "Epoch 30/100\n",
            "165/165 [==============================] - 1s 9ms/step - loss: 0.7445 - accuracy: 0.7470 - val_loss: 0.5634 - val_accuracy: 0.8128\n",
            "Epoch 31/100\n",
            "165/165 [==============================] - 1s 9ms/step - loss: 0.7378 - accuracy: 0.7490 - val_loss: 0.5456 - val_accuracy: 0.8167\n",
            "Epoch 32/100\n",
            "165/165 [==============================] - 1s 9ms/step - loss: 0.7316 - accuracy: 0.7522 - val_loss: 0.5402 - val_accuracy: 0.8177\n",
            "Epoch 33/100\n",
            "165/165 [==============================] - 2s 9ms/step - loss: 0.7306 - accuracy: 0.7525 - val_loss: 0.5357 - val_accuracy: 0.8185\n",
            "Epoch 34/100\n",
            "165/165 [==============================] - 1s 8ms/step - loss: 0.7234 - accuracy: 0.7529 - val_loss: 0.5363 - val_accuracy: 0.8207\n",
            "Epoch 35/100\n",
            "165/165 [==============================] - 1s 8ms/step - loss: 0.7242 - accuracy: 0.7511 - val_loss: 0.5387 - val_accuracy: 0.8189\n",
            "Epoch 36/100\n",
            "165/165 [==============================] - 1s 8ms/step - loss: 0.7199 - accuracy: 0.7554 - val_loss: 0.5274 - val_accuracy: 0.8207\n",
            "Epoch 37/100\n",
            "165/165 [==============================] - 1s 9ms/step - loss: 0.7080 - accuracy: 0.7573 - val_loss: 0.5370 - val_accuracy: 0.8208\n",
            "Epoch 38/100\n",
            "165/165 [==============================] - 1s 9ms/step - loss: 0.7039 - accuracy: 0.7586 - val_loss: 0.5297 - val_accuracy: 0.8213\n",
            "Epoch 39/100\n",
            "165/165 [==============================] - 1s 7ms/step - loss: 0.6950 - accuracy: 0.7586 - val_loss: 0.5261 - val_accuracy: 0.8223\n",
            "Epoch 40/100\n",
            "165/165 [==============================] - 2s 9ms/step - loss: 0.6951 - accuracy: 0.7604 - val_loss: 0.5270 - val_accuracy: 0.8226\n",
            "Epoch 41/100\n",
            "165/165 [==============================] - 1s 9ms/step - loss: 0.6914 - accuracy: 0.7626 - val_loss: 0.5266 - val_accuracy: 0.8233\n",
            "Epoch 42/100\n",
            "165/165 [==============================] - 1s 9ms/step - loss: 0.6921 - accuracy: 0.7614 - val_loss: 0.5122 - val_accuracy: 0.8234\n",
            "Epoch 43/100\n",
            "165/165 [==============================] - 1s 8ms/step - loss: 0.6913 - accuracy: 0.7620 - val_loss: 0.5275 - val_accuracy: 0.8208\n",
            "Epoch 44/100\n",
            "165/165 [==============================] - 2s 11ms/step - loss: 0.6895 - accuracy: 0.7623 - val_loss: 0.5272 - val_accuracy: 0.8229\n",
            "Epoch 45/100\n",
            "165/165 [==============================] - 2s 14ms/step - loss: 0.6854 - accuracy: 0.7600 - val_loss: 0.5163 - val_accuracy: 0.8223\n",
            "Epoch 46/100\n",
            "165/165 [==============================] - 2s 11ms/step - loss: 0.6749 - accuracy: 0.7660 - val_loss: 0.5249 - val_accuracy: 0.8258\n",
            "Epoch 47/100\n",
            "165/165 [==============================] - 3s 16ms/step - loss: 0.6738 - accuracy: 0.7643 - val_loss: 0.5071 - val_accuracy: 0.8257\n",
            "Epoch 48/100\n",
            "165/165 [==============================] - 2s 12ms/step - loss: 0.6656 - accuracy: 0.7674 - val_loss: 0.5134 - val_accuracy: 0.8259\n",
            "Epoch 49/100\n",
            "165/165 [==============================] - 2s 12ms/step - loss: 0.6686 - accuracy: 0.7651 - val_loss: 0.5011 - val_accuracy: 0.8263\n",
            "Epoch 50/100\n",
            "165/165 [==============================] - 2s 14ms/step - loss: 0.6613 - accuracy: 0.7688 - val_loss: 0.5000 - val_accuracy: 0.8256\n",
            "Epoch 51/100\n",
            "165/165 [==============================] - 2s 14ms/step - loss: 0.6628 - accuracy: 0.7670 - val_loss: 0.5056 - val_accuracy: 0.8239\n",
            "Epoch 52/100\n",
            "165/165 [==============================] - 2s 12ms/step - loss: 0.6598 - accuracy: 0.7689 - val_loss: 0.5104 - val_accuracy: 0.8257\n",
            "Epoch 53/100\n",
            "165/165 [==============================] - 2s 11ms/step - loss: 0.6564 - accuracy: 0.7690 - val_loss: 0.4973 - val_accuracy: 0.8280\n",
            "Epoch 54/100\n",
            "165/165 [==============================] - 2s 12ms/step - loss: 0.6528 - accuracy: 0.7678 - val_loss: 0.4970 - val_accuracy: 0.8267\n",
            "Epoch 55/100\n",
            "165/165 [==============================] - 2s 11ms/step - loss: 0.6507 - accuracy: 0.7723 - val_loss: 0.5199 - val_accuracy: 0.8216\n",
            "Epoch 56/100\n",
            "165/165 [==============================] - 2s 12ms/step - loss: 0.6408 - accuracy: 0.7752 - val_loss: 0.4975 - val_accuracy: 0.8253\n",
            "Epoch 57/100\n",
            "165/165 [==============================] - 2s 15ms/step - loss: 0.6388 - accuracy: 0.7744 - val_loss: 0.5001 - val_accuracy: 0.8248\n",
            "Epoch 58/100\n",
            "165/165 [==============================] - 2s 15ms/step - loss: 0.6348 - accuracy: 0.7736 - val_loss: 0.5081 - val_accuracy: 0.8241\n",
            "Epoch 59/100\n",
            "165/165 [==============================] - 2s 11ms/step - loss: 0.6381 - accuracy: 0.7760 - val_loss: 0.5021 - val_accuracy: 0.8252\n",
            "Epoch 60/100\n",
            "165/165 [==============================] - 1s 9ms/step - loss: 0.6363 - accuracy: 0.7712 - val_loss: 0.4925 - val_accuracy: 0.8286\n",
            "Epoch 61/100\n",
            "165/165 [==============================] - 1s 9ms/step - loss: 0.6384 - accuracy: 0.7730 - val_loss: 0.4862 - val_accuracy: 0.8283\n",
            "Epoch 62/100\n",
            "165/165 [==============================] - 1s 9ms/step - loss: 0.6373 - accuracy: 0.7750 - val_loss: 0.4906 - val_accuracy: 0.8295\n",
            "Epoch 63/100\n",
            "165/165 [==============================] - 1s 8ms/step - loss: 0.6339 - accuracy: 0.7733 - val_loss: 0.4863 - val_accuracy: 0.8287\n",
            "Epoch 64/100\n",
            "165/165 [==============================] - 1s 9ms/step - loss: 0.6223 - accuracy: 0.7771 - val_loss: 0.4904 - val_accuracy: 0.8287\n",
            "Epoch 65/100\n",
            "165/165 [==============================] - 1s 9ms/step - loss: 0.6257 - accuracy: 0.7753 - val_loss: 0.4866 - val_accuracy: 0.8298\n",
            "Epoch 66/100\n",
            "165/165 [==============================] - 1s 7ms/step - loss: 0.6259 - accuracy: 0.7780 - val_loss: 0.4868 - val_accuracy: 0.8287\n",
            "Epoch 67/100\n",
            "165/165 [==============================] - 1s 9ms/step - loss: 0.6244 - accuracy: 0.7775 - val_loss: 0.4822 - val_accuracy: 0.8271\n",
            "Epoch 68/100\n",
            "165/165 [==============================] - 2s 9ms/step - loss: 0.6206 - accuracy: 0.7769 - val_loss: 0.4832 - val_accuracy: 0.8301\n",
            "Epoch 69/100\n",
            "165/165 [==============================] - 2s 14ms/step - loss: 0.6231 - accuracy: 0.7765 - val_loss: 0.5053 - val_accuracy: 0.8297\n",
            "Epoch 70/100\n",
            "165/165 [==============================] - 3s 16ms/step - loss: 0.6175 - accuracy: 0.7793 - val_loss: 0.4816 - val_accuracy: 0.8290\n",
            "Epoch 71/100\n",
            "165/165 [==============================] - 2s 15ms/step - loss: 0.6227 - accuracy: 0.7786 - val_loss: 0.4818 - val_accuracy: 0.8299\n",
            "Epoch 72/100\n",
            "165/165 [==============================] - 2s 14ms/step - loss: 0.6100 - accuracy: 0.7814 - val_loss: 0.4779 - val_accuracy: 0.8293\n",
            "Epoch 73/100\n",
            "165/165 [==============================] - 2s 15ms/step - loss: 0.6138 - accuracy: 0.7787 - val_loss: 0.4846 - val_accuracy: 0.8283\n",
            "Epoch 74/100\n",
            "165/165 [==============================] - 3s 15ms/step - loss: 0.6108 - accuracy: 0.7805 - val_loss: 0.4827 - val_accuracy: 0.8313\n",
            "Epoch 75/100\n",
            "165/165 [==============================] - 3s 18ms/step - loss: 0.6085 - accuracy: 0.7813 - val_loss: 0.4769 - val_accuracy: 0.8309\n",
            "Epoch 76/100\n",
            "165/165 [==============================] - 3s 16ms/step - loss: 0.6060 - accuracy: 0.7820 - val_loss: 0.4820 - val_accuracy: 0.8294\n",
            "Epoch 77/100\n",
            "165/165 [==============================] - 2s 13ms/step - loss: 0.6026 - accuracy: 0.7808 - val_loss: 0.4759 - val_accuracy: 0.8283\n",
            "Epoch 78/100\n",
            "165/165 [==============================] - 2s 13ms/step - loss: 0.6051 - accuracy: 0.7795 - val_loss: 0.4774 - val_accuracy: 0.8314\n",
            "Epoch 79/100\n",
            "165/165 [==============================] - 2s 13ms/step - loss: 0.6047 - accuracy: 0.7841 - val_loss: 0.4778 - val_accuracy: 0.8304\n",
            "Epoch 80/100\n",
            "165/165 [==============================] - 2s 15ms/step - loss: 0.5980 - accuracy: 0.7847 - val_loss: 0.4776 - val_accuracy: 0.8298\n",
            "Epoch 81/100\n",
            "165/165 [==============================] - 2s 15ms/step - loss: 0.5996 - accuracy: 0.7823 - val_loss: 0.4755 - val_accuracy: 0.8322\n",
            "Epoch 82/100\n",
            "165/165 [==============================] - 2s 14ms/step - loss: 0.5948 - accuracy: 0.7860 - val_loss: 0.4727 - val_accuracy: 0.8316\n",
            "Epoch 83/100\n",
            "165/165 [==============================] - 2s 13ms/step - loss: 0.5854 - accuracy: 0.7878 - val_loss: 0.4768 - val_accuracy: 0.8313\n",
            "Epoch 84/100\n",
            "165/165 [==============================] - 2s 13ms/step - loss: 0.5985 - accuracy: 0.7839 - val_loss: 0.4783 - val_accuracy: 0.8305\n",
            "Epoch 85/100\n",
            "165/165 [==============================] - 2s 14ms/step - loss: 0.5898 - accuracy: 0.7873 - val_loss: 0.4711 - val_accuracy: 0.8317\n",
            "Epoch 86/100\n",
            "165/165 [==============================] - 2s 13ms/step - loss: 0.5963 - accuracy: 0.7865 - val_loss: 0.4742 - val_accuracy: 0.8326\n",
            "Epoch 87/100\n",
            "165/165 [==============================] - 2s 14ms/step - loss: 0.5985 - accuracy: 0.7826 - val_loss: 0.4736 - val_accuracy: 0.8322\n",
            "Epoch 88/100\n",
            "165/165 [==============================] - 2s 13ms/step - loss: 0.5906 - accuracy: 0.7851 - val_loss: 0.4707 - val_accuracy: 0.8313\n",
            "Epoch 89/100\n",
            "165/165 [==============================] - 2s 15ms/step - loss: 0.5970 - accuracy: 0.7851 - val_loss: 0.4769 - val_accuracy: 0.8316\n",
            "Epoch 90/100\n",
            "165/165 [==============================] - 3s 16ms/step - loss: 0.6004 - accuracy: 0.7834 - val_loss: 0.4703 - val_accuracy: 0.8327\n",
            "Epoch 91/100\n",
            "165/165 [==============================] - 2s 15ms/step - loss: 0.5891 - accuracy: 0.7859 - val_loss: 0.4686 - val_accuracy: 0.8330\n",
            "Epoch 92/100\n",
            "165/165 [==============================] - 3s 19ms/step - loss: 0.5876 - accuracy: 0.7850 - val_loss: 0.4700 - val_accuracy: 0.8330\n",
            "Epoch 93/100\n",
            "165/165 [==============================] - 3s 15ms/step - loss: 0.5919 - accuracy: 0.7855 - val_loss: 0.4714 - val_accuracy: 0.8328\n",
            "Epoch 94/100\n",
            "165/165 [==============================] - 3s 15ms/step - loss: 0.5894 - accuracy: 0.7851 - val_loss: 0.4697 - val_accuracy: 0.8333\n",
            "Epoch 95/100\n",
            "165/165 [==============================] - 3s 16ms/step - loss: 0.5866 - accuracy: 0.7875 - val_loss: 0.4702 - val_accuracy: 0.8332\n",
            "Epoch 96/100\n",
            "165/165 [==============================] - 3s 16ms/step - loss: 0.5863 - accuracy: 0.7862 - val_loss: 0.4770 - val_accuracy: 0.8326\n",
            "Epoch 97/100\n",
            "165/165 [==============================] - 3s 16ms/step - loss: 0.5795 - accuracy: 0.7893 - val_loss: 0.4680 - val_accuracy: 0.8323\n",
            "Epoch 98/100\n",
            "165/165 [==============================] - 2s 13ms/step - loss: 0.5858 - accuracy: 0.7859 - val_loss: 0.4716 - val_accuracy: 0.8317\n",
            "Epoch 99/100\n",
            "165/165 [==============================] - 2s 14ms/step - loss: 0.5796 - accuracy: 0.7898 - val_loss: 0.4711 - val_accuracy: 0.8334\n",
            "Epoch 100/100\n",
            "165/165 [==============================] - 2s 14ms/step - loss: 0.5841 - accuracy: 0.7850 - val_loss: 0.4673 - val_accuracy: 0.8341\n"
          ]
        }
      ],
      "source": [
        "def cal():\n",
        "    model=Sequential()\n",
        "    model.add(Dense(50, input_shape = (784,)))  \n",
        "    model.add(Activation('relu'))\n",
        "    model.add(Dropout(0.2)) \n",
        "\n",
        "    model.add(Dense(50))                      \n",
        "    model.add(Activation('relu'))\n",
        "    model.add(Dropout(0.2)) \n",
        "\n",
        "    model.add(Dense(50))                          \n",
        "    model.add(Activation('relu'))\n",
        "    model.add(Dropout(0.2)) \n",
        "    \n",
        "    model.add(Dense(10))                         \n",
        "    model.add(Activation('softmax')) \n",
        "    sgd = optimizers.Adagrad(learning_rate = 0.01)    # stochastic gradient descent optimizer\n",
        "    model.compile(optimizer = sgd, loss = 'categorical_crossentropy', metrics = ['accuracy'])\n",
        "    return model\n",
        "model=cal()\n",
        "history=model.fit(X_train, y_train, batch_size = 256,validation_split=0.3, epochs = 100, verbose = 1)"
      ]
    },
    {
      "cell_type": "code",
      "execution_count": null,
      "metadata": {
        "colab": {
          "base_uri": "https://localhost:8080/",
          "height": 265
        },
        "id": "uF6YP_e0nJJK",
        "outputId": "0fd9e2c8-8243-4850-b6bf-e5501e31b1d8"
      },
      "outputs": [
        {
          "data": {
            "image/png": "[encoded data removed]",
            "text/plain": [
              "<Figure size 432x288 with 1 Axes>"
            ]
          },
          "metadata": {},
          "output_type": "display_data"
        }
      ],
      "source": [
        "plt.plot(history.history['accuracy'])\n",
        "plt.plot(history.history['val_accuracy'])\n",
        "plt.plot(history.history['loss'])\n",
        "plt.plot(history.history['val_loss'])\n",
        "plt.legend(['train_acc','valid_acc','train_loss','valid_loss'],loc='upper left')\n",
        "plt.show()"
      ]
    },
    {
      "cell_type": "code",
      "execution_count": null,
      "metadata": {
        "colab": {
          "base_uri": "https://localhost:8080/"
        },
        "id": "tj4HzsrvnJVQ",
        "outputId": "f01ff732-7789-4524-c687-a2a133ac3bf5"
      },
      "outputs": [
        {
          "name": "stdout",
          "output_type": "stream",
          "text": [
            "313/313 [==============================] - 1s 4ms/step - loss: 0.4566 - accuracy: 0.8393\n",
            "Accuracy = 83.92999768257141%\n"
          ]
        }
      ],
      "source": [
        "results=model.evaluate(X_test,y_test)\n",
        "print(\"Accuracy = {}%\".format(results[1]*100))"
      ]
    },
    {
      "cell_type": "markdown",
      "metadata": {
        "id": "2n7jSX0HpGVh"
      },
      "source": [
        "#Early stoppinng"
      ]
    },
    {
      "cell_type": "code",
      "execution_count": null,
      "metadata": {
        "id": "yNtbeHlztfVD"
      },
      "outputs": [],
      "source": [
        "import tensorflow as tf"
      ]
    },
    {
      "cell_type": "code",
      "execution_count": null,
      "metadata": {
        "id": "K0e25uB4pIwY"
      },
      "outputs": [],
      "source": [
        "callback=tf.keras.callbacks.EarlyStopping(monitor='val_accuracy',patience=3)"
      ]
    },
    {
      "cell_type": "code",
      "execution_count": null,
      "metadata": {
        "colab": {
          "base_uri": "https://localhost:8080/"
        },
        "id": "1GmVz-FapI48",
        "outputId": "993fd043-ddb0-4501-daf5-e0e71e683592"
      },
      "outputs": [
        {
          "name": "stdout",
          "output_type": "stream",
          "text": [
            "Epoch 1/100\n",
            "165/165 [==============================] - 2s 11ms/step - loss: 4.4355 - accuracy: 0.1974 - val_loss: 1.9843 - val_accuracy: 0.2616\n",
            "Epoch 2/100\n",
            "165/165 [==============================] - 2s 10ms/step - loss: 2.0284 - accuracy: 0.2448 - val_loss: 1.8846 - val_accuracy: 0.2966\n",
            "Epoch 3/100\n",
            "165/165 [==============================] - 2s 10ms/step - loss: 1.9320 - accuracy: 0.2813 - val_loss: 1.7838 - val_accuracy: 0.3378\n",
            "Epoch 4/100\n",
            "165/165 [==============================] - 2s 9ms/step - loss: 1.8353 - accuracy: 0.3169 - val_loss: 1.7118 - val_accuracy: 0.3636\n",
            "Epoch 5/100\n",
            "165/165 [==============================] - 1s 9ms/step - loss: 1.7814 - accuracy: 0.3334 - val_loss: 1.6796 - val_accuracy: 0.3707\n",
            "Epoch 6/100\n",
            "165/165 [==============================] - 2s 9ms/step - loss: 1.7412 - accuracy: 0.3451 - val_loss: 1.6435 - val_accuracy: 0.3877\n",
            "Epoch 7/100\n",
            "165/165 [==============================] - 2s 10ms/step - loss: 1.7112 - accuracy: 0.3549 - val_loss: 1.5876 - val_accuracy: 0.4050\n",
            "Epoch 8/100\n",
            "165/165 [==============================] - 2s 10ms/step - loss: 1.6575 - accuracy: 0.3787 - val_loss: 1.4935 - val_accuracy: 0.4454\n",
            "Epoch 9/100\n",
            "165/165 [==============================] - 2s 10ms/step - loss: 1.6016 - accuracy: 0.4017 - val_loss: 1.4428 - val_accuracy: 0.4619\n",
            "Epoch 10/100\n",
            "165/165 [==============================] - 1s 7ms/step - loss: 1.5638 - accuracy: 0.4105 - val_loss: 1.4131 - val_accuracy: 0.4716\n",
            "Epoch 11/100\n",
            "165/165 [==============================] - 2s 9ms/step - loss: 1.5485 - accuracy: 0.4152 - val_loss: 1.4249 - val_accuracy: 0.4819\n",
            "Epoch 12/100\n",
            "165/165 [==============================] - 2s 9ms/step - loss: 1.5220 - accuracy: 0.4238 - val_loss: 1.3600 - val_accuracy: 0.4838\n",
            "Epoch 13/100\n",
            "165/165 [==============================] - 1s 9ms/step - loss: 1.5039 - accuracy: 0.4268 - val_loss: 1.3626 - val_accuracy: 0.4827\n",
            "Epoch 14/100\n",
            "165/165 [==============================] - 2s 10ms/step - loss: 1.4850 - accuracy: 0.4342 - val_loss: 1.3358 - val_accuracy: 0.4926\n",
            "Epoch 15/100\n",
            "165/165 [==============================] - 2s 9ms/step - loss: 1.4713 - accuracy: 0.4384 - val_loss: 1.3203 - val_accuracy: 0.5009\n",
            "Epoch 16/100\n",
            "165/165 [==============================] - 1s 9ms/step - loss: 1.4579 - accuracy: 0.4456 - val_loss: 1.3020 - val_accuracy: 0.5033\n",
            "Epoch 17/100\n",
            "165/165 [==============================] - 1s 9ms/step - loss: 1.4385 - accuracy: 0.4466 - val_loss: 1.2834 - val_accuracy: 0.5088\n",
            "Epoch 18/100\n",
            "165/165 [==============================] - 1s 8ms/step - loss: 1.4301 - accuracy: 0.4502 - val_loss: 1.2782 - val_accuracy: 0.5112\n",
            "Epoch 19/100\n",
            "165/165 [==============================] - 2s 9ms/step - loss: 1.4227 - accuracy: 0.4523 - val_loss: 1.2674 - val_accuracy: 0.5157\n",
            "Epoch 20/100\n",
            "165/165 [==============================] - 2s 9ms/step - loss: 1.4074 - accuracy: 0.4554 - val_loss: 1.2537 - val_accuracy: 0.5173\n",
            "Epoch 21/100\n",
            "165/165 [==============================] - 1s 9ms/step - loss: 1.4069 - accuracy: 0.4571 - val_loss: 1.2704 - val_accuracy: 0.5129\n",
            "Epoch 22/100\n",
            "165/165 [==============================] - 2s 9ms/step - loss: 1.3978 - accuracy: 0.4649 - val_loss: 1.2300 - val_accuracy: 0.5245\n",
            "Epoch 23/100\n",
            "165/165 [==============================] - 2s 11ms/step - loss: 1.3782 - accuracy: 0.4687 - val_loss: 1.2165 - val_accuracy: 0.5338\n",
            "Epoch 24/100\n",
            "165/165 [==============================] - 2s 12ms/step - loss: 1.3668 - accuracy: 0.4741 - val_loss: 1.2110 - val_accuracy: 0.5371\n",
            "Epoch 25/100\n",
            "165/165 [==============================] - 3s 16ms/step - loss: 1.3647 - accuracy: 0.4756 - val_loss: 1.2235 - val_accuracy: 0.5332\n",
            "Epoch 26/100\n",
            "165/165 [==============================] - 2s 13ms/step - loss: 1.3591 - accuracy: 0.4778 - val_loss: 1.1860 - val_accuracy: 0.5445\n",
            "Epoch 27/100\n",
            "165/165 [==============================] - 2s 12ms/step - loss: 1.3456 - accuracy: 0.4853 - val_loss: 1.1746 - val_accuracy: 0.5545\n",
            "Epoch 28/100\n",
            "165/165 [==============================] - 2s 11ms/step - loss: 1.3416 - accuracy: 0.4866 - val_loss: 1.1580 - val_accuracy: 0.5629\n",
            "Epoch 29/100\n",
            "165/165 [==============================] - 2s 13ms/step - loss: 1.3234 - accuracy: 0.4953 - val_loss: 1.1275 - val_accuracy: 0.5878\n",
            "Epoch 30/100\n",
            "165/165 [==============================] - 2s 11ms/step - loss: 1.3087 - accuracy: 0.5047 - val_loss: 1.0874 - val_accuracy: 0.6072\n",
            "Epoch 31/100\n",
            "165/165 [==============================] - 2s 14ms/step - loss: 1.2946 - accuracy: 0.5133 - val_loss: 1.0829 - val_accuracy: 0.6054\n",
            "Epoch 32/100\n",
            "165/165 [==============================] - 2s 14ms/step - loss: 1.2748 - accuracy: 0.5188 - val_loss: 1.0575 - val_accuracy: 0.6134\n",
            "Epoch 33/100\n",
            "165/165 [==============================] - 2s 11ms/step - loss: 1.2628 - accuracy: 0.5264 - val_loss: 1.0487 - val_accuracy: 0.6144\n",
            "Epoch 34/100\n",
            "165/165 [==============================] - 2s 12ms/step - loss: 1.2537 - accuracy: 0.5280 - val_loss: 1.0381 - val_accuracy: 0.6173\n",
            "Epoch 35/100\n",
            "165/165 [==============================] - 2s 12ms/step - loss: 1.2418 - accuracy: 0.5309 - val_loss: 1.0288 - val_accuracy: 0.6199\n",
            "Epoch 36/100\n",
            "165/165 [==============================] - 2s 14ms/step - loss: 1.2369 - accuracy: 0.5339 - val_loss: 1.0127 - val_accuracy: 0.6258\n",
            "Epoch 37/100\n",
            "165/165 [==============================] - 2s 12ms/step - loss: 1.2279 - accuracy: 0.5353 - val_loss: 1.0149 - val_accuracy: 0.6241\n",
            "Epoch 38/100\n",
            "165/165 [==============================] - 2s 12ms/step - loss: 1.2148 - accuracy: 0.5400 - val_loss: 1.0054 - val_accuracy: 0.6279\n",
            "Epoch 39/100\n",
            "165/165 [==============================] - 2s 13ms/step - loss: 1.2095 - accuracy: 0.5446 - val_loss: 1.0031 - val_accuracy: 0.6288\n",
            "Epoch 40/100\n",
            "165/165 [==============================] - 2s 14ms/step - loss: 1.2099 - accuracy: 0.5442 - val_loss: 0.9997 - val_accuracy: 0.6343\n",
            "Epoch 41/100\n",
            "165/165 [==============================] - 2s 12ms/step - loss: 1.2134 - accuracy: 0.5439 - val_loss: 0.9862 - val_accuracy: 0.6354\n",
            "Epoch 42/100\n",
            "165/165 [==============================] - 3s 17ms/step - loss: 1.1956 - accuracy: 0.5507 - val_loss: 1.0020 - val_accuracy: 0.6279\n",
            "Epoch 43/100\n",
            "165/165 [==============================] - 2s 11ms/step - loss: 1.1894 - accuracy: 0.5491 - val_loss: 0.9792 - val_accuracy: 0.6341\n",
            "Epoch 44/100\n",
            "165/165 [==============================] - 2s 12ms/step - loss: 1.1881 - accuracy: 0.5515 - val_loss: 0.9771 - val_accuracy: 0.6362\n",
            "Epoch 45/100\n",
            "165/165 [==============================] - 2s 12ms/step - loss: 1.1792 - accuracy: 0.5490 - val_loss: 0.9759 - val_accuracy: 0.6363\n",
            "Epoch 46/100\n",
            "165/165 [==============================] - 2s 14ms/step - loss: 1.1754 - accuracy: 0.5537 - val_loss: 0.9591 - val_accuracy: 0.6476\n",
            "Epoch 47/100\n",
            "165/165 [==============================] - 2s 12ms/step - loss: 1.1547 - accuracy: 0.5715 - val_loss: 0.8964 - val_accuracy: 0.6822\n",
            "Epoch 48/100\n",
            "165/165 [==============================] - 2s 11ms/step - loss: 1.1164 - accuracy: 0.5943 - val_loss: 0.9104 - val_accuracy: 0.6709\n",
            "Epoch 49/100\n",
            "165/165 [==============================] - 2s 13ms/step - loss: 1.0871 - accuracy: 0.6045 - val_loss: 0.8404 - val_accuracy: 0.7077\n",
            "Epoch 50/100\n",
            "165/165 [==============================] - 2s 11ms/step - loss: 1.0710 - accuracy: 0.6064 - val_loss: 0.8214 - val_accuracy: 0.7112\n",
            "Epoch 51/100\n",
            "165/165 [==============================] - 2s 12ms/step - loss: 1.0659 - accuracy: 0.6124 - val_loss: 0.8065 - val_accuracy: 0.7154\n",
            "Epoch 52/100\n",
            "165/165 [==============================] - 2s 15ms/step - loss: 1.0484 - accuracy: 0.6173 - val_loss: 0.7987 - val_accuracy: 0.7162\n",
            "Epoch 53/100\n",
            "165/165 [==============================] - 2s 15ms/step - loss: 1.0452 - accuracy: 0.6164 - val_loss: 0.7990 - val_accuracy: 0.7124\n",
            "Epoch 54/100\n",
            "165/165 [==============================] - 3s 18ms/step - loss: 1.0270 - accuracy: 0.6222 - val_loss: 0.7925 - val_accuracy: 0.7191\n",
            "Epoch 55/100\n",
            "165/165 [==============================] - 2s 12ms/step - loss: 1.0200 - accuracy: 0.6231 - val_loss: 0.7823 - val_accuracy: 0.7200\n",
            "Epoch 56/100\n",
            "165/165 [==============================] - 2s 14ms/step - loss: 1.0123 - accuracy: 0.6250 - val_loss: 0.7831 - val_accuracy: 0.7154\n",
            "Epoch 57/100\n",
            "165/165 [==============================] - 2s 12ms/step - loss: 1.0082 - accuracy: 0.6263 - val_loss: 0.7776 - val_accuracy: 0.7189\n",
            "Epoch 58/100\n",
            "165/165 [==============================] - 2s 14ms/step - loss: 0.9999 - accuracy: 0.6276 - val_loss: 0.7683 - val_accuracy: 0.7215\n",
            "Epoch 59/100\n",
            "165/165 [==============================] - 2s 15ms/step - loss: 0.9999 - accuracy: 0.6296 - val_loss: 0.7624 - val_accuracy: 0.7230\n",
            "Epoch 60/100\n",
            "165/165 [==============================] - 2s 11ms/step - loss: 0.9945 - accuracy: 0.6303 - val_loss: 0.7506 - val_accuracy: 0.7255\n",
            "Epoch 61/100\n",
            "165/165 [==============================] - 2s 12ms/step - loss: 0.9819 - accuracy: 0.6350 - val_loss: 0.7873 - val_accuracy: 0.7133\n",
            "Epoch 62/100\n",
            "165/165 [==============================] - 2s 14ms/step - loss: 0.9703 - accuracy: 0.6379 - val_loss: 0.7663 - val_accuracy: 0.7161\n",
            "Epoch 63/100\n",
            "165/165 [==============================] - 4s 23ms/step - loss: 0.9790 - accuracy: 0.6345 - val_loss: 0.7467 - val_accuracy: 0.7256\n",
            "Epoch 64/100\n",
            "165/165 [==============================] - 3s 16ms/step - loss: 0.9543 - accuracy: 0.6451 - val_loss: 0.7542 - val_accuracy: 0.7238\n",
            "Epoch 65/100\n",
            "165/165 [==============================] - 3s 15ms/step - loss: 0.9524 - accuracy: 0.6452 - val_loss: 0.7401 - val_accuracy: 0.7266\n",
            "Epoch 66/100\n",
            "165/165 [==============================] - 3s 16ms/step - loss: 0.9467 - accuracy: 0.6477 - val_loss: 0.7325 - val_accuracy: 0.7285\n",
            "Epoch 67/100\n",
            "165/165 [==============================] - 2s 13ms/step - loss: 0.9436 - accuracy: 0.6471 - val_loss: 0.7332 - val_accuracy: 0.7288\n",
            "Epoch 68/100\n",
            "165/165 [==============================] - 2s 13ms/step - loss: 0.9472 - accuracy: 0.6463 - val_loss: 0.7344 - val_accuracy: 0.7285\n",
            "Epoch 69/100\n",
            "165/165 [==============================] - 2s 13ms/step - loss: 0.9420 - accuracy: 0.6480 - val_loss: 0.7343 - val_accuracy: 0.7262\n",
            "Epoch 70/100\n",
            "165/165 [==============================] - 3s 16ms/step - loss: 0.9329 - accuracy: 0.6516 - val_loss: 0.7307 - val_accuracy: 0.7284\n"
          ]
        }
      ],
      "source": [
        "def cal():\n",
        "    model=Sequential()\n",
        "    model.add(Dense(50, input_shape = (784,)))  \n",
        "    model.add(Activation('relu'))\n",
        "    model.add(Dropout(0.2))  \n",
        "    model.add(Dense(50))                      \n",
        "    model.add(Activation('relu'))\n",
        "    model.add(Dropout(0.2)) \n",
        "    model.add(Dense(50))                          \n",
        "    model.add(Activation('relu'))\n",
        "    model.add(Dropout(0.2)) \n",
        "    model.add(Dense(10))                         \n",
        "    model.add(Activation('softmax')) \n",
        "    sgd = optimizers.Adagrad(learning_rate = 0.01)    # stochastic gradient descent optimizer\n",
        "    model.compile(optimizer = sgd, loss = 'categorical_crossentropy', metrics = ['accuracy'])\n",
        "    return model\n",
        "model=cal()\n",
        "history=model.fit(X_train, y_train, batch_size = 256,validation_split=0.3,epochs = 100,callbacks=[callback], verbose = 1)"
      ]
    },
    {
      "cell_type": "code",
      "execution_count": null,
      "metadata": {
        "colab": {
          "base_uri": "https://localhost:8080/"
        },
        "id": "rBqnOJJYpI_s",
        "outputId": "b7559b66-03a4-4a35-9053-e9eee81353ed"
      },
      "outputs": [
        {
          "name": "stdout",
          "output_type": "stream",
          "text": [
            "total number of epochs = 70\n"
          ]
        }
      ],
      "source": [
        "print(\"total number of epochs = {}\".format(len(history.history['loss'])))"
      ]
    },
    {
      "cell_type": "code",
      "execution_count": null,
      "metadata": {
        "colab": {
          "base_uri": "https://localhost:8080/",
          "height": 265
        },
        "id": "mxe0_Ba3tKL5",
        "outputId": "6b74093c-769f-4e87-a7f4-68ad0e54adab"
      },
      "outputs": [
        {
          "data": {
            "image/png": "[encoded data removed]",
            "text/plain": [
              "<Figure size 432x288 with 1 Axes>"
            ]
          },
          "metadata": {},
          "output_type": "display_data"
        }
      ],
      "source": [
        "plt.plot(history.history['accuracy'])\n",
        "plt.plot(history.history['val_accuracy'])\n",
        "plt.plot(history.history['loss'])\n",
        "plt.plot(history.history['val_loss'])\n",
        "plt.legend(['train_acc','valid_acc','train_loss','valid_loss'],loc='upper left')\n",
        "plt.show()"
      ]
    },
    {
      "cell_type": "code",
      "execution_count": null,
      "metadata": {
        "colab": {
          "base_uri": "https://localhost:8080/"
        },
        "id": "8g883w-RtMTG",
        "outputId": "54dcd231-e683-464b-cdc6-5ec5b34387f2"
      },
      "outputs": [
        {
          "name": "stdout",
          "output_type": "stream",
          "text": [
            "313/313 [==============================] - 1s 4ms/step - loss: 0.7191 - accuracy: 0.7331\n",
            "Accuracy = 73.30999970436096%\n"
          ]
        }
      ],
      "source": [
        "results=model.evaluate(X_test,y_test)\n",
        "print(\"Accuracy = {}%\".format(results[1]*100))"
      ]
    },
    {
      "cell_type": "code",
      "execution_count": null,
      "metadata": {
        "colab": {
          "base_uri": "https://localhost:8080/"
        },
        "id": "tsF3eUQEslaE",
        "outputId": "a570ee6c-3fa9-40a6-8225-c704cf708ffa"
      },
      "outputs": [
        {
          "name": "stdout",
          "output_type": "stream",
          "text": [
            "Epoch 1/100\n",
            "165/165 [==============================] - 2s 13ms/step - loss: 0.9272 - accuracy: 0.6509 - val_loss: 0.7292 - val_accuracy: 0.7283\n",
            "Epoch 2/100\n",
            "165/165 [==============================] - 2s 11ms/step - loss: 0.9175 - accuracy: 0.6517 - val_loss: 0.7206 - val_accuracy: 0.7322\n",
            "Epoch 3/100\n",
            "165/165 [==============================] - 2s 15ms/step - loss: 0.9130 - accuracy: 0.6546 - val_loss: 0.7317 - val_accuracy: 0.7268\n",
            "Epoch 4/100\n",
            "165/165 [==============================] - 2s 15ms/step - loss: 0.9211 - accuracy: 0.6515 - val_loss: 0.7245 - val_accuracy: 0.7287\n",
            "Epoch 5/100\n",
            "165/165 [==============================] - 2s 12ms/step - loss: 0.9132 - accuracy: 0.6530 - val_loss: 0.7134 - val_accuracy: 0.7335\n",
            "Epoch 6/100\n",
            "165/165 [==============================] - 2s 12ms/step - loss: 0.9151 - accuracy: 0.6519 - val_loss: 0.7202 - val_accuracy: 0.7316\n",
            "Epoch 7/100\n",
            "165/165 [==============================] - 2s 12ms/step - loss: 0.9064 - accuracy: 0.6566 - val_loss: 0.7120 - val_accuracy: 0.7339\n",
            "Epoch 8/100\n",
            "165/165 [==============================] - 2s 11ms/step - loss: 0.9117 - accuracy: 0.6555 - val_loss: 0.7110 - val_accuracy: 0.7337\n",
            "Epoch 9/100\n",
            "165/165 [==============================] - 2s 13ms/step - loss: 0.9029 - accuracy: 0.6564 - val_loss: 0.7107 - val_accuracy: 0.7347\n",
            "Epoch 10/100\n",
            "165/165 [==============================] - 2s 12ms/step - loss: 0.8984 - accuracy: 0.6580 - val_loss: 0.7166 - val_accuracy: 0.7332\n",
            "Epoch 11/100\n",
            "165/165 [==============================] - 2s 12ms/step - loss: 0.9012 - accuracy: 0.6609 - val_loss: 0.7051 - val_accuracy: 0.7357\n",
            "Epoch 12/100\n",
            "165/165 [==============================] - 2s 12ms/step - loss: 0.9012 - accuracy: 0.6571 - val_loss: 0.7103 - val_accuracy: 0.7351\n",
            "Epoch 13/100\n",
            "165/165 [==============================] - 1s 9ms/step - loss: 0.8935 - accuracy: 0.6591 - val_loss: 0.7044 - val_accuracy: 0.7351\n",
            "Epoch 14/100\n",
            "165/165 [==============================] - 1s 9ms/step - loss: 0.8967 - accuracy: 0.6582 - val_loss: 0.7063 - val_accuracy: 0.7361\n",
            "Epoch 15/100\n",
            "165/165 [==============================] - 2s 9ms/step - loss: 0.8957 - accuracy: 0.6597 - val_loss: 0.7102 - val_accuracy: 0.7352\n",
            "Epoch 16/100\n",
            "165/165 [==============================] - 1s 8ms/step - loss: 0.8938 - accuracy: 0.6608 - val_loss: 0.7065 - val_accuracy: 0.7367\n",
            "Epoch 17/100\n",
            "165/165 [==============================] - 2s 9ms/step - loss: 0.8846 - accuracy: 0.6613 - val_loss: 0.7064 - val_accuracy: 0.7382\n",
            "Epoch 18/100\n",
            "165/165 [==============================] - 1s 8ms/step - loss: 0.8749 - accuracy: 0.6670 - val_loss: 0.7027 - val_accuracy: 0.7368\n",
            "Epoch 19/100\n",
            "165/165 [==============================] - 2s 9ms/step - loss: 0.8828 - accuracy: 0.6659 - val_loss: 0.7000 - val_accuracy: 0.7373\n",
            "Epoch 20/100\n",
            "165/165 [==============================] - 2s 9ms/step - loss: 0.8779 - accuracy: 0.6665 - val_loss: 0.7022 - val_accuracy: 0.7362\n",
            "Epoch 21/100\n",
            "165/165 [==============================] - 2s 9ms/step - loss: 0.8748 - accuracy: 0.6664 - val_loss: 0.7054 - val_accuracy: 0.7356\n",
            "Epoch 22/100\n",
            "165/165 [==============================] - 1s 8ms/step - loss: 0.8696 - accuracy: 0.6670 - val_loss: 0.7068 - val_accuracy: 0.7350\n"
          ]
        }
      ],
      "source": [
        "callback=tf.keras.callbacks.EarlyStopping(monitor='val_accuracy',patience=5)\n",
        "history=model.fit(X_train, y_train, batch_size = 256,validation_split=0.3,epochs = 100,callbacks=[callback] ,verbose = 1)"
      ]
    },
    {
      "cell_type": "code",
      "execution_count": null,
      "metadata": {
        "colab": {
          "base_uri": "https://localhost:8080/",
          "height": 265
        },
        "id": "Lw_pDFWos82b",
        "outputId": "97ef51ed-17f5-4326-c023-da3e8d1e4268"
      },
      "outputs": [
        {
          "data": {
            "image/png": "[encoded data removed]",
            "text/plain": [
              "<Figure size 432x288 with 1 Axes>"
            ]
          },
          "metadata": {},
          "output_type": "display_data"
        }
      ],
      "source": [
        "plt.plot(history.history['accuracy'])\n",
        "plt.plot(history.history['val_accuracy'])\n",
        "plt.plot(history.history['loss'])\n",
        "plt.plot(history.history['val_loss'])\n",
        "plt.legend(['train_acc','valid_acc','train_loss','valid_loss'],loc='upper left')\n",
        "plt.show()"
      ]
    },
    {
      "cell_type": "code",
      "execution_count": null,
      "metadata": {
        "colab": {
          "base_uri": "https://localhost:8080/"
        },
        "id": "XK8IcNsOtPi8",
        "outputId": "eca23b44-feec-4c90-fbb2-32f93d5b303f"
      },
      "outputs": [
        {
          "name": "stdout",
          "output_type": "stream",
          "text": [
            "313/313 [==============================] - 1s 2ms/step - loss: 0.7050 - accuracy: 0.7389\n",
            "Accuracy = 73.89000058174133%\n"
          ]
        }
      ],
      "source": [
        "results=model.evaluate(X_test,y_test)\n",
        "print(\"Accuracy = {}%\".format(results[1]*100))"
      ]
    },
    {
      "cell_type": "markdown",
      "metadata": {
        "id": "OfvZWbIKugq2"
      },
      "source": [
        "#ENSEMBLING"
      ]
    },
    {
      "cell_type": "code",
      "execution_count": null,
      "metadata": {
        "id": "f_02WwZJuidE"
      },
      "outputs": [],
      "source": [
        "from tensorflow.keras.wrappers.scikit_learn import KerasClassifier\n",
        "from sklearn.ensemble import VotingClassifier\n",
        "from sklearn.metrics import accuracy_score"
      ]
    },
    {
      "cell_type": "code",
      "execution_count": null,
      "metadata": {
        "id": "qHs03JshujNU"
      },
      "outputs": [],
      "source": [
        "y_train=np.argmax(y_train,axis=1)\n",
        "y_test=np.argmax(y_test,axis=1)"
      ]
    },
    {
      "cell_type": "code",
      "execution_count": null,
      "metadata": {
        "id": "lnFhY1ppujUr"
      },
      "outputs": [],
      "source": [
        "def cal1():\n",
        "    model=Sequential()\n",
        "    model.add(Dense(50, input_shape = (784,)))  \n",
        "    model.add(Activation('relu')) \n",
        "    model.add(Dense(50))                      \n",
        "    model.add(Activation('relu'))\n",
        "    model.add(Dense(50))                          \n",
        "    model.add(Activation('relu'))\n",
        "    model.add(Dense(10))                         \n",
        "    model.add(Activation('softmax')) \n",
        "    sgd = optimizers.Adagrad(learning_rate = 0.01)    # stochastic gradient descent optimizer\n",
        "    model.compile(optimizer = sgd, loss = 'categorical_crossentropy', metrics = ['accuracy'])\n",
        "    return model"
      ]
    },
    {
      "cell_type": "code",
      "execution_count": null,
      "metadata": {
        "colab": {
          "base_uri": "https://localhost:8080/"
        },
        "id": "W8w5TQpGwC2-",
        "outputId": "ec827fdf-823f-4dd9-dbda-eb820077d478"
      },
      "outputs": [
        {
          "output_type": "stream",
          "name": "stderr",
          "text": [
            "/usr/local/lib/python3.7/dist-packages/ipykernel_launcher.py:1: DeprecationWarning: KerasClassifier is deprecated, use Sci-Keras (https://github.com/adriangb/scikeras) instead.\n",
            "  \"\"\"Entry point for launching an IPython kernel.\n",
            "/usr/local/lib/python3.7/dist-packages/ipykernel_launcher.py:2: DeprecationWarning: KerasClassifier is deprecated, use Sci-Keras (https://github.com/adriangb/scikeras) instead.\n",
            "  \n",
            "/usr/local/lib/python3.7/dist-packages/ipykernel_launcher.py:3: DeprecationWarning: KerasClassifier is deprecated, use Sci-Keras (https://github.com/adriangb/scikeras) instead.\n",
            "  This is separate from the ipykernel package so we can avoid doing imports until\n"
          ]
        }
      ],
      "source": [
        "m1=KerasClassifier(build_fn=cal1,epochs=100,verbose=0)\n",
        "m2=KerasClassifier(build_fn=cal1,epochs=100,verbose=0)\n",
        "m3=KerasClassifier(build_fn=cal1,epochs=100,verbose=0)\n",
        "m1._estimator_type='classifier'\n",
        "m2._estimator_type='classifier'\n",
        "m3._estimator_type='classifier'"
      ]
    },
    {
      "cell_type": "code",
      "execution_count": null,
      "metadata": {
        "colab": {
          "base_uri": "https://localhost:8080/"
        },
        "id": "klsG8Qqiwo6b",
        "outputId": "bee1e052-54a0-4b25-9c13-d93e3a721ae2"
      },
      "outputs": [
        {
          "output_type": "stream",
          "name": "stdout",
          "text": [
            "Accuracy = 0.9687%\n"
          ]
        }
      ],
      "source": [
        "ensemble_clf=VotingClassifier(estimators=[('m1',m1),('m2',m2),('m3',m3),],voting='soft')\n",
        "history=ensemble_clf.fit(X_train,y_train)\n",
        "y_pred=ensemble_clf.predict(X_test)\n",
        "print(\"Accuracy = {}%\".format(accuracy_score(y_pred,y_test)))"
      ]
    },
    {
      "cell_type": "markdown",
      "metadata": {
        "id": "_qMsQESVtgPl"
      },
      "source": [
        "#Checkpoint in keras"
      ]
    },
    {
      "cell_type": "code",
      "execution_count": null,
      "metadata": {
        "id": "cmPaer8Ktj3f",
        "colab": {
          "base_uri": "https://localhost:8080/"
        },
        "outputId": "74023ac2-34c9-464f-d0cc-d83c74d981f2"
      },
      "outputs": [
        {
          "output_type": "stream",
          "name": "stdout",
          "text": [
            "Requirement already satisfied: h5py in /usr/local/lib/python3.7/dist-packages (3.1.0)\n",
            "Requirement already satisfied: numpy>=1.14.5 in /usr/local/lib/python3.7/dist-packages (from h5py) (1.19.5)\n",
            "Requirement already satisfied: cached-property in /usr/local/lib/python3.7/dist-packages (from h5py) (1.5.2)\n"
          ]
        }
      ],
      "source": [
        "pip install h5py"
      ]
    },
    {
      "cell_type": "code",
      "execution_count": null,
      "metadata": {
        "id": "LeWsWdZztzD4"
      },
      "outputs": [],
      "source": [
        "from tensorflow.python.keras.callbacks import ModelCheckpoint\n",
        "ch=ModelCheckpoint('model.h5py',monitor='val_loss',mode='min',save_best_only=True)"
      ]
    },
    {
      "cell_type": "code",
      "execution_count": null,
      "metadata": {
        "id": "JMEAjM-Z0wXe"
      },
      "outputs": [],
      "source": [
        "#from keras.model import load_model\n",
        "final_model=tf.keras.models.load_model('model.h5py')"
      ]
    },
    {
      "cell_type": "markdown",
      "source": [
        "#INFERENCE\n",
        "ACCUARCY OF:\n",
        "1.   basic mlp model = 90.77%\n",
        "2.   with he_normal initializer = 92.15%\n",
        "3.   non-linear activation function(relu) = 11.34%\n",
        "4.   with Adagrad optimizer = 90.81%\n",
        "5.   BatchNormalization = 97.38%\n",
        "6.   DropOut(regularization) = 83.92%\n",
        "7.   early stopping with patience 3 = 73.30% and with patience 4 = 73.89%\n",
        "8.   ensembling = 96.87%\n",
        "*   THUS ACCURACY IS HIGH AFTER APPLYING BatchNormalization for this model.\n",
        "\n",
        "\n",
        "\n",
        "\n",
        "\n",
        "\n",
        "\n",
        "\n",
        "\n",
        "\n"
      ],
      "metadata": {
        "id": "6jXNK0cD5BVW"
      }
    },
    {
      "cell_type": "markdown",
      "source": [
        "#CIFAR10 model EXPERIMENT"
      ],
      "metadata": {
        "id": "SsqeJyWCAQIY"
      }
    },
    {
      "cell_type": "code",
      "source": [
        "from keras.datasets import cifar10\n",
        "(X_train, y_train), (X_test, y_test) = cifar10.load_data()\n",
        "#Display the dataset shape\n",
        "print(\"Train shape\",X_train.shape)\n",
        "print(\"Test shape\",X_test.shape)\n",
        "print(y_train.shape)\n",
        "print(y_test.shape)"
      ],
      "metadata": {
        "colab": {
          "base_uri": "https://localhost:8080/"
        },
        "id": "Fa2lBKunAVwa",
        "outputId": "30b254ec-f642-4751-dfd3-2e09d01839aa"
      },
      "execution_count": null,
      "outputs": [
        {
          "output_type": "stream",
          "name": "stdout",
          "text": [
            "Train shape (50000, 32, 32, 3)\n",
            "Test shape (10000, 32, 32, 3)\n",
            "(50000, 1)\n",
            "(10000, 1)\n"
          ]
        }
      ]
    },
    {
      "cell_type": "code",
      "source": [
        "from keras.utils.np_utils import to_categorical \n",
        "y_train = to_categorical(y_train, num_classes=10)\n",
        "y_test = to_categorical(y_test, num_classes=10)\n",
        "\n",
        "# Transform images from (32,32,3) to 3072-dimensional vectors (32*32*3)\n",
        "\n",
        "X_train = np.reshape(X_train,(50000,3072))\n",
        "X_test = np.reshape(X_test,(10000,3072))\n",
        "X_train = X_train.astype('float32')\n",
        "X_test = X_test.astype('float32')\n",
        "\n",
        "# Normalization of pixel values (to [0-1] range)\n",
        "\n",
        "X_train /= 255\n",
        "X_test /= 255"
      ],
      "metadata": {
        "id": "RCw-bOOwPqV2"
      },
      "execution_count": null,
      "outputs": []
    },
    {
      "cell_type": "code",
      "source": [
        "print(X_train.shape,X_test.shape,y_train.shape,y_test.shape)"
      ],
      "metadata": {
        "colab": {
          "base_uri": "https://localhost:8080/"
        },
        "id": "1PW2feHdQGNH",
        "outputId": "fc079bab-d6f6-4965-f327-f75bbaa6b9ba"
      },
      "execution_count": null,
      "outputs": [
        {
          "output_type": "stream",
          "name": "stdout",
          "text": [
            "(50000, 3072) (10000, 3072) (50000, 10) (10000, 10)\n"
          ]
        }
      ]
    },
    {
      "cell_type": "code",
      "source": [
        "model = Sequential()\n",
        "model.add(Dense(50, activation='sigmoid', input_dim=3072))\n",
        "model.add(Dense(50, activation='sigmoid'))\n",
        "model.add(Dense(50, activation='sigmoid'))\n",
        "model.add(Dense(10, activation='softmax'))"
      ],
      "metadata": {
        "id": "1B99UcM5P6Is"
      },
      "execution_count": null,
      "outputs": []
    },
    {
      "cell_type": "code",
      "source": [
        "sgd = optimizers.SGD(learning_rate = 0.01)    \n",
        "model.compile(optimizer = sgd, loss = 'categorical_crossentropy', metrics = ['accuracy'])"
      ],
      "metadata": {
        "id": "x5OISDyDQPwG"
      },
      "execution_count": null,
      "outputs": []
    },
    {
      "cell_type": "code",
      "source": [
        "history=model.fit(X_train, y_train, batch_size = 32,validation_split=0.2, epochs = 100, verbose = 1)"
      ],
      "metadata": {
        "colab": {
          "base_uri": "https://localhost:8080/"
        },
        "id": "6cK3-SmIQTHm",
        "outputId": "111b7703-294d-4fae-f2e7-5a8c473cc8be"
      },
      "execution_count": null,
      "outputs": [
        {
          "output_type": "stream",
          "name": "stdout",
          "text": [
            "Epoch 1/100\n",
            "1250/1250 [==============================] - 5s 4ms/step - loss: 2.3076 - accuracy: 0.1071 - val_loss: 2.2999 - val_accuracy: 0.1004\n",
            "Epoch 2/100\n",
            "1250/1250 [==============================] - 4s 4ms/step - loss: 2.2969 - accuracy: 0.1266 - val_loss: 2.2954 - val_accuracy: 0.1196\n",
            "Epoch 3/100\n",
            "1250/1250 [==============================] - 4s 3ms/step - loss: 2.2915 - accuracy: 0.1410 - val_loss: 2.2870 - val_accuracy: 0.1360\n",
            "Epoch 4/100\n",
            "1250/1250 [==============================] - 4s 3ms/step - loss: 2.2814 - accuracy: 0.1678 - val_loss: 2.2737 - val_accuracy: 0.1541\n",
            "Epoch 5/100\n",
            "1250/1250 [==============================] - 4s 3ms/step - loss: 2.2621 - accuracy: 0.1802 - val_loss: 2.2477 - val_accuracy: 0.1677\n",
            "Epoch 6/100\n",
            "1250/1250 [==============================] - 4s 3ms/step - loss: 2.2246 - accuracy: 0.1920 - val_loss: 2.1979 - val_accuracy: 0.1749\n",
            "Epoch 7/100\n",
            "1250/1250 [==============================] - 4s 3ms/step - loss: 2.1676 - accuracy: 0.2000 - val_loss: 2.1400 - val_accuracy: 0.2221\n",
            "Epoch 8/100\n",
            "1250/1250 [==============================] - 4s 3ms/step - loss: 2.1139 - accuracy: 0.2201 - val_loss: 2.0948 - val_accuracy: 0.2499\n",
            "Epoch 9/100\n",
            "1250/1250 [==============================] - 4s 3ms/step - loss: 2.0758 - accuracy: 0.2324 - val_loss: 2.0667 - val_accuracy: 0.2199\n",
            "Epoch 10/100\n",
            "1250/1250 [==============================] - 4s 3ms/step - loss: 2.0501 - accuracy: 0.2395 - val_loss: 2.0457 - val_accuracy: 0.2369\n",
            "Epoch 11/100\n",
            "1250/1250 [==============================] - 4s 3ms/step - loss: 2.0305 - accuracy: 0.2468 - val_loss: 2.0301 - val_accuracy: 0.2518\n",
            "Epoch 12/100\n",
            "1250/1250 [==============================] - 4s 3ms/step - loss: 2.0117 - accuracy: 0.2580 - val_loss: 2.0099 - val_accuracy: 0.2542\n",
            "Epoch 13/100\n",
            "1250/1250 [==============================] - 4s 3ms/step - loss: 1.9903 - accuracy: 0.2667 - val_loss: 1.9878 - val_accuracy: 0.2711\n",
            "Epoch 14/100\n",
            "1250/1250 [==============================] - 4s 3ms/step - loss: 1.9671 - accuracy: 0.2747 - val_loss: 1.9670 - val_accuracy: 0.2686\n",
            "Epoch 15/100\n",
            "1250/1250 [==============================] - 4s 3ms/step - loss: 1.9438 - accuracy: 0.2843 - val_loss: 1.9466 - val_accuracy: 0.2804\n",
            "Epoch 16/100\n",
            "1250/1250 [==============================] - 4s 3ms/step - loss: 1.9235 - accuracy: 0.2937 - val_loss: 1.9316 - val_accuracy: 0.2948\n",
            "Epoch 17/100\n",
            "1250/1250 [==============================] - 4s 3ms/step - loss: 1.9069 - accuracy: 0.3013 - val_loss: 1.9155 - val_accuracy: 0.2938\n",
            "Epoch 18/100\n",
            "1250/1250 [==============================] - 4s 3ms/step - loss: 1.8936 - accuracy: 0.3061 - val_loss: 1.9039 - val_accuracy: 0.3041\n",
            "Epoch 19/100\n",
            "1250/1250 [==============================] - 4s 3ms/step - loss: 1.8818 - accuracy: 0.3119 - val_loss: 1.8941 - val_accuracy: 0.3104\n",
            "Epoch 20/100\n",
            "1250/1250 [==============================] - 4s 3ms/step - loss: 1.8713 - accuracy: 0.3187 - val_loss: 1.8852 - val_accuracy: 0.3199\n",
            "Epoch 21/100\n",
            "1250/1250 [==============================] - 4s 3ms/step - loss: 1.8620 - accuracy: 0.3219 - val_loss: 1.8735 - val_accuracy: 0.3199\n",
            "Epoch 22/100\n",
            "1250/1250 [==============================] - 4s 3ms/step - loss: 1.8522 - accuracy: 0.3243 - val_loss: 1.8658 - val_accuracy: 0.3228\n",
            "Epoch 23/100\n",
            "1250/1250 [==============================] - 4s 3ms/step - loss: 1.8426 - accuracy: 0.3296 - val_loss: 1.8597 - val_accuracy: 0.3240\n",
            "Epoch 24/100\n",
            "1250/1250 [==============================] - 4s 3ms/step - loss: 1.8339 - accuracy: 0.3329 - val_loss: 1.8491 - val_accuracy: 0.3316\n",
            "Epoch 25/100\n",
            "1250/1250 [==============================] - 4s 3ms/step - loss: 1.8248 - accuracy: 0.3378 - val_loss: 1.8419 - val_accuracy: 0.3340\n",
            "Epoch 26/100\n",
            "1250/1250 [==============================] - 4s 3ms/step - loss: 1.8157 - accuracy: 0.3379 - val_loss: 1.8403 - val_accuracy: 0.3306\n",
            "Epoch 27/100\n",
            "1250/1250 [==============================] - 4s 3ms/step - loss: 1.8069 - accuracy: 0.3425 - val_loss: 1.8305 - val_accuracy: 0.3394\n",
            "Epoch 28/100\n",
            "1250/1250 [==============================] - 4s 3ms/step - loss: 1.7981 - accuracy: 0.3453 - val_loss: 1.8175 - val_accuracy: 0.3398\n",
            "Epoch 29/100\n",
            "1250/1250 [==============================] - 4s 3ms/step - loss: 1.7899 - accuracy: 0.3492 - val_loss: 1.8051 - val_accuracy: 0.3475\n",
            "Epoch 30/100\n",
            "1250/1250 [==============================] - 4s 3ms/step - loss: 1.7821 - accuracy: 0.3528 - val_loss: 1.8020 - val_accuracy: 0.3432\n",
            "Epoch 31/100\n",
            "1250/1250 [==============================] - 4s 3ms/step - loss: 1.7748 - accuracy: 0.3539 - val_loss: 1.7955 - val_accuracy: 0.3485\n",
            "Epoch 32/100\n",
            "1250/1250 [==============================] - 4s 3ms/step - loss: 1.7678 - accuracy: 0.3571 - val_loss: 1.7864 - val_accuracy: 0.3548\n",
            "Epoch 33/100\n",
            "1250/1250 [==============================] - 4s 3ms/step - loss: 1.7613 - accuracy: 0.3600 - val_loss: 1.7861 - val_accuracy: 0.3559\n",
            "Epoch 34/100\n",
            "1250/1250 [==============================] - 4s 3ms/step - loss: 1.7547 - accuracy: 0.3609 - val_loss: 1.7795 - val_accuracy: 0.3585\n",
            "Epoch 35/100\n",
            "1250/1250 [==============================] - 4s 3ms/step - loss: 1.7491 - accuracy: 0.3638 - val_loss: 1.7726 - val_accuracy: 0.3620\n",
            "Epoch 36/100\n",
            "1250/1250 [==============================] - 4s 3ms/step - loss: 1.7430 - accuracy: 0.3662 - val_loss: 1.7618 - val_accuracy: 0.3659\n",
            "Epoch 37/100\n",
            "1250/1250 [==============================] - 4s 3ms/step - loss: 1.7368 - accuracy: 0.3691 - val_loss: 1.7622 - val_accuracy: 0.3671\n",
            "Epoch 38/100\n",
            "1250/1250 [==============================] - 4s 3ms/step - loss: 1.7312 - accuracy: 0.3708 - val_loss: 1.7533 - val_accuracy: 0.3633\n",
            "Epoch 39/100\n",
            "1250/1250 [==============================] - 4s 3ms/step - loss: 1.7257 - accuracy: 0.3719 - val_loss: 1.7495 - val_accuracy: 0.3691\n",
            "Epoch 40/100\n",
            "1250/1250 [==============================] - 4s 3ms/step - loss: 1.7201 - accuracy: 0.3735 - val_loss: 1.7458 - val_accuracy: 0.3688\n",
            "Epoch 41/100\n",
            "1250/1250 [==============================] - 4s 3ms/step - loss: 1.7147 - accuracy: 0.3777 - val_loss: 1.7404 - val_accuracy: 0.3705\n",
            "Epoch 42/100\n",
            "1250/1250 [==============================] - 4s 3ms/step - loss: 1.7095 - accuracy: 0.3805 - val_loss: 1.7380 - val_accuracy: 0.3717\n",
            "Epoch 43/100\n",
            "1250/1250 [==============================] - 4s 3ms/step - loss: 1.7037 - accuracy: 0.3811 - val_loss: 1.7380 - val_accuracy: 0.3724\n",
            "Epoch 44/100\n",
            "1250/1250 [==============================] - 4s 3ms/step - loss: 1.6979 - accuracy: 0.3844 - val_loss: 1.7276 - val_accuracy: 0.3775\n",
            "Epoch 45/100\n",
            "1250/1250 [==============================] - 4s 3ms/step - loss: 1.6924 - accuracy: 0.3871 - val_loss: 1.7249 - val_accuracy: 0.3764\n",
            "Epoch 46/100\n",
            "1250/1250 [==============================] - 4s 3ms/step - loss: 1.6874 - accuracy: 0.3866 - val_loss: 1.7191 - val_accuracy: 0.3778\n",
            "Epoch 47/100\n",
            "1250/1250 [==============================] - 4s 3ms/step - loss: 1.6825 - accuracy: 0.3885 - val_loss: 1.7433 - val_accuracy: 0.3669\n",
            "Epoch 48/100\n",
            "1250/1250 [==============================] - 4s 3ms/step - loss: 1.6778 - accuracy: 0.3900 - val_loss: 1.7104 - val_accuracy: 0.3785\n",
            "Epoch 49/100\n",
            "1250/1250 [==============================] - 4s 3ms/step - loss: 1.6723 - accuracy: 0.3927 - val_loss: 1.7018 - val_accuracy: 0.3828\n",
            "Epoch 50/100\n",
            "1250/1250 [==============================] - 4s 3ms/step - loss: 1.6674 - accuracy: 0.3914 - val_loss: 1.6994 - val_accuracy: 0.3849\n",
            "Epoch 51/100\n",
            "1250/1250 [==============================] - 4s 3ms/step - loss: 1.6629 - accuracy: 0.3968 - val_loss: 1.6983 - val_accuracy: 0.3846\n",
            "Epoch 52/100\n",
            "1250/1250 [==============================] - 4s 3ms/step - loss: 1.6573 - accuracy: 0.3981 - val_loss: 1.6909 - val_accuracy: 0.3891\n",
            "Epoch 53/100\n",
            "1250/1250 [==============================] - 4s 3ms/step - loss: 1.6518 - accuracy: 0.4014 - val_loss: 1.6909 - val_accuracy: 0.3893\n",
            "Epoch 54/100\n",
            "1250/1250 [==============================] - 4s 3ms/step - loss: 1.6460 - accuracy: 0.4009 - val_loss: 1.6821 - val_accuracy: 0.3891\n",
            "Epoch 55/100\n",
            "1250/1250 [==============================] - 4s 3ms/step - loss: 1.6417 - accuracy: 0.4043 - val_loss: 1.6864 - val_accuracy: 0.3857\n",
            "Epoch 56/100\n",
            "1250/1250 [==============================] - 4s 3ms/step - loss: 1.6365 - accuracy: 0.4048 - val_loss: 1.6801 - val_accuracy: 0.3942\n",
            "Epoch 57/100\n",
            "1250/1250 [==============================] - 4s 3ms/step - loss: 1.6316 - accuracy: 0.4073 - val_loss: 1.6717 - val_accuracy: 0.3949\n",
            "Epoch 58/100\n",
            "1250/1250 [==============================] - 4s 3ms/step - loss: 1.6265 - accuracy: 0.4087 - val_loss: 1.6707 - val_accuracy: 0.3940\n",
            "Epoch 59/100\n",
            "1250/1250 [==============================] - 4s 3ms/step - loss: 1.6204 - accuracy: 0.4096 - val_loss: 1.6747 - val_accuracy: 0.3932\n",
            "Epoch 60/100\n",
            "1250/1250 [==============================] - 4s 3ms/step - loss: 1.6154 - accuracy: 0.4135 - val_loss: 1.6596 - val_accuracy: 0.3956\n",
            "Epoch 61/100\n",
            "1250/1250 [==============================] - 4s 3ms/step - loss: 1.6097 - accuracy: 0.4162 - val_loss: 1.6585 - val_accuracy: 0.3952\n",
            "Epoch 62/100\n",
            "1250/1250 [==============================] - 4s 3ms/step - loss: 1.6057 - accuracy: 0.4158 - val_loss: 1.6553 - val_accuracy: 0.4004\n",
            "Epoch 63/100\n",
            "1250/1250 [==============================] - 4s 3ms/step - loss: 1.5996 - accuracy: 0.4182 - val_loss: 1.6546 - val_accuracy: 0.3993\n",
            "Epoch 64/100\n",
            "1250/1250 [==============================] - 4s 3ms/step - loss: 1.5944 - accuracy: 0.4218 - val_loss: 1.6514 - val_accuracy: 0.4019\n",
            "Epoch 65/100\n",
            "1250/1250 [==============================] - 4s 3ms/step - loss: 1.5896 - accuracy: 0.4208 - val_loss: 1.6417 - val_accuracy: 0.4038\n",
            "Epoch 66/100\n",
            "1250/1250 [==============================] - 4s 3ms/step - loss: 1.5829 - accuracy: 0.4238 - val_loss: 1.6355 - val_accuracy: 0.4081\n",
            "Epoch 67/100\n",
            "1250/1250 [==============================] - 4s 3ms/step - loss: 1.5786 - accuracy: 0.4286 - val_loss: 1.6374 - val_accuracy: 0.4087\n",
            "Epoch 68/100\n",
            "1250/1250 [==============================] - 4s 3ms/step - loss: 1.5740 - accuracy: 0.4258 - val_loss: 1.6298 - val_accuracy: 0.4059\n",
            "Epoch 69/100\n",
            "1250/1250 [==============================] - 4s 3ms/step - loss: 1.5671 - accuracy: 0.4283 - val_loss: 1.6269 - val_accuracy: 0.4066\n",
            "Epoch 70/100\n",
            "1250/1250 [==============================] - 4s 3ms/step - loss: 1.5630 - accuracy: 0.4308 - val_loss: 1.6229 - val_accuracy: 0.4121\n",
            "Epoch 71/100\n",
            "1250/1250 [==============================] - 4s 3ms/step - loss: 1.5573 - accuracy: 0.4327 - val_loss: 1.6160 - val_accuracy: 0.4125\n",
            "Epoch 72/100\n",
            "1250/1250 [==============================] - 4s 3ms/step - loss: 1.5526 - accuracy: 0.4346 - val_loss: 1.6186 - val_accuracy: 0.4128\n",
            "Epoch 73/100\n",
            "1250/1250 [==============================] - 4s 3ms/step - loss: 1.5465 - accuracy: 0.4360 - val_loss: 1.6110 - val_accuracy: 0.4137\n",
            "Epoch 74/100\n",
            "1250/1250 [==============================] - 4s 3ms/step - loss: 1.5422 - accuracy: 0.4367 - val_loss: 1.6176 - val_accuracy: 0.4119\n",
            "Epoch 75/100\n",
            "1250/1250 [==============================] - 4s 3ms/step - loss: 1.5361 - accuracy: 0.4402 - val_loss: 1.6092 - val_accuracy: 0.4143\n",
            "Epoch 76/100\n",
            "1250/1250 [==============================] - 4s 3ms/step - loss: 1.5307 - accuracy: 0.4432 - val_loss: 1.5979 - val_accuracy: 0.4228\n",
            "Epoch 77/100\n",
            "1250/1250 [==============================] - 4s 3ms/step - loss: 1.5277 - accuracy: 0.4424 - val_loss: 1.5953 - val_accuracy: 0.4217\n",
            "Epoch 78/100\n",
            "1250/1250 [==============================] - 4s 3ms/step - loss: 1.5214 - accuracy: 0.4451 - val_loss: 1.5878 - val_accuracy: 0.4234\n",
            "Epoch 79/100\n",
            "1250/1250 [==============================] - 4s 3ms/step - loss: 1.5160 - accuracy: 0.4478 - val_loss: 1.5833 - val_accuracy: 0.4223\n",
            "Epoch 80/100\n",
            "1250/1250 [==============================] - 4s 3ms/step - loss: 1.5105 - accuracy: 0.4501 - val_loss: 1.6071 - val_accuracy: 0.4125\n",
            "Epoch 81/100\n",
            "1250/1250 [==============================] - 4s 3ms/step - loss: 1.5063 - accuracy: 0.4510 - val_loss: 1.6105 - val_accuracy: 0.4187\n",
            "Epoch 82/100\n",
            "1250/1250 [==============================] - 4s 3ms/step - loss: 1.5018 - accuracy: 0.4536 - val_loss: 1.5932 - val_accuracy: 0.4212\n",
            "Epoch 83/100\n",
            "1250/1250 [==============================] - 4s 3ms/step - loss: 1.4976 - accuracy: 0.4543 - val_loss: 1.5871 - val_accuracy: 0.4262\n",
            "Epoch 84/100\n",
            "1250/1250 [==============================] - 4s 3ms/step - loss: 1.4931 - accuracy: 0.4570 - val_loss: 1.5829 - val_accuracy: 0.4291\n",
            "Epoch 85/100\n",
            "1250/1250 [==============================] - 4s 3ms/step - loss: 1.4878 - accuracy: 0.4562 - val_loss: 1.5626 - val_accuracy: 0.4348\n",
            "Epoch 86/100\n",
            "1250/1250 [==============================] - 4s 3ms/step - loss: 1.4833 - accuracy: 0.4593 - val_loss: 1.5831 - val_accuracy: 0.4250\n",
            "Epoch 87/100\n",
            "1250/1250 [==============================] - 4s 3ms/step - loss: 1.4784 - accuracy: 0.4616 - val_loss: 1.5814 - val_accuracy: 0.4329\n",
            "Epoch 88/100\n",
            "1250/1250 [==============================] - 4s 3ms/step - loss: 1.4734 - accuracy: 0.4615 - val_loss: 1.5699 - val_accuracy: 0.4336\n",
            "Epoch 89/100\n",
            "1250/1250 [==============================] - 4s 3ms/step - loss: 1.4676 - accuracy: 0.4654 - val_loss: 1.5607 - val_accuracy: 0.4350\n",
            "Epoch 90/100\n",
            "1250/1250 [==============================] - 4s 3ms/step - loss: 1.4656 - accuracy: 0.4673 - val_loss: 1.5643 - val_accuracy: 0.4357\n",
            "Epoch 91/100\n",
            "1250/1250 [==============================] - 4s 3ms/step - loss: 1.4603 - accuracy: 0.4690 - val_loss: 1.5588 - val_accuracy: 0.4402\n",
            "Epoch 92/100\n",
            "1250/1250 [==============================] - 4s 3ms/step - loss: 1.4565 - accuracy: 0.4679 - val_loss: 1.5752 - val_accuracy: 0.4334\n",
            "Epoch 93/100\n",
            "1250/1250 [==============================] - 4s 3ms/step - loss: 1.4522 - accuracy: 0.4699 - val_loss: 1.5488 - val_accuracy: 0.4403\n",
            "Epoch 94/100\n",
            "1250/1250 [==============================] - 6s 5ms/step - loss: 1.4475 - accuracy: 0.4737 - val_loss: 1.5924 - val_accuracy: 0.4299\n",
            "Epoch 95/100\n",
            "1250/1250 [==============================] - 7s 6ms/step - loss: 1.4437 - accuracy: 0.4739 - val_loss: 1.5635 - val_accuracy: 0.4358\n",
            "Epoch 96/100\n",
            "1250/1250 [==============================] - 4s 3ms/step - loss: 1.4393 - accuracy: 0.4760 - val_loss: 1.5652 - val_accuracy: 0.4417\n",
            "Epoch 97/100\n",
            "1250/1250 [==============================] - 4s 3ms/step - loss: 1.4354 - accuracy: 0.4777 - val_loss: 1.5498 - val_accuracy: 0.4391\n",
            "Epoch 98/100\n",
            "1250/1250 [==============================] - 4s 3ms/step - loss: 1.4298 - accuracy: 0.4776 - val_loss: 1.5403 - val_accuracy: 0.4445\n",
            "Epoch 99/100\n",
            "1250/1250 [==============================] - 4s 3ms/step - loss: 1.4280 - accuracy: 0.4797 - val_loss: 1.6024 - val_accuracy: 0.4312\n",
            "Epoch 100/100\n",
            "1250/1250 [==============================] - 4s 3ms/step - loss: 1.4239 - accuracy: 0.4787 - val_loss: 1.5436 - val_accuracy: 0.4467\n"
          ]
        }
      ]
    },
    {
      "cell_type": "code",
      "source": [
        "plt.plot(history.history['accuracy'])\n",
        "plt.plot(history.history['val_accuracy'])\n",
        "plt.plot(history.history['loss'])\n",
        "plt.plot(history.history['val_loss'])\n",
        "plt.legend(['train_acc','valid_acc','train_loss','valid_loss'],loc='upper left')\n",
        "plt.show()\n"
      ],
      "metadata": {
        "colab": {
          "base_uri": "https://localhost:8080/",
          "height": 265
        },
        "id": "5ruK3YpiQTRT",
        "outputId": "86d364a2-9444-408b-c264-cfbef9636a57"
      },
      "execution_count": null,
      "outputs": [
        {
          "output_type": "display_data",
          "data": {
            "image/png": "[encoded data removed]",
            "text/plain": [
              "<Figure size 432x288 with 1 Axes>"
            ]
          },
          "metadata": {
            "needs_background": "light"
          }
        }
      ]
    },
    {
      "cell_type": "code",
      "source": [
        "results=model.evaluate(X_test,y_test)\n",
        "print(\"Accuracy = {}%\".format(results[1]*100))"
      ],
      "metadata": {
        "colab": {
          "base_uri": "https://localhost:8080/"
        },
        "id": "0eGuIfvrQTZi",
        "outputId": "ded724a3-4fa4-4d7c-9f91-4b0c7080e855"
      },
      "execution_count": null,
      "outputs": [
        {
          "output_type": "stream",
          "name": "stdout",
          "text": [
            "313/313 [==============================] - 1s 2ms/step - loss: 1.5274 - accuracy: 0.4513\n",
            "Accuracy = 45.12999951839447%\n"
          ]
        }
      ]
    },
    {
      "cell_type": "markdown",
      "metadata": {
        "id": "JgWe1jzKQfrp"
      },
      "source": [
        "#ADDING he_normal INITIALIZER"
      ]
    },
    {
      "cell_type": "code",
      "execution_count": null,
      "metadata": {
        "colab": {
          "base_uri": "https://localhost:8080/"
        },
        "outputId": "c08e24df-d6b4-41c2-9920-0c33297b068b",
        "id": "L3lsToMPQfrq"
      },
      "outputs": [
        {
          "output_type": "stream",
          "name": "stdout",
          "text": [
            "Epoch 1/100\n",
            "1250/1250 [==============================] - 5s 4ms/step - loss: 2.3103 - accuracy: 0.1193 - val_loss: 2.2921 - val_accuracy: 0.1090\n",
            "Epoch 2/100\n",
            "1250/1250 [==============================] - 4s 3ms/step - loss: 2.2838 - accuracy: 0.1612 - val_loss: 2.2731 - val_accuracy: 0.2070\n",
            "Epoch 3/100\n",
            "1250/1250 [==============================] - 4s 3ms/step - loss: 2.2567 - accuracy: 0.2002 - val_loss: 2.2362 - val_accuracy: 0.1740\n",
            "Epoch 4/100\n",
            "1250/1250 [==============================] - 4s 4ms/step - loss: 2.2036 - accuracy: 0.2111 - val_loss: 2.1676 - val_accuracy: 0.2223\n",
            "Epoch 5/100\n",
            "1250/1250 [==============================] - 4s 4ms/step - loss: 2.1316 - accuracy: 0.2262 - val_loss: 2.1008 - val_accuracy: 0.2375\n",
            "Epoch 6/100\n",
            "1250/1250 [==============================] - 4s 3ms/step - loss: 2.0721 - accuracy: 0.2405 - val_loss: 2.0518 - val_accuracy: 0.2601\n",
            "Epoch 7/100\n",
            "1250/1250 [==============================] - 4s 3ms/step - loss: 2.0294 - accuracy: 0.2554 - val_loss: 2.0186 - val_accuracy: 0.2536\n",
            "Epoch 8/100\n",
            "1250/1250 [==============================] - 4s 4ms/step - loss: 1.9968 - accuracy: 0.2619 - val_loss: 1.9920 - val_accuracy: 0.2625\n",
            "Epoch 9/100\n",
            "1250/1250 [==============================] - 4s 3ms/step - loss: 1.9709 - accuracy: 0.2737 - val_loss: 1.9711 - val_accuracy: 0.2723\n",
            "Epoch 10/100\n",
            "1250/1250 [==============================] - 4s 3ms/step - loss: 1.9497 - accuracy: 0.2822 - val_loss: 1.9513 - val_accuracy: 0.2791\n",
            "Epoch 11/100\n",
            "1250/1250 [==============================] - 4s 3ms/step - loss: 1.9319 - accuracy: 0.2891 - val_loss: 1.9393 - val_accuracy: 0.2895\n",
            "Epoch 12/100\n",
            "1250/1250 [==============================] - 4s 4ms/step - loss: 1.9177 - accuracy: 0.2969 - val_loss: 1.9268 - val_accuracy: 0.2908\n",
            "Epoch 13/100\n",
            "1250/1250 [==============================] - 4s 3ms/step - loss: 1.9050 - accuracy: 0.3024 - val_loss: 1.9148 - val_accuracy: 0.3010\n",
            "Epoch 14/100\n",
            "1250/1250 [==============================] - 5s 4ms/step - loss: 1.8935 - accuracy: 0.3086 - val_loss: 1.9022 - val_accuracy: 0.3133\n",
            "Epoch 15/100\n",
            "1250/1250 [==============================] - 4s 4ms/step - loss: 1.8822 - accuracy: 0.3170 - val_loss: 1.8947 - val_accuracy: 0.3116\n",
            "Epoch 16/100\n",
            "1250/1250 [==============================] - 4s 3ms/step - loss: 1.8713 - accuracy: 0.3220 - val_loss: 1.8830 - val_accuracy: 0.3237\n",
            "Epoch 17/100\n",
            "1250/1250 [==============================] - 5s 4ms/step - loss: 1.8604 - accuracy: 0.3282 - val_loss: 1.8713 - val_accuracy: 0.3263\n",
            "Epoch 18/100\n",
            "1250/1250 [==============================] - 4s 4ms/step - loss: 1.8495 - accuracy: 0.3325 - val_loss: 1.8661 - val_accuracy: 0.3271\n",
            "Epoch 19/100\n",
            "1250/1250 [==============================] - 5s 4ms/step - loss: 1.8390 - accuracy: 0.3377 - val_loss: 1.8531 - val_accuracy: 0.3325\n",
            "Epoch 20/100\n",
            "1250/1250 [==============================] - 4s 3ms/step - loss: 1.8291 - accuracy: 0.3397 - val_loss: 1.8454 - val_accuracy: 0.3350\n",
            "Epoch 21/100\n",
            "1250/1250 [==============================] - 4s 4ms/step - loss: 1.8196 - accuracy: 0.3434 - val_loss: 1.8308 - val_accuracy: 0.3404\n",
            "Epoch 22/100\n",
            "1250/1250 [==============================] - 4s 4ms/step - loss: 1.8085 - accuracy: 0.3485 - val_loss: 1.8236 - val_accuracy: 0.3464\n",
            "Epoch 23/100\n",
            "1250/1250 [==============================] - 4s 4ms/step - loss: 1.7984 - accuracy: 0.3507 - val_loss: 1.8118 - val_accuracy: 0.3472\n",
            "Epoch 24/100\n",
            "1250/1250 [==============================] - 4s 4ms/step - loss: 1.7876 - accuracy: 0.3553 - val_loss: 1.8074 - val_accuracy: 0.3478\n",
            "Epoch 25/100\n",
            "1250/1250 [==============================] - 4s 3ms/step - loss: 1.7772 - accuracy: 0.3586 - val_loss: 1.7906 - val_accuracy: 0.3566\n",
            "Epoch 26/100\n",
            "1250/1250 [==============================] - 4s 4ms/step - loss: 1.7671 - accuracy: 0.3614 - val_loss: 1.7804 - val_accuracy: 0.3598\n",
            "Epoch 27/100\n",
            "1250/1250 [==============================] - 4s 3ms/step - loss: 1.7571 - accuracy: 0.3655 - val_loss: 1.7717 - val_accuracy: 0.3627\n",
            "Epoch 28/100\n",
            "1250/1250 [==============================] - 5s 4ms/step - loss: 1.7472 - accuracy: 0.3687 - val_loss: 1.7651 - val_accuracy: 0.3658\n",
            "Epoch 29/100\n",
            "1250/1250 [==============================] - 4s 3ms/step - loss: 1.7390 - accuracy: 0.3705 - val_loss: 1.7564 - val_accuracy: 0.3677\n",
            "Epoch 30/100\n",
            "1250/1250 [==============================] - 4s 4ms/step - loss: 1.7310 - accuracy: 0.3741 - val_loss: 1.7520 - val_accuracy: 0.3747\n",
            "Epoch 31/100\n",
            "1250/1250 [==============================] - 4s 4ms/step - loss: 1.7225 - accuracy: 0.3780 - val_loss: 1.7430 - val_accuracy: 0.3783\n",
            "Epoch 32/100\n",
            "1250/1250 [==============================] - 4s 4ms/step - loss: 1.7144 - accuracy: 0.3787 - val_loss: 1.7351 - val_accuracy: 0.3781\n",
            "Epoch 33/100\n",
            "1250/1250 [==============================] - 5s 4ms/step - loss: 1.7070 - accuracy: 0.3824 - val_loss: 1.7287 - val_accuracy: 0.3765\n",
            "Epoch 34/100\n",
            "1250/1250 [==============================] - 4s 3ms/step - loss: 1.6991 - accuracy: 0.3853 - val_loss: 1.7218 - val_accuracy: 0.3827\n",
            "Epoch 35/100\n",
            "1250/1250 [==============================] - 5s 4ms/step - loss: 1.6925 - accuracy: 0.3875 - val_loss: 1.7154 - val_accuracy: 0.3873\n",
            "Epoch 36/100\n",
            "1250/1250 [==============================] - 4s 4ms/step - loss: 1.6855 - accuracy: 0.3916 - val_loss: 1.7072 - val_accuracy: 0.3883\n",
            "Epoch 37/100\n",
            "1250/1250 [==============================] - 5s 4ms/step - loss: 1.6787 - accuracy: 0.3951 - val_loss: 1.7093 - val_accuracy: 0.3840\n",
            "Epoch 38/100\n",
            "1250/1250 [==============================] - 5s 4ms/step - loss: 1.6707 - accuracy: 0.3962 - val_loss: 1.6950 - val_accuracy: 0.3880\n",
            "Epoch 39/100\n",
            "1250/1250 [==============================] - 5s 4ms/step - loss: 1.6635 - accuracy: 0.4006 - val_loss: 1.6921 - val_accuracy: 0.3916\n",
            "Epoch 40/100\n",
            "1250/1250 [==============================] - 4s 4ms/step - loss: 1.6571 - accuracy: 0.4015 - val_loss: 1.6929 - val_accuracy: 0.3876\n",
            "Epoch 41/100\n",
            "1250/1250 [==============================] - 4s 4ms/step - loss: 1.6498 - accuracy: 0.4026 - val_loss: 1.6789 - val_accuracy: 0.3897\n",
            "Epoch 42/100\n",
            "1250/1250 [==============================] - 4s 4ms/step - loss: 1.6418 - accuracy: 0.4085 - val_loss: 1.6752 - val_accuracy: 0.4004\n",
            "Epoch 43/100\n",
            "1250/1250 [==============================] - 4s 4ms/step - loss: 1.6362 - accuracy: 0.4094 - val_loss: 1.6668 - val_accuracy: 0.4012\n",
            "Epoch 44/100\n",
            "1250/1250 [==============================] - 4s 3ms/step - loss: 1.6280 - accuracy: 0.4112 - val_loss: 1.6705 - val_accuracy: 0.4010\n",
            "Epoch 45/100\n",
            "1250/1250 [==============================] - 4s 3ms/step - loss: 1.6208 - accuracy: 0.4148 - val_loss: 1.6580 - val_accuracy: 0.3977\n",
            "Epoch 46/100\n",
            "1250/1250 [==============================] - 5s 4ms/step - loss: 1.6144 - accuracy: 0.4166 - val_loss: 1.6499 - val_accuracy: 0.3992\n",
            "Epoch 47/100\n",
            "1250/1250 [==============================] - 4s 4ms/step - loss: 1.6075 - accuracy: 0.4198 - val_loss: 1.6453 - val_accuracy: 0.4064\n",
            "Epoch 48/100\n",
            "1250/1250 [==============================] - 4s 4ms/step - loss: 1.6010 - accuracy: 0.4232 - val_loss: 1.6440 - val_accuracy: 0.4086\n",
            "Epoch 49/100\n",
            "1250/1250 [==============================] - 5s 4ms/step - loss: 1.5934 - accuracy: 0.4246 - val_loss: 1.6447 - val_accuracy: 0.4070\n",
            "Epoch 50/100\n",
            "1250/1250 [==============================] - 5s 4ms/step - loss: 1.5859 - accuracy: 0.4277 - val_loss: 1.6284 - val_accuracy: 0.4125\n",
            "Epoch 51/100\n",
            "1250/1250 [==============================] - 4s 3ms/step - loss: 1.5795 - accuracy: 0.4297 - val_loss: 1.6275 - val_accuracy: 0.4109\n",
            "Epoch 52/100\n",
            "1250/1250 [==============================] - 4s 4ms/step - loss: 1.5729 - accuracy: 0.4317 - val_loss: 1.6204 - val_accuracy: 0.4161\n",
            "Epoch 53/100\n",
            "1250/1250 [==============================] - 4s 4ms/step - loss: 1.5657 - accuracy: 0.4344 - val_loss: 1.6152 - val_accuracy: 0.4202\n",
            "Epoch 54/100\n",
            "1250/1250 [==============================] - 5s 4ms/step - loss: 1.5581 - accuracy: 0.4371 - val_loss: 1.6166 - val_accuracy: 0.4223\n",
            "Epoch 55/100\n",
            "1250/1250 [==============================] - 5s 4ms/step - loss: 1.5526 - accuracy: 0.4377 - val_loss: 1.6047 - val_accuracy: 0.4248\n",
            "Epoch 56/100\n",
            "1250/1250 [==============================] - 4s 4ms/step - loss: 1.5464 - accuracy: 0.4419 - val_loss: 1.6020 - val_accuracy: 0.4260\n",
            "Epoch 57/100\n",
            "1250/1250 [==============================] - 4s 4ms/step - loss: 1.5397 - accuracy: 0.4455 - val_loss: 1.5927 - val_accuracy: 0.4245\n",
            "Epoch 58/100\n",
            "1250/1250 [==============================] - 4s 3ms/step - loss: 1.5327 - accuracy: 0.4493 - val_loss: 1.6013 - val_accuracy: 0.4241\n",
            "Epoch 59/100\n",
            "1250/1250 [==============================] - 4s 3ms/step - loss: 1.5266 - accuracy: 0.4501 - val_loss: 1.5927 - val_accuracy: 0.4258\n",
            "Epoch 60/100\n",
            "1250/1250 [==============================] - 4s 3ms/step - loss: 1.5213 - accuracy: 0.4512 - val_loss: 1.6050 - val_accuracy: 0.4219\n",
            "Epoch 61/100\n",
            "1250/1250 [==============================] - 4s 4ms/step - loss: 1.5153 - accuracy: 0.4555 - val_loss: 1.5813 - val_accuracy: 0.4300\n",
            "Epoch 62/100\n",
            "1250/1250 [==============================] - 5s 4ms/step - loss: 1.5088 - accuracy: 0.4556 - val_loss: 1.5874 - val_accuracy: 0.4319\n",
            "Epoch 63/100\n",
            "1250/1250 [==============================] - 4s 4ms/step - loss: 1.5027 - accuracy: 0.4569 - val_loss: 1.5617 - val_accuracy: 0.4411\n",
            "Epoch 64/100\n",
            "1250/1250 [==============================] - 4s 3ms/step - loss: 1.4962 - accuracy: 0.4619 - val_loss: 1.5632 - val_accuracy: 0.4402\n",
            "Epoch 65/100\n",
            "1250/1250 [==============================] - 4s 4ms/step - loss: 1.4910 - accuracy: 0.4621 - val_loss: 1.5617 - val_accuracy: 0.4374\n",
            "Epoch 66/100\n",
            "1250/1250 [==============================] - 5s 4ms/step - loss: 1.4862 - accuracy: 0.4648 - val_loss: 1.5614 - val_accuracy: 0.4403\n",
            "Epoch 67/100\n",
            "1250/1250 [==============================] - 4s 4ms/step - loss: 1.4793 - accuracy: 0.4672 - val_loss: 1.5610 - val_accuracy: 0.4379\n",
            "Epoch 68/100\n",
            "1250/1250 [==============================] - 5s 4ms/step - loss: 1.4747 - accuracy: 0.4698 - val_loss: 1.5499 - val_accuracy: 0.4434\n",
            "Epoch 69/100\n",
            "1250/1250 [==============================] - 4s 3ms/step - loss: 1.4695 - accuracy: 0.4696 - val_loss: 1.5558 - val_accuracy: 0.4444\n",
            "Epoch 70/100\n",
            "1250/1250 [==============================] - 5s 4ms/step - loss: 1.4650 - accuracy: 0.4716 - val_loss: 1.5745 - val_accuracy: 0.4367\n",
            "Epoch 71/100\n",
            "1250/1250 [==============================] - 4s 4ms/step - loss: 1.4595 - accuracy: 0.4736 - val_loss: 1.5378 - val_accuracy: 0.4467\n",
            "Epoch 72/100\n",
            "1250/1250 [==============================] - 4s 3ms/step - loss: 1.4541 - accuracy: 0.4756 - val_loss: 1.5330 - val_accuracy: 0.4491\n",
            "Epoch 73/100\n",
            "1250/1250 [==============================] - 5s 4ms/step - loss: 1.4496 - accuracy: 0.4770 - val_loss: 1.5318 - val_accuracy: 0.4459\n",
            "Epoch 74/100\n",
            "1250/1250 [==============================] - 5s 4ms/step - loss: 1.4447 - accuracy: 0.4781 - val_loss: 1.5340 - val_accuracy: 0.4495\n",
            "Epoch 75/100\n",
            "1250/1250 [==============================] - 4s 4ms/step - loss: 1.4403 - accuracy: 0.4820 - val_loss: 1.5260 - val_accuracy: 0.4517\n",
            "Epoch 76/100\n",
            "1250/1250 [==============================] - 4s 4ms/step - loss: 1.4346 - accuracy: 0.4809 - val_loss: 1.5234 - val_accuracy: 0.4523\n",
            "Epoch 77/100\n",
            "1250/1250 [==============================] - 4s 3ms/step - loss: 1.4320 - accuracy: 0.4823 - val_loss: 1.5230 - val_accuracy: 0.4557\n",
            "Epoch 78/100\n",
            "1250/1250 [==============================] - 4s 4ms/step - loss: 1.4259 - accuracy: 0.4870 - val_loss: 1.5167 - val_accuracy: 0.4552\n",
            "Epoch 79/100\n",
            "1250/1250 [==============================] - 4s 4ms/step - loss: 1.4210 - accuracy: 0.4880 - val_loss: 1.5400 - val_accuracy: 0.4479\n",
            "Epoch 80/100\n",
            "1250/1250 [==============================] - 4s 3ms/step - loss: 1.4166 - accuracy: 0.4895 - val_loss: 1.5648 - val_accuracy: 0.4424\n",
            "Epoch 81/100\n",
            "1250/1250 [==============================] - 4s 4ms/step - loss: 1.4139 - accuracy: 0.4908 - val_loss: 1.5203 - val_accuracy: 0.4519\n",
            "Epoch 82/100\n",
            "1250/1250 [==============================] - 5s 4ms/step - loss: 1.4087 - accuracy: 0.4925 - val_loss: 1.5183 - val_accuracy: 0.4528\n",
            "Epoch 83/100\n",
            "1250/1250 [==============================] - 5s 4ms/step - loss: 1.4038 - accuracy: 0.4960 - val_loss: 1.5173 - val_accuracy: 0.4537\n",
            "Epoch 84/100\n",
            "1250/1250 [==============================] - 5s 4ms/step - loss: 1.4006 - accuracy: 0.4953 - val_loss: 1.5187 - val_accuracy: 0.4564\n",
            "Epoch 85/100\n",
            "1250/1250 [==============================] - 5s 4ms/step - loss: 1.3970 - accuracy: 0.4959 - val_loss: 1.5052 - val_accuracy: 0.4603\n",
            "Epoch 86/100\n",
            "1250/1250 [==============================] - 4s 4ms/step - loss: 1.3921 - accuracy: 0.4982 - val_loss: 1.5127 - val_accuracy: 0.4620\n",
            "Epoch 87/100\n",
            "1250/1250 [==============================] - 5s 4ms/step - loss: 1.3890 - accuracy: 0.4987 - val_loss: 1.5021 - val_accuracy: 0.4619\n",
            "Epoch 88/100\n",
            "1250/1250 [==============================] - 5s 4ms/step - loss: 1.3841 - accuracy: 0.5033 - val_loss: 1.5142 - val_accuracy: 0.4633\n",
            "Epoch 89/100\n",
            "1250/1250 [==============================] - 5s 4ms/step - loss: 1.3799 - accuracy: 0.5026 - val_loss: 1.5085 - val_accuracy: 0.4609\n",
            "Epoch 90/100\n",
            "1250/1250 [==============================] - 5s 4ms/step - loss: 1.3759 - accuracy: 0.5049 - val_loss: 1.5207 - val_accuracy: 0.4561\n",
            "Epoch 91/100\n",
            "1250/1250 [==============================] - 5s 4ms/step - loss: 1.3721 - accuracy: 0.5077 - val_loss: 1.5036 - val_accuracy: 0.4622\n",
            "Epoch 92/100\n",
            "1250/1250 [==============================] - 5s 4ms/step - loss: 1.3689 - accuracy: 0.5053 - val_loss: 1.5085 - val_accuracy: 0.4612\n",
            "Epoch 93/100\n",
            "1250/1250 [==============================] - 4s 4ms/step - loss: 1.3657 - accuracy: 0.5066 - val_loss: 1.5015 - val_accuracy: 0.4625\n",
            "Epoch 94/100\n",
            "1250/1250 [==============================] - 5s 4ms/step - loss: 1.3611 - accuracy: 0.5103 - val_loss: 1.4939 - val_accuracy: 0.4672\n",
            "Epoch 95/100\n",
            "1250/1250 [==============================] - 5s 4ms/step - loss: 1.3577 - accuracy: 0.5113 - val_loss: 1.5208 - val_accuracy: 0.4564\n",
            "Epoch 96/100\n",
            "1250/1250 [==============================] - 4s 4ms/step - loss: 1.3536 - accuracy: 0.5128 - val_loss: 1.5108 - val_accuracy: 0.4578\n",
            "Epoch 97/100\n",
            "1250/1250 [==============================] - 5s 4ms/step - loss: 1.3484 - accuracy: 0.5151 - val_loss: 1.4983 - val_accuracy: 0.4663\n",
            "Epoch 98/100\n",
            "1250/1250 [==============================] - 5s 4ms/step - loss: 1.3468 - accuracy: 0.5160 - val_loss: 1.5044 - val_accuracy: 0.4647\n",
            "Epoch 99/100\n",
            "1250/1250 [==============================] - 4s 4ms/step - loss: 1.3442 - accuracy: 0.5170 - val_loss: 1.4897 - val_accuracy: 0.4664\n",
            "Epoch 100/100\n",
            "1250/1250 [==============================] - 4s 3ms/step - loss: 1.3404 - accuracy: 0.5175 - val_loss: 1.5034 - val_accuracy: 0.4608\n"
          ]
        }
      ],
      "source": [
        "def cal():\n",
        "    model = Sequential()\n",
        "    model.add(Dense(50, activation='sigmoid', input_dim=3072,kernel_initializer='he_normal'))\n",
        "    model.add(Dense(50, activation='sigmoid',kernel_initializer='he_normal'))\n",
        "    model.add(Dense(50, activation='sigmoid',kernel_initializer='he_normal'))\n",
        "    model.add(Dense(10, activation='softmax',kernel_initializer='he_normal'))\n",
        "    sgd = optimizers.SGD(learning_rate = 0.01)    # stochastic gradient descent optimizer\n",
        "    model.compile(optimizer = sgd, loss = 'categorical_crossentropy', metrics = ['accuracy'])\n",
        "    return model\n",
        "model=cal()\n",
        "history=model.fit(X_train, y_train, batch_size = 32,validation_split=0.2, epochs = 100, verbose = 1)"
      ]
    },
    {
      "cell_type": "code",
      "execution_count": null,
      "metadata": {
        "colab": {
          "base_uri": "https://localhost:8080/",
          "height": 265
        },
        "outputId": "4696a76a-4d66-44c6-b7ab-45636f4023c7",
        "id": "JIto2o8PQfrq"
      },
      "outputs": [
        {
          "output_type": "display_data",
          "data": {
            "image/png": "[encoded data removed]",
            "text/plain": [
              "<Figure size 432x288 with 1 Axes>"
            ]
          },
          "metadata": {
            "needs_background": "light"
          }
        }
      ],
      "source": [
        "plt.plot(history.history['accuracy'])\n",
        "plt.plot(history.history['val_accuracy'])\n",
        "plt.plot(history.history['loss'])\n",
        "plt.plot(history.history['val_loss'])\n",
        "plt.legend(['train_acc','valid_acc','train_loss','valid_loss'],loc='upper left')\n",
        "plt.show()"
      ]
    },
    {
      "cell_type": "code",
      "execution_count": null,
      "metadata": {
        "colab": {
          "base_uri": "https://localhost:8080/"
        },
        "outputId": "0f426917-4f78-41f1-d2cf-26f24c3f8397",
        "id": "GF238c_uQfrr"
      },
      "outputs": [
        {
          "output_type": "stream",
          "name": "stdout",
          "text": [
            "313/313 [==============================] - 1s 2ms/step - loss: 1.4900 - accuracy: 0.4674\n",
            "Accuracy = 46.74000144004822%\n"
          ]
        }
      ],
      "source": [
        "results=model.evaluate(X_test,y_test)\n",
        "print(\"Accuracy = {}%\".format(results[1]*100))"
      ]
    },
    {
      "cell_type": "markdown",
      "metadata": {
        "id": "CwDegpyxQfrr"
      },
      "source": [
        "#ADDING RELU ACTIVATION FUNCTION WITH he_normal INITIALIZER"
      ]
    },
    {
      "cell_type": "code",
      "execution_count": null,
      "metadata": {
        "colab": {
          "base_uri": "https://localhost:8080/"
        },
        "outputId": "50968285-69a9-4f15-e196-7b6ec78214ee",
        "id": "3vZiKmiQQfrr"
      },
      "outputs": [
        {
          "output_type": "stream",
          "name": "stdout",
          "text": [
            "Epoch 1/100\n",
            "1250/1250 [==============================] - 5s 3ms/step - loss: 1.9676 - accuracy: 0.2778 - val_loss: 1.8144 - val_accuracy: 0.3542\n",
            "Epoch 2/100\n",
            "1250/1250 [==============================] - 4s 3ms/step - loss: 1.7831 - accuracy: 0.3553 - val_loss: 1.7706 - val_accuracy: 0.3645\n",
            "Epoch 3/100\n",
            "1250/1250 [==============================] - 4s 3ms/step - loss: 1.7108 - accuracy: 0.3842 - val_loss: 1.7211 - val_accuracy: 0.3894\n",
            "Epoch 4/100\n",
            "1250/1250 [==============================] - 4s 3ms/step - loss: 1.6658 - accuracy: 0.4018 - val_loss: 1.6605 - val_accuracy: 0.4113\n",
            "Epoch 5/100\n",
            "1250/1250 [==============================] - 4s 3ms/step - loss: 1.6308 - accuracy: 0.4128 - val_loss: 1.6360 - val_accuracy: 0.4247\n",
            "Epoch 6/100\n",
            "1250/1250 [==============================] - 4s 3ms/step - loss: 1.6005 - accuracy: 0.4273 - val_loss: 1.6355 - val_accuracy: 0.4253\n",
            "Epoch 7/100\n",
            "1250/1250 [==============================] - 4s 3ms/step - loss: 1.5784 - accuracy: 0.4346 - val_loss: 1.6020 - val_accuracy: 0.4368\n",
            "Epoch 8/100\n",
            "1250/1250 [==============================] - 4s 3ms/step - loss: 1.5556 - accuracy: 0.4446 - val_loss: 1.5763 - val_accuracy: 0.4385\n",
            "Epoch 9/100\n",
            "1250/1250 [==============================] - 4s 3ms/step - loss: 1.5369 - accuracy: 0.4524 - val_loss: 1.6044 - val_accuracy: 0.4314\n",
            "Epoch 10/100\n",
            "1250/1250 [==============================] - 4s 3ms/step - loss: 1.5184 - accuracy: 0.4582 - val_loss: 1.5746 - val_accuracy: 0.4410\n",
            "Epoch 11/100\n",
            "1250/1250 [==============================] - 4s 3ms/step - loss: 1.5054 - accuracy: 0.4599 - val_loss: 1.6048 - val_accuracy: 0.4274\n",
            "Epoch 12/100\n",
            "1250/1250 [==============================] - 4s 3ms/step - loss: 1.4897 - accuracy: 0.4650 - val_loss: 1.5665 - val_accuracy: 0.4397\n",
            "Epoch 13/100\n",
            "1250/1250 [==============================] - 4s 3ms/step - loss: 1.4803 - accuracy: 0.4696 - val_loss: 1.5437 - val_accuracy: 0.4550\n",
            "Epoch 14/100\n",
            "1250/1250 [==============================] - 4s 3ms/step - loss: 1.4672 - accuracy: 0.4717 - val_loss: 1.5693 - val_accuracy: 0.4440\n",
            "Epoch 15/100\n",
            "1250/1250 [==============================] - 4s 3ms/step - loss: 1.4566 - accuracy: 0.4775 - val_loss: 1.5593 - val_accuracy: 0.4469\n",
            "Epoch 16/100\n",
            "1250/1250 [==============================] - 4s 3ms/step - loss: 1.4443 - accuracy: 0.4800 - val_loss: 1.5734 - val_accuracy: 0.4481\n",
            "Epoch 17/100\n",
            "1250/1250 [==============================] - 4s 3ms/step - loss: 1.4317 - accuracy: 0.4861 - val_loss: 1.5422 - val_accuracy: 0.4540\n",
            "Epoch 18/100\n",
            "1250/1250 [==============================] - 4s 3ms/step - loss: 1.4220 - accuracy: 0.4889 - val_loss: 1.5168 - val_accuracy: 0.4661\n",
            "Epoch 19/100\n",
            "1250/1250 [==============================] - 4s 3ms/step - loss: 1.4116 - accuracy: 0.4956 - val_loss: 1.5233 - val_accuracy: 0.4646\n",
            "Epoch 20/100\n",
            "1250/1250 [==============================] - 4s 3ms/step - loss: 1.4039 - accuracy: 0.4951 - val_loss: 1.5108 - val_accuracy: 0.4652\n",
            "Epoch 21/100\n",
            "1250/1250 [==============================] - 4s 3ms/step - loss: 1.3965 - accuracy: 0.5006 - val_loss: 1.5516 - val_accuracy: 0.4533\n",
            "Epoch 22/100\n",
            "1250/1250 [==============================] - 4s 3ms/step - loss: 1.3846 - accuracy: 0.5013 - val_loss: 1.5359 - val_accuracy: 0.4522\n",
            "Epoch 23/100\n",
            "1250/1250 [==============================] - 4s 3ms/step - loss: 1.3800 - accuracy: 0.5068 - val_loss: 1.4852 - val_accuracy: 0.4741\n",
            "Epoch 24/100\n",
            "1250/1250 [==============================] - 4s 3ms/step - loss: 1.3731 - accuracy: 0.5071 - val_loss: 1.5383 - val_accuracy: 0.4597\n",
            "Epoch 25/100\n",
            "1250/1250 [==============================] - 4s 3ms/step - loss: 1.3659 - accuracy: 0.5120 - val_loss: 1.5215 - val_accuracy: 0.4675\n",
            "Epoch 26/100\n",
            "1250/1250 [==============================] - 4s 3ms/step - loss: 1.3575 - accuracy: 0.5129 - val_loss: 1.5244 - val_accuracy: 0.4621\n",
            "Epoch 27/100\n",
            "1250/1250 [==============================] - 4s 3ms/step - loss: 1.3509 - accuracy: 0.5135 - val_loss: 1.5915 - val_accuracy: 0.4406\n",
            "Epoch 28/100\n",
            "1250/1250 [==============================] - 4s 3ms/step - loss: 1.3432 - accuracy: 0.5184 - val_loss: 1.5115 - val_accuracy: 0.4691\n",
            "Epoch 29/100\n",
            "1250/1250 [==============================] - 4s 3ms/step - loss: 1.3356 - accuracy: 0.5230 - val_loss: 1.5077 - val_accuracy: 0.4750\n",
            "Epoch 30/100\n",
            "1250/1250 [==============================] - 4s 3ms/step - loss: 1.3291 - accuracy: 0.5266 - val_loss: 1.5628 - val_accuracy: 0.4572\n",
            "Epoch 31/100\n",
            "1250/1250 [==============================] - 4s 3ms/step - loss: 1.3184 - accuracy: 0.5283 - val_loss: 1.5353 - val_accuracy: 0.4634\n",
            "Epoch 32/100\n",
            "1250/1250 [==============================] - 4s 3ms/step - loss: 1.3178 - accuracy: 0.5269 - val_loss: 1.5078 - val_accuracy: 0.4738\n",
            "Epoch 33/100\n",
            "1250/1250 [==============================] - 4s 3ms/step - loss: 1.3084 - accuracy: 0.5300 - val_loss: 1.4698 - val_accuracy: 0.4872\n",
            "Epoch 34/100\n",
            "1250/1250 [==============================] - 4s 3ms/step - loss: 1.3021 - accuracy: 0.5332 - val_loss: 1.4565 - val_accuracy: 0.4890\n",
            "Epoch 35/100\n",
            "1250/1250 [==============================] - 4s 3ms/step - loss: 1.2991 - accuracy: 0.5356 - val_loss: 1.4950 - val_accuracy: 0.4741\n",
            "Epoch 36/100\n",
            "1250/1250 [==============================] - 4s 3ms/step - loss: 1.2908 - accuracy: 0.5371 - val_loss: 1.4890 - val_accuracy: 0.4788\n",
            "Epoch 37/100\n",
            "1250/1250 [==============================] - 4s 3ms/step - loss: 1.2839 - accuracy: 0.5380 - val_loss: 1.4786 - val_accuracy: 0.4806\n",
            "Epoch 38/100\n",
            "1250/1250 [==============================] - 4s 3ms/step - loss: 1.2791 - accuracy: 0.5443 - val_loss: 1.4665 - val_accuracy: 0.4866\n",
            "Epoch 39/100\n",
            "1250/1250 [==============================] - 4s 3ms/step - loss: 1.2736 - accuracy: 0.5428 - val_loss: 1.4554 - val_accuracy: 0.4954\n",
            "Epoch 40/100\n",
            "1250/1250 [==============================] - 4s 3ms/step - loss: 1.2696 - accuracy: 0.5458 - val_loss: 1.5058 - val_accuracy: 0.4720\n",
            "Epoch 41/100\n",
            "1250/1250 [==============================] - 4s 3ms/step - loss: 1.2608 - accuracy: 0.5501 - val_loss: 1.4883 - val_accuracy: 0.4824\n",
            "Epoch 42/100\n",
            "1250/1250 [==============================] - 4s 3ms/step - loss: 1.2562 - accuracy: 0.5509 - val_loss: 1.4955 - val_accuracy: 0.4792\n",
            "Epoch 43/100\n",
            "1250/1250 [==============================] - 4s 3ms/step - loss: 1.2514 - accuracy: 0.5509 - val_loss: 1.4520 - val_accuracy: 0.4940\n",
            "Epoch 44/100\n",
            "1250/1250 [==============================] - 4s 3ms/step - loss: 1.2468 - accuracy: 0.5544 - val_loss: 1.4713 - val_accuracy: 0.4917\n",
            "Epoch 45/100\n",
            "1250/1250 [==============================] - 4s 3ms/step - loss: 1.2392 - accuracy: 0.5573 - val_loss: 1.5148 - val_accuracy: 0.4818\n",
            "Epoch 46/100\n",
            "1250/1250 [==============================] - 4s 3ms/step - loss: 1.2376 - accuracy: 0.5588 - val_loss: 1.4952 - val_accuracy: 0.4842\n",
            "Epoch 47/100\n",
            "1250/1250 [==============================] - 4s 3ms/step - loss: 1.2341 - accuracy: 0.5609 - val_loss: 1.4901 - val_accuracy: 0.4860\n",
            "Epoch 48/100\n",
            "1250/1250 [==============================] - 4s 3ms/step - loss: 1.2252 - accuracy: 0.5625 - val_loss: 1.4693 - val_accuracy: 0.4907\n",
            "Epoch 49/100\n",
            "1250/1250 [==============================] - 4s 3ms/step - loss: 1.2231 - accuracy: 0.5612 - val_loss: 1.4742 - val_accuracy: 0.4906\n",
            "Epoch 50/100\n",
            "1250/1250 [==============================] - 4s 3ms/step - loss: 1.2150 - accuracy: 0.5657 - val_loss: 1.4766 - val_accuracy: 0.4910\n",
            "Epoch 51/100\n",
            "1250/1250 [==============================] - 4s 3ms/step - loss: 1.2134 - accuracy: 0.5669 - val_loss: 1.4866 - val_accuracy: 0.4836\n",
            "Epoch 52/100\n",
            "1250/1250 [==============================] - 4s 3ms/step - loss: 1.2099 - accuracy: 0.5691 - val_loss: 1.5702 - val_accuracy: 0.4725\n",
            "Epoch 53/100\n",
            "1250/1250 [==============================] - 4s 3ms/step - loss: 1.2020 - accuracy: 0.5695 - val_loss: 1.4963 - val_accuracy: 0.4867\n",
            "Epoch 54/100\n",
            "1250/1250 [==============================] - 4s 3ms/step - loss: 1.1983 - accuracy: 0.5704 - val_loss: 1.4766 - val_accuracy: 0.4968\n",
            "Epoch 55/100\n",
            "1250/1250 [==============================] - 4s 3ms/step - loss: 1.1957 - accuracy: 0.5737 - val_loss: 1.4991 - val_accuracy: 0.4877\n",
            "Epoch 56/100\n",
            "1250/1250 [==============================] - 4s 3ms/step - loss: 1.1905 - accuracy: 0.5754 - val_loss: 1.4885 - val_accuracy: 0.4903\n",
            "Epoch 57/100\n",
            "1250/1250 [==============================] - 4s 3ms/step - loss: 1.1850 - accuracy: 0.5752 - val_loss: 1.5115 - val_accuracy: 0.4822\n",
            "Epoch 58/100\n",
            "1250/1250 [==============================] - 4s 3ms/step - loss: 1.1848 - accuracy: 0.5762 - val_loss: 1.5026 - val_accuracy: 0.4829\n",
            "Epoch 59/100\n",
            "1250/1250 [==============================] - 4s 3ms/step - loss: 1.1802 - accuracy: 0.5782 - val_loss: 1.5091 - val_accuracy: 0.4844\n",
            "Epoch 60/100\n",
            "1250/1250 [==============================] - 4s 3ms/step - loss: 1.1749 - accuracy: 0.5811 - val_loss: 1.4775 - val_accuracy: 0.4912\n",
            "Epoch 61/100\n",
            "1250/1250 [==============================] - 4s 3ms/step - loss: 1.1709 - accuracy: 0.5828 - val_loss: 1.5015 - val_accuracy: 0.4980\n",
            "Epoch 62/100\n",
            "1250/1250 [==============================] - 4s 3ms/step - loss: 1.1683 - accuracy: 0.5809 - val_loss: 1.5182 - val_accuracy: 0.4831\n",
            "Epoch 63/100\n",
            "1250/1250 [==============================] - 4s 3ms/step - loss: 1.1629 - accuracy: 0.5844 - val_loss: 1.5655 - val_accuracy: 0.4782\n",
            "Epoch 64/100\n",
            "1250/1250 [==============================] - 4s 3ms/step - loss: 1.1621 - accuracy: 0.5868 - val_loss: 1.5047 - val_accuracy: 0.4974\n",
            "Epoch 65/100\n",
            "1250/1250 [==============================] - 4s 3ms/step - loss: 1.1546 - accuracy: 0.5871 - val_loss: 1.4934 - val_accuracy: 0.4966\n",
            "Epoch 66/100\n",
            "1250/1250 [==============================] - 4s 3ms/step - loss: 1.1541 - accuracy: 0.5893 - val_loss: 1.4831 - val_accuracy: 0.4977\n",
            "Epoch 67/100\n",
            "1250/1250 [==============================] - 4s 3ms/step - loss: 1.1496 - accuracy: 0.5872 - val_loss: 1.4936 - val_accuracy: 0.4978\n",
            "Epoch 68/100\n",
            "1250/1250 [==============================] - 4s 3ms/step - loss: 1.1457 - accuracy: 0.5904 - val_loss: 1.5250 - val_accuracy: 0.4887\n",
            "Epoch 69/100\n",
            "1250/1250 [==============================] - 4s 3ms/step - loss: 1.1422 - accuracy: 0.5916 - val_loss: 1.5860 - val_accuracy: 0.4734\n",
            "Epoch 70/100\n",
            "1250/1250 [==============================] - 4s 3ms/step - loss: 1.1358 - accuracy: 0.5947 - val_loss: 1.5081 - val_accuracy: 0.4896\n",
            "Epoch 71/100\n",
            "1250/1250 [==============================] - 4s 3ms/step - loss: 1.1339 - accuracy: 0.5935 - val_loss: 1.5361 - val_accuracy: 0.4892\n",
            "Epoch 72/100\n",
            "1250/1250 [==============================] - 4s 3ms/step - loss: 1.1297 - accuracy: 0.5970 - val_loss: 1.5347 - val_accuracy: 0.4854\n",
            "Epoch 73/100\n",
            "1250/1250 [==============================] - 4s 3ms/step - loss: 1.1287 - accuracy: 0.5941 - val_loss: 1.4892 - val_accuracy: 0.5050\n",
            "Epoch 74/100\n",
            "1250/1250 [==============================] - 4s 3ms/step - loss: 1.1249 - accuracy: 0.6002 - val_loss: 1.4887 - val_accuracy: 0.4964\n",
            "Epoch 75/100\n",
            "1250/1250 [==============================] - 4s 3ms/step - loss: 1.1240 - accuracy: 0.5972 - val_loss: 1.5258 - val_accuracy: 0.4859\n",
            "Epoch 76/100\n",
            "1250/1250 [==============================] - 4s 3ms/step - loss: 1.1195 - accuracy: 0.5991 - val_loss: 1.5995 - val_accuracy: 0.4727\n",
            "Epoch 77/100\n",
            "1250/1250 [==============================] - 4s 3ms/step - loss: 1.1174 - accuracy: 0.6004 - val_loss: 1.5182 - val_accuracy: 0.4933\n",
            "Epoch 78/100\n",
            "1250/1250 [==============================] - 4s 3ms/step - loss: 1.1101 - accuracy: 0.6042 - val_loss: 1.5062 - val_accuracy: 0.5006\n",
            "Epoch 79/100\n",
            "1250/1250 [==============================] - 4s 3ms/step - loss: 1.1087 - accuracy: 0.6037 - val_loss: 1.5297 - val_accuracy: 0.4903\n",
            "Epoch 80/100\n",
            "1250/1250 [==============================] - 4s 3ms/step - loss: 1.1082 - accuracy: 0.6035 - val_loss: 1.5486 - val_accuracy: 0.4788\n",
            "Epoch 81/100\n",
            "1250/1250 [==============================] - 4s 3ms/step - loss: 1.1026 - accuracy: 0.6078 - val_loss: 1.5006 - val_accuracy: 0.5005\n",
            "Epoch 82/100\n",
            "1250/1250 [==============================] - 4s 3ms/step - loss: 1.0982 - accuracy: 0.6062 - val_loss: 1.5246 - val_accuracy: 0.4964\n",
            "Epoch 83/100\n",
            "1250/1250 [==============================] - 4s 3ms/step - loss: 1.0965 - accuracy: 0.6100 - val_loss: 1.6255 - val_accuracy: 0.4672\n",
            "Epoch 84/100\n",
            "1250/1250 [==============================] - 4s 3ms/step - loss: 1.0941 - accuracy: 0.6099 - val_loss: 1.5200 - val_accuracy: 0.4972\n",
            "Epoch 85/100\n",
            "1250/1250 [==============================] - 4s 3ms/step - loss: 1.0892 - accuracy: 0.6086 - val_loss: 1.5422 - val_accuracy: 0.4891\n",
            "Epoch 86/100\n",
            "1250/1250 [==============================] - 4s 3ms/step - loss: 1.0866 - accuracy: 0.6130 - val_loss: 1.5377 - val_accuracy: 0.4960\n",
            "Epoch 87/100\n",
            "1250/1250 [==============================] - 4s 3ms/step - loss: 1.0847 - accuracy: 0.6119 - val_loss: 1.5521 - val_accuracy: 0.4913\n",
            "Epoch 88/100\n",
            "1250/1250 [==============================] - 4s 3ms/step - loss: 1.0809 - accuracy: 0.6137 - val_loss: 1.5337 - val_accuracy: 0.5033\n",
            "Epoch 89/100\n",
            "1250/1250 [==============================] - 4s 3ms/step - loss: 1.0772 - accuracy: 0.6136 - val_loss: 1.5253 - val_accuracy: 0.4955\n",
            "Epoch 90/100\n",
            "1250/1250 [==============================] - 4s 3ms/step - loss: 1.0741 - accuracy: 0.6169 - val_loss: 1.5564 - val_accuracy: 0.4973\n",
            "Epoch 91/100\n",
            "1250/1250 [==============================] - 4s 3ms/step - loss: 1.0734 - accuracy: 0.6199 - val_loss: 1.5197 - val_accuracy: 0.5001\n",
            "Epoch 92/100\n",
            "1250/1250 [==============================] - 4s 3ms/step - loss: 1.0688 - accuracy: 0.6166 - val_loss: 1.5357 - val_accuracy: 0.5034\n",
            "Epoch 93/100\n",
            "1250/1250 [==============================] - 4s 3ms/step - loss: 1.0665 - accuracy: 0.6184 - val_loss: 1.5444 - val_accuracy: 0.4984\n",
            "Epoch 94/100\n",
            "1250/1250 [==============================] - 4s 3ms/step - loss: 1.0642 - accuracy: 0.6194 - val_loss: 1.5344 - val_accuracy: 0.4992\n",
            "Epoch 95/100\n",
            "1250/1250 [==============================] - 4s 3ms/step - loss: 1.0605 - accuracy: 0.6185 - val_loss: 1.5418 - val_accuracy: 0.4900\n",
            "Epoch 96/100\n",
            "1250/1250 [==============================] - 4s 3ms/step - loss: 1.0602 - accuracy: 0.6187 - val_loss: 1.5868 - val_accuracy: 0.4833\n",
            "Epoch 97/100\n",
            "1250/1250 [==============================] - 4s 3ms/step - loss: 1.0569 - accuracy: 0.6231 - val_loss: 1.5420 - val_accuracy: 0.5026\n",
            "Epoch 98/100\n",
            "1250/1250 [==============================] - 4s 3ms/step - loss: 1.0561 - accuracy: 0.6219 - val_loss: 1.5429 - val_accuracy: 0.4912\n",
            "Epoch 99/100\n",
            "1250/1250 [==============================] - 4s 3ms/step - loss: 1.0517 - accuracy: 0.6234 - val_loss: 1.5223 - val_accuracy: 0.4942\n",
            "Epoch 100/100\n",
            "1250/1250 [==============================] - 4s 3ms/step - loss: 1.0467 - accuracy: 0.6234 - val_loss: 1.5455 - val_accuracy: 0.4920\n"
          ]
        }
      ],
      "source": [
        "def cal():\n",
        "    model = Sequential()\n",
        "    model.add(Dense(50, activation='relu', input_dim=3072,kernel_initializer='he_normal'))\n",
        "    model.add(Dense(50, activation='relu',kernel_initializer='he_normal'))\n",
        "    model.add(Dense(50, activation='relu',kernel_initializer='he_normal'))\n",
        "    model.add(Dense(10, activation='softmax',kernel_initializer='he_normal'))\n",
        "    sgd = optimizers.SGD(learning_rate = 0.01)    # stochastic gradient descent optimizer\n",
        "    model.compile(optimizer = sgd, loss = 'categorical_crossentropy', metrics = ['accuracy'])\n",
        "    return model\n",
        "model=cal()\n",
        "history=model.fit(X_train, y_train, batch_size = 32,validation_split=0.2, epochs = 100, verbose = 1)"
      ]
    },
    {
      "cell_type": "code",
      "execution_count": null,
      "metadata": {
        "colab": {
          "base_uri": "https://localhost:8080/",
          "height": 265
        },
        "outputId": "f0e1862a-6a77-4d98-bd69-2556b029bb11",
        "id": "98cxEbbhQfrs"
      },
      "outputs": [
        {
          "output_type": "display_data",
          "data": {
            "image/png": "[encoded data removed]",
            "text/plain": [
              "<Figure size 432x288 with 1 Axes>"
            ]
          },
          "metadata": {
            "needs_background": "light"
          }
        }
      ],
      "source": [
        "plt.plot(history.history['accuracy'])\n",
        "plt.plot(history.history['val_accuracy'])\n",
        "plt.plot(history.history['loss'])\n",
        "plt.plot(history.history['val_loss'])\n",
        "plt.legend(['train_acc','valid_acc','train_loss','valid_loss'],loc='upper left')\n",
        "plt.show()"
      ]
    },
    {
      "cell_type": "code",
      "execution_count": null,
      "metadata": {
        "colab": {
          "base_uri": "https://localhost:8080/"
        },
        "outputId": "8d1f932b-43ed-4546-b4a0-8f44f6792e43",
        "id": "vIlQXia0Qfrs"
      },
      "outputs": [
        {
          "output_type": "stream",
          "name": "stdout",
          "text": [
            "313/313 [==============================] - 1s 2ms/step - loss: 1.5195 - accuracy: 0.4914\n",
            "Accuracy = 49.140000343322754%\n"
          ]
        }
      ],
      "source": [
        "results=model.evaluate(X_test,y_test)\n",
        "print(\"Accuracy = {}%\".format(results[1]*100))"
      ]
    },
    {
      "cell_type": "markdown",
      "metadata": {
        "id": "jZjAu829Qfrs"
      },
      "source": [
        "#CHANGING TO Adagrad optimizer"
      ]
    },
    {
      "cell_type": "code",
      "execution_count": null,
      "metadata": {
        "colab": {
          "base_uri": "https://localhost:8080/"
        },
        "outputId": "a0b9a91d-ea72-4c79-d1f0-693418988a4b",
        "id": "KOrfXfzYQfrs"
      },
      "outputs": [
        {
          "output_type": "stream",
          "name": "stdout",
          "text": [
            "Epoch 1/100\n",
            "1250/1250 [==============================] - 5s 4ms/step - loss: 1.9655 - accuracy: 0.2811 - val_loss: 1.8524 - val_accuracy: 0.3343\n",
            "Epoch 2/100\n",
            "1250/1250 [==============================] - 4s 3ms/step - loss: 1.8128 - accuracy: 0.3470 - val_loss: 1.7923 - val_accuracy: 0.3613\n",
            "Epoch 3/100\n",
            "1250/1250 [==============================] - 4s 3ms/step - loss: 1.7598 - accuracy: 0.3677 - val_loss: 1.7735 - val_accuracy: 0.3687\n",
            "Epoch 4/100\n",
            "1250/1250 [==============================] - 5s 4ms/step - loss: 1.7185 - accuracy: 0.3847 - val_loss: 1.7148 - val_accuracy: 0.3926\n",
            "Epoch 5/100\n",
            "1250/1250 [==============================] - 4s 4ms/step - loss: 1.6779 - accuracy: 0.4019 - val_loss: 1.6875 - val_accuracy: 0.4041\n",
            "Epoch 6/100\n",
            "1250/1250 [==============================] - 4s 4ms/step - loss: 1.6462 - accuracy: 0.4153 - val_loss: 1.6772 - val_accuracy: 0.4078\n",
            "Epoch 7/100\n",
            "1250/1250 [==============================] - 4s 4ms/step - loss: 1.6186 - accuracy: 0.4254 - val_loss: 1.6542 - val_accuracy: 0.4137\n",
            "Epoch 8/100\n",
            "1250/1250 [==============================] - 4s 3ms/step - loss: 1.6012 - accuracy: 0.4317 - val_loss: 1.6428 - val_accuracy: 0.4203\n",
            "Epoch 9/100\n",
            "1250/1250 [==============================] - 4s 4ms/step - loss: 1.5839 - accuracy: 0.4368 - val_loss: 1.6313 - val_accuracy: 0.4239\n",
            "Epoch 10/100\n",
            "1250/1250 [==============================] - 4s 3ms/step - loss: 1.5673 - accuracy: 0.4433 - val_loss: 1.6291 - val_accuracy: 0.4222\n",
            "Epoch 11/100\n",
            "1250/1250 [==============================] - 4s 3ms/step - loss: 1.5524 - accuracy: 0.4489 - val_loss: 1.6108 - val_accuracy: 0.4307\n",
            "Epoch 12/100\n",
            "1250/1250 [==============================] - 4s 4ms/step - loss: 1.5394 - accuracy: 0.4530 - val_loss: 1.6034 - val_accuracy: 0.4305\n",
            "Epoch 13/100\n",
            "1250/1250 [==============================] - 4s 4ms/step - loss: 1.5291 - accuracy: 0.4610 - val_loss: 1.5925 - val_accuracy: 0.4373\n",
            "Epoch 14/100\n",
            "1250/1250 [==============================] - 4s 3ms/step - loss: 1.5181 - accuracy: 0.4613 - val_loss: 1.5862 - val_accuracy: 0.4360\n",
            "Epoch 15/100\n",
            "1250/1250 [==============================] - 4s 4ms/step - loss: 1.5073 - accuracy: 0.4651 - val_loss: 1.5868 - val_accuracy: 0.4370\n",
            "Epoch 16/100\n",
            "1250/1250 [==============================] - 5s 4ms/step - loss: 1.4982 - accuracy: 0.4685 - val_loss: 1.5711 - val_accuracy: 0.4417\n",
            "Epoch 17/100\n",
            "1250/1250 [==============================] - 4s 3ms/step - loss: 1.4882 - accuracy: 0.4717 - val_loss: 1.5742 - val_accuracy: 0.4406\n",
            "Epoch 18/100\n",
            "1250/1250 [==============================] - 5s 4ms/step - loss: 1.4788 - accuracy: 0.4749 - val_loss: 1.5574 - val_accuracy: 0.4503\n",
            "Epoch 19/100\n",
            "1250/1250 [==============================] - 4s 4ms/step - loss: 1.4700 - accuracy: 0.4780 - val_loss: 1.5666 - val_accuracy: 0.4432\n",
            "Epoch 20/100\n",
            "1250/1250 [==============================] - 4s 4ms/step - loss: 1.4625 - accuracy: 0.4811 - val_loss: 1.5729 - val_accuracy: 0.4423\n",
            "Epoch 21/100\n",
            "1250/1250 [==============================] - 4s 4ms/step - loss: 1.4548 - accuracy: 0.4838 - val_loss: 1.5510 - val_accuracy: 0.4489\n",
            "Epoch 22/100\n",
            "1250/1250 [==============================] - 4s 4ms/step - loss: 1.4471 - accuracy: 0.4862 - val_loss: 1.5469 - val_accuracy: 0.4535\n",
            "Epoch 23/100\n",
            "1250/1250 [==============================] - 5s 4ms/step - loss: 1.4402 - accuracy: 0.4896 - val_loss: 1.5583 - val_accuracy: 0.4496\n",
            "Epoch 24/100\n",
            "1250/1250 [==============================] - 4s 4ms/step - loss: 1.4341 - accuracy: 0.4924 - val_loss: 1.5337 - val_accuracy: 0.4561\n",
            "Epoch 25/100\n",
            "1250/1250 [==============================] - 5s 4ms/step - loss: 1.4266 - accuracy: 0.4928 - val_loss: 1.5378 - val_accuracy: 0.4571\n",
            "Epoch 26/100\n",
            "1250/1250 [==============================] - 4s 4ms/step - loss: 1.4197 - accuracy: 0.4954 - val_loss: 1.5333 - val_accuracy: 0.4586\n",
            "Epoch 27/100\n",
            "1250/1250 [==============================] - 5s 4ms/step - loss: 1.4134 - accuracy: 0.4991 - val_loss: 1.5285 - val_accuracy: 0.4615\n",
            "Epoch 28/100\n",
            "1250/1250 [==============================] - 4s 3ms/step - loss: 1.4060 - accuracy: 0.5022 - val_loss: 1.5321 - val_accuracy: 0.4561\n",
            "Epoch 29/100\n",
            "1250/1250 [==============================] - 4s 4ms/step - loss: 1.4008 - accuracy: 0.5034 - val_loss: 1.5413 - val_accuracy: 0.4579\n",
            "Epoch 30/100\n",
            "1250/1250 [==============================] - 4s 3ms/step - loss: 1.3940 - accuracy: 0.5034 - val_loss: 1.5191 - val_accuracy: 0.4645\n",
            "Epoch 31/100\n",
            "1250/1250 [==============================] - 4s 4ms/step - loss: 1.3891 - accuracy: 0.5072 - val_loss: 1.5304 - val_accuracy: 0.4625\n",
            "Epoch 32/100\n",
            "1250/1250 [==============================] - 4s 4ms/step - loss: 1.3827 - accuracy: 0.5103 - val_loss: 1.5209 - val_accuracy: 0.4640\n",
            "Epoch 33/100\n",
            "1250/1250 [==============================] - 4s 3ms/step - loss: 1.3769 - accuracy: 0.5082 - val_loss: 1.5054 - val_accuracy: 0.4705\n",
            "Epoch 34/100\n",
            "1250/1250 [==============================] - 4s 3ms/step - loss: 1.3715 - accuracy: 0.5124 - val_loss: 1.5126 - val_accuracy: 0.4653\n",
            "Epoch 35/100\n",
            "1250/1250 [==============================] - 4s 3ms/step - loss: 1.3653 - accuracy: 0.5153 - val_loss: 1.5106 - val_accuracy: 0.4619\n",
            "Epoch 36/100\n",
            "1250/1250 [==============================] - 4s 3ms/step - loss: 1.3608 - accuracy: 0.5162 - val_loss: 1.5200 - val_accuracy: 0.4682\n",
            "Epoch 37/100\n",
            "1250/1250 [==============================] - 5s 4ms/step - loss: 1.3562 - accuracy: 0.5180 - val_loss: 1.5027 - val_accuracy: 0.4735\n",
            "Epoch 38/100\n",
            "1250/1250 [==============================] - 4s 3ms/step - loss: 1.3502 - accuracy: 0.5198 - val_loss: 1.5026 - val_accuracy: 0.4739\n",
            "Epoch 39/100\n",
            "1250/1250 [==============================] - 4s 4ms/step - loss: 1.3443 - accuracy: 0.5209 - val_loss: 1.5079 - val_accuracy: 0.4733\n",
            "Epoch 40/100\n",
            "1250/1250 [==============================] - 4s 3ms/step - loss: 1.3409 - accuracy: 0.5244 - val_loss: 1.5025 - val_accuracy: 0.4738\n",
            "Epoch 41/100\n",
            "1250/1250 [==============================] - 4s 4ms/step - loss: 1.3361 - accuracy: 0.5238 - val_loss: 1.5090 - val_accuracy: 0.4678\n",
            "Epoch 42/100\n",
            "1250/1250 [==============================] - 4s 4ms/step - loss: 1.3321 - accuracy: 0.5258 - val_loss: 1.5054 - val_accuracy: 0.4733\n",
            "Epoch 43/100\n",
            "1250/1250 [==============================] - 5s 4ms/step - loss: 1.3263 - accuracy: 0.5289 - val_loss: 1.5132 - val_accuracy: 0.4679\n",
            "Epoch 44/100\n",
            "1250/1250 [==============================] - 4s 3ms/step - loss: 1.3225 - accuracy: 0.5299 - val_loss: 1.4912 - val_accuracy: 0.4806\n",
            "Epoch 45/100\n",
            "1250/1250 [==============================] - 4s 3ms/step - loss: 1.3191 - accuracy: 0.5306 - val_loss: 1.4914 - val_accuracy: 0.4748\n",
            "Epoch 46/100\n",
            "1250/1250 [==============================] - 4s 3ms/step - loss: 1.3131 - accuracy: 0.5304 - val_loss: 1.4947 - val_accuracy: 0.4771\n",
            "Epoch 47/100\n",
            "1250/1250 [==============================] - 4s 4ms/step - loss: 1.3105 - accuracy: 0.5328 - val_loss: 1.5000 - val_accuracy: 0.4786\n",
            "Epoch 48/100\n",
            "1250/1250 [==============================] - 4s 3ms/step - loss: 1.3054 - accuracy: 0.5358 - val_loss: 1.4973 - val_accuracy: 0.4800\n",
            "Epoch 49/100\n",
            "1250/1250 [==============================] - 4s 3ms/step - loss: 1.3027 - accuracy: 0.5378 - val_loss: 1.4869 - val_accuracy: 0.4800\n",
            "Epoch 50/100\n",
            "1250/1250 [==============================] - 4s 3ms/step - loss: 1.2978 - accuracy: 0.5375 - val_loss: 1.4890 - val_accuracy: 0.4822\n",
            "Epoch 51/100\n",
            "1250/1250 [==============================] - 5s 4ms/step - loss: 1.2954 - accuracy: 0.5391 - val_loss: 1.5090 - val_accuracy: 0.4767\n",
            "Epoch 52/100\n",
            "1250/1250 [==============================] - 5s 4ms/step - loss: 1.2910 - accuracy: 0.5395 - val_loss: 1.5051 - val_accuracy: 0.4750\n",
            "Epoch 53/100\n",
            "1250/1250 [==============================] - 4s 3ms/step - loss: 1.2882 - accuracy: 0.5411 - val_loss: 1.5166 - val_accuracy: 0.4790\n",
            "Epoch 54/100\n",
            "1250/1250 [==============================] - 4s 3ms/step - loss: 1.2833 - accuracy: 0.5434 - val_loss: 1.4990 - val_accuracy: 0.4818\n",
            "Epoch 55/100\n",
            "1250/1250 [==============================] - 4s 4ms/step - loss: 1.2808 - accuracy: 0.5458 - val_loss: 1.4949 - val_accuracy: 0.4830\n",
            "Epoch 56/100\n",
            "1250/1250 [==============================] - 4s 3ms/step - loss: 1.2773 - accuracy: 0.5452 - val_loss: 1.4914 - val_accuracy: 0.4817\n",
            "Epoch 57/100\n",
            "1250/1250 [==============================] - 4s 4ms/step - loss: 1.2734 - accuracy: 0.5471 - val_loss: 1.4876 - val_accuracy: 0.4821\n",
            "Epoch 58/100\n",
            "1250/1250 [==============================] - 5s 4ms/step - loss: 1.2716 - accuracy: 0.5471 - val_loss: 1.4885 - val_accuracy: 0.4836\n",
            "Epoch 59/100\n",
            "1250/1250 [==============================] - 5s 4ms/step - loss: 1.2671 - accuracy: 0.5502 - val_loss: 1.4935 - val_accuracy: 0.4831\n",
            "Epoch 60/100\n",
            "1250/1250 [==============================] - 5s 4ms/step - loss: 1.2640 - accuracy: 0.5492 - val_loss: 1.4987 - val_accuracy: 0.4818\n",
            "Epoch 61/100\n",
            "1250/1250 [==============================] - 5s 4ms/step - loss: 1.2612 - accuracy: 0.5514 - val_loss: 1.4966 - val_accuracy: 0.4814\n",
            "Epoch 62/100\n",
            "1250/1250 [==============================] - 4s 3ms/step - loss: 1.2581 - accuracy: 0.5533 - val_loss: 1.4957 - val_accuracy: 0.4846\n",
            "Epoch 63/100\n",
            "1250/1250 [==============================] - 4s 3ms/step - loss: 1.2542 - accuracy: 0.5530 - val_loss: 1.4865 - val_accuracy: 0.4862\n",
            "Epoch 64/100\n",
            "1250/1250 [==============================] - 4s 4ms/step - loss: 1.2534 - accuracy: 0.5540 - val_loss: 1.4931 - val_accuracy: 0.4835\n",
            "Epoch 65/100\n",
            "1250/1250 [==============================] - 5s 4ms/step - loss: 1.2487 - accuracy: 0.5555 - val_loss: 1.4905 - val_accuracy: 0.4870\n",
            "Epoch 66/100\n",
            "1250/1250 [==============================] - 4s 3ms/step - loss: 1.2459 - accuracy: 0.5585 - val_loss: 1.4961 - val_accuracy: 0.4885\n",
            "Epoch 67/100\n",
            "1250/1250 [==============================] - 4s 3ms/step - loss: 1.2438 - accuracy: 0.5580 - val_loss: 1.4851 - val_accuracy: 0.4907\n",
            "Epoch 68/100\n",
            "1250/1250 [==============================] - 4s 4ms/step - loss: 1.2402 - accuracy: 0.5598 - val_loss: 1.4870 - val_accuracy: 0.4904\n",
            "Epoch 69/100\n",
            "1250/1250 [==============================] - 4s 3ms/step - loss: 1.2377 - accuracy: 0.5595 - val_loss: 1.4983 - val_accuracy: 0.4845\n",
            "Epoch 70/100\n",
            "1250/1250 [==============================] - 4s 4ms/step - loss: 1.2339 - accuracy: 0.5619 - val_loss: 1.4941 - val_accuracy: 0.4918\n",
            "Epoch 71/100\n",
            "1250/1250 [==============================] - 4s 4ms/step - loss: 1.2324 - accuracy: 0.5631 - val_loss: 1.4869 - val_accuracy: 0.4905\n",
            "Epoch 72/100\n",
            "1250/1250 [==============================] - 5s 4ms/step - loss: 1.2285 - accuracy: 0.5631 - val_loss: 1.4997 - val_accuracy: 0.4880\n",
            "Epoch 73/100\n",
            "1250/1250 [==============================] - 5s 4ms/step - loss: 1.2287 - accuracy: 0.5617 - val_loss: 1.4869 - val_accuracy: 0.4899\n",
            "Epoch 74/100\n",
            "1250/1250 [==============================] - 4s 4ms/step - loss: 1.2246 - accuracy: 0.5636 - val_loss: 1.4886 - val_accuracy: 0.4905\n",
            "Epoch 75/100\n",
            "1250/1250 [==============================] - 5s 4ms/step - loss: 1.2223 - accuracy: 0.5674 - val_loss: 1.4888 - val_accuracy: 0.4883\n",
            "Epoch 76/100\n",
            "1250/1250 [==============================] - 4s 3ms/step - loss: 1.2199 - accuracy: 0.5664 - val_loss: 1.4968 - val_accuracy: 0.4848\n",
            "Epoch 77/100\n",
            "1250/1250 [==============================] - 4s 3ms/step - loss: 1.2178 - accuracy: 0.5668 - val_loss: 1.4881 - val_accuracy: 0.4860\n",
            "Epoch 78/100\n",
            "1250/1250 [==============================] - 5s 4ms/step - loss: 1.2159 - accuracy: 0.5678 - val_loss: 1.4833 - val_accuracy: 0.4919\n",
            "Epoch 79/100\n",
            "1250/1250 [==============================] - 4s 3ms/step - loss: 1.2118 - accuracy: 0.5678 - val_loss: 1.4986 - val_accuracy: 0.4873\n",
            "Epoch 80/100\n",
            "1250/1250 [==============================] - 5s 4ms/step - loss: 1.2098 - accuracy: 0.5705 - val_loss: 1.4914 - val_accuracy: 0.4893\n",
            "Epoch 81/100\n",
            "1250/1250 [==============================] - 4s 3ms/step - loss: 1.2080 - accuracy: 0.5706 - val_loss: 1.4919 - val_accuracy: 0.4887\n",
            "Epoch 82/100\n",
            "1250/1250 [==============================] - 4s 3ms/step - loss: 1.2059 - accuracy: 0.5711 - val_loss: 1.4920 - val_accuracy: 0.4894\n",
            "Epoch 83/100\n",
            "1250/1250 [==============================] - 4s 3ms/step - loss: 1.2027 - accuracy: 0.5729 - val_loss: 1.4871 - val_accuracy: 0.4909\n",
            "Epoch 84/100\n",
            "1250/1250 [==============================] - 4s 4ms/step - loss: 1.2010 - accuracy: 0.5742 - val_loss: 1.4931 - val_accuracy: 0.4864\n",
            "Epoch 85/100\n",
            "1250/1250 [==============================] - 4s 3ms/step - loss: 1.1987 - accuracy: 0.5727 - val_loss: 1.5027 - val_accuracy: 0.4870\n",
            "Epoch 86/100\n",
            "1250/1250 [==============================] - 5s 4ms/step - loss: 1.1957 - accuracy: 0.5759 - val_loss: 1.4926 - val_accuracy: 0.4912\n",
            "Epoch 87/100\n",
            "1250/1250 [==============================] - 4s 3ms/step - loss: 1.1959 - accuracy: 0.5739 - val_loss: 1.4870 - val_accuracy: 0.4943\n",
            "Epoch 88/100\n",
            "1250/1250 [==============================] - 4s 3ms/step - loss: 1.1921 - accuracy: 0.5762 - val_loss: 1.4921 - val_accuracy: 0.4923\n",
            "Epoch 89/100\n",
            "1250/1250 [==============================] - 4s 3ms/step - loss: 1.1911 - accuracy: 0.5788 - val_loss: 1.4978 - val_accuracy: 0.4940\n",
            "Epoch 90/100\n",
            "1250/1250 [==============================] - 4s 3ms/step - loss: 1.1874 - accuracy: 0.5779 - val_loss: 1.4975 - val_accuracy: 0.4910\n",
            "Epoch 91/100\n",
            "1250/1250 [==============================] - 4s 3ms/step - loss: 1.1861 - accuracy: 0.5804 - val_loss: 1.4937 - val_accuracy: 0.4937\n",
            "Epoch 92/100\n",
            "1250/1250 [==============================] - 4s 4ms/step - loss: 1.1851 - accuracy: 0.5805 - val_loss: 1.4994 - val_accuracy: 0.4907\n",
            "Epoch 93/100\n",
            "1250/1250 [==============================] - 5s 4ms/step - loss: 1.1819 - accuracy: 0.5824 - val_loss: 1.4940 - val_accuracy: 0.4933\n",
            "Epoch 94/100\n",
            "1250/1250 [==============================] - 4s 3ms/step - loss: 1.1800 - accuracy: 0.5795 - val_loss: 1.5039 - val_accuracy: 0.4917\n",
            "Epoch 95/100\n",
            "1250/1250 [==============================] - 4s 4ms/step - loss: 1.1779 - accuracy: 0.5812 - val_loss: 1.5185 - val_accuracy: 0.4865\n",
            "Epoch 96/100\n",
            "1250/1250 [==============================] - 4s 4ms/step - loss: 1.1765 - accuracy: 0.5811 - val_loss: 1.4985 - val_accuracy: 0.4915\n",
            "Epoch 97/100\n",
            "1250/1250 [==============================] - 4s 4ms/step - loss: 1.1747 - accuracy: 0.5823 - val_loss: 1.4912 - val_accuracy: 0.4914\n",
            "Epoch 98/100\n",
            "1250/1250 [==============================] - 4s 3ms/step - loss: 1.1727 - accuracy: 0.5829 - val_loss: 1.5081 - val_accuracy: 0.4924\n",
            "Epoch 99/100\n",
            "1250/1250 [==============================] - 5s 4ms/step - loss: 1.1713 - accuracy: 0.5832 - val_loss: 1.5080 - val_accuracy: 0.4862\n",
            "Epoch 100/100\n",
            "1250/1250 [==============================] - 5s 4ms/step - loss: 1.1688 - accuracy: 0.5861 - val_loss: 1.4998 - val_accuracy: 0.4908\n"
          ]
        }
      ],
      "source": [
        "def cal():\n",
        "    model=Sequential()\n",
        "    model.add(Dense(50, activation='relu', input_dim=3072,kernel_initializer='he_normal'))\n",
        "    model.add(Dense(50, activation='relu',kernel_initializer='he_normal'))\n",
        "    model.add(Dense(50, activation='relu',kernel_initializer='he_normal'))\n",
        "    model.add(Dense(10, activation='softmax',kernel_initializer='he_normal'))\n",
        "    sgd = optimizers.Adagrad(learning_rate = 0.01)    # stochastic gradient descent optimizer\n",
        "    model.compile(optimizer = sgd, loss = 'categorical_crossentropy', metrics = ['accuracy'])\n",
        "    return model\n",
        "model=cal()\n",
        "history=model.fit(X_train, y_train, batch_size = 32,validation_split=0.2, epochs = 100, verbose = 1)"
      ]
    },
    {
      "cell_type": "code",
      "execution_count": null,
      "metadata": {
        "colab": {
          "base_uri": "https://localhost:8080/",
          "height": 265
        },
        "outputId": "b5ae8b46-6aab-4bd4-d9b9-ffc781837a8d",
        "id": "edXI-19MQfrs"
      },
      "outputs": [
        {
          "output_type": "display_data",
          "data": {
            "image/png": "[encoded data removed]",
            "text/plain": [
              "<Figure size 432x288 with 1 Axes>"
            ]
          },
          "metadata": {
            "needs_background": "light"
          }
        }
      ],
      "source": [
        "plt.plot(history.history['accuracy'])\n",
        "plt.plot(history.history['val_accuracy'])\n",
        "plt.plot(history.history['loss'])\n",
        "plt.plot(history.history['val_loss'])\n",
        "plt.legend(['train_acc','valid_acc','train_loss','valid_loss'],loc='upper left')\n",
        "plt.show()"
      ]
    },
    {
      "cell_type": "code",
      "execution_count": null,
      "metadata": {
        "colab": {
          "base_uri": "https://localhost:8080/"
        },
        "outputId": "211fb0ad-0d09-47d7-85b3-27254ed3b4f4",
        "id": "BiPyZFxxQfrt"
      },
      "outputs": [
        {
          "output_type": "stream",
          "name": "stdout",
          "text": [
            "313/313 [==============================] - 1s 2ms/step - loss: 1.4966 - accuracy: 0.4831\n",
            "Accuracy = 48.30999970436096%\n"
          ]
        }
      ],
      "source": [
        "results=model.evaluate(X_test,y_test)\n",
        "print(\"Accuracy = {}%\".format(results[1]*100))"
      ]
    },
    {
      "cell_type": "markdown",
      "metadata": {
        "id": "NqlcWdKCQfrt"
      },
      "source": [
        "#ADDING BATCH NORMALIZATION"
      ]
    },
    {
      "cell_type": "code",
      "execution_count": null,
      "metadata": {
        "colab": {
          "base_uri": "https://localhost:8080/"
        },
        "outputId": "e12295bd-d585-46c8-d628-5f2c1e7acf4f",
        "id": "84tj6OnhQfrt"
      },
      "outputs": [
        {
          "output_type": "stream",
          "name": "stdout",
          "text": [
            "Epoch 1/100\n",
            "1250/1250 [==============================] - 7s 5ms/step - loss: 1.8337 - accuracy: 0.3511 - val_loss: 1.8291 - val_accuracy: 0.3401\n",
            "Epoch 2/100\n",
            "1250/1250 [==============================] - 6s 4ms/step - loss: 1.6586 - accuracy: 0.4198 - val_loss: 1.6652 - val_accuracy: 0.4121\n",
            "Epoch 3/100\n",
            "1250/1250 [==============================] - 6s 4ms/step - loss: 1.5939 - accuracy: 0.4400 - val_loss: 1.6265 - val_accuracy: 0.4239\n",
            "Epoch 4/100\n",
            "1250/1250 [==============================] - 6s 4ms/step - loss: 1.5506 - accuracy: 0.4573 - val_loss: 1.6032 - val_accuracy: 0.4423\n",
            "Epoch 5/100\n",
            "1250/1250 [==============================] - 5s 4ms/step - loss: 1.5127 - accuracy: 0.4697 - val_loss: 1.5539 - val_accuracy: 0.4542\n",
            "Epoch 6/100\n",
            "1250/1250 [==============================] - 6s 4ms/step - loss: 1.4916 - accuracy: 0.4784 - val_loss: 1.5592 - val_accuracy: 0.4546\n",
            "Epoch 7/100\n",
            "1250/1250 [==============================] - 6s 4ms/step - loss: 1.4663 - accuracy: 0.4863 - val_loss: 1.5482 - val_accuracy: 0.4509\n",
            "Epoch 8/100\n",
            "1250/1250 [==============================] - 6s 4ms/step - loss: 1.4391 - accuracy: 0.4948 - val_loss: 1.5277 - val_accuracy: 0.4675\n",
            "Epoch 9/100\n",
            "1250/1250 [==============================] - 6s 5ms/step - loss: 1.4233 - accuracy: 0.5029 - val_loss: 1.5742 - val_accuracy: 0.4397\n",
            "Epoch 10/100\n",
            "1250/1250 [==============================] - 6s 5ms/step - loss: 1.4063 - accuracy: 0.5076 - val_loss: 1.5343 - val_accuracy: 0.4628\n",
            "Epoch 11/100\n",
            "1250/1250 [==============================] - 6s 5ms/step - loss: 1.3914 - accuracy: 0.5117 - val_loss: 1.4955 - val_accuracy: 0.4771\n",
            "Epoch 12/100\n",
            "1250/1250 [==============================] - 7s 5ms/step - loss: 1.3776 - accuracy: 0.5192 - val_loss: 1.5429 - val_accuracy: 0.4606\n",
            "Epoch 13/100\n",
            "1250/1250 [==============================] - 6s 4ms/step - loss: 1.3633 - accuracy: 0.5251 - val_loss: 1.5086 - val_accuracy: 0.4664\n",
            "Epoch 14/100\n",
            "1250/1250 [==============================] - 6s 5ms/step - loss: 1.3541 - accuracy: 0.5252 - val_loss: 1.4932 - val_accuracy: 0.4798\n",
            "Epoch 15/100\n",
            "1250/1250 [==============================] - 6s 4ms/step - loss: 1.3348 - accuracy: 0.5343 - val_loss: 1.5436 - val_accuracy: 0.4635\n",
            "Epoch 16/100\n",
            "1250/1250 [==============================] - 6s 4ms/step - loss: 1.3292 - accuracy: 0.5364 - val_loss: 1.5117 - val_accuracy: 0.4674\n",
            "Epoch 17/100\n",
            "1250/1250 [==============================] - 5s 4ms/step - loss: 1.3136 - accuracy: 0.5436 - val_loss: 1.4863 - val_accuracy: 0.4808\n",
            "Epoch 18/100\n",
            "1250/1250 [==============================] - 6s 5ms/step - loss: 1.3095 - accuracy: 0.5424 - val_loss: 1.5292 - val_accuracy: 0.4674\n",
            "Epoch 19/100\n",
            "1250/1250 [==============================] - 5s 4ms/step - loss: 1.2977 - accuracy: 0.5435 - val_loss: 1.4863 - val_accuracy: 0.4755\n",
            "Epoch 20/100\n",
            "1250/1250 [==============================] - 6s 4ms/step - loss: 1.2923 - accuracy: 0.5488 - val_loss: 1.4709 - val_accuracy: 0.4825\n",
            "Epoch 21/100\n",
            "1250/1250 [==============================] - 5s 4ms/step - loss: 1.2752 - accuracy: 0.5554 - val_loss: 1.4819 - val_accuracy: 0.4828\n",
            "Epoch 22/100\n",
            "1250/1250 [==============================] - 5s 4ms/step - loss: 1.2757 - accuracy: 0.5533 - val_loss: 1.5259 - val_accuracy: 0.4711\n",
            "Epoch 23/100\n",
            "1250/1250 [==============================] - 6s 5ms/step - loss: 1.2681 - accuracy: 0.5602 - val_loss: 1.5157 - val_accuracy: 0.4744\n",
            "Epoch 24/100\n",
            "1250/1250 [==============================] - 6s 5ms/step - loss: 1.2625 - accuracy: 0.5578 - val_loss: 1.5006 - val_accuracy: 0.4783\n",
            "Epoch 25/100\n",
            "1250/1250 [==============================] - 6s 5ms/step - loss: 1.2557 - accuracy: 0.5598 - val_loss: 1.5244 - val_accuracy: 0.4700\n",
            "Epoch 26/100\n",
            "1250/1250 [==============================] - 6s 5ms/step - loss: 1.2454 - accuracy: 0.5682 - val_loss: 1.5111 - val_accuracy: 0.4729\n",
            "Epoch 27/100\n",
            "1250/1250 [==============================] - 6s 5ms/step - loss: 1.2407 - accuracy: 0.5666 - val_loss: 1.5668 - val_accuracy: 0.4662\n",
            "Epoch 28/100\n",
            "1250/1250 [==============================] - 6s 5ms/step - loss: 1.2363 - accuracy: 0.5687 - val_loss: 1.5747 - val_accuracy: 0.4647\n",
            "Epoch 29/100\n",
            "1250/1250 [==============================] - 6s 5ms/step - loss: 1.2247 - accuracy: 0.5729 - val_loss: 1.4978 - val_accuracy: 0.4795\n",
            "Epoch 30/100\n",
            "1250/1250 [==============================] - 6s 5ms/step - loss: 1.2151 - accuracy: 0.5768 - val_loss: 1.4881 - val_accuracy: 0.4798\n",
            "Epoch 31/100\n",
            "1250/1250 [==============================] - 6s 5ms/step - loss: 1.2127 - accuracy: 0.5754 - val_loss: 1.4731 - val_accuracy: 0.4859\n",
            "Epoch 32/100\n",
            "1250/1250 [==============================] - 6s 5ms/step - loss: 1.2101 - accuracy: 0.5779 - val_loss: 1.5871 - val_accuracy: 0.4632\n",
            "Epoch 33/100\n",
            "1250/1250 [==============================] - 6s 5ms/step - loss: 1.2042 - accuracy: 0.5782 - val_loss: 1.5214 - val_accuracy: 0.4762\n",
            "Epoch 34/100\n",
            "1250/1250 [==============================] - 6s 5ms/step - loss: 1.1970 - accuracy: 0.5836 - val_loss: 1.5794 - val_accuracy: 0.4543\n",
            "Epoch 35/100\n",
            "1250/1250 [==============================] - 6s 5ms/step - loss: 1.1937 - accuracy: 0.5843 - val_loss: 1.5027 - val_accuracy: 0.4826\n",
            "Epoch 36/100\n",
            "1250/1250 [==============================] - 6s 5ms/step - loss: 1.1930 - accuracy: 0.5824 - val_loss: 1.6403 - val_accuracy: 0.4525\n",
            "Epoch 37/100\n",
            "1250/1250 [==============================] - 6s 5ms/step - loss: 1.1851 - accuracy: 0.5842 - val_loss: 1.5012 - val_accuracy: 0.4791\n",
            "Epoch 38/100\n",
            "1250/1250 [==============================] - 6s 4ms/step - loss: 1.1790 - accuracy: 0.5858 - val_loss: 1.5096 - val_accuracy: 0.4756\n",
            "Epoch 39/100\n",
            "1250/1250 [==============================] - 5s 4ms/step - loss: 1.1758 - accuracy: 0.5887 - val_loss: 1.5779 - val_accuracy: 0.4653\n",
            "Epoch 40/100\n",
            "1250/1250 [==============================] - 6s 4ms/step - loss: 1.1692 - accuracy: 0.5918 - val_loss: 1.5512 - val_accuracy: 0.4648\n",
            "Epoch 41/100\n",
            "1250/1250 [==============================] - 6s 5ms/step - loss: 1.1715 - accuracy: 0.5918 - val_loss: 1.5072 - val_accuracy: 0.4772\n",
            "Epoch 42/100\n",
            "1250/1250 [==============================] - 5s 4ms/step - loss: 1.1608 - accuracy: 0.5946 - val_loss: 1.5305 - val_accuracy: 0.4710\n",
            "Epoch 43/100\n",
            "1250/1250 [==============================] - 6s 4ms/step - loss: 1.1555 - accuracy: 0.5971 - val_loss: 1.5322 - val_accuracy: 0.4713\n",
            "Epoch 44/100\n",
            "1250/1250 [==============================] - 6s 4ms/step - loss: 1.1516 - accuracy: 0.5972 - val_loss: 1.5724 - val_accuracy: 0.4677\n",
            "Epoch 45/100\n",
            "1250/1250 [==============================] - 5s 4ms/step - loss: 1.1484 - accuracy: 0.5989 - val_loss: 1.5349 - val_accuracy: 0.4725\n",
            "Epoch 46/100\n",
            "1250/1250 [==============================] - 6s 4ms/step - loss: 1.1470 - accuracy: 0.5993 - val_loss: 1.5240 - val_accuracy: 0.4745\n",
            "Epoch 47/100\n",
            "1250/1250 [==============================] - 6s 5ms/step - loss: 1.1437 - accuracy: 0.5995 - val_loss: 1.5695 - val_accuracy: 0.4701\n",
            "Epoch 48/100\n",
            "1250/1250 [==============================] - 6s 5ms/step - loss: 1.1326 - accuracy: 0.6013 - val_loss: 1.5482 - val_accuracy: 0.4699\n",
            "Epoch 49/100\n",
            "1250/1250 [==============================] - 6s 5ms/step - loss: 1.1309 - accuracy: 0.6043 - val_loss: 1.5244 - val_accuracy: 0.4800\n",
            "Epoch 50/100\n",
            "1250/1250 [==============================] - 6s 5ms/step - loss: 1.1328 - accuracy: 0.6029 - val_loss: 1.5647 - val_accuracy: 0.4745\n",
            "Epoch 51/100\n",
            "1250/1250 [==============================] - 6s 5ms/step - loss: 1.1285 - accuracy: 0.6039 - val_loss: 1.5185 - val_accuracy: 0.4830\n",
            "Epoch 52/100\n",
            "1250/1250 [==============================] - 6s 5ms/step - loss: 1.1235 - accuracy: 0.6064 - val_loss: 1.5508 - val_accuracy: 0.4712\n",
            "Epoch 53/100\n",
            "1250/1250 [==============================] - 6s 5ms/step - loss: 1.1176 - accuracy: 0.6079 - val_loss: 1.5652 - val_accuracy: 0.4715\n",
            "Epoch 54/100\n",
            "1250/1250 [==============================] - 6s 5ms/step - loss: 1.1167 - accuracy: 0.6083 - val_loss: 1.5535 - val_accuracy: 0.4697\n",
            "Epoch 55/100\n",
            "1250/1250 [==============================] - 6s 5ms/step - loss: 1.1115 - accuracy: 0.6101 - val_loss: 1.5632 - val_accuracy: 0.4711\n",
            "Epoch 56/100\n",
            "1250/1250 [==============================] - 6s 5ms/step - loss: 1.1116 - accuracy: 0.6104 - val_loss: 1.5146 - val_accuracy: 0.4837\n",
            "Epoch 57/100\n",
            "1250/1250 [==============================] - 5s 4ms/step - loss: 1.1045 - accuracy: 0.6129 - val_loss: 1.5640 - val_accuracy: 0.4712\n",
            "Epoch 58/100\n",
            "1250/1250 [==============================] - 6s 4ms/step - loss: 1.1064 - accuracy: 0.6118 - val_loss: 1.5625 - val_accuracy: 0.4715\n",
            "Epoch 59/100\n",
            "1250/1250 [==============================] - 5s 4ms/step - loss: 1.0978 - accuracy: 0.6166 - val_loss: 1.5458 - val_accuracy: 0.4744\n",
            "Epoch 60/100\n",
            "1250/1250 [==============================] - 6s 5ms/step - loss: 1.0911 - accuracy: 0.6169 - val_loss: 1.5385 - val_accuracy: 0.4787\n",
            "Epoch 61/100\n",
            "1250/1250 [==============================] - 5s 4ms/step - loss: 1.0935 - accuracy: 0.6181 - val_loss: 1.5433 - val_accuracy: 0.4714\n",
            "Epoch 62/100\n",
            "1250/1250 [==============================] - 5s 4ms/step - loss: 1.0842 - accuracy: 0.6197 - val_loss: 1.5755 - val_accuracy: 0.4685\n",
            "Epoch 63/100\n",
            "1250/1250 [==============================] - 6s 4ms/step - loss: 1.0902 - accuracy: 0.6195 - val_loss: 1.5492 - val_accuracy: 0.4782\n",
            "Epoch 64/100\n",
            "1250/1250 [==============================] - 6s 4ms/step - loss: 1.0804 - accuracy: 0.6242 - val_loss: 1.5906 - val_accuracy: 0.4748\n",
            "Epoch 65/100\n",
            "1250/1250 [==============================] - 6s 5ms/step - loss: 1.0798 - accuracy: 0.6207 - val_loss: 1.6332 - val_accuracy: 0.4536\n",
            "Epoch 66/100\n",
            "1250/1250 [==============================] - 6s 4ms/step - loss: 1.0771 - accuracy: 0.6219 - val_loss: 1.5843 - val_accuracy: 0.4646\n",
            "Epoch 67/100\n",
            "1250/1250 [==============================] - 6s 4ms/step - loss: 1.0745 - accuracy: 0.6221 - val_loss: 1.5906 - val_accuracy: 0.4649\n",
            "Epoch 68/100\n",
            "1250/1250 [==============================] - 5s 4ms/step - loss: 1.0681 - accuracy: 0.6251 - val_loss: 1.5510 - val_accuracy: 0.4805\n",
            "Epoch 69/100\n",
            "1250/1250 [==============================] - 5s 4ms/step - loss: 1.0705 - accuracy: 0.6244 - val_loss: 1.5563 - val_accuracy: 0.4720\n",
            "Epoch 70/100\n",
            "1250/1250 [==============================] - 5s 4ms/step - loss: 1.0681 - accuracy: 0.6265 - val_loss: 1.5690 - val_accuracy: 0.4708\n",
            "Epoch 71/100\n",
            "1250/1250 [==============================] - 6s 4ms/step - loss: 1.0663 - accuracy: 0.6266 - val_loss: 1.6144 - val_accuracy: 0.4632\n",
            "Epoch 72/100\n",
            "1250/1250 [==============================] - 6s 5ms/step - loss: 1.0591 - accuracy: 0.6276 - val_loss: 1.5711 - val_accuracy: 0.4759\n",
            "Epoch 73/100\n",
            "1250/1250 [==============================] - 6s 5ms/step - loss: 1.0587 - accuracy: 0.6318 - val_loss: 1.5601 - val_accuracy: 0.4733\n",
            "Epoch 74/100\n",
            "1250/1250 [==============================] - 6s 4ms/step - loss: 1.0521 - accuracy: 0.6347 - val_loss: 1.5708 - val_accuracy: 0.4710\n",
            "Epoch 75/100\n",
            "1250/1250 [==============================] - 6s 5ms/step - loss: 1.0505 - accuracy: 0.6322 - val_loss: 1.5873 - val_accuracy: 0.4665\n",
            "Epoch 76/100\n",
            "1250/1250 [==============================] - 6s 4ms/step - loss: 1.0501 - accuracy: 0.6345 - val_loss: 1.5819 - val_accuracy: 0.4691\n",
            "Epoch 77/100\n",
            "1250/1250 [==============================] - 6s 4ms/step - loss: 1.0448 - accuracy: 0.6352 - val_loss: 1.7201 - val_accuracy: 0.4430\n",
            "Epoch 78/100\n",
            "1250/1250 [==============================] - 6s 4ms/step - loss: 1.0390 - accuracy: 0.6387 - val_loss: 1.6206 - val_accuracy: 0.4642\n",
            "Epoch 79/100\n",
            "1250/1250 [==============================] - 6s 4ms/step - loss: 1.0393 - accuracy: 0.6385 - val_loss: 1.6690 - val_accuracy: 0.4496\n",
            "Epoch 80/100\n",
            "1250/1250 [==============================] - 6s 5ms/step - loss: 1.0333 - accuracy: 0.6388 - val_loss: 1.6136 - val_accuracy: 0.4608\n",
            "Epoch 81/100\n",
            "1250/1250 [==============================] - 5s 4ms/step - loss: 1.0351 - accuracy: 0.6361 - val_loss: 1.5861 - val_accuracy: 0.4718\n",
            "Epoch 82/100\n",
            "1250/1250 [==============================] - 5s 4ms/step - loss: 1.0344 - accuracy: 0.6371 - val_loss: 1.6249 - val_accuracy: 0.4629\n",
            "Epoch 83/100\n",
            "1250/1250 [==============================] - 6s 5ms/step - loss: 1.0335 - accuracy: 0.6374 - val_loss: 1.5999 - val_accuracy: 0.4690\n",
            "Epoch 84/100\n",
            "1250/1250 [==============================] - 6s 5ms/step - loss: 1.0340 - accuracy: 0.6386 - val_loss: 1.5997 - val_accuracy: 0.4731\n",
            "Epoch 85/100\n",
            "1250/1250 [==============================] - 6s 5ms/step - loss: 1.0316 - accuracy: 0.6407 - val_loss: 1.6028 - val_accuracy: 0.4652\n",
            "Epoch 86/100\n",
            "1250/1250 [==============================] - 6s 5ms/step - loss: 1.0282 - accuracy: 0.6416 - val_loss: 1.5922 - val_accuracy: 0.4653\n",
            "Epoch 87/100\n",
            "1250/1250 [==============================] - 6s 5ms/step - loss: 1.0218 - accuracy: 0.6414 - val_loss: 1.6076 - val_accuracy: 0.4697\n",
            "Epoch 88/100\n",
            "1250/1250 [==============================] - 6s 5ms/step - loss: 1.0251 - accuracy: 0.6388 - val_loss: 1.6151 - val_accuracy: 0.4709\n",
            "Epoch 89/100\n",
            "1250/1250 [==============================] - 6s 5ms/step - loss: 1.0196 - accuracy: 0.6434 - val_loss: 1.6351 - val_accuracy: 0.4618\n",
            "Epoch 90/100\n",
            "1250/1250 [==============================] - 6s 5ms/step - loss: 1.0198 - accuracy: 0.6445 - val_loss: 1.6251 - val_accuracy: 0.4632\n",
            "Epoch 91/100\n",
            "1250/1250 [==============================] - 6s 5ms/step - loss: 1.0105 - accuracy: 0.6439 - val_loss: 1.6618 - val_accuracy: 0.4577\n",
            "Epoch 92/100\n",
            "1250/1250 [==============================] - 6s 5ms/step - loss: 1.0116 - accuracy: 0.6471 - val_loss: 1.6416 - val_accuracy: 0.4588\n",
            "Epoch 93/100\n",
            "1250/1250 [==============================] - 6s 5ms/step - loss: 1.0152 - accuracy: 0.6472 - val_loss: 1.6323 - val_accuracy: 0.4699\n",
            "Epoch 94/100\n",
            "1250/1250 [==============================] - 6s 5ms/step - loss: 1.0079 - accuracy: 0.6476 - val_loss: 1.6744 - val_accuracy: 0.4539\n",
            "Epoch 95/100\n",
            "1250/1250 [==============================] - 6s 5ms/step - loss: 1.0031 - accuracy: 0.6491 - val_loss: 1.6050 - val_accuracy: 0.4730\n",
            "Epoch 96/100\n",
            "1250/1250 [==============================] - 6s 5ms/step - loss: 1.0064 - accuracy: 0.6485 - val_loss: 1.6411 - val_accuracy: 0.4649\n",
            "Epoch 97/100\n",
            "1250/1250 [==============================] - 6s 5ms/step - loss: 0.9997 - accuracy: 0.6490 - val_loss: 1.6482 - val_accuracy: 0.4579\n",
            "Epoch 98/100\n",
            "1250/1250 [==============================] - 6s 5ms/step - loss: 1.0024 - accuracy: 0.6492 - val_loss: 1.6028 - val_accuracy: 0.4703\n",
            "Epoch 99/100\n",
            "1250/1250 [==============================] - 6s 5ms/step - loss: 0.9947 - accuracy: 0.6520 - val_loss: 1.6552 - val_accuracy: 0.4619\n",
            "Epoch 100/100\n",
            "1250/1250 [==============================] - 6s 5ms/step - loss: 0.9928 - accuracy: 0.6526 - val_loss: 1.6143 - val_accuracy: 0.4758\n"
          ]
        }
      ],
      "source": [
        "def cal():\n",
        "    model=Sequential()\n",
        "    model.add(Dense(50, input_shape = (3072,))) \n",
        "    model.add(BatchNormalization())   \n",
        "    model.add(Activation('relu'))\n",
        "\n",
        "    model.add(Dense(50)) \n",
        "    model.add(BatchNormalization())                       \n",
        "    model.add(Activation('relu'))\n",
        "\n",
        "    model.add(Dense(50)) \n",
        "    model.add(BatchNormalization())                       \n",
        "    model.add(Activation('relu'))\n",
        "    \n",
        "    model.add(Dense(10))  \n",
        "    model.add(BatchNormalization())                        \n",
        "    model.add(Activation('softmax'))\n",
        "    sgd = optimizers.Adagrad(learning_rate = 0.01)    # stochastic gradient descent optimizer\n",
        "    model.compile(optimizer = sgd, loss = 'categorical_crossentropy', metrics = ['accuracy'])\n",
        "    return model\n",
        "model=cal()\n",
        "history=model.fit(X_train, y_train, batch_size = 32,validation_split=0.2, epochs = 100, verbose = 1)"
      ]
    },
    {
      "cell_type": "code",
      "execution_count": null,
      "metadata": {
        "colab": {
          "base_uri": "https://localhost:8080/",
          "height": 265
        },
        "outputId": "e67a55db-1938-4e85-e868-d6bbf5c34db0",
        "id": "uwHBAQigQfrt"
      },
      "outputs": [
        {
          "output_type": "display_data",
          "data": {
            "image/png": "[encoded data removed]",
            "text/plain": [
              "<Figure size 432x288 with 1 Axes>"
            ]
          },
          "metadata": {
            "needs_background": "light"
          }
        }
      ],
      "source": [
        "plt.plot(history.history['accuracy'])\n",
        "plt.plot(history.history['val_accuracy'])\n",
        "plt.plot(history.history['loss'])\n",
        "plt.plot(history.history['val_loss'])\n",
        "plt.legend(['train_acc','valid_acc','train_loss','valid_loss'],loc='upper left')\n",
        "plt.show()"
      ]
    },
    {
      "cell_type": "code",
      "execution_count": null,
      "metadata": {
        "colab": {
          "base_uri": "https://localhost:8080/"
        },
        "outputId": "0800c2f9-dd17-405e-a457-8c0f5ee86b71",
        "id": "1VcspeD2Qfru"
      },
      "outputs": [
        {
          "output_type": "stream",
          "name": "stdout",
          "text": [
            "313/313 [==============================] - 1s 2ms/step - loss: 1.5979 - accuracy: 0.4770\n",
            "Accuracy = 47.69999980926514%\n"
          ]
        }
      ],
      "source": [
        "results=model.evaluate(X_test,y_test)\n",
        "print(\"Accuracy = {}%\".format(results[1]*100))"
      ]
    },
    {
      "cell_type": "markdown",
      "metadata": {
        "id": "coyr0repQfru"
      },
      "source": [
        "#ADD dropout"
      ]
    },
    {
      "cell_type": "code",
      "execution_count": null,
      "metadata": {
        "colab": {
          "base_uri": "https://localhost:8080/"
        },
        "outputId": "cabec56b-9b02-4d96-e4f0-59724037ec4e",
        "id": "Scis6vg_Qfru"
      },
      "outputs": [
        {
          "output_type": "stream",
          "name": "stdout",
          "text": [
            "Epoch 1/100\n",
            "1250/1250 [==============================] - 6s 4ms/step - loss: 2.1198 - accuracy: 0.1970 - val_loss: 1.9440 - val_accuracy: 0.2911\n",
            "Epoch 2/100\n",
            "1250/1250 [==============================] - 5s 4ms/step - loss: 1.9819 - accuracy: 0.2646 - val_loss: 1.8783 - val_accuracy: 0.3293\n",
            "Epoch 3/100\n",
            "1250/1250 [==============================] - 5s 4ms/step - loss: 1.9299 - accuracy: 0.2886 - val_loss: 1.8367 - val_accuracy: 0.3358\n",
            "Epoch 4/100\n",
            "1250/1250 [==============================] - 5s 4ms/step - loss: 1.8978 - accuracy: 0.3060 - val_loss: 1.8154 - val_accuracy: 0.3472\n",
            "Epoch 5/100\n",
            "1250/1250 [==============================] - 5s 4ms/step - loss: 1.8694 - accuracy: 0.3201 - val_loss: 1.7793 - val_accuracy: 0.3716\n",
            "Epoch 6/100\n",
            "1250/1250 [==============================] - 5s 4ms/step - loss: 1.8529 - accuracy: 0.3256 - val_loss: 1.7999 - val_accuracy: 0.3592\n",
            "Epoch 7/100\n",
            "1250/1250 [==============================] - 5s 4ms/step - loss: 1.8318 - accuracy: 0.3366 - val_loss: 1.7619 - val_accuracy: 0.3831\n",
            "Epoch 8/100\n",
            "1250/1250 [==============================] - 5s 4ms/step - loss: 1.8108 - accuracy: 0.3447 - val_loss: 1.7404 - val_accuracy: 0.3765\n",
            "Epoch 9/100\n",
            "1250/1250 [==============================] - 5s 4ms/step - loss: 1.7959 - accuracy: 0.3503 - val_loss: 1.7226 - val_accuracy: 0.3861\n",
            "Epoch 10/100\n",
            "1250/1250 [==============================] - 5s 4ms/step - loss: 1.7841 - accuracy: 0.3545 - val_loss: 1.7156 - val_accuracy: 0.3939\n",
            "Epoch 11/100\n",
            "1250/1250 [==============================] - 5s 4ms/step - loss: 1.7744 - accuracy: 0.3572 - val_loss: 1.6951 - val_accuracy: 0.4001\n",
            "Epoch 12/100\n",
            "1250/1250 [==============================] - 5s 4ms/step - loss: 1.7627 - accuracy: 0.3651 - val_loss: 1.6845 - val_accuracy: 0.3988\n",
            "Epoch 13/100\n",
            "1250/1250 [==============================] - 5s 4ms/step - loss: 1.7547 - accuracy: 0.3690 - val_loss: 1.6789 - val_accuracy: 0.4017\n",
            "Epoch 14/100\n",
            "1250/1250 [==============================] - 5s 4ms/step - loss: 1.7464 - accuracy: 0.3725 - val_loss: 1.6670 - val_accuracy: 0.4103\n",
            "Epoch 15/100\n",
            "1250/1250 [==============================] - 5s 4ms/step - loss: 1.7363 - accuracy: 0.3726 - val_loss: 1.6699 - val_accuracy: 0.4058\n",
            "Epoch 16/100\n",
            "1250/1250 [==============================] - 5s 4ms/step - loss: 1.7281 - accuracy: 0.3786 - val_loss: 1.6477 - val_accuracy: 0.4137\n",
            "Epoch 17/100\n",
            "1250/1250 [==============================] - 5s 4ms/step - loss: 1.7227 - accuracy: 0.3803 - val_loss: 1.6539 - val_accuracy: 0.4157\n",
            "Epoch 18/100\n",
            "1250/1250 [==============================] - 5s 4ms/step - loss: 1.7151 - accuracy: 0.3828 - val_loss: 1.6421 - val_accuracy: 0.4154\n",
            "Epoch 19/100\n",
            "1250/1250 [==============================] - 5s 4ms/step - loss: 1.7018 - accuracy: 0.3874 - val_loss: 1.6506 - val_accuracy: 0.4077\n",
            "Epoch 20/100\n",
            "1250/1250 [==============================] - 5s 4ms/step - loss: 1.6989 - accuracy: 0.3907 - val_loss: 1.6284 - val_accuracy: 0.4235\n",
            "Epoch 21/100\n",
            "1250/1250 [==============================] - 5s 4ms/step - loss: 1.6936 - accuracy: 0.3900 - val_loss: 1.6375 - val_accuracy: 0.4085\n",
            "Epoch 22/100\n",
            "1250/1250 [==============================] - 5s 4ms/step - loss: 1.6833 - accuracy: 0.3934 - val_loss: 1.6263 - val_accuracy: 0.4180\n",
            "Epoch 23/100\n",
            "1250/1250 [==============================] - 5s 4ms/step - loss: 1.6825 - accuracy: 0.3950 - val_loss: 1.6194 - val_accuracy: 0.4236\n",
            "Epoch 24/100\n",
            "1250/1250 [==============================] - 5s 4ms/step - loss: 1.6777 - accuracy: 0.3957 - val_loss: 1.6246 - val_accuracy: 0.4167\n",
            "Epoch 25/100\n",
            "1250/1250 [==============================] - 5s 4ms/step - loss: 1.6763 - accuracy: 0.3960 - val_loss: 1.6064 - val_accuracy: 0.4265\n",
            "Epoch 26/100\n",
            "1250/1250 [==============================] - 5s 4ms/step - loss: 1.6670 - accuracy: 0.4022 - val_loss: 1.6132 - val_accuracy: 0.4198\n",
            "Epoch 27/100\n",
            "1250/1250 [==============================] - 5s 4ms/step - loss: 1.6593 - accuracy: 0.4045 - val_loss: 1.6109 - val_accuracy: 0.4218\n",
            "Epoch 28/100\n",
            "1250/1250 [==============================] - 5s 4ms/step - loss: 1.6616 - accuracy: 0.4041 - val_loss: 1.6114 - val_accuracy: 0.4252\n",
            "Epoch 29/100\n",
            "1250/1250 [==============================] - 5s 4ms/step - loss: 1.6550 - accuracy: 0.4056 - val_loss: 1.6003 - val_accuracy: 0.4283\n",
            "Epoch 30/100\n",
            "1250/1250 [==============================] - 5s 4ms/step - loss: 1.6482 - accuracy: 0.4078 - val_loss: 1.5968 - val_accuracy: 0.4323\n",
            "Epoch 31/100\n",
            "1250/1250 [==============================] - 5s 4ms/step - loss: 1.6459 - accuracy: 0.4081 - val_loss: 1.5951 - val_accuracy: 0.4286\n",
            "Epoch 32/100\n",
            "1250/1250 [==============================] - 5s 4ms/step - loss: 1.6419 - accuracy: 0.4110 - val_loss: 1.6007 - val_accuracy: 0.4241\n",
            "Epoch 33/100\n",
            "1250/1250 [==============================] - 5s 4ms/step - loss: 1.6382 - accuracy: 0.4114 - val_loss: 1.5964 - val_accuracy: 0.4310\n",
            "Epoch 34/100\n",
            "1250/1250 [==============================] - 5s 4ms/step - loss: 1.6298 - accuracy: 0.4145 - val_loss: 1.6070 - val_accuracy: 0.4237\n",
            "Epoch 35/100\n",
            "1250/1250 [==============================] - 5s 4ms/step - loss: 1.6298 - accuracy: 0.4171 - val_loss: 1.5807 - val_accuracy: 0.4367\n",
            "Epoch 36/100\n",
            "1250/1250 [==============================] - 5s 4ms/step - loss: 1.6246 - accuracy: 0.4184 - val_loss: 1.5814 - val_accuracy: 0.4369\n",
            "Epoch 37/100\n",
            "1250/1250 [==============================] - 5s 4ms/step - loss: 1.6185 - accuracy: 0.4190 - val_loss: 1.5781 - val_accuracy: 0.4362\n",
            "Epoch 38/100\n",
            "1250/1250 [==============================] - 5s 4ms/step - loss: 1.6245 - accuracy: 0.4184 - val_loss: 1.5754 - val_accuracy: 0.4392\n",
            "Epoch 39/100\n",
            "1250/1250 [==============================] - 5s 4ms/step - loss: 1.6202 - accuracy: 0.4191 - val_loss: 1.5822 - val_accuracy: 0.4356\n",
            "Epoch 40/100\n",
            "1250/1250 [==============================] - 5s 4ms/step - loss: 1.6150 - accuracy: 0.4205 - val_loss: 1.5824 - val_accuracy: 0.4411\n",
            "Epoch 41/100\n",
            "1250/1250 [==============================] - 5s 4ms/step - loss: 1.6098 - accuracy: 0.4248 - val_loss: 1.5895 - val_accuracy: 0.4313\n",
            "Epoch 42/100\n",
            "1250/1250 [==============================] - 5s 4ms/step - loss: 1.6079 - accuracy: 0.4221 - val_loss: 1.5745 - val_accuracy: 0.4338\n",
            "Epoch 43/100\n",
            "1250/1250 [==============================] - 5s 4ms/step - loss: 1.6104 - accuracy: 0.4257 - val_loss: 1.5690 - val_accuracy: 0.4439\n",
            "Epoch 44/100\n",
            "1250/1250 [==============================] - 5s 4ms/step - loss: 1.5988 - accuracy: 0.4273 - val_loss: 1.5707 - val_accuracy: 0.4373\n",
            "Epoch 45/100\n",
            "1250/1250 [==============================] - 5s 4ms/step - loss: 1.5981 - accuracy: 0.4277 - val_loss: 1.5671 - val_accuracy: 0.4393\n",
            "Epoch 46/100\n",
            "1250/1250 [==============================] - 5s 4ms/step - loss: 1.5970 - accuracy: 0.4236 - val_loss: 1.5614 - val_accuracy: 0.4439\n",
            "Epoch 47/100\n",
            "1250/1250 [==============================] - 5s 4ms/step - loss: 1.5919 - accuracy: 0.4308 - val_loss: 1.5591 - val_accuracy: 0.4428\n",
            "Epoch 48/100\n",
            "1250/1250 [==============================] - 5s 4ms/step - loss: 1.5978 - accuracy: 0.4320 - val_loss: 1.5619 - val_accuracy: 0.4438\n",
            "Epoch 49/100\n",
            "1250/1250 [==============================] - 5s 4ms/step - loss: 1.5956 - accuracy: 0.4281 - val_loss: 1.5599 - val_accuracy: 0.4429\n",
            "Epoch 50/100\n",
            "1250/1250 [==============================] - 5s 4ms/step - loss: 1.5922 - accuracy: 0.4309 - val_loss: 1.5566 - val_accuracy: 0.4447\n",
            "Epoch 51/100\n",
            "1250/1250 [==============================] - 5s 4ms/step - loss: 1.5887 - accuracy: 0.4306 - val_loss: 1.5530 - val_accuracy: 0.4490\n",
            "Epoch 52/100\n",
            "1250/1250 [==============================] - 5s 4ms/step - loss: 1.5882 - accuracy: 0.4324 - val_loss: 1.5649 - val_accuracy: 0.4385\n",
            "Epoch 53/100\n",
            "1250/1250 [==============================] - 5s 4ms/step - loss: 1.5867 - accuracy: 0.4314 - val_loss: 1.5527 - val_accuracy: 0.4448\n",
            "Epoch 54/100\n",
            "1250/1250 [==============================] - 5s 4ms/step - loss: 1.5816 - accuracy: 0.4358 - val_loss: 1.5643 - val_accuracy: 0.4418\n",
            "Epoch 55/100\n",
            "1250/1250 [==============================] - 5s 4ms/step - loss: 1.5813 - accuracy: 0.4318 - val_loss: 1.5508 - val_accuracy: 0.4467\n",
            "Epoch 56/100\n",
            "1250/1250 [==============================] - 5s 4ms/step - loss: 1.5734 - accuracy: 0.4372 - val_loss: 1.5500 - val_accuracy: 0.4483\n",
            "Epoch 57/100\n",
            "1250/1250 [==============================] - 5s 4ms/step - loss: 1.5717 - accuracy: 0.4374 - val_loss: 1.5452 - val_accuracy: 0.4525\n",
            "Epoch 58/100\n",
            "1250/1250 [==============================] - 5s 4ms/step - loss: 1.5743 - accuracy: 0.4360 - val_loss: 1.5513 - val_accuracy: 0.4426\n",
            "Epoch 59/100\n",
            "1250/1250 [==============================] - 5s 4ms/step - loss: 1.5676 - accuracy: 0.4387 - val_loss: 1.5514 - val_accuracy: 0.4446\n",
            "Epoch 60/100\n",
            "1250/1250 [==============================] - 5s 4ms/step - loss: 1.5708 - accuracy: 0.4392 - val_loss: 1.5521 - val_accuracy: 0.4449\n",
            "Epoch 61/100\n",
            "1250/1250 [==============================] - 5s 4ms/step - loss: 1.5691 - accuracy: 0.4404 - val_loss: 1.5394 - val_accuracy: 0.4512\n",
            "Epoch 62/100\n",
            "1250/1250 [==============================] - 5s 4ms/step - loss: 1.5604 - accuracy: 0.4402 - val_loss: 1.5389 - val_accuracy: 0.4494\n",
            "Epoch 63/100\n",
            "1250/1250 [==============================] - 5s 4ms/step - loss: 1.5658 - accuracy: 0.4397 - val_loss: 1.5474 - val_accuracy: 0.4524\n",
            "Epoch 64/100\n",
            "1250/1250 [==============================] - 6s 4ms/step - loss: 1.5580 - accuracy: 0.4417 - val_loss: 1.5430 - val_accuracy: 0.4484\n",
            "Epoch 65/100\n",
            "1250/1250 [==============================] - 6s 5ms/step - loss: 1.5602 - accuracy: 0.4438 - val_loss: 1.5369 - val_accuracy: 0.4490\n",
            "Epoch 66/100\n",
            "1250/1250 [==============================] - 6s 5ms/step - loss: 1.5562 - accuracy: 0.4444 - val_loss: 1.5359 - val_accuracy: 0.4523\n",
            "Epoch 67/100\n",
            "1250/1250 [==============================] - 6s 5ms/step - loss: 1.5550 - accuracy: 0.4439 - val_loss: 1.5356 - val_accuracy: 0.4545\n",
            "Epoch 68/100\n",
            "1250/1250 [==============================] - 6s 4ms/step - loss: 1.5534 - accuracy: 0.4415 - val_loss: 1.5343 - val_accuracy: 0.4539\n",
            "Epoch 69/100\n",
            "1250/1250 [==============================] - 6s 5ms/step - loss: 1.5482 - accuracy: 0.4478 - val_loss: 1.5345 - val_accuracy: 0.4485\n",
            "Epoch 70/100\n",
            "1250/1250 [==============================] - 5s 4ms/step - loss: 1.5501 - accuracy: 0.4463 - val_loss: 1.5405 - val_accuracy: 0.4551\n",
            "Epoch 71/100\n",
            "1250/1250 [==============================] - 5s 4ms/step - loss: 1.5511 - accuracy: 0.4451 - val_loss: 1.5386 - val_accuracy: 0.4540\n",
            "Epoch 72/100\n",
            "1250/1250 [==============================] - 5s 4ms/step - loss: 1.5419 - accuracy: 0.4487 - val_loss: 1.5368 - val_accuracy: 0.4548\n",
            "Epoch 73/100\n",
            "1250/1250 [==============================] - 5s 4ms/step - loss: 1.5465 - accuracy: 0.4463 - val_loss: 1.5334 - val_accuracy: 0.4519\n",
            "Epoch 74/100\n",
            "1250/1250 [==============================] - 6s 4ms/step - loss: 1.5442 - accuracy: 0.4468 - val_loss: 1.5344 - val_accuracy: 0.4511\n",
            "Epoch 75/100\n",
            "1250/1250 [==============================] - 5s 4ms/step - loss: 1.5407 - accuracy: 0.4492 - val_loss: 1.5342 - val_accuracy: 0.4532\n",
            "Epoch 76/100\n",
            "1250/1250 [==============================] - 5s 4ms/step - loss: 1.5379 - accuracy: 0.4496 - val_loss: 1.5308 - val_accuracy: 0.4590\n",
            "Epoch 77/100\n",
            "1250/1250 [==============================] - 5s 4ms/step - loss: 1.5362 - accuracy: 0.4505 - val_loss: 1.5314 - val_accuracy: 0.4509\n",
            "Epoch 78/100\n",
            "1250/1250 [==============================] - 5s 4ms/step - loss: 1.5375 - accuracy: 0.4497 - val_loss: 1.5325 - val_accuracy: 0.4531\n",
            "Epoch 79/100\n",
            "1250/1250 [==============================] - 5s 4ms/step - loss: 1.5289 - accuracy: 0.4494 - val_loss: 1.5238 - val_accuracy: 0.4543\n",
            "Epoch 80/100\n",
            "1250/1250 [==============================] - 5s 4ms/step - loss: 1.5318 - accuracy: 0.4512 - val_loss: 1.5295 - val_accuracy: 0.4537\n",
            "Epoch 81/100\n",
            "1250/1250 [==============================] - 5s 4ms/step - loss: 1.5270 - accuracy: 0.4528 - val_loss: 1.5262 - val_accuracy: 0.4549\n",
            "Epoch 82/100\n",
            "1250/1250 [==============================] - 5s 4ms/step - loss: 1.5318 - accuracy: 0.4544 - val_loss: 1.5292 - val_accuracy: 0.4558\n",
            "Epoch 83/100\n",
            "1250/1250 [==============================] - 5s 4ms/step - loss: 1.5249 - accuracy: 0.4524 - val_loss: 1.5334 - val_accuracy: 0.4546\n",
            "Epoch 84/100\n",
            "1250/1250 [==============================] - 5s 4ms/step - loss: 1.5271 - accuracy: 0.4548 - val_loss: 1.5261 - val_accuracy: 0.4529\n",
            "Epoch 85/100\n",
            "1250/1250 [==============================] - 5s 4ms/step - loss: 1.5258 - accuracy: 0.4543 - val_loss: 1.5240 - val_accuracy: 0.4540\n",
            "Epoch 86/100\n",
            "1250/1250 [==============================] - 5s 4ms/step - loss: 1.5214 - accuracy: 0.4552 - val_loss: 1.5262 - val_accuracy: 0.4594\n",
            "Epoch 87/100\n",
            "1250/1250 [==============================] - 5s 4ms/step - loss: 1.5217 - accuracy: 0.4560 - val_loss: 1.5278 - val_accuracy: 0.4573\n",
            "Epoch 88/100\n",
            "1250/1250 [==============================] - 5s 4ms/step - loss: 1.5164 - accuracy: 0.4582 - val_loss: 1.5319 - val_accuracy: 0.4563\n",
            "Epoch 89/100\n",
            "1250/1250 [==============================] - 5s 4ms/step - loss: 1.5074 - accuracy: 0.4605 - val_loss: 1.5209 - val_accuracy: 0.4582\n",
            "Epoch 90/100\n",
            "1250/1250 [==============================] - 5s 4ms/step - loss: 1.5166 - accuracy: 0.4599 - val_loss: 1.5186 - val_accuracy: 0.4570\n",
            "Epoch 91/100\n",
            "1250/1250 [==============================] - 5s 4ms/step - loss: 1.5115 - accuracy: 0.4574 - val_loss: 1.5203 - val_accuracy: 0.4595\n",
            "Epoch 92/100\n",
            "1250/1250 [==============================] - 5s 4ms/step - loss: 1.5126 - accuracy: 0.4626 - val_loss: 1.5224 - val_accuracy: 0.4554\n",
            "Epoch 93/100\n",
            "1250/1250 [==============================] - 5s 4ms/step - loss: 1.5070 - accuracy: 0.4597 - val_loss: 1.5142 - val_accuracy: 0.4594\n",
            "Epoch 94/100\n",
            "1250/1250 [==============================] - 5s 4ms/step - loss: 1.5093 - accuracy: 0.4624 - val_loss: 1.5180 - val_accuracy: 0.4591\n",
            "Epoch 95/100\n",
            "1250/1250 [==============================] - 5s 4ms/step - loss: 1.5135 - accuracy: 0.4602 - val_loss: 1.5150 - val_accuracy: 0.4600\n",
            "Epoch 96/100\n",
            "1250/1250 [==============================] - 5s 4ms/step - loss: 1.5059 - accuracy: 0.4625 - val_loss: 1.5388 - val_accuracy: 0.4499\n",
            "Epoch 97/100\n",
            "1250/1250 [==============================] - 5s 4ms/step - loss: 1.5036 - accuracy: 0.4603 - val_loss: 1.5114 - val_accuracy: 0.4636\n",
            "Epoch 98/100\n",
            "1250/1250 [==============================] - 5s 4ms/step - loss: 1.5026 - accuracy: 0.4615 - val_loss: 1.5145 - val_accuracy: 0.4623\n",
            "Epoch 99/100\n",
            "1250/1250 [==============================] - 5s 4ms/step - loss: 1.4997 - accuracy: 0.4647 - val_loss: 1.5161 - val_accuracy: 0.4583\n",
            "Epoch 100/100\n",
            "1250/1250 [==============================] - 5s 4ms/step - loss: 1.5009 - accuracy: 0.4659 - val_loss: 1.5139 - val_accuracy: 0.4599\n"
          ]
        }
      ],
      "source": [
        "def cal():\n",
        "    model=Sequential()\n",
        "    model.add(Dense(50, input_shape = (3072,)))  #input layer\n",
        "    model.add(Activation('relu'))\n",
        "    model.add(Dropout(0.2)) \n",
        "\n",
        "    model.add(Dense(50))                      \n",
        "    model.add(Activation('relu'))\n",
        "    model.add(Dropout(0.2)) \n",
        "\n",
        "    model.add(Dense(50))                          \n",
        "    model.add(Activation('relu'))\n",
        "    model.add(Dropout(0.2)) \n",
        "\n",
        "    model.add(Dense(10))                         \n",
        "    model.add(Activation('softmax')) \n",
        "    sgd = optimizers.Adagrad(learning_rate = 0.01)    # stochastic gradient descent optimizer\n",
        "    model.compile(optimizer = sgd, loss = 'categorical_crossentropy', metrics = ['accuracy'])\n",
        "    return model\n",
        "model=cal()\n",
        "history=model.fit(X_train, y_train, batch_size = 32,validation_split=0.2, epochs = 100, verbose = 1)"
      ]
    },
    {
      "cell_type": "code",
      "execution_count": null,
      "metadata": {
        "colab": {
          "base_uri": "https://localhost:8080/",
          "height": 265
        },
        "outputId": "1e32c21d-207e-4076-dc4f-c8e55a43d94f",
        "id": "EXpu6Fm0Qfru"
      },
      "outputs": [
        {
          "output_type": "display_data",
          "data": {
            "image/png": "[encoded data removed]",
            "text/plain": [
              "<Figure size 432x288 with 1 Axes>"
            ]
          },
          "metadata": {
            "needs_background": "light"
          }
        }
      ],
      "source": [
        "plt.plot(history.history['accuracy'])\n",
        "plt.plot(history.history['val_accuracy'])\n",
        "plt.plot(history.history['loss'])\n",
        "plt.plot(history.history['val_loss'])\n",
        "plt.legend(['train_acc','valid_acc','train_loss','valid_loss'],loc='upper left')\n",
        "plt.show()"
      ]
    },
    {
      "cell_type": "code",
      "execution_count": null,
      "metadata": {
        "colab": {
          "base_uri": "https://localhost:8080/"
        },
        "outputId": "e518c95d-515b-4b04-959c-5f11790bd73e",
        "id": "DdTJhJ6fQfrv"
      },
      "outputs": [
        {
          "output_type": "stream",
          "name": "stdout",
          "text": [
            "313/313 [==============================] - 1s 2ms/step - loss: 1.4883 - accuracy: 0.4737\n",
            "Accuracy = 47.36999869346619%\n"
          ]
        }
      ],
      "source": [
        "results=model.evaluate(X_test,y_test)\n",
        "print(\"Accuracy = {}%\".format(results[1]*100))"
      ]
    },
    {
      "cell_type": "markdown",
      "metadata": {
        "id": "ktoSlej-Qfrv"
      },
      "source": [
        "#Early stoppinng"
      ]
    },
    {
      "cell_type": "code",
      "execution_count": null,
      "metadata": {
        "id": "VZJwd2fDQfrv"
      },
      "outputs": [],
      "source": [
        "import tensorflow as tf"
      ]
    },
    {
      "cell_type": "code",
      "execution_count": null,
      "metadata": {
        "id": "kfmL13sSQfrv"
      },
      "outputs": [],
      "source": [
        "callback=tf.keras.callbacks.EarlyStopping(monitor='val_accuracy',patience=3)"
      ]
    },
    {
      "cell_type": "code",
      "execution_count": null,
      "metadata": {
        "colab": {
          "base_uri": "https://localhost:8080/"
        },
        "outputId": "90db03c2-4cf8-48e0-c974-e3f9908cb982",
        "id": "haxKkUZ4Qfrv"
      },
      "outputs": [
        {
          "output_type": "stream",
          "name": "stdout",
          "text": [
            "Epoch 1/100\n",
            "1250/1250 [==============================] - 6s 4ms/step - loss: 2.1463 - accuracy: 0.1764 - val_loss: 1.9882 - val_accuracy: 0.2719\n",
            "Epoch 2/100\n",
            "1250/1250 [==============================] - 5s 4ms/step - loss: 1.9912 - accuracy: 0.2540 - val_loss: 1.8746 - val_accuracy: 0.3166\n",
            "Epoch 3/100\n",
            "1250/1250 [==============================] - 5s 4ms/step - loss: 1.9415 - accuracy: 0.2809 - val_loss: 1.8265 - val_accuracy: 0.3432\n",
            "Epoch 4/100\n",
            "1250/1250 [==============================] - 5s 4ms/step - loss: 1.9030 - accuracy: 0.2952 - val_loss: 1.8349 - val_accuracy: 0.3229\n",
            "Epoch 5/100\n",
            "1250/1250 [==============================] - 5s 4ms/step - loss: 1.8814 - accuracy: 0.3063 - val_loss: 1.7952 - val_accuracy: 0.3559\n",
            "Epoch 6/100\n",
            "1250/1250 [==============================] - 5s 4ms/step - loss: 1.8622 - accuracy: 0.3103 - val_loss: 1.7911 - val_accuracy: 0.3493\n",
            "Epoch 7/100\n",
            "1250/1250 [==============================] - 5s 4ms/step - loss: 1.8437 - accuracy: 0.3205 - val_loss: 1.7647 - val_accuracy: 0.3692\n",
            "Epoch 8/100\n",
            "1250/1250 [==============================] - 5s 4ms/step - loss: 1.8289 - accuracy: 0.3304 - val_loss: 1.7563 - val_accuracy: 0.3677\n",
            "Epoch 9/100\n",
            "1250/1250 [==============================] - 5s 4ms/step - loss: 1.8213 - accuracy: 0.3323 - val_loss: 1.7355 - val_accuracy: 0.3733\n",
            "Epoch 10/100\n",
            "1250/1250 [==============================] - 5s 4ms/step - loss: 1.8113 - accuracy: 0.3381 - val_loss: 1.7497 - val_accuracy: 0.3745\n",
            "Epoch 11/100\n",
            "1250/1250 [==============================] - 5s 4ms/step - loss: 1.7995 - accuracy: 0.3408 - val_loss: 1.7068 - val_accuracy: 0.3859\n",
            "Epoch 12/100\n",
            "1250/1250 [==============================] - 5s 4ms/step - loss: 1.7938 - accuracy: 0.3447 - val_loss: 1.7213 - val_accuracy: 0.3770\n",
            "Epoch 13/100\n",
            "1250/1250 [==============================] - 5s 4ms/step - loss: 1.7824 - accuracy: 0.3478 - val_loss: 1.6948 - val_accuracy: 0.3947\n",
            "Epoch 14/100\n",
            "1250/1250 [==============================] - 5s 4ms/step - loss: 1.7736 - accuracy: 0.3544 - val_loss: 1.6925 - val_accuracy: 0.3911\n",
            "Epoch 15/100\n",
            "1250/1250 [==============================] - 5s 4ms/step - loss: 1.7641 - accuracy: 0.3581 - val_loss: 1.6850 - val_accuracy: 0.3975\n",
            "Epoch 16/100\n",
            "1250/1250 [==============================] - 5s 4ms/step - loss: 1.7519 - accuracy: 0.3606 - val_loss: 1.6794 - val_accuracy: 0.4011\n",
            "Epoch 17/100\n",
            "1250/1250 [==============================] - 5s 4ms/step - loss: 1.7466 - accuracy: 0.3636 - val_loss: 1.6734 - val_accuracy: 0.3999\n",
            "Epoch 18/100\n",
            "1250/1250 [==============================] - 6s 4ms/step - loss: 1.7390 - accuracy: 0.3692 - val_loss: 1.6678 - val_accuracy: 0.3999\n",
            "Epoch 19/100\n",
            "1250/1250 [==============================] - 6s 4ms/step - loss: 1.7277 - accuracy: 0.3737 - val_loss: 1.6534 - val_accuracy: 0.4124\n",
            "Epoch 20/100\n",
            "1250/1250 [==============================] - 5s 4ms/step - loss: 1.7219 - accuracy: 0.3744 - val_loss: 1.6521 - val_accuracy: 0.4121\n",
            "Epoch 21/100\n",
            "1250/1250 [==============================] - 5s 4ms/step - loss: 1.7197 - accuracy: 0.3753 - val_loss: 1.6342 - val_accuracy: 0.4170\n",
            "Epoch 22/100\n",
            "1250/1250 [==============================] - 5s 4ms/step - loss: 1.7095 - accuracy: 0.3808 - val_loss: 1.6323 - val_accuracy: 0.4204\n",
            "Epoch 23/100\n",
            "1250/1250 [==============================] - 6s 4ms/step - loss: 1.7043 - accuracy: 0.3847 - val_loss: 1.6332 - val_accuracy: 0.4190\n",
            "Epoch 24/100\n",
            "1250/1250 [==============================] - 5s 4ms/step - loss: 1.6975 - accuracy: 0.3884 - val_loss: 1.6289 - val_accuracy: 0.4172\n",
            "Epoch 25/100\n",
            "1250/1250 [==============================] - 5s 4ms/step - loss: 1.6957 - accuracy: 0.3855 - val_loss: 1.6188 - val_accuracy: 0.4227\n",
            "Epoch 26/100\n",
            "1250/1250 [==============================] - 5s 4ms/step - loss: 1.6850 - accuracy: 0.3915 - val_loss: 1.6128 - val_accuracy: 0.4236\n",
            "Epoch 27/100\n",
            "1250/1250 [==============================] - 5s 4ms/step - loss: 1.6808 - accuracy: 0.3925 - val_loss: 1.6122 - val_accuracy: 0.4228\n",
            "Epoch 28/100\n",
            "1250/1250 [==============================] - 5s 4ms/step - loss: 1.6738 - accuracy: 0.3976 - val_loss: 1.6106 - val_accuracy: 0.4228\n",
            "Epoch 29/100\n",
            "1250/1250 [==============================] - 5s 4ms/step - loss: 1.6725 - accuracy: 0.3952 - val_loss: 1.6078 - val_accuracy: 0.4309\n",
            "Epoch 30/100\n",
            "1250/1250 [==============================] - 5s 4ms/step - loss: 1.6703 - accuracy: 0.3987 - val_loss: 1.6072 - val_accuracy: 0.4285\n",
            "Epoch 31/100\n",
            "1250/1250 [==============================] - 5s 4ms/step - loss: 1.6632 - accuracy: 0.4002 - val_loss: 1.6107 - val_accuracy: 0.4289\n",
            "Epoch 32/100\n",
            "1250/1250 [==============================] - 5s 4ms/step - loss: 1.6553 - accuracy: 0.4048 - val_loss: 1.5945 - val_accuracy: 0.4333\n",
            "Epoch 33/100\n",
            "1250/1250 [==============================] - 5s 4ms/step - loss: 1.6564 - accuracy: 0.4018 - val_loss: 1.6007 - val_accuracy: 0.4272\n",
            "Epoch 34/100\n",
            "1250/1250 [==============================] - 5s 4ms/step - loss: 1.6504 - accuracy: 0.4074 - val_loss: 1.5889 - val_accuracy: 0.4318\n",
            "Epoch 35/100\n",
            "1250/1250 [==============================] - 5s 4ms/step - loss: 1.6460 - accuracy: 0.4108 - val_loss: 1.5912 - val_accuracy: 0.4329\n"
          ]
        }
      ],
      "source": [
        "def cal():\n",
        "    model=Sequential()\n",
        "    model.add(Dense(50, input_shape = (3072,)))  \n",
        "    model.add(Activation('relu'))\n",
        "    model.add(Dropout(0.2)) \n",
        "\n",
        "    model.add(Dense(50))                      \n",
        "    model.add(Activation('relu'))\n",
        "    model.add(Dropout(0.2)) \n",
        "\n",
        "    model.add(Dense(50))                          \n",
        "    model.add(Activation('relu'))\n",
        "    model.add(Dropout(0.2)) \n",
        "\n",
        "    model.add(Dense(10))                         \n",
        "    model.add(Activation('softmax')) \n",
        "    sgd = optimizers.Adagrad(learning_rate = 0.01)    # stochastic gradient descent optimizer\n",
        "    model.compile(optimizer = sgd, loss = 'categorical_crossentropy', metrics = ['accuracy'])\n",
        "    return model\n",
        "model=cal()\n",
        "history=model.fit(X_train, y_train, batch_size = 32,validation_split=0.2,epochs = 100,callbacks=[callback], verbose = 1)"
      ]
    },
    {
      "cell_type": "code",
      "execution_count": null,
      "metadata": {
        "colab": {
          "base_uri": "https://localhost:8080/"
        },
        "outputId": "67fd2467-5dcd-4237-f1ba-17d633c44a43",
        "id": "2chKqOeaQfrw"
      },
      "outputs": [
        {
          "output_type": "stream",
          "name": "stdout",
          "text": [
            "total number of epochs = 35\n"
          ]
        }
      ],
      "source": [
        "print(\"total number of epochs = {}\".format(len(history.history['loss'])))"
      ]
    },
    {
      "cell_type": "code",
      "execution_count": null,
      "metadata": {
        "colab": {
          "base_uri": "https://localhost:8080/",
          "height": 265
        },
        "outputId": "58bc15d6-cb92-4c68-dce7-382c47e85013",
        "id": "syeQeS2xQfrw"
      },
      "outputs": [
        {
          "output_type": "display_data",
          "data": {
            "image/png": "[encoded data removed]",
            "text/plain": [
              "<Figure size 432x288 with 1 Axes>"
            ]
          },
          "metadata": {
            "needs_background": "light"
          }
        }
      ],
      "source": [
        "plt.plot(history.history['accuracy'])\n",
        "plt.plot(history.history['val_accuracy'])\n",
        "plt.plot(history.history['loss'])\n",
        "plt.plot(history.history['val_loss'])\n",
        "plt.legend(['train_acc','valid_acc','train_loss','valid_loss'],loc='upper left')\n",
        "plt.show()"
      ]
    },
    {
      "cell_type": "code",
      "execution_count": null,
      "metadata": {
        "colab": {
          "base_uri": "https://localhost:8080/"
        },
        "outputId": "40c07c7f-e574-42a2-ec73-447a92895f7a",
        "id": "3YDAqzxQQfrw"
      },
      "outputs": [
        {
          "output_type": "stream",
          "name": "stdout",
          "text": [
            "313/313 [==============================] - 1s 2ms/step - loss: 1.5654 - accuracy: 0.4432\n",
            "Accuracy = 44.31999921798706%\n"
          ]
        }
      ],
      "source": [
        "results=model.evaluate(X_test,y_test)\n",
        "print(\"Accuracy = {}%\".format(results[1]*100))"
      ]
    },
    {
      "cell_type": "code",
      "execution_count": null,
      "metadata": {
        "colab": {
          "base_uri": "https://localhost:8080/"
        },
        "outputId": "8a4e967d-42b2-4c68-dd95-0c128103166a",
        "id": "AsltpiMmQfrw"
      },
      "outputs": [
        {
          "output_type": "stream",
          "name": "stdout",
          "text": [
            "Epoch 1/100\n",
            "137/137 [==============================] - 2s 13ms/step - loss: 1.6302 - accuracy: 0.4128 - val_loss: 1.5501 - val_accuracy: 0.4479\n",
            "Epoch 2/100\n",
            "137/137 [==============================] - 2s 13ms/step - loss: 1.6204 - accuracy: 0.4166 - val_loss: 1.5465 - val_accuracy: 0.4474\n",
            "Epoch 3/100\n",
            "137/137 [==============================] - 2s 13ms/step - loss: 1.6198 - accuracy: 0.4190 - val_loss: 1.5463 - val_accuracy: 0.4494\n",
            "Epoch 4/100\n",
            "137/137 [==============================] - 2s 13ms/step - loss: 1.6150 - accuracy: 0.4204 - val_loss: 1.5488 - val_accuracy: 0.4469\n",
            "Epoch 5/100\n",
            "137/137 [==============================] - 2s 13ms/step - loss: 1.6207 - accuracy: 0.4156 - val_loss: 1.5496 - val_accuracy: 0.4477\n",
            "Epoch 6/100\n",
            "137/137 [==============================] - 2s 13ms/step - loss: 1.6223 - accuracy: 0.4157 - val_loss: 1.5490 - val_accuracy: 0.4479\n",
            "Epoch 7/100\n",
            "137/137 [==============================] - 2s 13ms/step - loss: 1.6242 - accuracy: 0.4169 - val_loss: 1.5476 - val_accuracy: 0.4467\n",
            "Epoch 8/100\n",
            "137/137 [==============================] - 2s 13ms/step - loss: 1.6213 - accuracy: 0.4167 - val_loss: 1.5445 - val_accuracy: 0.4505\n",
            "Epoch 9/100\n",
            "137/137 [==============================] - 2s 13ms/step - loss: 1.6244 - accuracy: 0.4175 - val_loss: 1.5458 - val_accuracy: 0.4491\n",
            "Epoch 10/100\n",
            "137/137 [==============================] - 2s 13ms/step - loss: 1.6206 - accuracy: 0.4205 - val_loss: 1.5446 - val_accuracy: 0.4511\n",
            "Epoch 11/100\n",
            "137/137 [==============================] - 2s 13ms/step - loss: 1.6228 - accuracy: 0.4164 - val_loss: 1.5467 - val_accuracy: 0.4471\n",
            "Epoch 12/100\n",
            "137/137 [==============================] - 2s 13ms/step - loss: 1.6178 - accuracy: 0.4179 - val_loss: 1.5446 - val_accuracy: 0.4494\n",
            "Epoch 13/100\n",
            "137/137 [==============================] - 2s 13ms/step - loss: 1.6148 - accuracy: 0.4243 - val_loss: 1.5452 - val_accuracy: 0.4493\n",
            "Epoch 14/100\n",
            "137/137 [==============================] - 2s 13ms/step - loss: 1.6190 - accuracy: 0.4180 - val_loss: 1.5463 - val_accuracy: 0.4461\n",
            "Epoch 15/100\n",
            "137/137 [==============================] - 2s 13ms/step - loss: 1.6134 - accuracy: 0.4209 - val_loss: 1.5427 - val_accuracy: 0.4481\n"
          ]
        }
      ],
      "source": [
        "callback=tf.keras.callbacks.EarlyStopping(monitor='val_accuracy',patience=5)\n",
        "history=model.fit(X_train, y_train, batch_size = 32,validation_split=0.3,epochs = 100,callbacks=[callback] ,verbose = 1)"
      ]
    },
    {
      "cell_type": "code",
      "execution_count": null,
      "metadata": {
        "colab": {
          "base_uri": "https://localhost:8080/",
          "height": 265
        },
        "outputId": "2f5620a1-a63d-4711-aec3-9d68d261a2d9",
        "id": "KSVUyWWKQfrx"
      },
      "outputs": [
        {
          "output_type": "display_data",
          "data": {
            "image/png": "[encoded data removed]",
            "text/plain": [
              "<Figure size 432x288 with 1 Axes>"
            ]
          },
          "metadata": {
            "needs_background": "light"
          }
        }
      ],
      "source": [
        "plt.plot(history.history['accuracy'])\n",
        "plt.plot(history.history['val_accuracy'])\n",
        "plt.plot(history.history['loss'])\n",
        "plt.plot(history.history['val_loss'])\n",
        "plt.legend(['train_acc','valid_acc','train_loss','valid_loss'],loc='upper left')\n",
        "plt.show()"
      ]
    },
    {
      "cell_type": "code",
      "execution_count": null,
      "metadata": {
        "colab": {
          "base_uri": "https://localhost:8080/"
        },
        "outputId": "7e8632a0-dac4-4ea7-a58d-e79c6cd9ea35",
        "id": "Co1BI7UdQfrx"
      },
      "outputs": [
        {
          "output_type": "stream",
          "name": "stdout",
          "text": [
            "313/313 [==============================] - 1s 2ms/step - loss: 1.5437 - accuracy: 0.4501\n",
            "Accuracy = 45.010000467300415%\n"
          ]
        }
      ],
      "source": [
        "results=model.evaluate(X_test,y_test)\n",
        "print(\"Accuracy = {}%\".format(results[1]*100))"
      ]
    },
    {
      "cell_type": "markdown",
      "metadata": {
        "id": "lwYGu8SMQfrx"
      },
      "source": [
        "#ENSEMBLING"
      ]
    },
    {
      "cell_type": "code",
      "execution_count": null,
      "metadata": {
        "id": "PrSQlrsQQfrx"
      },
      "outputs": [],
      "source": [
        "from tensorflow.keras.wrappers.scikit_learn import KerasClassifier\n",
        "from sklearn.ensemble import VotingClassifier\n",
        "from sklearn.metrics import accuracy_score"
      ]
    },
    {
      "cell_type": "code",
      "execution_count": null,
      "metadata": {
        "id": "ayeZPa6FQfrx"
      },
      "outputs": [],
      "source": [
        "y_train=np.argmax(y_train,axis=1)\n",
        "y_test=np.argmax(y_test,axis=1)"
      ]
    },
    {
      "cell_type": "code",
      "execution_count": null,
      "metadata": {
        "id": "BflaqC71Qfry"
      },
      "outputs": [],
      "source": [
        "def cal1():\n",
        "    model=Sequential()\n",
        "    model.add(Dense(50, input_shape = (3072,)))  \n",
        "    model.add(Activation('relu')) \n",
        "\n",
        "    model.add(Dense(50))                      \n",
        "    model.add(Activation('relu'))\n",
        "\n",
        "    model.add(Dense(50))                          \n",
        "    model.add(Activation('relu'))\n",
        "    \n",
        "    model.add(Dense(10))                         \n",
        "    model.add(Activation('softmax')) \n",
        "    sgd = optimizers.Adagrad(learning_rate = 0.01)    # stochastic gradient descent optimizer\n",
        "    model.compile(optimizer = sgd, loss = 'categorical_crossentropy', metrics = ['accuracy'])\n",
        "    return model"
      ]
    },
    {
      "cell_type": "code",
      "execution_count": null,
      "metadata": {
        "colab": {
          "base_uri": "https://localhost:8080/"
        },
        "outputId": "80cb16ce-0188-42cf-eb66-394785641a21",
        "id": "hxOK2PQ5Qfry"
      },
      "outputs": [
        {
          "output_type": "stream",
          "name": "stderr",
          "text": [
            "/usr/local/lib/python3.7/dist-packages/ipykernel_launcher.py:1: DeprecationWarning: KerasClassifier is deprecated, use Sci-Keras (https://github.com/adriangb/scikeras) instead.\n",
            "  \"\"\"Entry point for launching an IPython kernel.\n",
            "/usr/local/lib/python3.7/dist-packages/ipykernel_launcher.py:2: DeprecationWarning: KerasClassifier is deprecated, use Sci-Keras (https://github.com/adriangb/scikeras) instead.\n",
            "  \n",
            "/usr/local/lib/python3.7/dist-packages/ipykernel_launcher.py:3: DeprecationWarning: KerasClassifier is deprecated, use Sci-Keras (https://github.com/adriangb/scikeras) instead.\n",
            "  This is separate from the ipykernel package so we can avoid doing imports until\n"
          ]
        }
      ],
      "source": [
        "m1=KerasClassifier(build_fn=cal1,epochs=100,verbose=0)\n",
        "m2=KerasClassifier(build_fn=cal1,epochs=100,verbose=0)\n",
        "m3=KerasClassifier(build_fn=cal1,epochs=100,verbose=0)\n",
        "m1._estimator_type='classifier'\n",
        "m2._estimator_type='classifier'\n",
        "m3._estimator_type='classifier'"
      ]
    },
    {
      "cell_type": "code",
      "execution_count": null,
      "metadata": {
        "id": "Pyr78Jk-Qfry",
        "colab": {
          "base_uri": "https://localhost:8080/"
        },
        "outputId": "8d631fca-e046-482b-9ff9-8666f4b8b84f"
      },
      "outputs": [
        {
          "output_type": "stream",
          "name": "stdout",
          "text": [
            "Accuracy = 0.5404%\n"
          ]
        }
      ],
      "source": [
        "ensemble_clf=VotingClassifier(estimators=[('m1',m1),('m2',m2),('m3',m3),],voting='soft')\n",
        "history=ensemble_clf.fit(X_train,y_train)\n",
        "y_pred=ensemble_clf.predict(X_test)\n",
        "print(\"Accuracy = {}%\".format(accuracy_score(y_pred,y_test)))"
      ]
    },
    {
      "cell_type": "markdown",
      "metadata": {
        "id": "MMzkgVinQfry"
      },
      "source": [
        "#Checkpoint in keras"
      ]
    },
    {
      "cell_type": "code",
      "execution_count": null,
      "metadata": {
        "colab": {
          "base_uri": "https://localhost:8080/"
        },
        "outputId": "077c4c14-eb0a-491d-f805-b233e5aa6d00",
        "id": "PUTsoMrfQfrz"
      },
      "outputs": [
        {
          "output_type": "stream",
          "name": "stdout",
          "text": [
            "Requirement already satisfied: h5py in /usr/local/lib/python3.7/dist-packages (3.1.0)\n",
            "Requirement already satisfied: cached-property in /usr/local/lib/python3.7/dist-packages (from h5py) (1.5.2)\n",
            "Requirement already satisfied: numpy>=1.14.5 in /usr/local/lib/python3.7/dist-packages (from h5py) (1.19.5)\n"
          ]
        }
      ],
      "source": [
        "pip install h5py"
      ]
    },
    {
      "cell_type": "code",
      "execution_count": null,
      "metadata": {
        "id": "VVuIaSwyQfrz"
      },
      "outputs": [],
      "source": [
        "from tensorflow.python.keras.callbacks import ModelCheckpoint\n",
        "ch=ModelCheckpoint('model.h5py',monitor='val_loss',mode='min',save_best_only=True)"
      ]
    },
    {
      "cell_type": "code",
      "execution_count": null,
      "metadata": {
        "id": "6QMgMmlPQfrz"
      },
      "outputs": [],
      "source": [
        "#from keras.model import load_model\n",
        "final_model=tf.keras.models.load_model('model.h5py')"
      ]
    },
    {
      "cell_type": "markdown",
      "source": [
        "#INFERENCE\n",
        "ACCUARCY OF:\n",
        "1.   basic mlp model = 45.12%\n",
        "2.   with he_normal initializer = 46.74%\n",
        "3.   non-linear activation function(relu) = 49.14%\n",
        "4.   with Adagrad optimizer = 48.30%\n",
        "5.   BatchNormalization = 47.69%\n",
        "6.   DropOut(regularization) = 47.36%\n",
        "7.   early stopping with patience 3 = 44.31% and with patience 4 = 45.01%\n",
        "8.   ensembling = 54.04%\n",
        "*   THUS ACCURACY IS HIGH AFTER APPLYING Ensembling for this model.\n",
        "\n",
        "\n",
        "\n",
        "\n",
        "\n",
        "\n",
        "\n",
        "\n",
        "\n",
        "\n"
      ],
      "metadata": {
        "id": "XObPkaPR60vV"
      }
    }
  ],
  "metadata": {
    "colab": {
      "name": "1.IMPROVE_MNIST_and_CIFAR10.ipynb",
      "provenance": []
    },
    "kernelspec": {
      "display_name": "Python 3",
      "name": "python3"
    },
    "language_info": {
      "name": "python"
    }
  },
  "nbformat": 4,
  "nbformat_minor": 0
}