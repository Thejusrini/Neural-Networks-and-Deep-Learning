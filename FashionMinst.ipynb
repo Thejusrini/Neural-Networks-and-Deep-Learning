{
  "nbformat": 4,
  "nbformat_minor": 0,
  "metadata": {
    "colab": {
      "name": "FashionMinst.ipynb",
      "provenance": [],
      "collapsed_sections": [
        "u7F3R8-Aanxh",
        "Hemv72Okb9vE",
        "FtLEW_sJcOoG",
        "ia1lSUxegf9j",
        "GXZ-AEJknD5E",
        "2n7jSX0HpGVh",
        "OfvZWbIKugq2",
        "_qMsQESVtgPl"
      ]
    },
    "kernelspec": {
      "name": "python3",
      "display_name": "Python 3"
    },
    "language_info": {
      "name": "python"
    }
  },
  "cells": [
    {
      "cell_type": "code",
      "execution_count": null,
      "metadata": {
        "id": "81sYKlsSU0JF"
      },
      "outputs": [],
      "source": [
        "import pandas as pd\n",
        "import numpy as np\n",
        "from sklearn.model_selection import train_test_split\n",
        "from tensorflow.keras.datasets import fashion_mnist\n",
        "from tensorflow.keras.models import Sequential\n",
        "from tensorflow.keras.layers import Activation, Dense\n",
        "from tensorflow.keras import optimizers\n",
        "import matplotlib.pyplot as plt\n",
        "from sklearn.preprocessing import StandardScaler\n",
        "from tensorflow.keras.utils import to_categorical\n",
        "from keras.layers import BatchNormalization\n",
        "from keras.layers import Dropout\n",
        "from sklearn.metrics import confusion_matrix\n",
        "from sklearn.metrics import accuracy_score\n",
        "from sklearn.metrics import classification_report"
      ]
    },
    {
      "cell_type": "code",
      "source": [
        "(X_train,y_train),(X_test,y_test)=fashion_mnist.load_data()"
      ],
      "metadata": {
        "id": "S0z8CuqRVXFg"
      },
      "execution_count": null,
      "outputs": []
    },
    {
      "cell_type": "code",
      "source": [
        "print(X_train[0].shape)\n",
        "print(X_train.shape)"
      ],
      "metadata": {
        "colab": {
          "base_uri": "https://localhost:8080/"
        },
        "id": "ixcTzfLzVhcG",
        "outputId": "b8013167-6ad9-4551-bd44-3bc8068701ec"
      },
      "execution_count": null,
      "outputs": [
        {
          "output_type": "stream",
          "name": "stdout",
          "text": [
            "(28, 28)\n",
            "(60000, 28, 28)\n"
          ]
        }
      ]
    },
    {
      "cell_type": "code",
      "source": [
        "X_train=X_train.reshape((X_train.shape[0],-1))\n",
        "X_test=X_test.reshape((X_test.shape[0],-1))\n",
        "y_train=to_categorical(y_train)\n",
        "y_test=to_categorical(y_test)\n",
        "print(X_train.shape,X_test.shape,y_train.shape,y_test.shape)"
      ],
      "metadata": {
        "colab": {
          "base_uri": "https://localhost:8080/"
        },
        "id": "pWE5tOLFVhw2",
        "outputId": "ef118fc5-9e8a-4728-cdc5-565da9b0ab25"
      },
      "execution_count": null,
      "outputs": [
        {
          "output_type": "stream",
          "name": "stdout",
          "text": [
            "(60000, 784) (10000, 784) (60000, 10) (10000, 10)\n"
          ]
        }
      ]
    },
    {
      "cell_type": "code",
      "source": [
        "np.mean(X_train),np.std(X_train),np.mean(y_train),np.std(y_test)"
      ],
      "metadata": {
        "colab": {
          "base_uri": "https://localhost:8080/"
        },
        "id": "GxmvrMwZZJCb",
        "outputId": "d7d64b57-a149-4c02-9869-b105db254910"
      },
      "execution_count": null,
      "outputs": [
        {
          "output_type": "execute_result",
          "data": {
            "text/plain": [
              "(72.94035223214286, 90.02118235130519, 0.1, 0.29999998)"
            ]
          },
          "metadata": {},
          "execution_count": 37
        }
      ]
    },
    {
      "cell_type": "code",
      "source": [
        "X_train=StandardScaler().fit_transform(X_train)\n",
        "X_test=StandardScaler().fit_transform(X_test)"
      ],
      "metadata": {
        "id": "3lR1BmeYZUHl"
      },
      "execution_count": null,
      "outputs": []
    },
    {
      "cell_type": "code",
      "source": [
        "np.mean(X_train),np.std(X_train),np.mean(y_train),np.std(y_test)"
      ],
      "metadata": {
        "colab": {
          "base_uri": "https://localhost:8080/"
        },
        "id": "_x0l7pCzZsGg",
        "outputId": "cddeab4a-8905-4742-e557-285ff403c473"
      },
      "execution_count": null,
      "outputs": [
        {
          "output_type": "execute_result",
          "data": {
            "text/plain": [
              "(-1.8899470046408106e-18, 1.000000000000002, 0.1, 0.29999998)"
            ]
          },
          "metadata": {},
          "execution_count": 39
        }
      ]
    },
    {
      "cell_type": "markdown",
      "source": [
        "#2. \n",
        "*   Design and implement a multi-class Perceptron classifier with four hidden layers:\n",
        "*   Write a function that returns the MLP model [Base-line model: optimizer-SGD, activations\u0002Sigmoid].\n",
        "*   Train the model for 5 epochs. [4 Marks] CO3-L4"
      ],
      "metadata": {
        "id": "9MOKrLExWduS"
      }
    },
    {
      "cell_type": "markdown",
      "source": [
        "BASIC MLP MODEL"
      ],
      "metadata": {
        "id": "Hj8APysqWEiD"
      }
    },
    {
      "cell_type": "code",
      "source": [
        "model = Sequential()\n",
        "model.add(Dense(50, activation='sigmoid', input_dim=784))\n",
        "model.add(Dense(50, activation='sigmoid'))\n",
        "model.add(Dense(50, activation='sigmoid'))\n",
        "model.add(Dense(50, activation='sigmoid'))\n",
        "model.add(Dense(50, activation='sigmoid'))\n",
        "model.add(Dense(10, activation='softmax'))\n",
        "model.summary()"
      ],
      "metadata": {
        "colab": {
          "base_uri": "https://localhost:8080/"
        },
        "id": "KXc0fVRRVlQ2",
        "outputId": "b1ea5782-1b53-446e-d098-467e8dbf04fe"
      },
      "execution_count": null,
      "outputs": [
        {
          "output_type": "stream",
          "name": "stdout",
          "text": [
            "Model: \"sequential_1\"\n",
            "_________________________________________________________________\n",
            " Layer (type)                Output Shape              Param #   \n",
            "=================================================================\n",
            " dense_6 (Dense)             (None, 50)                39250     \n",
            "                                                                 \n",
            " dense_7 (Dense)             (None, 50)                2550      \n",
            "                                                                 \n",
            " dense_8 (Dense)             (None, 50)                2550      \n",
            "                                                                 \n",
            " dense_9 (Dense)             (None, 50)                2550      \n",
            "                                                                 \n",
            " dense_10 (Dense)            (None, 50)                2550      \n",
            "                                                                 \n",
            " dense_11 (Dense)            (None, 10)                510       \n",
            "                                                                 \n",
            "=================================================================\n",
            "Total params: 49,960\n",
            "Trainable params: 49,960\n",
            "Non-trainable params: 0\n",
            "_________________________________________________________________\n"
          ]
        }
      ]
    },
    {
      "cell_type": "code",
      "source": [
        "sgd = optimizers.SGD(learning_rate = 0.01)    \n",
        "model.compile(optimizer = sgd, loss = 'categorical_crossentropy', metrics = ['accuracy'])"
      ],
      "metadata": {
        "id": "kNg1zwvxWDvy"
      },
      "execution_count": null,
      "outputs": []
    },
    {
      "cell_type": "code",
      "source": [
        "history=model.fit(X_train, y_train, batch_size = 32,validation_split=0.3, epochs = 5, verbose = 1)"
      ],
      "metadata": {
        "colab": {
          "base_uri": "https://localhost:8080/"
        },
        "id": "Y7t3nhUvWINd",
        "outputId": "8f441534-5f99-4770-dd2d-268f54c7191b"
      },
      "execution_count": null,
      "outputs": [
        {
          "output_type": "stream",
          "name": "stdout",
          "text": [
            "Epoch 1/5\n",
            "1313/1313 [==============================] - 5s 3ms/step - loss: 2.3082 - accuracy: 0.0995 - val_loss: 2.3023 - val_accuracy: 0.1044\n",
            "Epoch 2/5\n",
            "1313/1313 [==============================] - 3s 3ms/step - loss: 2.3030 - accuracy: 0.1008 - val_loss: 2.3032 - val_accuracy: 0.1561\n",
            "Epoch 3/5\n",
            "1313/1313 [==============================] - 4s 3ms/step - loss: 2.3025 - accuracy: 0.1037 - val_loss: 2.3027 - val_accuracy: 0.0976\n",
            "Epoch 4/5\n",
            "1313/1313 [==============================] - 3s 2ms/step - loss: 2.3021 - accuracy: 0.1055 - val_loss: 2.3021 - val_accuracy: 0.0971\n",
            "Epoch 5/5\n",
            "1313/1313 [==============================] - 4s 3ms/step - loss: 2.3017 - accuracy: 0.1074 - val_loss: 2.3005 - val_accuracy: 0.0999\n"
          ]
        }
      ]
    },
    {
      "cell_type": "markdown",
      "source": [
        "a) Plot training accuracy, training loss, validation accuracy and validation loss in a single \n",
        "plot. Write inferences on the model fit (Under fit, Over fit or correct fit. Justify your \n",
        "observations) [2 marks]\n"
      ],
      "metadata": {
        "id": "lGGnOZsSfogY"
      }
    },
    {
      "cell_type": "code",
      "source": [
        "plt.plot(history.history['accuracy'])\n",
        "plt.plot(history.history['val_accuracy'])\n",
        "plt.plot(history.history['loss'])\n",
        "plt.plot(history.history['val_loss'])\n",
        "plt.legend(['train_acc','valid_acc','train_loss','valid_loss'],loc='upper left')\n",
        "plt.show()"
      ],
      "metadata": {
        "colab": {
          "base_uri": "https://localhost:8080/",
          "height": 265
        },
        "id": "QdP0HjdNWRKh",
        "outputId": "dfa9846d-2212-42e1-f337-0443eb0d0194"
      },
      "execution_count": null,
      "outputs": [
        {
          "output_type": "display_data",
          "data": {
            "image/png": "[encoded data removed]",
            "text/plain": [
              "<Figure size 432x288 with 1 Axes>"
            ]
          },
          "metadata": {
            "needs_background": "light"
          }
        }
      ]
    },
    {
      "cell_type": "markdown",
      "source": [
        "THIS IS AN UNDERFITTING MODEL BECAUSE IT HAS POOR PERFORMNACE ON TRAINING DATA AND POOR GENERALIZATION ON TEST DATA AS .WELL"
      ],
      "metadata": {
        "id": "UCL-UjfihJCU"
      }
    },
    {
      "cell_type": "code",
      "source": [
        "results=model.evaluate(X_test,y_test)\n",
        "print(\"Accuracy = {}%\".format(results[1]*100))"
      ],
      "metadata": {
        "colab": {
          "base_uri": "https://localhost:8080/"
        },
        "id": "DlmA009IWWwE",
        "outputId": "42ca5655-d458-4e71-c618-b846f742fd33"
      },
      "execution_count": null,
      "outputs": [
        {
          "output_type": "stream",
          "name": "stdout",
          "text": [
            "313/313 [==============================] - 0s 1ms/step - loss: 2.3007 - accuracy: 0.1000\n",
            "Accuracy = 10.000000149011612%\n"
          ]
        }
      ]
    },
    {
      "cell_type": "markdown",
      "source": [
        "b) Display the confusion matrix and calculate overall accuracy, precision, recall and F1 \n",
        "score on test data. Display class wise accuracy also. [3marks]\n"
      ],
      "metadata": {
        "id": "GwbesSP8fruN"
      }
    },
    {
      "cell_type": "code",
      "source": [
        "print(\"Confusion Matrix: \",confusion_matrix([np.argmax(i) for i in y_test],[np.argmax(i) for i in model.predict(X_test)]))"
      ],
      "metadata": {
        "colab": {
          "base_uri": "https://localhost:8080/"
        },
        "id": "V36hf5tXWv7T",
        "outputId": "6820a731-7cf6-4cfe-d256-36bcb276a6bd"
      },
      "execution_count": null,
      "outputs": [
        {
          "output_type": "stream",
          "name": "stdout",
          "text": [
            "Confusion Matrix:  [[   0    0    0 1000    0    0    0    0    0    0]\n",
            " [   0    0    0 1000    0    0    0    0    0    0]\n",
            " [   0    0    0 1000    0    0    0    0    0    0]\n",
            " [   0    0    0 1000    0    0    0    0    0    0]\n",
            " [   0    0    0 1000    0    0    0    0    0    0]\n",
            " [   0    0    0 1000    0    0    0    0    0    0]\n",
            " [   0    0    0 1000    0    0    0    0    0    0]\n",
            " [   0    0    0 1000    0    0    0    0    0    0]\n",
            " [   0    0    0 1000    0    0    0    0    0    0]\n",
            " [   0    0    0 1000    0    0    0    0    0    0]]\n"
          ]
        }
      ]
    },
    {
      "cell_type": "code",
      "source": [
        "c=classification_report([np.argmax(i) for i in y_test],[np.argmax(i) for i in model.predict(X_test)])\n",
        "print(\"Report : \", c);"
      ],
      "metadata": {
        "colab": {
          "base_uri": "https://localhost:8080/"
        },
        "id": "RiKBpMG8XPM8",
        "outputId": "a4680855-3c3b-45bc-94c1-2a7ef9c05172"
      },
      "execution_count": null,
      "outputs": [
        {
          "output_type": "stream",
          "name": "stdout",
          "text": [
            "Report :                precision    recall  f1-score   support\n",
            "\n",
            "           0       0.00      0.00      0.00      1000\n",
            "           1       0.00      0.00      0.00      1000\n",
            "           2       0.00      0.00      0.00      1000\n",
            "           3       0.10      1.00      0.18      1000\n",
            "           4       0.00      0.00      0.00      1000\n",
            "           5       0.00      0.00      0.00      1000\n",
            "           6       0.00      0.00      0.00      1000\n",
            "           7       0.00      0.00      0.00      1000\n",
            "           8       0.00      0.00      0.00      1000\n",
            "           9       0.00      0.00      0.00      1000\n",
            "\n",
            "    accuracy                           0.10     10000\n",
            "   macro avg       0.01      0.10      0.02     10000\n",
            "weighted avg       0.01      0.10      0.02     10000\n",
            "\n"
          ]
        },
        {
          "output_type": "stream",
          "name": "stderr",
          "text": [
            "/usr/local/lib/python3.7/dist-packages/sklearn/metrics/_classification.py:1318: UndefinedMetricWarning: Precision and F-score are ill-defined and being set to 0.0 in labels with no predicted samples. Use `zero_division` parameter to control this behavior.\n",
            "  _warn_prf(average, modifier, msg_start, len(result))\n",
            "/usr/local/lib/python3.7/dist-packages/sklearn/metrics/_classification.py:1318: UndefinedMetricWarning: Precision and F-score are ill-defined and being set to 0.0 in labels with no predicted samples. Use `zero_division` parameter to control this behavior.\n",
            "  _warn_prf(average, modifier, msg_start, len(result))\n",
            "/usr/local/lib/python3.7/dist-packages/sklearn/metrics/_classification.py:1318: UndefinedMetricWarning: Precision and F-score are ill-defined and being set to 0.0 in labels with no predicted samples. Use `zero_division` parameter to control this behavior.\n",
            "  _warn_prf(average, modifier, msg_start, len(result))\n"
          ]
        }
      ]
    },
    {
      "cell_type": "markdown",
      "source": [
        "c) Display sample misclassified data with the predicted labels. Write your observations \n",
        "on the misclassified samples. [1 mark]\n",
        "d) Take a new test image and predict the label [Get any image from internet]"
      ],
      "metadata": {
        "id": "RhfG8j7BfuXr"
      }
    },
    {
      "cell_type": "code",
      "source": [
        "misclassified = np.where(y_test != model.predict(X_test))"
      ],
      "metadata": {
        "id": "K0QzNuTgXlHA"
      },
      "execution_count": null,
      "outputs": []
    },
    {
      "cell_type": "code",
      "source": [
        "misclassified"
      ],
      "metadata": {
        "colab": {
          "base_uri": "https://localhost:8080/"
        },
        "id": "ToJ35NY7X-c5",
        "outputId": "df63b4a8-e3d5-4756-d503-54a950d8bc3b"
      },
      "execution_count": null,
      "outputs": [
        {
          "output_type": "execute_result",
          "data": {
            "text/plain": [
              "(array([   0,    0,    0, ..., 9999, 9999, 9999]),\n",
              " array([0, 1, 2, ..., 7, 8, 9]))"
            ]
          },
          "metadata": {},
          "execution_count": 48
        }
      ]
    },
    {
      "cell_type": "markdown",
      "source": [
        "#3\n",
        "\n",
        "\n",
        "1.   Refine the baseline model in question 3 using different methods that we discussed in the \n",
        "class and update the model architecture (Do not add more hidden layers). Train the model \n",
        "for 5 epochs and compare with baseline model and give your inferences.\n",
        "\n",
        "\n",
        "\n",
        "  "
      ],
      "metadata": {
        "id": "u7F3R8-Aanxh"
      }
    },
    {
      "cell_type": "code",
      "source": [
        "def cal(multi):\n",
        "    model=Sequential()\n",
        "    model.add(Dense(50, input_shape = (784,),kernel_initializer=multi))     \n",
        "    model.add(Activation('sigmoid'))\n",
        "\n",
        "    model.add(Dense(50,kernel_initializer=multi))                     \n",
        "    model.add(Activation('sigmoid'))\n",
        "\n",
        "    model.add(Dense(50,kernel_initializer=multi))                         \n",
        "    model.add(Activation('sigmoid'))\n",
        "\n",
        "    model.add(Dense(50,kernel_initializer=multi))                         \n",
        "    model.add(Activation('sigmoid'))\n",
        "\n",
        "    model.add(Dense(50,kernel_initializer=multi))                         \n",
        "    model.add(Activation('sigmoid'))\n",
        "\n",
        "    model.add(Dense(10,kernel_initializer=multi))                        \n",
        "    model.add(Activation('softmax'))\n",
        "    sgd = optimizers.SGD(learning_rate = 0.01)   \n",
        "    model.compile(optimizer = sgd, loss = 'categorical_crossentropy', metrics = ['accuracy'])\n",
        "    return model\n",
        " "
      ],
      "metadata": {
        "id": "5kdMs-aBYTqa"
      },
      "execution_count": null,
      "outputs": []
    },
    {
      "cell_type": "code",
      "source": [
        "model1=cal('he_normal')\n",
        "history1=model1.fit(X_train, y_train, batch_size = 32, epochs = 5, verbose = 1)\n",
        "\n",
        "model2=cal('he_uniform')\n",
        "history2=model2.fit(X_train, y_train, batch_size = 32, epochs = 5, verbose = 1)\n",
        "\n",
        "model3=cal('random_normal')\n",
        "history3=model3.fit(X_train, y_train, batch_size = 32, epochs = 5, verbose = 1)\n",
        "\n",
        "model4=cal('random_uniform')\n",
        "history4=model4.fit(X_train, y_train, batch_size = 32, epochs = 5, verbose = 1)\n",
        "model5=cal('truncated_normal')\n",
        "history5=model5.fit(X_train, y_train, batch_size = 32, epochs = 5, verbose = 1)\n",
        "model6=cal('zero')\n",
        "history6=model6.fit(X_train, y_train, batch_size = 32, epochs = 5, verbose = 1)\n",
        "model7=cal('one')\n",
        "history7=model7.fit(X_train, y_train, batch_size = 32, epochs = 5, verbose = 1)\n",
        "model8=cal('identity')\n",
        "history8=model8.fit(X_train, y_train, batch_size = 32, epochs = 5, verbose = 1)\n",
        "model9=cal('orthogonal')\n",
        "history9=model9.fit(X_train, y_train, batch_size = 32, epochs = 5, verbose = 1)\n",
        "model10=cal('glorot_normal')\n",
        "history10=model10.fit(X_train, y_train, batch_size = 32, epochs = 5, verbose = 1)\n",
        "model11=cal('glorot_uniform')\n",
        "history11=model11.fit(X_train, y_train, batch_size = 32, epochs = 5, verbose = 1)"
      ],
      "metadata": {
        "colab": {
          "base_uri": "https://localhost:8080/"
        },
        "id": "IWX8h32xbe6k",
        "outputId": "d8eaed59-a074-4c6f-cb70-9421aa89d4cf"
      },
      "execution_count": null,
      "outputs": [
        {
          "output_type": "stream",
          "name": "stdout",
          "text": [
            "Epoch 1/5\n",
            "1875/1875 [==============================] - 10s 5ms/step - loss: 2.3037 - accuracy: 0.1063\n",
            "Epoch 2/5\n",
            "1875/1875 [==============================] - 6s 3ms/step - loss: 2.2967 - accuracy: 0.1275\n",
            "Epoch 3/5\n",
            "1875/1875 [==============================] - 9s 5ms/step - loss: 2.2880 - accuracy: 0.1493\n",
            "Epoch 4/5\n",
            "1875/1875 [==============================] - 5s 3ms/step - loss: 2.2678 - accuracy: 0.2228\n",
            "Epoch 5/5\n",
            "1875/1875 [==============================] - 4s 2ms/step - loss: 2.1972 - accuracy: 0.3025\n",
            "Epoch 1/5\n",
            "1875/1875 [==============================] - 5s 2ms/step - loss: 2.3050 - accuracy: 0.1092\n",
            "Epoch 2/5\n",
            "1875/1875 [==============================] - 5s 3ms/step - loss: 2.2951 - accuracy: 0.1250\n",
            "Epoch 3/5\n",
            "1875/1875 [==============================] - 6s 3ms/step - loss: 2.2839 - accuracy: 0.1812\n",
            "Epoch 4/5\n",
            "1875/1875 [==============================] - 4s 2ms/step - loss: 2.2463 - accuracy: 0.2515\n",
            "Epoch 5/5\n",
            "1875/1875 [==============================] - 7s 3ms/step - loss: 2.0386 - accuracy: 0.2483\n",
            "Epoch 1/5\n",
            "1875/1875 [==============================] - 5s 2ms/step - loss: 2.3038 - accuracy: 0.1001\n",
            "Epoch 2/5\n",
            "1875/1875 [==============================] - 5s 3ms/step - loss: 2.3037 - accuracy: 0.1000\n",
            "Epoch 3/5\n",
            "1875/1875 [==============================] - 5s 3ms/step - loss: 2.3035 - accuracy: 0.1009\n",
            "Epoch 4/5\n",
            "1875/1875 [==============================] - 6s 3ms/step - loss: 2.3037 - accuracy: 0.0967\n",
            "Epoch 5/5\n",
            "1875/1875 [==============================] - 6s 3ms/step - loss: 2.3036 - accuracy: 0.1002\n",
            "Epoch 1/5\n",
            "1875/1875 [==============================] - 6s 2ms/step - loss: 2.3036 - accuracy: 0.1002\n",
            "Epoch 2/5\n",
            "1875/1875 [==============================] - 7s 4ms/step - loss: 2.3035 - accuracy: 0.1014\n",
            "Epoch 3/5\n",
            "1875/1875 [==============================] - 7s 4ms/step - loss: 2.3035 - accuracy: 0.0984\n",
            "Epoch 4/5\n",
            "1875/1875 [==============================] - 7s 4ms/step - loss: 2.3035 - accuracy: 0.1006\n",
            "Epoch 5/5\n",
            "1875/1875 [==============================] - 7s 4ms/step - loss: 2.3036 - accuracy: 0.0993\n",
            "Epoch 1/5\n",
            "1875/1875 [==============================] - 7s 3ms/step - loss: 2.3037 - accuracy: 0.0995\n",
            "Epoch 2/5\n",
            "1875/1875 [==============================] - 6s 3ms/step - loss: 2.3036 - accuracy: 0.1006\n",
            "Epoch 3/5\n",
            "1875/1875 [==============================] - 9s 5ms/step - loss: 2.3035 - accuracy: 0.0981\n",
            "Epoch 4/5\n",
            "1875/1875 [==============================] - 7s 4ms/step - loss: 2.3036 - accuracy: 0.0993\n",
            "Epoch 5/5\n",
            "1875/1875 [==============================] - 5s 3ms/step - loss: 2.3038 - accuracy: 0.0995\n",
            "Epoch 1/5\n",
            "1875/1875 [==============================] - 6s 3ms/step - loss: 2.3036 - accuracy: 0.0984\n",
            "Epoch 2/5\n",
            "1875/1875 [==============================] - 5s 3ms/step - loss: 2.3037 - accuracy: 0.0994\n",
            "Epoch 3/5\n",
            "1875/1875 [==============================] - 5s 3ms/step - loss: 2.3036 - accuracy: 0.0990\n",
            "Epoch 4/5\n",
            "1875/1875 [==============================] - 6s 3ms/step - loss: 2.3037 - accuracy: 0.0967\n",
            "Epoch 5/5\n",
            "1875/1875 [==============================] - 8s 4ms/step - loss: 2.3036 - accuracy: 0.0999\n",
            "Epoch 1/5\n",
            "1875/1875 [==============================] - 10s 5ms/step - loss: 2.3066 - accuracy: 0.0983\n",
            "Epoch 2/5\n",
            "1875/1875 [==============================] - 9s 5ms/step - loss: 2.3062 - accuracy: 0.0992\n",
            "Epoch 3/5\n",
            "1875/1875 [==============================] - 6s 3ms/step - loss: 2.3059 - accuracy: 0.1008\n",
            "Epoch 4/5\n",
            "1875/1875 [==============================] - 6s 3ms/step - loss: 2.3064 - accuracy: 0.1003\n",
            "Epoch 5/5\n",
            "1875/1875 [==============================] - 10s 5ms/step - loss: 2.3066 - accuracy: 0.0983\n",
            "Epoch 1/5\n",
            "1875/1875 [==============================] - 5s 3ms/step - loss: 2.3043 - accuracy: 0.0997\n",
            "Epoch 2/5\n",
            "1875/1875 [==============================] - 5s 3ms/step - loss: 2.3041 - accuracy: 0.0994\n",
            "Epoch 3/5\n",
            "1875/1875 [==============================] - 5s 3ms/step - loss: 2.3036 - accuracy: 0.0996\n",
            "Epoch 4/5\n",
            "1875/1875 [==============================] - 7s 4ms/step - loss: 2.3036 - accuracy: 0.1018\n",
            "Epoch 5/5\n",
            "1875/1875 [==============================] - 6s 3ms/step - loss: 2.3035 - accuracy: 0.1008\n",
            "Epoch 1/5\n",
            "1875/1875 [==============================] - 8s 4ms/step - loss: 2.3053 - accuracy: 0.1001\n",
            "Epoch 2/5\n",
            "1875/1875 [==============================] - 6s 3ms/step - loss: 2.3034 - accuracy: 0.1021\n",
            "Epoch 3/5\n",
            "1875/1875 [==============================] - 8s 4ms/step - loss: 2.3032 - accuracy: 0.1001\n",
            "Epoch 4/5\n",
            "1875/1875 [==============================] - 7s 4ms/step - loss: 2.3028 - accuracy: 0.1030\n",
            "Epoch 5/5\n",
            "1875/1875 [==============================] - 7s 4ms/step - loss: 2.3027 - accuracy: 0.1034\n",
            "Epoch 1/5\n",
            "1875/1875 [==============================] - 8s 4ms/step - loss: 2.3085 - accuracy: 0.1015\n",
            "Epoch 2/5\n",
            "1875/1875 [==============================] - 8s 4ms/step - loss: 2.3029 - accuracy: 0.1039\n",
            "Epoch 3/5\n",
            "1875/1875 [==============================] - 5s 3ms/step - loss: 2.3025 - accuracy: 0.1030\n",
            "Epoch 4/5\n",
            "1875/1875 [==============================] - 4s 2ms/step - loss: 2.3020 - accuracy: 0.1054\n",
            "Epoch 5/5\n",
            "1875/1875 [==============================] - 5s 3ms/step - loss: 2.3015 - accuracy: 0.1060\n",
            "Epoch 1/5\n",
            "1875/1875 [==============================] - 9s 4ms/step - loss: 2.3068 - accuracy: 0.0991\n",
            "Epoch 2/5\n",
            "1875/1875 [==============================] - 8s 4ms/step - loss: 2.3030 - accuracy: 0.1025\n",
            "Epoch 3/5\n",
            "1875/1875 [==============================] - 10s 5ms/step - loss: 2.3028 - accuracy: 0.1033\n",
            "Epoch 4/5\n",
            "1875/1875 [==============================] - 5s 3ms/step - loss: 2.3027 - accuracy: 0.1036\n",
            "Epoch 5/5\n",
            "1875/1875 [==============================] - 5s 2ms/step - loss: 2.3023 - accuracy: 0.1050\n"
          ]
        }
      ]
    },
    {
      "cell_type": "code",
      "source": [
        "fig1 ,ax1 = plt.subplots(nrows=6,ncols=2,figsize=(40,40))\n",
        "ax1[0,0].plot(history1.history['accuracy'])\n",
        "ax1[0,0].plot(history1.history['loss'])\n",
        "ax1[0,1].plot(history2.history['accuracy'])\n",
        "ax1[0,1].plot(history2.history['loss'])\n",
        "ax1[1,0].plot(history3.history['accuracy'])\n",
        "ax1[1,0].plot(history3.history['loss'])\n",
        "ax1[1,1].plot(history4.history['accuracy'])\n",
        "ax1[1,1].plot(history4.history['loss'])\n",
        "ax1[2,0].plot(history5.history['accuracy'])\n",
        "ax1[2,0].plot(history5.history['loss'])\n",
        "ax1[2,1].plot(history6.history['accuracy'])\n",
        "ax1[2,1].plot(history6.history['loss'])\n",
        "ax1[3,0].plot(history7.history['accuracy'])\n",
        "ax1[3,0].plot(history7.history['loss'])\n",
        "ax1[3,1].plot(history8.history['accuracy'])\n",
        "ax1[3,1].plot(history8.history['loss'])\n",
        "ax1[4,0].plot(history9.history['accuracy'])\n",
        "ax1[4,0].plot(history9.history['loss'])\n",
        "ax1[4,1].plot(history10.history['accuracy'])\n",
        "ax1[4,1].plot(history10.history['loss'])\n",
        "ax1[5,0].plot(history11.history['accuracy'])\n",
        "ax1[5,0].plot(history11.history['loss'])\n",
        "plt.show(6,2)\n"
      ],
      "metadata": {
        "colab": {
          "base_uri": "https://localhost:8080/",
          "height": 1000
        },
        "id": "yfLwHG-CbzV0",
        "outputId": "ddb79f57-b60e-4fbe-932a-df9730461993"
      },
      "execution_count": null,
      "outputs": [
        {
          "output_type": "display_data",
          "data": {
            "image/png": "[encoded data removed]",
            "text/plain": [
              "<Figure size 2880x2880 with 12 Axes>"
            ]
          },
          "metadata": {
            "needs_background": "light"
          }
        }
      ]
    },
    {
      "cell_type": "code",
      "source": [
        "print(\"accuracy of he_normal initializer = {}%\".format(model1.evaluate(X_test, y_test)[1]*100))\n",
        "print(\"accuracy of he_uniform initializer = {}%\".format(model2.evaluate(X_test, y_test)[1]*100))\n",
        "print(\"accuracy of random_normal initializer = {}%\".format(model3.evaluate(X_test, y_test)[1]*100))\n",
        "print(\"accuracy of random_uniform initializer = {}%\".format(model4.evaluate(X_test, y_test)[1]*100))\n",
        "print(\"accuracy of truncated_normal initializer = {}%\".format(model5.evaluate(X_test, y_test)[1]*100))\n",
        "print(\"accuracy of one initializer = {}%\".format(model7.evaluate(X_test, y_test)[1]*100))\n",
        "print(\"accuracy of zero initializer = {}%\".format(model6.evaluate(X_test, y_test)[1]*100))\n",
        "print(\"accuracy of identity initializer = {}%\".format(model8.evaluate(X_test, y_test)[1]*100))\n",
        "print(\"accuracy of orthogonal initializer = {}%\".format(model9.evaluate(X_test, y_test)[1]*100))\n",
        "print(\"accuracy of glorot_normal initializer = {}%\".format(model10.evaluate(X_test, y_test)[1]*100))\n",
        "print(\"accuracy of glorot_uniform initializer = {}%\".format(model11.evaluate(X_test, y_test)[1]*100))"
      ],
      "metadata": {
        "colab": {
          "base_uri": "https://localhost:8080/"
        },
        "id": "JXiShiLcb3Ik",
        "outputId": "a55f8bfb-7a0c-444c-b88b-365adc2cadb5"
      },
      "execution_count": null,
      "outputs": [
        {
          "output_type": "stream",
          "name": "stdout",
          "text": [
            "313/313 [==============================] - 1s 2ms/step - loss: 2.1088 - accuracy: 0.3105\n",
            "accuracy of he_normal initializer = 31.049999594688416%\n",
            "313/313 [==============================] - 1s 2ms/step - loss: 1.8347 - accuracy: 0.2395\n",
            "accuracy of he_uniform initializer = 23.95000010728836%\n",
            "313/313 [==============================] - 1s 2ms/step - loss: 2.3032 - accuracy: 0.1000\n",
            "accuracy of random_normal initializer = 10.000000149011612%\n",
            "313/313 [==============================] - 1s 2ms/step - loss: 2.3032 - accuracy: 0.1000\n",
            "accuracy of random_uniform initializer = 10.000000149011612%\n",
            "313/313 [==============================] - 1s 2ms/step - loss: 2.3037 - accuracy: 0.1000\n",
            "accuracy of truncated_normal initializer = 10.000000149011612%\n",
            "313/313 [==============================] - 1s 3ms/step - loss: 2.3059 - accuracy: 0.1000\n",
            "accuracy of one initializer = 10.000000149011612%\n",
            "313/313 [==============================] - 1s 3ms/step - loss: 2.3032 - accuracy: 0.1000\n",
            "accuracy of zero initializer = 10.000000149011612%\n",
            "313/313 [==============================] - 1s 3ms/step - loss: 2.3038 - accuracy: 0.1000\n",
            "accuracy of identity initializer = 10.000000149011612%\n",
            "313/313 [==============================] - 1s 3ms/step - loss: 2.3021 - accuracy: 0.1000\n",
            "accuracy of orthogonal initializer = 10.000000149011612%\n",
            "313/313 [==============================] - 1s 2ms/step - loss: 2.3006 - accuracy: 0.1000\n",
            "accuracy of glorot_normal initializer = 10.000000149011612%\n",
            "313/313 [==============================] - 1s 2ms/step - loss: 2.3016 - accuracy: 0.1000\n",
            "accuracy of glorot_uniform initializer = 10.000000149011612%\n"
          ]
        }
      ]
    },
    {
      "cell_type": "markdown",
      "source": [
        "INFERENCE : he_normal initializer has got better accuracy"
      ],
      "metadata": {
        "id": "ODqJiNLsdkAq"
      }
    },
    {
      "cell_type": "markdown",
      "source": [
        "#ADD Relu activation function"
      ],
      "metadata": {
        "id": "Hemv72Okb9vE"
      }
    },
    {
      "cell_type": "code",
      "source": [
        "def cal():\n",
        "    model=Sequential()\n",
        "    model.add(Dense(50, input_shape = (784,),kernel_initializer='he_normal'))    \n",
        "    model.add(Activation('relu'))\n",
        "    model.add(Dense(50,kernel_initializer='he_normal'))                     \n",
        "    model.add(Activation('relu'))\n",
        "    model.add(Dense(50,kernel_initializer='he_normal'))                         \n",
        "    model.add(Activation('relu'))\n",
        "    model.add(Dense(50,kernel_initializer='he_normal'))                     \n",
        "    model.add(Activation('relu'))\n",
        "    model.add(Dense(50,kernel_initializer='he_normal'))                         \n",
        "    model.add(Activation('relu'))\n",
        "    model.add(Dense(10,kernel_initializer='he_normal'))                       \n",
        "    model.add(Activation('softmax'))\n",
        "    sgd = optimizers.SGD(learning_rate = 0.01)    \n",
        "    model.compile(optimizer = sgd, loss = 'categorical_crossentropy', metrics = ['accuracy'])\n",
        "    return model\n",
        "model=cal()\n",
        "history=model.fit(X_train, y_train, batch_size = 32,validation_split=0.3, epochs = 5, verbose = 1)"
      ],
      "metadata": {
        "colab": {
          "base_uri": "https://localhost:8080/"
        },
        "id": "RKieySR6cBBg",
        "outputId": "677cde8f-91af-4b08-87de-7836a0855757"
      },
      "execution_count": null,
      "outputs": [
        {
          "output_type": "stream",
          "name": "stdout",
          "text": [
            "Epoch 1/5\n",
            "1313/1313 [==============================] - 9s 6ms/step - loss: 0.6255 - accuracy: 0.7787 - val_loss: 0.4711 - val_accuracy: 0.8289\n",
            "Epoch 2/5\n",
            "1313/1313 [==============================] - 6s 5ms/step - loss: 0.4140 - accuracy: 0.8508 - val_loss: 0.4166 - val_accuracy: 0.8464\n",
            "Epoch 3/5\n",
            "1313/1313 [==============================] - 6s 5ms/step - loss: 0.3637 - accuracy: 0.8680 - val_loss: 0.3967 - val_accuracy: 0.8541\n",
            "Epoch 4/5\n",
            "1313/1313 [==============================] - 4s 3ms/step - loss: 0.3365 - accuracy: 0.8768 - val_loss: 0.3724 - val_accuracy: 0.8662\n",
            "Epoch 5/5\n",
            "1313/1313 [==============================] - 4s 3ms/step - loss: 0.3136 - accuracy: 0.8854 - val_loss: 0.3712 - val_accuracy: 0.8643\n"
          ]
        }
      ]
    },
    {
      "cell_type": "code",
      "source": [
        "plt.plot(history.history['accuracy'])\n",
        "plt.plot(history.history['val_accuracy'])\n",
        "plt.plot(history.history['loss'])\n",
        "plt.plot(history.history['val_loss'])\n",
        "plt.legend(['train_acc','valid_acc','train_loss','valid_loss'],loc='upper left')\n",
        "plt.show()"
      ],
      "metadata": {
        "colab": {
          "base_uri": "https://localhost:8080/",
          "height": 265
        },
        "id": "qq4d68LlcJpf",
        "outputId": "0f34a6ea-6255-4097-997c-295c1cda28e1"
      },
      "execution_count": null,
      "outputs": [
        {
          "output_type": "display_data",
          "data": {
            "image/png": "[encoded data removed]",
            "text/plain": [
              "<Figure size 432x288 with 1 Axes>"
            ]
          },
          "metadata": {
            "needs_background": "light"
          }
        }
      ]
    },
    {
      "cell_type": "code",
      "source": [
        "results=model.evaluate(X_test,y_test)\n",
        "print(\"Accuracy = {}%\".format(results[1]*100))"
      ],
      "metadata": {
        "colab": {
          "base_uri": "https://localhost:8080/"
        },
        "id": "BEHPX3DEcLRZ",
        "outputId": "7de0bc34-8bca-46f3-9035-82daeb4d68d6"
      },
      "execution_count": null,
      "outputs": [
        {
          "output_type": "stream",
          "name": "stdout",
          "text": [
            "313/313 [==============================] - 1s 2ms/step - loss: 0.4044 - accuracy: 0.8581\n",
            "Accuracy = 85.80999970436096%\n"
          ]
        }
      ]
    },
    {
      "cell_type": "markdown",
      "source": [
        "#adagrad optimizer"
      ],
      "metadata": {
        "id": "FtLEW_sJcOoG"
      }
    },
    {
      "cell_type": "code",
      "source": [
        "def cal():\n",
        "    model=Sequential()\n",
        "    model.add(Dense(50, input_shape = (784,),kernel_initializer='he_normal'))    \n",
        "    model.add(Activation('relu'))\n",
        "    model.add(Dense(50,kernel_initializer='he_normal'))                     \n",
        "    model.add(Activation('relu'))\n",
        "    model.add(Dense(50,kernel_initializer='he_normal'))                         \n",
        "    model.add(Activation('relu'))\n",
        "    model.add(Dense(50,kernel_initializer='he_normal'))                     \n",
        "    model.add(Activation('relu'))\n",
        "    model.add(Dense(50,kernel_initializer='he_normal'))                         \n",
        "    model.add(Activation('relu'))\n",
        "    model.add(Dense(10,kernel_initializer='he_normal'))                       \n",
        "    model.add(Activation('softmax'))\n",
        "    sgd = optimizers.Adagrad(learning_rate = 0.01)    \n",
        "    model.compile(optimizer = sgd, loss = 'categorical_crossentropy', metrics = ['accuracy'])\n",
        "    return model\n",
        "model=cal()\n",
        "history=model.fit(X_train, y_train, batch_size = 32,validation_split=0.3, epochs = 5, verbose = 1)"
      ],
      "metadata": {
        "colab": {
          "base_uri": "https://localhost:8080/"
        },
        "id": "BD8x0nGpcQBT",
        "outputId": "8af625c6-dc66-489f-b0e4-817be469473c"
      },
      "execution_count": null,
      "outputs": [
        {
          "output_type": "stream",
          "name": "stdout",
          "text": [
            "Epoch 1/5\n",
            "1313/1313 [==============================] - 5s 4ms/step - loss: 0.5411 - accuracy: 0.8033 - val_loss: 0.4289 - val_accuracy: 0.8440\n",
            "Epoch 2/5\n",
            "1313/1313 [==============================] - 5s 4ms/step - loss: 0.3825 - accuracy: 0.8587 - val_loss: 0.3939 - val_accuracy: 0.8569\n",
            "Epoch 3/5\n",
            "1313/1313 [==============================] - 5s 4ms/step - loss: 0.3382 - accuracy: 0.8766 - val_loss: 0.3704 - val_accuracy: 0.8674\n",
            "Epoch 4/5\n",
            "1313/1313 [==============================] - 5s 3ms/step - loss: 0.3130 - accuracy: 0.8847 - val_loss: 0.3684 - val_accuracy: 0.8721\n",
            "Epoch 5/5\n",
            "1313/1313 [==============================] - 5s 3ms/step - loss: 0.2951 - accuracy: 0.8920 - val_loss: 0.3566 - val_accuracy: 0.8725\n"
          ]
        }
      ]
    },
    {
      "cell_type": "code",
      "source": [
        "plt.plot(history.history['accuracy'])\n",
        "plt.plot(history.history['val_accuracy'])\n",
        "plt.plot(history.history['loss'])\n",
        "plt.plot(history.history['val_loss'])\n",
        "plt.legend(['train_acc','valid_acc','train_loss','valid_loss'],loc='upper left')\n",
        "plt.show()"
      ],
      "metadata": {
        "colab": {
          "base_uri": "https://localhost:8080/",
          "height": 265
        },
        "id": "PA0zafRIcaLC",
        "outputId": "10825997-4f5e-46e6-c9b1-7b2bf5291a3f"
      },
      "execution_count": null,
      "outputs": [
        {
          "output_type": "display_data",
          "data": {
            "image/png": "[encoded data removed]",
            "text/plain": [
              "<Figure size 432x288 with 1 Axes>"
            ]
          },
          "metadata": {
            "needs_background": "light"
          }
        }
      ]
    },
    {
      "cell_type": "code",
      "source": [
        "results=model.evaluate(X_test,y_test)\n",
        "print(\"Accuracy = {}%\".format(results[1]*100))"
      ],
      "metadata": {
        "colab": {
          "base_uri": "https://localhost:8080/"
        },
        "id": "0jd4N79KcaRz",
        "outputId": "e0958579-f3fb-4a60-afa3-cfd017080c39"
      },
      "execution_count": null,
      "outputs": [
        {
          "output_type": "stream",
          "name": "stdout",
          "text": [
            "313/313 [==============================] - 1s 2ms/step - loss: 0.3848 - accuracy: 0.8632\n",
            "Accuracy = 86.32000088691711%\n"
          ]
        }
      ]
    },
    {
      "cell_type": "markdown",
      "metadata": {
        "id": "ia1lSUxegf9j"
      },
      "source": [
        "#ADDING BATCH NORMALIZATION"
      ]
    },
    {
      "cell_type": "code",
      "execution_count": null,
      "metadata": {
        "colab": {
          "base_uri": "https://localhost:8080/"
        },
        "id": "Svw1tcnTl_TB",
        "outputId": "c6bd44ab-52a6-4db5-b0a8-6a5cb694bd90"
      },
      "outputs": [
        {
          "output_type": "stream",
          "name": "stdout",
          "text": [
            "Epoch 1/5\n",
            "1313/1313 [==============================] - 8s 5ms/step - loss: 0.8275 - accuracy: 0.7641 - val_loss: 0.5305 - val_accuracy: 0.8429\n",
            "Epoch 2/5\n",
            "1313/1313 [==============================] - 7s 5ms/step - loss: 0.6172 - accuracy: 0.8199 - val_loss: 0.4649 - val_accuracy: 0.8565\n",
            "Epoch 3/5\n",
            "1313/1313 [==============================] - 7s 5ms/step - loss: 0.5617 - accuracy: 0.8332 - val_loss: 0.4325 - val_accuracy: 0.8657\n",
            "Epoch 4/5\n",
            "1313/1313 [==============================] - 7s 5ms/step - loss: 0.5257 - accuracy: 0.8418 - val_loss: 0.4156 - val_accuracy: 0.8679\n",
            "Epoch 5/5\n",
            "1313/1313 [==============================] - 7s 5ms/step - loss: 0.4994 - accuracy: 0.8467 - val_loss: 0.4016 - val_accuracy: 0.8708\n"
          ]
        }
      ],
      "source": [
        "def cal():\n",
        "    model=Sequential()\n",
        "    model.add(Dense(50, input_shape = (784,))) \n",
        "    model.add(BatchNormalization())   \n",
        "    model.add(Activation('relu'))\n",
        "\n",
        "    model.add(Dense(50)) \n",
        "    model.add(BatchNormalization())                       \n",
        "    model.add(Activation('relu'))\n",
        "\n",
        "    model.add(Dense(50))  \n",
        "    model.add(BatchNormalization())                          \n",
        "    model.add(Activation('relu'))\n",
        "\n",
        "    model.add(Dense(50)) \n",
        "    model.add(BatchNormalization())                       \n",
        "    model.add(Activation('relu'))\n",
        "\n",
        "    model.add(Dense(50))  \n",
        "    model.add(BatchNormalization())                          \n",
        "    model.add(Activation('relu'))\n",
        "    \n",
        "    model.add(Dense(10))  \n",
        "    model.add(BatchNormalization())                        \n",
        "    model.add(Activation('softmax'))\n",
        "    sgd = optimizers.Adagrad(learning_rate = 0.01)    \n",
        "    model.compile(optimizer = sgd, loss = 'categorical_crossentropy', metrics = ['accuracy'])\n",
        "    return model\n",
        "model=cal()\n",
        "history=model.fit(X_train, y_train, batch_size = 32,validation_split=0.3, epochs = 5, verbose = 1)"
      ]
    },
    {
      "cell_type": "code",
      "execution_count": null,
      "metadata": {
        "colab": {
          "base_uri": "https://localhost:8080/",
          "height": 265
        },
        "id": "x_MumBBPmDHq",
        "outputId": "4a0d06d5-249d-434a-b645-339c4b0da03d"
      },
      "outputs": [
        {
          "output_type": "display_data",
          "data": {
            "image/png": "[encoded data removed]",
            "text/plain": [
              "<Figure size 432x288 with 1 Axes>"
            ]
          },
          "metadata": {
            "needs_background": "light"
          }
        }
      ],
      "source": [
        "plt.plot(history.history['accuracy'])\n",
        "plt.plot(history.history['val_accuracy'])\n",
        "plt.plot(history.history['loss'])\n",
        "plt.plot(history.history['val_loss'])\n",
        "plt.legend(['train_acc','valid_acc','train_loss','valid_loss'],loc='upper left')\n",
        "plt.show()"
      ]
    },
    {
      "cell_type": "code",
      "execution_count": null,
      "metadata": {
        "colab": {
          "base_uri": "https://localhost:8080/"
        },
        "id": "RvoFuL1XmEqG",
        "outputId": "69cf2517-2b7d-43d9-f767-44d3842be203"
      },
      "outputs": [
        {
          "output_type": "stream",
          "name": "stdout",
          "text": [
            "313/313 [==============================] - 1s 3ms/step - loss: 0.4306 - accuracy: 0.8590\n",
            "Accuracy = 85.9000027179718%\n"
          ]
        }
      ],
      "source": [
        "results=model.evaluate(X_test,y_test)\n",
        "print(\"Accuracy = {}%\".format(results[1]*100))"
      ]
    },
    {
      "cell_type": "markdown",
      "metadata": {
        "id": "GXZ-AEJknD5E"
      },
      "source": [
        "#ADD dropout"
      ]
    },
    {
      "cell_type": "code",
      "execution_count": null,
      "metadata": {
        "colab": {
          "base_uri": "https://localhost:8080/"
        },
        "id": "a9sEzdyMnJAp",
        "outputId": "032ef144-9c06-40b6-c31b-1cbad3b3dc2c"
      },
      "outputs": [
        {
          "output_type": "stream",
          "name": "stdout",
          "text": [
            "Epoch 1/5\n",
            "1313/1313 [==============================] - 6s 4ms/step - loss: 1.0455 - accuracy: 0.6162 - val_loss: 0.5615 - val_accuracy: 0.7967\n",
            "Epoch 2/5\n",
            "1313/1313 [==============================] - 5s 4ms/step - loss: 0.7012 - accuracy: 0.7477 - val_loss: 0.4923 - val_accuracy: 0.8258\n",
            "Epoch 3/5\n",
            "1313/1313 [==============================] - 5s 4ms/step - loss: 0.6253 - accuracy: 0.7812 - val_loss: 0.4671 - val_accuracy: 0.8382\n",
            "Epoch 4/5\n",
            "1313/1313 [==============================] - 5s 4ms/step - loss: 0.5916 - accuracy: 0.7951 - val_loss: 0.4512 - val_accuracy: 0.8429\n",
            "Epoch 5/5\n",
            "1313/1313 [==============================] - 5s 4ms/step - loss: 0.5606 - accuracy: 0.8066 - val_loss: 0.4318 - val_accuracy: 0.8493\n"
          ]
        }
      ],
      "source": [
        "def cal():\n",
        "    model=Sequential()\n",
        "    model.add(Dense(50, input_shape = (784,)))  \n",
        "    model.add(Activation('relu'))\n",
        "    model.add(Dropout(0.2)) \n",
        "\n",
        "    model.add(Dense(50))                      \n",
        "    model.add(Activation('relu'))\n",
        "    model.add(Dropout(0.2)) \n",
        "\n",
        "    model.add(Dense(50))                          \n",
        "    model.add(Activation('relu'))\n",
        "    model.add(Dropout(0.2))\n",
        "\n",
        "    model.add(Dense(50))                      \n",
        "    model.add(Activation('relu'))\n",
        "    model.add(Dropout(0.2)) \n",
        "\n",
        "    model.add(Dense(50))                          \n",
        "    model.add(Activation('relu'))\n",
        "    model.add(Dropout(0.2)) \n",
        "    \n",
        "    model.add(Dense(10))                         \n",
        "    model.add(Activation('softmax')) \n",
        "    sgd = optimizers.Adagrad(learning_rate = 0.01)    # stochastic gradient descent optimizer\n",
        "    model.compile(optimizer = sgd, loss = 'categorical_crossentropy', metrics = ['accuracy'])\n",
        "    return model\n",
        "model=cal()\n",
        "history=model.fit(X_train, y_train, batch_size = 32,validation_split=0.3, epochs = 5, verbose = 1)"
      ]
    },
    {
      "cell_type": "code",
      "execution_count": null,
      "metadata": {
        "colab": {
          "base_uri": "https://localhost:8080/",
          "height": 265
        },
        "id": "uF6YP_e0nJJK",
        "outputId": "081aa239-abc4-453e-b322-71d241526768"
      },
      "outputs": [
        {
          "output_type": "display_data",
          "data": {
            "image/png": "[encoded data removed]",
            "text/plain": [
              "<Figure size 432x288 with 1 Axes>"
            ]
          },
          "metadata": {
            "needs_background": "light"
          }
        }
      ],
      "source": [
        "plt.plot(history.history['accuracy'])\n",
        "plt.plot(history.history['val_accuracy'])\n",
        "plt.plot(history.history['loss'])\n",
        "plt.plot(history.history['val_loss'])\n",
        "plt.legend(['train_acc','valid_acc','train_loss','valid_loss'],loc='upper left')\n",
        "plt.show()"
      ]
    },
    {
      "cell_type": "code",
      "execution_count": null,
      "metadata": {
        "colab": {
          "base_uri": "https://localhost:8080/"
        },
        "id": "tj4HzsrvnJVQ",
        "outputId": "6a7d7a3c-3e1c-4092-98f0-67006f19a913"
      },
      "outputs": [
        {
          "output_type": "stream",
          "name": "stdout",
          "text": [
            "313/313 [==============================] - 1s 2ms/step - loss: 0.4637 - accuracy: 0.8360\n",
            "Accuracy = 83.60000252723694%\n"
          ]
        }
      ],
      "source": [
        "results=model.evaluate(X_test,y_test)\n",
        "print(\"Accuracy = {}%\".format(results[1]*100))"
      ]
    },
    {
      "cell_type": "markdown",
      "metadata": {
        "id": "2n7jSX0HpGVh"
      },
      "source": [
        "#Early stoppinng"
      ]
    },
    {
      "cell_type": "code",
      "execution_count": null,
      "metadata": {
        "id": "yNtbeHlztfVD"
      },
      "outputs": [],
      "source": [
        "import tensorflow as tf"
      ]
    },
    {
      "cell_type": "code",
      "execution_count": null,
      "metadata": {
        "id": "K0e25uB4pIwY"
      },
      "outputs": [],
      "source": [
        "callback=tf.keras.callbacks.EarlyStopping(monitor='val_accuracy',patience=3)"
      ]
    },
    {
      "cell_type": "code",
      "execution_count": null,
      "metadata": {
        "colab": {
          "base_uri": "https://localhost:8080/"
        },
        "id": "1GmVz-FapI48",
        "outputId": "7ece98a7-48ec-4468-d013-c20663bf08f0"
      },
      "outputs": [
        {
          "output_type": "stream",
          "name": "stdout",
          "text": [
            "Epoch 1/5\n",
            "1313/1313 [==============================] - 6s 4ms/step - loss: 1.0459 - accuracy: 0.6125 - val_loss: 0.5523 - val_accuracy: 0.7931\n",
            "Epoch 2/5\n",
            "1313/1313 [==============================] - 5s 4ms/step - loss: 0.6944 - accuracy: 0.7585 - val_loss: 0.4888 - val_accuracy: 0.8259\n",
            "Epoch 3/5\n",
            "1313/1313 [==============================] - 5s 4ms/step - loss: 0.6181 - accuracy: 0.7903 - val_loss: 0.4546 - val_accuracy: 0.8409\n",
            "Epoch 4/5\n",
            "1313/1313 [==============================] - 5s 4ms/step - loss: 0.5832 - accuracy: 0.8040 - val_loss: 0.4404 - val_accuracy: 0.8437\n",
            "Epoch 5/5\n",
            "1313/1313 [==============================] - 5s 4ms/step - loss: 0.5550 - accuracy: 0.8137 - val_loss: 0.4292 - val_accuracy: 0.8486\n"
          ]
        }
      ],
      "source": [
        "def cal():\n",
        "    model=Sequential()\n",
        "    model.add(Dense(50, input_shape = (784,)))  \n",
        "    model.add(Activation('relu'))\n",
        "    model.add(Dropout(0.2)) \n",
        "\n",
        "    model.add(Dense(50))                      \n",
        "    model.add(Activation('relu'))\n",
        "    model.add(Dropout(0.2)) \n",
        "\n",
        "    model.add(Dense(50))                          \n",
        "    model.add(Activation('relu'))\n",
        "    model.add(Dropout(0.2))\n",
        "\n",
        "    model.add(Dense(50))                      \n",
        "    model.add(Activation('relu'))\n",
        "    model.add(Dropout(0.2)) \n",
        "\n",
        "    model.add(Dense(50))                          \n",
        "    model.add(Activation('relu'))\n",
        "    model.add(Dropout(0.2)) \n",
        "    \n",
        "    model.add(Dense(10))                         \n",
        "    model.add(Activation('softmax')) \n",
        "    sgd = optimizers.Adagrad(learning_rate = 0.01)    # stochastic gradient descent optimizer\n",
        "    model.compile(optimizer = sgd, loss = 'categorical_crossentropy', metrics = ['accuracy'])\n",
        "    return model\n",
        "model=cal()\n",
        "history=model.fit(X_train, y_train, batch_size = 32,validation_split=0.3, epochs = 5, verbose = 1)"
      ]
    },
    {
      "cell_type": "code",
      "execution_count": null,
      "metadata": {
        "colab": {
          "base_uri": "https://localhost:8080/"
        },
        "id": "rBqnOJJYpI_s",
        "outputId": "2b4fa376-2843-422b-acef-641b7782fab7"
      },
      "outputs": [
        {
          "output_type": "stream",
          "name": "stdout",
          "text": [
            "total number of epochs = 5\n"
          ]
        }
      ],
      "source": [
        "print(\"total number of epochs = {}\".format(len(history.history['loss'])))"
      ]
    },
    {
      "cell_type": "code",
      "execution_count": null,
      "metadata": {
        "colab": {
          "base_uri": "https://localhost:8080/",
          "height": 265
        },
        "id": "mxe0_Ba3tKL5",
        "outputId": "77c78080-d725-458a-a164-5e63d3b38f2c"
      },
      "outputs": [
        {
          "output_type": "display_data",
          "data": {
            "image/png": "[encoded data removed]",
            "text/plain": [
              "<Figure size 432x288 with 1 Axes>"
            ]
          },
          "metadata": {
            "needs_background": "light"
          }
        }
      ],
      "source": [
        "plt.plot(history.history['accuracy'])\n",
        "plt.plot(history.history['val_accuracy'])\n",
        "plt.plot(history.history['loss'])\n",
        "plt.plot(history.history['val_loss'])\n",
        "plt.legend(['train_acc','valid_acc','train_loss','valid_loss'],loc='upper left')\n",
        "plt.show()"
      ]
    },
    {
      "cell_type": "code",
      "execution_count": null,
      "metadata": {
        "colab": {
          "base_uri": "https://localhost:8080/"
        },
        "id": "8g883w-RtMTG",
        "outputId": "da81f525-a447-47aa-c944-07b424d5fa62"
      },
      "outputs": [
        {
          "output_type": "stream",
          "name": "stdout",
          "text": [
            "313/313 [==============================] - 1s 2ms/step - loss: 0.4581 - accuracy: 0.8376\n",
            "Accuracy = 83.75999927520752%\n"
          ]
        }
      ],
      "source": [
        "results=model.evaluate(X_test,y_test)\n",
        "print(\"Accuracy = {}%\".format(results[1]*100))"
      ]
    },
    {
      "cell_type": "code",
      "execution_count": null,
      "metadata": {
        "colab": {
          "base_uri": "https://localhost:8080/"
        },
        "id": "tsF3eUQEslaE",
        "outputId": "9e5cd297-fba0-4aac-8589-006db0c39d37"
      },
      "outputs": [
        {
          "output_type": "stream",
          "name": "stdout",
          "text": [
            "Epoch 1/5\n",
            "1313/1313 [==============================] - 5s 4ms/step - loss: 0.5339 - accuracy: 0.8241 - val_loss: 0.4208 - val_accuracy: 0.8506\n",
            "Epoch 2/5\n",
            "1313/1313 [==============================] - 5s 4ms/step - loss: 0.5194 - accuracy: 0.8288 - val_loss: 0.4149 - val_accuracy: 0.8548\n",
            "Epoch 3/5\n",
            "1313/1313 [==============================] - 5s 4ms/step - loss: 0.5072 - accuracy: 0.8331 - val_loss: 0.4104 - val_accuracy: 0.8571\n",
            "Epoch 4/5\n",
            "1313/1313 [==============================] - 6s 4ms/step - loss: 0.4901 - accuracy: 0.8358 - val_loss: 0.4072 - val_accuracy: 0.8563\n",
            "Epoch 5/5\n",
            "1313/1313 [==============================] - 5s 4ms/step - loss: 0.4788 - accuracy: 0.8412 - val_loss: 0.4001 - val_accuracy: 0.8594\n"
          ]
        }
      ],
      "source": [
        "callback=tf.keras.callbacks.EarlyStopping(monitor='val_accuracy',patience=5)\n",
        "history=model.fit(X_train, y_train, batch_size = 32,validation_split=0.3,epochs = 5,callbacks=[callback] ,verbose = 1)"
      ]
    },
    {
      "cell_type": "code",
      "execution_count": null,
      "metadata": {
        "colab": {
          "base_uri": "https://localhost:8080/",
          "height": 265
        },
        "id": "Lw_pDFWos82b",
        "outputId": "d111b9a8-9452-4858-9324-c36799a70f66"
      },
      "outputs": [
        {
          "output_type": "display_data",
          "data": {
            "image/png": "[encoded data removed]",
            "text/plain": [
              "<Figure size 432x288 with 1 Axes>"
            ]
          },
          "metadata": {
            "needs_background": "light"
          }
        }
      ],
      "source": [
        "plt.plot(history.history['accuracy'])\n",
        "plt.plot(history.history['val_accuracy'])\n",
        "plt.plot(history.history['loss'])\n",
        "plt.plot(history.history['val_loss'])\n",
        "plt.legend(['train_acc','valid_acc','train_loss','valid_loss'],loc='upper left')\n",
        "plt.show()"
      ]
    },
    {
      "cell_type": "code",
      "execution_count": null,
      "metadata": {
        "colab": {
          "base_uri": "https://localhost:8080/"
        },
        "id": "XK8IcNsOtPi8",
        "outputId": "c3819f38-ffff-4f61-9f1e-29705eebbcd5"
      },
      "outputs": [
        {
          "output_type": "stream",
          "name": "stdout",
          "text": [
            "313/313 [==============================] - 1s 2ms/step - loss: 0.4297 - accuracy: 0.8476\n",
            "Accuracy = 84.7599983215332%\n"
          ]
        }
      ],
      "source": [
        "results=model.evaluate(X_test,y_test)\n",
        "print(\"Accuracy = {}%\".format(results[1]*100))"
      ]
    },
    {
      "cell_type": "markdown",
      "metadata": {
        "id": "OfvZWbIKugq2"
      },
      "source": [
        "#ENSEMBLING"
      ]
    },
    {
      "cell_type": "code",
      "execution_count": null,
      "metadata": {
        "id": "f_02WwZJuidE"
      },
      "outputs": [],
      "source": [
        "from tensorflow.keras.wrappers.scikit_learn import KerasClassifier\n",
        "from sklearn.ensemble import VotingClassifier\n",
        "from sklearn.metrics import accuracy_score"
      ]
    },
    {
      "cell_type": "code",
      "execution_count": null,
      "metadata": {
        "id": "qHs03JshujNU"
      },
      "outputs": [],
      "source": [
        "y_train=np.argmax(y_train,axis=1)\n",
        "y_test=np.argmax(y_test,axis=1)"
      ]
    },
    {
      "cell_type": "code",
      "execution_count": null,
      "metadata": {
        "id": "lnFhY1ppujUr"
      },
      "outputs": [],
      "source": [
        "def cal1():\n",
        "    model=Sequential()\n",
        "    model.add(Dense(50, input_shape = (784,)))  \n",
        "    model.add(Activation('relu')) \n",
        "\n",
        "    model.add(Dense(50))                      \n",
        "    model.add(Activation('relu'))\n",
        "\n",
        "    model.add(Dense(50))                          \n",
        "    model.add(Activation('relu'))\n",
        "\n",
        "    model.add(Dense(50))                      \n",
        "    model.add(Activation('relu'))\n",
        "\n",
        "    model.add(Dense(50))                          \n",
        "    model.add(Activation('relu'))\n",
        "    \n",
        "    model.add(Dense(10))                         \n",
        "    model.add(Activation('softmax')) \n",
        "    sgd = optimizers.Adagrad(learning_rate = 0.01)    # stochastic gradient descent optimizer\n",
        "    model.compile(optimizer = sgd, loss = 'categorical_crossentropy', metrics = ['accuracy'])\n",
        "    return model"
      ]
    },
    {
      "cell_type": "code",
      "execution_count": null,
      "metadata": {
        "colab": {
          "base_uri": "https://localhost:8080/"
        },
        "id": "W8w5TQpGwC2-",
        "outputId": "a219a67e-47a4-40b6-c27d-18a085de9864"
      },
      "outputs": [
        {
          "output_type": "stream",
          "name": "stderr",
          "text": [
            "/usr/local/lib/python3.7/dist-packages/ipykernel_launcher.py:1: DeprecationWarning: KerasClassifier is deprecated, use Sci-Keras (https://github.com/adriangb/scikeras) instead.\n",
            "  \"\"\"Entry point for launching an IPython kernel.\n",
            "/usr/local/lib/python3.7/dist-packages/ipykernel_launcher.py:2: DeprecationWarning: KerasClassifier is deprecated, use Sci-Keras (https://github.com/adriangb/scikeras) instead.\n",
            "  \n",
            "/usr/local/lib/python3.7/dist-packages/ipykernel_launcher.py:3: DeprecationWarning: KerasClassifier is deprecated, use Sci-Keras (https://github.com/adriangb/scikeras) instead.\n",
            "  This is separate from the ipykernel package so we can avoid doing imports until\n"
          ]
        }
      ],
      "source": [
        "m1=KerasClassifier(build_fn=cal1,epochs=5,verbose=0)\n",
        "m2=KerasClassifier(build_fn=cal1,epochs=5,verbose=0)\n",
        "m3=KerasClassifier(build_fn=cal1,epochs=5,verbose=0)\n",
        "m1._estimator_type='classifier'\n",
        "m2._estimator_type='classifier'\n",
        "m3._estimator_type='classifier'"
      ]
    },
    {
      "cell_type": "code",
      "execution_count": null,
      "metadata": {
        "colab": {
          "base_uri": "https://localhost:8080/"
        },
        "id": "klsG8Qqiwo6b",
        "outputId": "99367720-e249-495f-cbd2-4db3e598fd62"
      },
      "outputs": [
        {
          "output_type": "stream",
          "name": "stdout",
          "text": [
            "Accuracy = 0.8789%\n"
          ]
        }
      ],
      "source": [
        "ensemble_clf=VotingClassifier(estimators=[('m1',m1),('m2',m2),('m3',m3),],voting='soft')\n",
        "history=ensemble_clf.fit(X_train,y_train)\n",
        "y_pred=ensemble_clf.predict(X_test)\n",
        "print(\"Accuracy = {}%\".format(accuracy_score(y_pred,y_test)))"
      ]
    },
    {
      "cell_type": "markdown",
      "metadata": {
        "id": "_qMsQESVtgPl"
      },
      "source": [
        "#Checkpoint in keras"
      ]
    },
    {
      "cell_type": "code",
      "execution_count": null,
      "metadata": {
        "id": "cmPaer8Ktj3f",
        "colab": {
          "base_uri": "https://localhost:8080/"
        },
        "outputId": "bc59925b-04e6-4791-c456-11c2b468201d"
      },
      "outputs": [
        {
          "output_type": "stream",
          "name": "stdout",
          "text": [
            "Requirement already satisfied: h5py in /usr/local/lib/python3.7/dist-packages (3.1.0)\n",
            "Requirement already satisfied: numpy>=1.14.5 in /usr/local/lib/python3.7/dist-packages (from h5py) (1.19.5)\n",
            "Requirement already satisfied: cached-property in /usr/local/lib/python3.7/dist-packages (from h5py) (1.5.2)\n"
          ]
        }
      ],
      "source": [
        "pip install h5py"
      ]
    },
    {
      "cell_type": "code",
      "execution_count": null,
      "metadata": {
        "id": "LeWsWdZztzD4"
      },
      "outputs": [],
      "source": [
        "from tensorflow.python.keras.callbacks import ModelCheckpoint\n",
        "ch=ModelCheckpoint('model.h5py',monitor='val_loss',mode='min',save_best_only=True)"
      ]
    },
    {
      "cell_type": "code",
      "execution_count": null,
      "metadata": {
        "id": "JMEAjM-Z0wXe"
      },
      "outputs": [],
      "source": [
        "#from keras.model import load_model\n",
        "final_model=tf.keras.models.load_model('model.h5py')"
      ]
    },
    {
      "cell_type": "markdown",
      "source": [
        "#INFERENCE\n",
        "ACCUARCY OF:\n",
        "1.   basic mlp model = 10.00%\n",
        "2.   with best initializer he_normal = 32%\n",
        "3.   non-linear activation function(relu) = 85%\n",
        "4.   with Adagrad optimizer = 86%\n",
        "5.   BatchNormalization = 85%\n",
        "6.   DropOut(regularization) = 83%\n",
        "7.   early stopping with patience 3 = 83.7% and with patience 5 = 84.7%\n",
        "8.   ensembling = 87.89%\n",
        "*   THUS ACCURACY IS HIGH AFTER APPLYING Ensembling for this model.\n",
        "\n",
        "\n",
        "\n",
        "\n",
        "\n",
        "\n",
        "\n",
        "\n",
        "\n",
        "\n"
      ],
      "metadata": {
        "id": "IzscNF_Ie0kK"
      }
    }
  ]
}